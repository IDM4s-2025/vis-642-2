{
 "cells": [
  {
   "cell_type": "code",
   "execution_count": 1,
   "id": "57387baf",
   "metadata": {},
   "outputs": [],
   "source": [
    "import pandas as pd\n",
    "import requests\n",
    "import plotly.express as px\n",
    "import numpy as np\n",
    "\n",
    "# Fetch the GDP per capita data\n",
    "df_gdp = pd.read_csv(\"https://ourworldindata.org/grapher/gdp-per-capita-worldbank.csv?v=1&csvType=full&useColumnShortNames=true\", storage_options = {'User-Agent': 'Our World In Data data fetch/1.0'})\n",
    "\n",
    "# Fetch the metadata\n",
    "metadata = requests.get(\"https://ourworldindata.org/grapher/gdp-per-capita-worldbank.metadata.json?v=1&csvType=full&useColumnShortNames=true\").json()"
   ]
  },
  {
   "cell_type": "code",
   "execution_count": 2,
   "id": "001ddde7",
   "metadata": {},
   "outputs": [
    {
     "name": "stdout",
     "output_type": "stream",
     "text": [
      "GDP data shape: (7063, 4)\n",
      "OECD data shape: (2369, 22)\n",
      "\n",
      "GDP data preview:\n"
     ]
    },
    {
     "data": {
      "text/html": [
       "<div>\n",
       "<style scoped>\n",
       "    .dataframe tbody tr th:only-of-type {\n",
       "        vertical-align: middle;\n",
       "    }\n",
       "\n",
       "    .dataframe tbody tr th {\n",
       "        vertical-align: top;\n",
       "    }\n",
       "\n",
       "    .dataframe thead th {\n",
       "        text-align: right;\n",
       "    }\n",
       "</style>\n",
       "<table border=\"1\" class=\"dataframe\">\n",
       "  <thead>\n",
       "    <tr style=\"text-align: right;\">\n",
       "      <th></th>\n",
       "      <th>Entity</th>\n",
       "      <th>Code</th>\n",
       "      <th>Year</th>\n",
       "      <th>ny_gdp_pcap_pp_kd</th>\n",
       "    </tr>\n",
       "  </thead>\n",
       "  <tbody>\n",
       "    <tr>\n",
       "      <th>0</th>\n",
       "      <td>Afghanistan</td>\n",
       "      <td>AFG</td>\n",
       "      <td>2000</td>\n",
       "      <td>1617.8264</td>\n",
       "    </tr>\n",
       "    <tr>\n",
       "      <th>1</th>\n",
       "      <td>Afghanistan</td>\n",
       "      <td>AFG</td>\n",
       "      <td>2001</td>\n",
       "      <td>1454.1108</td>\n",
       "    </tr>\n",
       "    <tr>\n",
       "      <th>2</th>\n",
       "      <td>Afghanistan</td>\n",
       "      <td>AFG</td>\n",
       "      <td>2002</td>\n",
       "      <td>1774.3087</td>\n",
       "    </tr>\n",
       "    <tr>\n",
       "      <th>3</th>\n",
       "      <td>Afghanistan</td>\n",
       "      <td>AFG</td>\n",
       "      <td>2003</td>\n",
       "      <td>1815.9282</td>\n",
       "    </tr>\n",
       "    <tr>\n",
       "      <th>4</th>\n",
       "      <td>Afghanistan</td>\n",
       "      <td>AFG</td>\n",
       "      <td>2004</td>\n",
       "      <td>1776.9182</td>\n",
       "    </tr>\n",
       "  </tbody>\n",
       "</table>\n",
       "</div>"
      ],
      "text/plain": [
       "        Entity Code  Year  ny_gdp_pcap_pp_kd\n",
       "0  Afghanistan  AFG  2000          1617.8264\n",
       "1  Afghanistan  AFG  2001          1454.1108\n",
       "2  Afghanistan  AFG  2002          1774.3087\n",
       "3  Afghanistan  AFG  2003          1815.9282\n",
       "4  Afghanistan  AFG  2004          1776.9182"
      ]
     },
     "metadata": {},
     "output_type": "display_data"
    },
    {
     "name": "stdout",
     "output_type": "stream",
     "text": [
      "\n",
      "OECD data preview:\n"
     ]
    },
    {
     "data": {
      "text/html": [
       "<div>\n",
       "<style scoped>\n",
       "    .dataframe tbody tr th:only-of-type {\n",
       "        vertical-align: middle;\n",
       "    }\n",
       "\n",
       "    .dataframe tbody tr th {\n",
       "        vertical-align: top;\n",
       "    }\n",
       "\n",
       "    .dataframe thead th {\n",
       "        text-align: right;\n",
       "    }\n",
       "</style>\n",
       "<table border=\"1\" class=\"dataframe\">\n",
       "  <thead>\n",
       "    <tr style=\"text-align: right;\">\n",
       "      <th></th>\n",
       "      <th>STRUCTURE</th>\n",
       "      <th>STRUCTURE_ID</th>\n",
       "      <th>STRUCTURE_NAME</th>\n",
       "      <th>ACTION</th>\n",
       "      <th>LOCATION</th>\n",
       "      <th>Country</th>\n",
       "      <th>INDICATOR</th>\n",
       "      <th>Indicator</th>\n",
       "      <th>MEASURE</th>\n",
       "      <th>Measure</th>\n",
       "      <th>...</th>\n",
       "      <th>OBS_VALUE</th>\n",
       "      <th>Observation Value</th>\n",
       "      <th>OBS_STATUS</th>\n",
       "      <th>Observation Status</th>\n",
       "      <th>UNIT_MEASURE</th>\n",
       "      <th>Unit of Measures</th>\n",
       "      <th>UNIT_MULT</th>\n",
       "      <th>Multiplier</th>\n",
       "      <th>BASE_PER</th>\n",
       "      <th>Base reference period</th>\n",
       "    </tr>\n",
       "  </thead>\n",
       "  <tbody>\n",
       "    <tr>\n",
       "      <th>0</th>\n",
       "      <td>DATAFLOW</td>\n",
       "      <td>OECD:DF_BLI(1.0)</td>\n",
       "      <td>Better Life Index</td>\n",
       "      <td>I</td>\n",
       "      <td>AUT</td>\n",
       "      <td>Austria</td>\n",
       "      <td>JE_LMIS</td>\n",
       "      <td>Labour market insecurity</td>\n",
       "      <td>L</td>\n",
       "      <td>Value</td>\n",
       "      <td>...</td>\n",
       "      <td>2.3</td>\n",
       "      <td>NaN</td>\n",
       "      <td>A</td>\n",
       "      <td>NaN</td>\n",
       "      <td>PC</td>\n",
       "      <td>Percentage</td>\n",
       "      <td>0</td>\n",
       "      <td>Units</td>\n",
       "      <td>NaN</td>\n",
       "      <td>NaN</td>\n",
       "    </tr>\n",
       "    <tr>\n",
       "      <th>1</th>\n",
       "      <td>DATAFLOW</td>\n",
       "      <td>OECD:DF_BLI(1.0)</td>\n",
       "      <td>Better Life Index</td>\n",
       "      <td>I</td>\n",
       "      <td>BEL</td>\n",
       "      <td>Belgium</td>\n",
       "      <td>JE_LMIS</td>\n",
       "      <td>Labour market insecurity</td>\n",
       "      <td>L</td>\n",
       "      <td>Value</td>\n",
       "      <td>...</td>\n",
       "      <td>2.4</td>\n",
       "      <td>NaN</td>\n",
       "      <td>A</td>\n",
       "      <td>NaN</td>\n",
       "      <td>PC</td>\n",
       "      <td>Percentage</td>\n",
       "      <td>0</td>\n",
       "      <td>Units</td>\n",
       "      <td>NaN</td>\n",
       "      <td>NaN</td>\n",
       "    </tr>\n",
       "    <tr>\n",
       "      <th>2</th>\n",
       "      <td>DATAFLOW</td>\n",
       "      <td>OECD:DF_BLI(1.0)</td>\n",
       "      <td>Better Life Index</td>\n",
       "      <td>I</td>\n",
       "      <td>CAN</td>\n",
       "      <td>Canada</td>\n",
       "      <td>JE_LMIS</td>\n",
       "      <td>Labour market insecurity</td>\n",
       "      <td>L</td>\n",
       "      <td>Value</td>\n",
       "      <td>...</td>\n",
       "      <td>3.8</td>\n",
       "      <td>NaN</td>\n",
       "      <td>A</td>\n",
       "      <td>NaN</td>\n",
       "      <td>PC</td>\n",
       "      <td>Percentage</td>\n",
       "      <td>0</td>\n",
       "      <td>Units</td>\n",
       "      <td>NaN</td>\n",
       "      <td>NaN</td>\n",
       "    </tr>\n",
       "    <tr>\n",
       "      <th>3</th>\n",
       "      <td>DATAFLOW</td>\n",
       "      <td>OECD:DF_BLI(1.0)</td>\n",
       "      <td>Better Life Index</td>\n",
       "      <td>I</td>\n",
       "      <td>CZE</td>\n",
       "      <td>Czechia</td>\n",
       "      <td>JE_LMIS</td>\n",
       "      <td>Labour market insecurity</td>\n",
       "      <td>L</td>\n",
       "      <td>Value</td>\n",
       "      <td>...</td>\n",
       "      <td>2.3</td>\n",
       "      <td>NaN</td>\n",
       "      <td>A</td>\n",
       "      <td>NaN</td>\n",
       "      <td>PC</td>\n",
       "      <td>Percentage</td>\n",
       "      <td>0</td>\n",
       "      <td>Units</td>\n",
       "      <td>NaN</td>\n",
       "      <td>NaN</td>\n",
       "    </tr>\n",
       "    <tr>\n",
       "      <th>4</th>\n",
       "      <td>DATAFLOW</td>\n",
       "      <td>OECD:DF_BLI(1.0)</td>\n",
       "      <td>Better Life Index</td>\n",
       "      <td>I</td>\n",
       "      <td>DNK</td>\n",
       "      <td>Denmark</td>\n",
       "      <td>JE_LMIS</td>\n",
       "      <td>Labour market insecurity</td>\n",
       "      <td>L</td>\n",
       "      <td>Value</td>\n",
       "      <td>...</td>\n",
       "      <td>4.5</td>\n",
       "      <td>NaN</td>\n",
       "      <td>A</td>\n",
       "      <td>NaN</td>\n",
       "      <td>PC</td>\n",
       "      <td>Percentage</td>\n",
       "      <td>0</td>\n",
       "      <td>Units</td>\n",
       "      <td>NaN</td>\n",
       "      <td>NaN</td>\n",
       "    </tr>\n",
       "  </tbody>\n",
       "</table>\n",
       "<p>5 rows × 22 columns</p>\n",
       "</div>"
      ],
      "text/plain": [
       "  STRUCTURE      STRUCTURE_ID     STRUCTURE_NAME ACTION LOCATION  Country  \\\n",
       "0  DATAFLOW  OECD:DF_BLI(1.0)  Better Life Index      I      AUT  Austria   \n",
       "1  DATAFLOW  OECD:DF_BLI(1.0)  Better Life Index      I      BEL  Belgium   \n",
       "2  DATAFLOW  OECD:DF_BLI(1.0)  Better Life Index      I      CAN   Canada   \n",
       "3  DATAFLOW  OECD:DF_BLI(1.0)  Better Life Index      I      CZE  Czechia   \n",
       "4  DATAFLOW  OECD:DF_BLI(1.0)  Better Life Index      I      DNK  Denmark   \n",
       "\n",
       "  INDICATOR                 Indicator MEASURE Measure  ... OBS_VALUE  \\\n",
       "0   JE_LMIS  Labour market insecurity       L   Value  ...       2.3   \n",
       "1   JE_LMIS  Labour market insecurity       L   Value  ...       2.4   \n",
       "2   JE_LMIS  Labour market insecurity       L   Value  ...       3.8   \n",
       "3   JE_LMIS  Labour market insecurity       L   Value  ...       2.3   \n",
       "4   JE_LMIS  Labour market insecurity       L   Value  ...       4.5   \n",
       "\n",
       "   Observation Value  OBS_STATUS  Observation Status UNIT_MEASURE  \\\n",
       "0                NaN           A                 NaN           PC   \n",
       "1                NaN           A                 NaN           PC   \n",
       "2                NaN           A                 NaN           PC   \n",
       "3                NaN           A                 NaN           PC   \n",
       "4                NaN           A                 NaN           PC   \n",
       "\n",
       "   Unit of Measures UNIT_MULT Multiplier  BASE_PER Base reference period  \n",
       "0        Percentage         0      Units       NaN                   NaN  \n",
       "1        Percentage         0      Units       NaN                   NaN  \n",
       "2        Percentage         0      Units       NaN                   NaN  \n",
       "3        Percentage         0      Units       NaN                   NaN  \n",
       "4        Percentage         0      Units       NaN                   NaN  \n",
       "\n",
       "[5 rows x 22 columns]"
      ]
     },
     "metadata": {},
     "output_type": "display_data"
    }
   ],
   "source": [
    "# Load OECD data\n",
    "oecd_data = pd.read_csv(\"/Users/ren/Documents/Ciencia de Datos/GDP shi/OECD,DF_BLI,+all.csv\")\n",
    "\n",
    "# Let's examine both datasets\n",
    "print(\"GDP data shape:\", df_gdp.shape)\n",
    "print(\"OECD data shape:\", oecd_data.shape)\n",
    "\n",
    "# Check the first few rows of each dataset\n",
    "print(\"\\nGDP data preview:\")\n",
    "display(df_gdp.head())\n",
    "\n",
    "print(\"\\nOECD data preview:\")\n",
    "display(oecd_data.head())"
   ]
  },
  {
   "cell_type": "code",
   "execution_count": 3,
   "id": "2765581d",
   "metadata": {},
   "outputs": [
    {
     "name": "stdout",
     "output_type": "stream",
     "text": [
      "Available indicators: ['Labour market insecurity' 'Dwellings without basic facilities'\n",
      " 'Feeling safe walking alone at night' 'Housing expenditure'\n",
      " 'Employment rate' 'Long-term unemployment rate'\n",
      " 'Quality of support network' 'Educational attainment' 'Water quality'\n",
      " 'Voter turnout' 'Self-reported health'\n",
      " 'Employees working very long hours'\n",
      " 'Stakeholder engagement for developing regulations' 'Student skills'\n",
      " 'Life satisfaction' 'Rooms per person'\n",
      " 'Household net adjusted disposable income' 'Household net wealth'\n",
      " 'Personal earnings' 'Years in education' 'Air pollution'\n",
      " 'Life expectancy' 'Homicide rate'\n",
      " 'Time devoted to leisure and personal care']\n",
      "\n",
      "Inequality categories: [nan]\n",
      "\n",
      "Number of countries in OECD data: 42\n",
      "Example countries: ['Austria' 'Belgium' 'Canada' 'Czechia' 'Denmark' 'Finland' 'France'\n",
      " 'Germany' 'Greece' 'Hungary']\n"
     ]
    }
   ],
   "source": [
    "# Check unique indicators in OECD data\n",
    "indicators = oecd_data['Indicator'].unique()\n",
    "print(\"Available indicators:\", indicators)\n",
    "\n",
    "# Get unique inequality values to understand the data structure\n",
    "inequalities = oecd_data['Inequality'].unique()\n",
    "print(\"\\nInequality categories:\", inequalities)\n",
    "\n",
    "# Let's see what countries are in the dataset\n",
    "oecd_countries = oecd_data['Country'].unique()\n",
    "print(f\"\\nNumber of countries in OECD data: {len(oecd_countries)}\")\n",
    "print(\"Example countries:\", oecd_countries[:10])"
   ]
  },
  {
   "cell_type": "code",
   "execution_count": 4,
   "id": "7482da1f",
   "metadata": {},
   "outputs": [
    {
     "name": "stdout",
     "output_type": "stream",
     "text": [
      "Work-Life Balance data shape: (40, 22)\n",
      "Civic Engagement data shape: (42, 22)\n",
      "Life Satisfaction data shape: (40, 22)\n",
      "\n",
      "Work-Life Balance data preview:\n"
     ]
    },
    {
     "data": {
      "text/html": [
       "<div>\n",
       "<style scoped>\n",
       "    .dataframe tbody tr th:only-of-type {\n",
       "        vertical-align: middle;\n",
       "    }\n",
       "\n",
       "    .dataframe tbody tr th {\n",
       "        vertical-align: top;\n",
       "    }\n",
       "\n",
       "    .dataframe thead th {\n",
       "        text-align: right;\n",
       "    }\n",
       "</style>\n",
       "<table border=\"1\" class=\"dataframe\">\n",
       "  <thead>\n",
       "    <tr style=\"text-align: right;\">\n",
       "      <th></th>\n",
       "      <th>STRUCTURE</th>\n",
       "      <th>STRUCTURE_ID</th>\n",
       "      <th>STRUCTURE_NAME</th>\n",
       "      <th>ACTION</th>\n",
       "      <th>LOCATION</th>\n",
       "      <th>Country</th>\n",
       "      <th>INDICATOR</th>\n",
       "      <th>Indicator</th>\n",
       "      <th>MEASURE</th>\n",
       "      <th>Measure</th>\n",
       "      <th>...</th>\n",
       "      <th>OBS_VALUE</th>\n",
       "      <th>Observation Value</th>\n",
       "      <th>OBS_STATUS</th>\n",
       "      <th>Observation Status</th>\n",
       "      <th>UNIT_MEASURE</th>\n",
       "      <th>Unit of Measures</th>\n",
       "      <th>UNIT_MULT</th>\n",
       "      <th>Multiplier</th>\n",
       "      <th>BASE_PER</th>\n",
       "      <th>Base reference period</th>\n",
       "    </tr>\n",
       "  </thead>\n",
       "  <tbody>\n",
       "    <tr>\n",
       "      <th>1096</th>\n",
       "      <td>DATAFLOW</td>\n",
       "      <td>OECD:DF_BLI(1.0)</td>\n",
       "      <td>Better Life Index</td>\n",
       "      <td>I</td>\n",
       "      <td>AUS</td>\n",
       "      <td>Australia</td>\n",
       "      <td>WL_EWLH</td>\n",
       "      <td>Employees working very long hours</td>\n",
       "      <td>L</td>\n",
       "      <td>Value</td>\n",
       "      <td>...</td>\n",
       "      <td>12.5</td>\n",
       "      <td>NaN</td>\n",
       "      <td>A</td>\n",
       "      <td>NaN</td>\n",
       "      <td>PC</td>\n",
       "      <td>Percentage</td>\n",
       "      <td>0</td>\n",
       "      <td>Units</td>\n",
       "      <td>NaN</td>\n",
       "      <td>NaN</td>\n",
       "    </tr>\n",
       "    <tr>\n",
       "      <th>1097</th>\n",
       "      <td>DATAFLOW</td>\n",
       "      <td>OECD:DF_BLI(1.0)</td>\n",
       "      <td>Better Life Index</td>\n",
       "      <td>I</td>\n",
       "      <td>AUT</td>\n",
       "      <td>Austria</td>\n",
       "      <td>WL_EWLH</td>\n",
       "      <td>Employees working very long hours</td>\n",
       "      <td>L</td>\n",
       "      <td>Value</td>\n",
       "      <td>...</td>\n",
       "      <td>5.3</td>\n",
       "      <td>NaN</td>\n",
       "      <td>A</td>\n",
       "      <td>NaN</td>\n",
       "      <td>PC</td>\n",
       "      <td>Percentage</td>\n",
       "      <td>0</td>\n",
       "      <td>Units</td>\n",
       "      <td>NaN</td>\n",
       "      <td>NaN</td>\n",
       "    </tr>\n",
       "    <tr>\n",
       "      <th>1098</th>\n",
       "      <td>DATAFLOW</td>\n",
       "      <td>OECD:DF_BLI(1.0)</td>\n",
       "      <td>Better Life Index</td>\n",
       "      <td>I</td>\n",
       "      <td>BEL</td>\n",
       "      <td>Belgium</td>\n",
       "      <td>WL_EWLH</td>\n",
       "      <td>Employees working very long hours</td>\n",
       "      <td>L</td>\n",
       "      <td>Value</td>\n",
       "      <td>...</td>\n",
       "      <td>4.3</td>\n",
       "      <td>NaN</td>\n",
       "      <td>A</td>\n",
       "      <td>NaN</td>\n",
       "      <td>PC</td>\n",
       "      <td>Percentage</td>\n",
       "      <td>0</td>\n",
       "      <td>Units</td>\n",
       "      <td>NaN</td>\n",
       "      <td>NaN</td>\n",
       "    </tr>\n",
       "    <tr>\n",
       "      <th>1099</th>\n",
       "      <td>DATAFLOW</td>\n",
       "      <td>OECD:DF_BLI(1.0)</td>\n",
       "      <td>Better Life Index</td>\n",
       "      <td>I</td>\n",
       "      <td>CAN</td>\n",
       "      <td>Canada</td>\n",
       "      <td>WL_EWLH</td>\n",
       "      <td>Employees working very long hours</td>\n",
       "      <td>L</td>\n",
       "      <td>Value</td>\n",
       "      <td>...</td>\n",
       "      <td>3.3</td>\n",
       "      <td>NaN</td>\n",
       "      <td>A</td>\n",
       "      <td>NaN</td>\n",
       "      <td>PC</td>\n",
       "      <td>Percentage</td>\n",
       "      <td>0</td>\n",
       "      <td>Units</td>\n",
       "      <td>NaN</td>\n",
       "      <td>NaN</td>\n",
       "    </tr>\n",
       "    <tr>\n",
       "      <th>1100</th>\n",
       "      <td>DATAFLOW</td>\n",
       "      <td>OECD:DF_BLI(1.0)</td>\n",
       "      <td>Better Life Index</td>\n",
       "      <td>I</td>\n",
       "      <td>CZE</td>\n",
       "      <td>Czechia</td>\n",
       "      <td>WL_EWLH</td>\n",
       "      <td>Employees working very long hours</td>\n",
       "      <td>L</td>\n",
       "      <td>Value</td>\n",
       "      <td>...</td>\n",
       "      <td>4.5</td>\n",
       "      <td>NaN</td>\n",
       "      <td>A</td>\n",
       "      <td>NaN</td>\n",
       "      <td>PC</td>\n",
       "      <td>Percentage</td>\n",
       "      <td>0</td>\n",
       "      <td>Units</td>\n",
       "      <td>NaN</td>\n",
       "      <td>NaN</td>\n",
       "    </tr>\n",
       "  </tbody>\n",
       "</table>\n",
       "<p>5 rows × 22 columns</p>\n",
       "</div>"
      ],
      "text/plain": [
       "     STRUCTURE      STRUCTURE_ID     STRUCTURE_NAME ACTION LOCATION  \\\n",
       "1096  DATAFLOW  OECD:DF_BLI(1.0)  Better Life Index      I      AUS   \n",
       "1097  DATAFLOW  OECD:DF_BLI(1.0)  Better Life Index      I      AUT   \n",
       "1098  DATAFLOW  OECD:DF_BLI(1.0)  Better Life Index      I      BEL   \n",
       "1099  DATAFLOW  OECD:DF_BLI(1.0)  Better Life Index      I      CAN   \n",
       "1100  DATAFLOW  OECD:DF_BLI(1.0)  Better Life Index      I      CZE   \n",
       "\n",
       "        Country INDICATOR                          Indicator MEASURE Measure  \\\n",
       "1096  Australia   WL_EWLH  Employees working very long hours       L   Value   \n",
       "1097    Austria   WL_EWLH  Employees working very long hours       L   Value   \n",
       "1098    Belgium   WL_EWLH  Employees working very long hours       L   Value   \n",
       "1099     Canada   WL_EWLH  Employees working very long hours       L   Value   \n",
       "1100    Czechia   WL_EWLH  Employees working very long hours       L   Value   \n",
       "\n",
       "      ... OBS_VALUE  Observation Value  OBS_STATUS  Observation Status  \\\n",
       "1096  ...      12.5                NaN           A                 NaN   \n",
       "1097  ...       5.3                NaN           A                 NaN   \n",
       "1098  ...       4.3                NaN           A                 NaN   \n",
       "1099  ...       3.3                NaN           A                 NaN   \n",
       "1100  ...       4.5                NaN           A                 NaN   \n",
       "\n",
       "     UNIT_MEASURE  Unit of Measures UNIT_MULT Multiplier  BASE_PER  \\\n",
       "1096           PC        Percentage         0      Units       NaN   \n",
       "1097           PC        Percentage         0      Units       NaN   \n",
       "1098           PC        Percentage         0      Units       NaN   \n",
       "1099           PC        Percentage         0      Units       NaN   \n",
       "1100           PC        Percentage         0      Units       NaN   \n",
       "\n",
       "     Base reference period  \n",
       "1096                   NaN  \n",
       "1097                   NaN  \n",
       "1098                   NaN  \n",
       "1099                   NaN  \n",
       "1100                   NaN  \n",
       "\n",
       "[5 rows x 22 columns]"
      ]
     },
     "metadata": {},
     "output_type": "display_data"
    },
    {
     "name": "stdout",
     "output_type": "stream",
     "text": [
      "\n",
      "Civic Engagement data preview:\n"
     ]
    },
    {
     "data": {
      "text/html": [
       "<div>\n",
       "<style scoped>\n",
       "    .dataframe tbody tr th:only-of-type {\n",
       "        vertical-align: middle;\n",
       "    }\n",
       "\n",
       "    .dataframe tbody tr th {\n",
       "        vertical-align: top;\n",
       "    }\n",
       "\n",
       "    .dataframe thead th {\n",
       "        text-align: right;\n",
       "    }\n",
       "</style>\n",
       "<table border=\"1\" class=\"dataframe\">\n",
       "  <thead>\n",
       "    <tr style=\"text-align: right;\">\n",
       "      <th></th>\n",
       "      <th>STRUCTURE</th>\n",
       "      <th>STRUCTURE_ID</th>\n",
       "      <th>STRUCTURE_NAME</th>\n",
       "      <th>ACTION</th>\n",
       "      <th>LOCATION</th>\n",
       "      <th>Country</th>\n",
       "      <th>INDICATOR</th>\n",
       "      <th>Indicator</th>\n",
       "      <th>MEASURE</th>\n",
       "      <th>Measure</th>\n",
       "      <th>...</th>\n",
       "      <th>OBS_VALUE</th>\n",
       "      <th>Observation Value</th>\n",
       "      <th>OBS_STATUS</th>\n",
       "      <th>Observation Status</th>\n",
       "      <th>UNIT_MEASURE</th>\n",
       "      <th>Unit of Measures</th>\n",
       "      <th>UNIT_MULT</th>\n",
       "      <th>Multiplier</th>\n",
       "      <th>BASE_PER</th>\n",
       "      <th>Base reference period</th>\n",
       "    </tr>\n",
       "  </thead>\n",
       "  <tbody>\n",
       "    <tr>\n",
       "      <th>875</th>\n",
       "      <td>DATAFLOW</td>\n",
       "      <td>OECD:DF_BLI(1.0)</td>\n",
       "      <td>Better Life Index</td>\n",
       "      <td>I</td>\n",
       "      <td>AUS</td>\n",
       "      <td>Australia</td>\n",
       "      <td>CG_VOTO</td>\n",
       "      <td>Voter turnout</td>\n",
       "      <td>L</td>\n",
       "      <td>Value</td>\n",
       "      <td>...</td>\n",
       "      <td>92.0</td>\n",
       "      <td>NaN</td>\n",
       "      <td>A</td>\n",
       "      <td>NaN</td>\n",
       "      <td>PC</td>\n",
       "      <td>Percentage</td>\n",
       "      <td>0</td>\n",
       "      <td>Units</td>\n",
       "      <td>NaN</td>\n",
       "      <td>NaN</td>\n",
       "    </tr>\n",
       "    <tr>\n",
       "      <th>876</th>\n",
       "      <td>DATAFLOW</td>\n",
       "      <td>OECD:DF_BLI(1.0)</td>\n",
       "      <td>Better Life Index</td>\n",
       "      <td>I</td>\n",
       "      <td>AUT</td>\n",
       "      <td>Austria</td>\n",
       "      <td>CG_VOTO</td>\n",
       "      <td>Voter turnout</td>\n",
       "      <td>L</td>\n",
       "      <td>Value</td>\n",
       "      <td>...</td>\n",
       "      <td>76.0</td>\n",
       "      <td>NaN</td>\n",
       "      <td>A</td>\n",
       "      <td>NaN</td>\n",
       "      <td>PC</td>\n",
       "      <td>Percentage</td>\n",
       "      <td>0</td>\n",
       "      <td>Units</td>\n",
       "      <td>NaN</td>\n",
       "      <td>NaN</td>\n",
       "    </tr>\n",
       "    <tr>\n",
       "      <th>877</th>\n",
       "      <td>DATAFLOW</td>\n",
       "      <td>OECD:DF_BLI(1.0)</td>\n",
       "      <td>Better Life Index</td>\n",
       "      <td>I</td>\n",
       "      <td>BEL</td>\n",
       "      <td>Belgium</td>\n",
       "      <td>CG_VOTO</td>\n",
       "      <td>Voter turnout</td>\n",
       "      <td>L</td>\n",
       "      <td>Value</td>\n",
       "      <td>...</td>\n",
       "      <td>88.0</td>\n",
       "      <td>NaN</td>\n",
       "      <td>A</td>\n",
       "      <td>NaN</td>\n",
       "      <td>PC</td>\n",
       "      <td>Percentage</td>\n",
       "      <td>0</td>\n",
       "      <td>Units</td>\n",
       "      <td>NaN</td>\n",
       "      <td>NaN</td>\n",
       "    </tr>\n",
       "    <tr>\n",
       "      <th>878</th>\n",
       "      <td>DATAFLOW</td>\n",
       "      <td>OECD:DF_BLI(1.0)</td>\n",
       "      <td>Better Life Index</td>\n",
       "      <td>I</td>\n",
       "      <td>CAN</td>\n",
       "      <td>Canada</td>\n",
       "      <td>CG_VOTO</td>\n",
       "      <td>Voter turnout</td>\n",
       "      <td>L</td>\n",
       "      <td>Value</td>\n",
       "      <td>...</td>\n",
       "      <td>68.0</td>\n",
       "      <td>NaN</td>\n",
       "      <td>A</td>\n",
       "      <td>NaN</td>\n",
       "      <td>PC</td>\n",
       "      <td>Percentage</td>\n",
       "      <td>0</td>\n",
       "      <td>Units</td>\n",
       "      <td>NaN</td>\n",
       "      <td>NaN</td>\n",
       "    </tr>\n",
       "    <tr>\n",
       "      <th>879</th>\n",
       "      <td>DATAFLOW</td>\n",
       "      <td>OECD:DF_BLI(1.0)</td>\n",
       "      <td>Better Life Index</td>\n",
       "      <td>I</td>\n",
       "      <td>CZE</td>\n",
       "      <td>Czechia</td>\n",
       "      <td>CG_VOTO</td>\n",
       "      <td>Voter turnout</td>\n",
       "      <td>L</td>\n",
       "      <td>Value</td>\n",
       "      <td>...</td>\n",
       "      <td>62.0</td>\n",
       "      <td>NaN</td>\n",
       "      <td>A</td>\n",
       "      <td>NaN</td>\n",
       "      <td>PC</td>\n",
       "      <td>Percentage</td>\n",
       "      <td>0</td>\n",
       "      <td>Units</td>\n",
       "      <td>NaN</td>\n",
       "      <td>NaN</td>\n",
       "    </tr>\n",
       "  </tbody>\n",
       "</table>\n",
       "<p>5 rows × 22 columns</p>\n",
       "</div>"
      ],
      "text/plain": [
       "    STRUCTURE      STRUCTURE_ID     STRUCTURE_NAME ACTION LOCATION    Country  \\\n",
       "875  DATAFLOW  OECD:DF_BLI(1.0)  Better Life Index      I      AUS  Australia   \n",
       "876  DATAFLOW  OECD:DF_BLI(1.0)  Better Life Index      I      AUT    Austria   \n",
       "877  DATAFLOW  OECD:DF_BLI(1.0)  Better Life Index      I      BEL    Belgium   \n",
       "878  DATAFLOW  OECD:DF_BLI(1.0)  Better Life Index      I      CAN     Canada   \n",
       "879  DATAFLOW  OECD:DF_BLI(1.0)  Better Life Index      I      CZE    Czechia   \n",
       "\n",
       "    INDICATOR      Indicator MEASURE Measure  ... OBS_VALUE  \\\n",
       "875   CG_VOTO  Voter turnout       L   Value  ...      92.0   \n",
       "876   CG_VOTO  Voter turnout       L   Value  ...      76.0   \n",
       "877   CG_VOTO  Voter turnout       L   Value  ...      88.0   \n",
       "878   CG_VOTO  Voter turnout       L   Value  ...      68.0   \n",
       "879   CG_VOTO  Voter turnout       L   Value  ...      62.0   \n",
       "\n",
       "     Observation Value  OBS_STATUS  Observation Status UNIT_MEASURE  \\\n",
       "875                NaN           A                 NaN           PC   \n",
       "876                NaN           A                 NaN           PC   \n",
       "877                NaN           A                 NaN           PC   \n",
       "878                NaN           A                 NaN           PC   \n",
       "879                NaN           A                 NaN           PC   \n",
       "\n",
       "     Unit of Measures UNIT_MULT Multiplier  BASE_PER Base reference period  \n",
       "875        Percentage         0      Units       NaN                   NaN  \n",
       "876        Percentage         0      Units       NaN                   NaN  \n",
       "877        Percentage         0      Units       NaN                   NaN  \n",
       "878        Percentage         0      Units       NaN                   NaN  \n",
       "879        Percentage         0      Units       NaN                   NaN  \n",
       "\n",
       "[5 rows x 22 columns]"
      ]
     },
     "metadata": {},
     "output_type": "display_data"
    },
    {
     "name": "stdout",
     "output_type": "stream",
     "text": [
      "\n",
      "Life Satisfaction data preview:\n"
     ]
    },
    {
     "data": {
      "text/html": [
       "<div>\n",
       "<style scoped>\n",
       "    .dataframe tbody tr th:only-of-type {\n",
       "        vertical-align: middle;\n",
       "    }\n",
       "\n",
       "    .dataframe tbody tr th {\n",
       "        vertical-align: top;\n",
       "    }\n",
       "\n",
       "    .dataframe thead th {\n",
       "        text-align: right;\n",
       "    }\n",
       "</style>\n",
       "<table border=\"1\" class=\"dataframe\">\n",
       "  <thead>\n",
       "    <tr style=\"text-align: right;\">\n",
       "      <th></th>\n",
       "      <th>STRUCTURE</th>\n",
       "      <th>STRUCTURE_ID</th>\n",
       "      <th>STRUCTURE_NAME</th>\n",
       "      <th>ACTION</th>\n",
       "      <th>LOCATION</th>\n",
       "      <th>Country</th>\n",
       "      <th>INDICATOR</th>\n",
       "      <th>Indicator</th>\n",
       "      <th>MEASURE</th>\n",
       "      <th>Measure</th>\n",
       "      <th>...</th>\n",
       "      <th>OBS_VALUE</th>\n",
       "      <th>Observation Value</th>\n",
       "      <th>OBS_STATUS</th>\n",
       "      <th>Observation Status</th>\n",
       "      <th>UNIT_MEASURE</th>\n",
       "      <th>Unit of Measures</th>\n",
       "      <th>UNIT_MULT</th>\n",
       "      <th>Multiplier</th>\n",
       "      <th>BASE_PER</th>\n",
       "      <th>Base reference period</th>\n",
       "    </tr>\n",
       "  </thead>\n",
       "  <tbody>\n",
       "    <tr>\n",
       "      <th>914</th>\n",
       "      <td>DATAFLOW</td>\n",
       "      <td>OECD:DF_BLI(1.0)</td>\n",
       "      <td>Better Life Index</td>\n",
       "      <td>I</td>\n",
       "      <td>AUS</td>\n",
       "      <td>Australia</td>\n",
       "      <td>HS_SFRH</td>\n",
       "      <td>Self-reported health</td>\n",
       "      <td>L</td>\n",
       "      <td>Value</td>\n",
       "      <td>...</td>\n",
       "      <td>85.0</td>\n",
       "      <td>NaN</td>\n",
       "      <td>A</td>\n",
       "      <td>NaN</td>\n",
       "      <td>PC</td>\n",
       "      <td>Percentage</td>\n",
       "      <td>0</td>\n",
       "      <td>Units</td>\n",
       "      <td>NaN</td>\n",
       "      <td>NaN</td>\n",
       "    </tr>\n",
       "    <tr>\n",
       "      <th>915</th>\n",
       "      <td>DATAFLOW</td>\n",
       "      <td>OECD:DF_BLI(1.0)</td>\n",
       "      <td>Better Life Index</td>\n",
       "      <td>I</td>\n",
       "      <td>AUT</td>\n",
       "      <td>Austria</td>\n",
       "      <td>HS_SFRH</td>\n",
       "      <td>Self-reported health</td>\n",
       "      <td>L</td>\n",
       "      <td>Value</td>\n",
       "      <td>...</td>\n",
       "      <td>71.0</td>\n",
       "      <td>NaN</td>\n",
       "      <td>A</td>\n",
       "      <td>NaN</td>\n",
       "      <td>PC</td>\n",
       "      <td>Percentage</td>\n",
       "      <td>0</td>\n",
       "      <td>Units</td>\n",
       "      <td>NaN</td>\n",
       "      <td>NaN</td>\n",
       "    </tr>\n",
       "    <tr>\n",
       "      <th>916</th>\n",
       "      <td>DATAFLOW</td>\n",
       "      <td>OECD:DF_BLI(1.0)</td>\n",
       "      <td>Better Life Index</td>\n",
       "      <td>I</td>\n",
       "      <td>BEL</td>\n",
       "      <td>Belgium</td>\n",
       "      <td>HS_SFRH</td>\n",
       "      <td>Self-reported health</td>\n",
       "      <td>L</td>\n",
       "      <td>Value</td>\n",
       "      <td>...</td>\n",
       "      <td>74.0</td>\n",
       "      <td>NaN</td>\n",
       "      <td>A</td>\n",
       "      <td>NaN</td>\n",
       "      <td>PC</td>\n",
       "      <td>Percentage</td>\n",
       "      <td>0</td>\n",
       "      <td>Units</td>\n",
       "      <td>NaN</td>\n",
       "      <td>NaN</td>\n",
       "    </tr>\n",
       "    <tr>\n",
       "      <th>917</th>\n",
       "      <td>DATAFLOW</td>\n",
       "      <td>OECD:DF_BLI(1.0)</td>\n",
       "      <td>Better Life Index</td>\n",
       "      <td>I</td>\n",
       "      <td>CAN</td>\n",
       "      <td>Canada</td>\n",
       "      <td>HS_SFRH</td>\n",
       "      <td>Self-reported health</td>\n",
       "      <td>L</td>\n",
       "      <td>Value</td>\n",
       "      <td>...</td>\n",
       "      <td>89.0</td>\n",
       "      <td>NaN</td>\n",
       "      <td>A</td>\n",
       "      <td>NaN</td>\n",
       "      <td>PC</td>\n",
       "      <td>Percentage</td>\n",
       "      <td>0</td>\n",
       "      <td>Units</td>\n",
       "      <td>NaN</td>\n",
       "      <td>NaN</td>\n",
       "    </tr>\n",
       "    <tr>\n",
       "      <th>918</th>\n",
       "      <td>DATAFLOW</td>\n",
       "      <td>OECD:DF_BLI(1.0)</td>\n",
       "      <td>Better Life Index</td>\n",
       "      <td>I</td>\n",
       "      <td>CZE</td>\n",
       "      <td>Czechia</td>\n",
       "      <td>HS_SFRH</td>\n",
       "      <td>Self-reported health</td>\n",
       "      <td>L</td>\n",
       "      <td>Value</td>\n",
       "      <td>...</td>\n",
       "      <td>62.0</td>\n",
       "      <td>NaN</td>\n",
       "      <td>A</td>\n",
       "      <td>NaN</td>\n",
       "      <td>PC</td>\n",
       "      <td>Percentage</td>\n",
       "      <td>0</td>\n",
       "      <td>Units</td>\n",
       "      <td>NaN</td>\n",
       "      <td>NaN</td>\n",
       "    </tr>\n",
       "  </tbody>\n",
       "</table>\n",
       "<p>5 rows × 22 columns</p>\n",
       "</div>"
      ],
      "text/plain": [
       "    STRUCTURE      STRUCTURE_ID     STRUCTURE_NAME ACTION LOCATION    Country  \\\n",
       "914  DATAFLOW  OECD:DF_BLI(1.0)  Better Life Index      I      AUS  Australia   \n",
       "915  DATAFLOW  OECD:DF_BLI(1.0)  Better Life Index      I      AUT    Austria   \n",
       "916  DATAFLOW  OECD:DF_BLI(1.0)  Better Life Index      I      BEL    Belgium   \n",
       "917  DATAFLOW  OECD:DF_BLI(1.0)  Better Life Index      I      CAN     Canada   \n",
       "918  DATAFLOW  OECD:DF_BLI(1.0)  Better Life Index      I      CZE    Czechia   \n",
       "\n",
       "    INDICATOR             Indicator MEASURE Measure  ... OBS_VALUE  \\\n",
       "914   HS_SFRH  Self-reported health       L   Value  ...      85.0   \n",
       "915   HS_SFRH  Self-reported health       L   Value  ...      71.0   \n",
       "916   HS_SFRH  Self-reported health       L   Value  ...      74.0   \n",
       "917   HS_SFRH  Self-reported health       L   Value  ...      89.0   \n",
       "918   HS_SFRH  Self-reported health       L   Value  ...      62.0   \n",
       "\n",
       "     Observation Value  OBS_STATUS  Observation Status UNIT_MEASURE  \\\n",
       "914                NaN           A                 NaN           PC   \n",
       "915                NaN           A                 NaN           PC   \n",
       "916                NaN           A                 NaN           PC   \n",
       "917                NaN           A                 NaN           PC   \n",
       "918                NaN           A                 NaN           PC   \n",
       "\n",
       "     Unit of Measures UNIT_MULT Multiplier  BASE_PER Base reference period  \n",
       "914        Percentage         0      Units       NaN                   NaN  \n",
       "915        Percentage         0      Units       NaN                   NaN  \n",
       "916        Percentage         0      Units       NaN                   NaN  \n",
       "917        Percentage         0      Units       NaN                   NaN  \n",
       "918        Percentage         0      Units       NaN                   NaN  \n",
       "\n",
       "[5 rows x 22 columns]"
      ]
     },
     "metadata": {},
     "output_type": "display_data"
    }
   ],
   "source": [
    "# Process OECD data to extract the indicators we want\n",
    "# We'll focus on TOT (total) values for all population\n",
    "\n",
    "# Work-Life Balance (Employees working very long hours)\n",
    "work_life_balance = oecd_data[(oecd_data['Indicator'] == 'Employees working very long hours') & \n",
    "                             (oecd_data['INEQUALITY'] == 'TOT')]\n",
    "\n",
    "# Civic Engagement (Voter turnout)\n",
    "civic_engagement = oecd_data[(oecd_data['Indicator'] == 'Voter turnout') & \n",
    "                           (oecd_data['INEQUALITY'] == 'TOT')]\n",
    "\n",
    "# Life Satisfaction indicator\n",
    "life_satisfaction = oecd_data[(oecd_data['Indicator'] == 'Self-reported health') & \n",
    "                            (oecd_data['INEQUALITY'] == 'TOT')]\n",
    "\n",
    "# Check the shapes to make sure we have data\n",
    "print(\"Work-Life Balance data shape:\", work_life_balance.shape)\n",
    "print(\"Civic Engagement data shape:\", civic_engagement.shape)\n",
    "print(\"Life Satisfaction data shape:\", life_satisfaction.shape)\n",
    "\n",
    "# Preview the data to verify we have the right information\n",
    "print(\"\\nWork-Life Balance data preview:\")\n",
    "display(work_life_balance.head())\n",
    "\n",
    "print(\"\\nCivic Engagement data preview:\")\n",
    "display(civic_engagement.head())\n",
    "\n",
    "print(\"\\nLife Satisfaction data preview:\")\n",
    "display(life_satisfaction.head())"
   ]
  },
  {
   "cell_type": "code",
   "execution_count": 5,
   "id": "d414afec",
   "metadata": {},
   "outputs": [
    {
     "name": "stdout",
     "output_type": "stream",
     "text": [
      "Available numeric columns in GDP data: Index(['Year', 'ny_gdp_pcap_pp_kd'], dtype='object')\n",
      "Latest available year column: ny_gdp_pcap_pp_kd\n",
      "\n",
      "Latest GDP data shape: (213, 2)\n",
      "Preview of latest GDP data:\n"
     ]
    },
    {
     "data": {
      "text/html": [
       "<div>\n",
       "<style scoped>\n",
       "    .dataframe tbody tr th:only-of-type {\n",
       "        vertical-align: middle;\n",
       "    }\n",
       "\n",
       "    .dataframe tbody tr th {\n",
       "        vertical-align: top;\n",
       "    }\n",
       "\n",
       "    .dataframe thead th {\n",
       "        text-align: right;\n",
       "    }\n",
       "</style>\n",
       "<table border=\"1\" class=\"dataframe\">\n",
       "  <thead>\n",
       "    <tr style=\"text-align: right;\">\n",
       "      <th></th>\n",
       "      <th>Country</th>\n",
       "      <th>GDP_per_capita</th>\n",
       "    </tr>\n",
       "  </thead>\n",
       "  <tbody>\n",
       "    <tr>\n",
       "      <th>0</th>\n",
       "      <td>Afghanistan</td>\n",
       "      <td>1992.4244</td>\n",
       "    </tr>\n",
       "    <tr>\n",
       "      <th>1</th>\n",
       "      <td>Albania</td>\n",
       "      <td>18244.2930</td>\n",
       "    </tr>\n",
       "    <tr>\n",
       "      <th>2</th>\n",
       "      <td>Algeria</td>\n",
       "      <td>15159.3240</td>\n",
       "    </tr>\n",
       "    <tr>\n",
       "      <th>3</th>\n",
       "      <td>Andorra</td>\n",
       "      <td>64631.2970</td>\n",
       "    </tr>\n",
       "    <tr>\n",
       "      <th>4</th>\n",
       "      <td>Angola</td>\n",
       "      <td>7244.8930</td>\n",
       "    </tr>\n",
       "  </tbody>\n",
       "</table>\n",
       "</div>"
      ],
      "text/plain": [
       "       Country  GDP_per_capita\n",
       "0  Afghanistan       1992.4244\n",
       "1      Albania      18244.2930\n",
       "2      Algeria      15159.3240\n",
       "3      Andorra      64631.2970\n",
       "4       Angola       7244.8930"
      ]
     },
     "metadata": {},
     "output_type": "display_data"
    }
   ],
   "source": [
    "# Process the GDP data for merging\n",
    "# First, let's identify the available years\n",
    "numeric_columns = df_gdp.select_dtypes(include=['number']).columns\n",
    "years = [col for col in numeric_columns if col != 'Year']\n",
    "print(\"Available numeric columns in GDP data:\", numeric_columns)\n",
    "print(f\"Latest available year column: {years[-1]}\")\n",
    "\n",
    "# For this analysis, we'll use 2021 GDP data as it's likely to have better coverage\n",
    "# We need to reshape the GDP data to get one row per country with the latest value\n",
    "latest_gdp = df_gdp.copy()\n",
    "\n",
    "# Group by entity (country) and get the most recent non-null GDP value\n",
    "latest_gdp = latest_gdp.sort_values(['Entity', 'Year']).groupby('Entity').last().reset_index()\n",
    "latest_gdp = latest_gdp[['Entity', 'ny_gdp_pcap_pp_kd']]\n",
    "latest_gdp.rename(columns={'Entity': 'Country', 'ny_gdp_pcap_pp_kd': 'GDP_per_capita'}, inplace=True)\n",
    "\n",
    "print(\"\\nLatest GDP data shape:\", latest_gdp.shape)\n",
    "print(\"Preview of latest GDP data:\")\n",
    "display(latest_gdp.head())"
   ]
  },
  {
   "cell_type": "code",
   "execution_count": 6,
   "id": "df36b519",
   "metadata": {},
   "outputs": [
    {
     "name": "stdout",
     "output_type": "stream",
     "text": [
      "Work-Life Balance simplified shape: (40, 2)\n",
      "Civic Engagement simplified shape: (42, 2)\n",
      "Life Satisfaction simplified shape: (40, 2)\n",
      "\n",
      "Work-Life Balance simplified preview:\n"
     ]
    },
    {
     "data": {
      "text/html": [
       "<div>\n",
       "<style scoped>\n",
       "    .dataframe tbody tr th:only-of-type {\n",
       "        vertical-align: middle;\n",
       "    }\n",
       "\n",
       "    .dataframe tbody tr th {\n",
       "        vertical-align: top;\n",
       "    }\n",
       "\n",
       "    .dataframe thead th {\n",
       "        text-align: right;\n",
       "    }\n",
       "</style>\n",
       "<table border=\"1\" class=\"dataframe\">\n",
       "  <thead>\n",
       "    <tr style=\"text-align: right;\">\n",
       "      <th></th>\n",
       "      <th>Country</th>\n",
       "      <th>Work_Life_Balance</th>\n",
       "    </tr>\n",
       "  </thead>\n",
       "  <tbody>\n",
       "    <tr>\n",
       "      <th>1096</th>\n",
       "      <td>Australia</td>\n",
       "      <td>12.5</td>\n",
       "    </tr>\n",
       "    <tr>\n",
       "      <th>1097</th>\n",
       "      <td>Austria</td>\n",
       "      <td>5.3</td>\n",
       "    </tr>\n",
       "    <tr>\n",
       "      <th>1098</th>\n",
       "      <td>Belgium</td>\n",
       "      <td>4.3</td>\n",
       "    </tr>\n",
       "    <tr>\n",
       "      <th>1099</th>\n",
       "      <td>Canada</td>\n",
       "      <td>3.3</td>\n",
       "    </tr>\n",
       "    <tr>\n",
       "      <th>1100</th>\n",
       "      <td>Czechia</td>\n",
       "      <td>4.5</td>\n",
       "    </tr>\n",
       "  </tbody>\n",
       "</table>\n",
       "</div>"
      ],
      "text/plain": [
       "        Country  Work_Life_Balance\n",
       "1096  Australia               12.5\n",
       "1097    Austria                5.3\n",
       "1098    Belgium                4.3\n",
       "1099     Canada                3.3\n",
       "1100    Czechia                4.5"
      ]
     },
     "metadata": {},
     "output_type": "display_data"
    },
    {
     "name": "stdout",
     "output_type": "stream",
     "text": [
      "\n",
      "Civic Engagement simplified preview:\n"
     ]
    },
    {
     "data": {
      "text/html": [
       "<div>\n",
       "<style scoped>\n",
       "    .dataframe tbody tr th:only-of-type {\n",
       "        vertical-align: middle;\n",
       "    }\n",
       "\n",
       "    .dataframe tbody tr th {\n",
       "        vertical-align: top;\n",
       "    }\n",
       "\n",
       "    .dataframe thead th {\n",
       "        text-align: right;\n",
       "    }\n",
       "</style>\n",
       "<table border=\"1\" class=\"dataframe\">\n",
       "  <thead>\n",
       "    <tr style=\"text-align: right;\">\n",
       "      <th></th>\n",
       "      <th>Country</th>\n",
       "      <th>Civic_Engagement</th>\n",
       "    </tr>\n",
       "  </thead>\n",
       "  <tbody>\n",
       "    <tr>\n",
       "      <th>875</th>\n",
       "      <td>Australia</td>\n",
       "      <td>92.0</td>\n",
       "    </tr>\n",
       "    <tr>\n",
       "      <th>876</th>\n",
       "      <td>Austria</td>\n",
       "      <td>76.0</td>\n",
       "    </tr>\n",
       "    <tr>\n",
       "      <th>877</th>\n",
       "      <td>Belgium</td>\n",
       "      <td>88.0</td>\n",
       "    </tr>\n",
       "    <tr>\n",
       "      <th>878</th>\n",
       "      <td>Canada</td>\n",
       "      <td>68.0</td>\n",
       "    </tr>\n",
       "    <tr>\n",
       "      <th>879</th>\n",
       "      <td>Czechia</td>\n",
       "      <td>62.0</td>\n",
       "    </tr>\n",
       "  </tbody>\n",
       "</table>\n",
       "</div>"
      ],
      "text/plain": [
       "       Country  Civic_Engagement\n",
       "875  Australia              92.0\n",
       "876    Austria              76.0\n",
       "877    Belgium              88.0\n",
       "878     Canada              68.0\n",
       "879    Czechia              62.0"
      ]
     },
     "metadata": {},
     "output_type": "display_data"
    },
    {
     "name": "stdout",
     "output_type": "stream",
     "text": [
      "\n",
      "Life Satisfaction simplified preview:\n"
     ]
    },
    {
     "data": {
      "text/html": [
       "<div>\n",
       "<style scoped>\n",
       "    .dataframe tbody tr th:only-of-type {\n",
       "        vertical-align: middle;\n",
       "    }\n",
       "\n",
       "    .dataframe tbody tr th {\n",
       "        vertical-align: top;\n",
       "    }\n",
       "\n",
       "    .dataframe thead th {\n",
       "        text-align: right;\n",
       "    }\n",
       "</style>\n",
       "<table border=\"1\" class=\"dataframe\">\n",
       "  <thead>\n",
       "    <tr style=\"text-align: right;\">\n",
       "      <th></th>\n",
       "      <th>Country</th>\n",
       "      <th>Life_Satisfaction</th>\n",
       "    </tr>\n",
       "  </thead>\n",
       "  <tbody>\n",
       "    <tr>\n",
       "      <th>914</th>\n",
       "      <td>Australia</td>\n",
       "      <td>85.0</td>\n",
       "    </tr>\n",
       "    <tr>\n",
       "      <th>915</th>\n",
       "      <td>Austria</td>\n",
       "      <td>71.0</td>\n",
       "    </tr>\n",
       "    <tr>\n",
       "      <th>916</th>\n",
       "      <td>Belgium</td>\n",
       "      <td>74.0</td>\n",
       "    </tr>\n",
       "    <tr>\n",
       "      <th>917</th>\n",
       "      <td>Canada</td>\n",
       "      <td>89.0</td>\n",
       "    </tr>\n",
       "    <tr>\n",
       "      <th>918</th>\n",
       "      <td>Czechia</td>\n",
       "      <td>62.0</td>\n",
       "    </tr>\n",
       "  </tbody>\n",
       "</table>\n",
       "</div>"
      ],
      "text/plain": [
       "       Country  Life_Satisfaction\n",
       "914  Australia               85.0\n",
       "915    Austria               71.0\n",
       "916    Belgium               74.0\n",
       "917     Canada               89.0\n",
       "918    Czechia               62.0"
      ]
     },
     "metadata": {},
     "output_type": "display_data"
    }
   ],
   "source": [
    "# Prepare simplified dataframes with just the country and indicator value\n",
    "wlb_simplified = work_life_balance[['Country', 'OBS_VALUE']].copy()\n",
    "wlb_simplified.rename(columns={'OBS_VALUE': 'Work_Life_Balance'}, inplace=True)\n",
    "\n",
    "ce_simplified = civic_engagement[['Country', 'OBS_VALUE']].copy()\n",
    "ce_simplified.rename(columns={'OBS_VALUE': 'Civic_Engagement'}, inplace=True)\n",
    "\n",
    "ls_simplified = life_satisfaction[['Country', 'OBS_VALUE']].copy()\n",
    "ls_simplified.rename(columns={'OBS_VALUE': 'Life_Satisfaction'}, inplace=True)\n",
    "\n",
    "# Check that we have data\n",
    "print(\"Work-Life Balance simplified shape:\", wlb_simplified.shape)\n",
    "print(\"Civic Engagement simplified shape:\", ce_simplified.shape)\n",
    "print(\"Life Satisfaction simplified shape:\", ls_simplified.shape)\n",
    "\n",
    "# Display the first few rows of each simplified dataframe\n",
    "print(\"\\nWork-Life Balance simplified preview:\")\n",
    "display(wlb_simplified.head())\n",
    "\n",
    "print(\"\\nCivic Engagement simplified preview:\")\n",
    "display(ce_simplified.head())\n",
    "\n",
    "print(\"\\nLife Satisfaction simplified preview:\")\n",
    "display(ls_simplified.head())"
   ]
  },
  {
   "cell_type": "code",
   "execution_count": 7,
   "id": "5a2b4f64",
   "metadata": {},
   "outputs": [
    {
     "name": "stdout",
     "output_type": "stream",
     "text": [
      "Final merged dataframe shape: (213, 5)\n",
      "\n",
      "Preview of merged dataframe:\n"
     ]
    },
    {
     "data": {
      "text/html": [
       "<div>\n",
       "<style scoped>\n",
       "    .dataframe tbody tr th:only-of-type {\n",
       "        vertical-align: middle;\n",
       "    }\n",
       "\n",
       "    .dataframe tbody tr th {\n",
       "        vertical-align: top;\n",
       "    }\n",
       "\n",
       "    .dataframe thead th {\n",
       "        text-align: right;\n",
       "    }\n",
       "</style>\n",
       "<table border=\"1\" class=\"dataframe\">\n",
       "  <thead>\n",
       "    <tr style=\"text-align: right;\">\n",
       "      <th></th>\n",
       "      <th>Country</th>\n",
       "      <th>GDP_per_capita</th>\n",
       "      <th>Work_Life_Balance</th>\n",
       "      <th>Civic_Engagement</th>\n",
       "      <th>Life_Satisfaction</th>\n",
       "    </tr>\n",
       "  </thead>\n",
       "  <tbody>\n",
       "    <tr>\n",
       "      <th>0</th>\n",
       "      <td>Afghanistan</td>\n",
       "      <td>1992.4244</td>\n",
       "      <td>NaN</td>\n",
       "      <td>NaN</td>\n",
       "      <td>NaN</td>\n",
       "    </tr>\n",
       "    <tr>\n",
       "      <th>1</th>\n",
       "      <td>Albania</td>\n",
       "      <td>18244.2930</td>\n",
       "      <td>NaN</td>\n",
       "      <td>NaN</td>\n",
       "      <td>NaN</td>\n",
       "    </tr>\n",
       "    <tr>\n",
       "      <th>2</th>\n",
       "      <td>Algeria</td>\n",
       "      <td>15159.3240</td>\n",
       "      <td>NaN</td>\n",
       "      <td>NaN</td>\n",
       "      <td>NaN</td>\n",
       "    </tr>\n",
       "    <tr>\n",
       "      <th>3</th>\n",
       "      <td>Andorra</td>\n",
       "      <td>64631.2970</td>\n",
       "      <td>NaN</td>\n",
       "      <td>NaN</td>\n",
       "      <td>NaN</td>\n",
       "    </tr>\n",
       "    <tr>\n",
       "      <th>4</th>\n",
       "      <td>Angola</td>\n",
       "      <td>7244.8930</td>\n",
       "      <td>NaN</td>\n",
       "      <td>NaN</td>\n",
       "      <td>NaN</td>\n",
       "    </tr>\n",
       "    <tr>\n",
       "      <th>5</th>\n",
       "      <td>Antigua and Barbuda</td>\n",
       "      <td>28967.2560</td>\n",
       "      <td>NaN</td>\n",
       "      <td>NaN</td>\n",
       "      <td>NaN</td>\n",
       "    </tr>\n",
       "    <tr>\n",
       "      <th>6</th>\n",
       "      <td>Argentina</td>\n",
       "      <td>27104.9800</td>\n",
       "      <td>NaN</td>\n",
       "      <td>NaN</td>\n",
       "      <td>NaN</td>\n",
       "    </tr>\n",
       "    <tr>\n",
       "      <th>7</th>\n",
       "      <td>Armenia</td>\n",
       "      <td>19230.1900</td>\n",
       "      <td>NaN</td>\n",
       "      <td>NaN</td>\n",
       "      <td>NaN</td>\n",
       "    </tr>\n",
       "    <tr>\n",
       "      <th>8</th>\n",
       "      <td>Aruba</td>\n",
       "      <td>40516.8100</td>\n",
       "      <td>NaN</td>\n",
       "      <td>NaN</td>\n",
       "      <td>NaN</td>\n",
       "    </tr>\n",
       "    <tr>\n",
       "      <th>9</th>\n",
       "      <td>Australia</td>\n",
       "      <td>59552.8800</td>\n",
       "      <td>12.5</td>\n",
       "      <td>92.0</td>\n",
       "      <td>85.0</td>\n",
       "    </tr>\n",
       "  </tbody>\n",
       "</table>\n",
       "</div>"
      ],
      "text/plain": [
       "               Country  GDP_per_capita  Work_Life_Balance  Civic_Engagement  \\\n",
       "0          Afghanistan       1992.4244                NaN               NaN   \n",
       "1              Albania      18244.2930                NaN               NaN   \n",
       "2              Algeria      15159.3240                NaN               NaN   \n",
       "3              Andorra      64631.2970                NaN               NaN   \n",
       "4               Angola       7244.8930                NaN               NaN   \n",
       "5  Antigua and Barbuda      28967.2560                NaN               NaN   \n",
       "6            Argentina      27104.9800                NaN               NaN   \n",
       "7              Armenia      19230.1900                NaN               NaN   \n",
       "8                Aruba      40516.8100                NaN               NaN   \n",
       "9            Australia      59552.8800               12.5              92.0   \n",
       "\n",
       "   Life_Satisfaction  \n",
       "0                NaN  \n",
       "1                NaN  \n",
       "2                NaN  \n",
       "3                NaN  \n",
       "4                NaN  \n",
       "5                NaN  \n",
       "6                NaN  \n",
       "7                NaN  \n",
       "8                NaN  \n",
       "9               85.0  "
      ]
     },
     "metadata": {},
     "output_type": "display_data"
    },
    {
     "name": "stdout",
     "output_type": "stream",
     "text": [
      "\n",
      "Missing values in each column:\n",
      "Country                0\n",
      "GDP_per_capita         0\n",
      "Work_Life_Balance    176\n",
      "Civic_Engagement     175\n",
      "Life_Satisfaction    177\n",
      "dtype: int64\n",
      "\n",
      "Number of OECD countries: 41\n",
      "\n",
      "OECD countries in merged dataframe: 38\n",
      "\n",
      "Number of OECD countries with complete data: 35\n",
      "\n",
      "OECD countries with complete data:\n"
     ]
    },
    {
     "data": {
      "text/plain": [
       "array(['Australia', 'Austria', 'Belgium', 'Canada', 'Chile', 'Colombia',\n",
       "       'Costa Rica', 'Czechia', 'Denmark', 'Estonia', 'Finland', 'France',\n",
       "       'Germany', 'Greece', 'Hungary', 'Iceland', 'Ireland', 'Israel',\n",
       "       'Italy', 'Latvia', 'Lithuania', 'Luxembourg', 'Mexico',\n",
       "       'Netherlands', 'New Zealand', 'Norway', 'Poland', 'Portugal',\n",
       "       'Russia', 'Slovenia', 'Spain', 'Sweden', 'Switzerland',\n",
       "       'United Kingdom', 'United States'], dtype=object)"
      ]
     },
     "metadata": {},
     "output_type": "display_data"
    }
   ],
   "source": [
    "# Merge the datasets\n",
    "# Start with GDP data\n",
    "merged_df = latest_gdp.copy()\n",
    "\n",
    "# Merge with Work-Life Balance\n",
    "merged_df = pd.merge(merged_df, wlb_simplified, on='Country', how='left')\n",
    "\n",
    "# Merge with Civic Engagement\n",
    "merged_df = pd.merge(merged_df, ce_simplified, on='Country', how='left')\n",
    "\n",
    "# Merge with Life Satisfaction\n",
    "merged_df = pd.merge(merged_df, ls_simplified, on='Country', how='left')\n",
    "\n",
    "# Check the final merged dataset\n",
    "print(\"Final merged dataframe shape:\", merged_df.shape)\n",
    "print(\"\\nPreview of merged dataframe:\")\n",
    "display(merged_df.head(10))\n",
    "\n",
    "# Check for missing values\n",
    "print(\"\\nMissing values in each column:\")\n",
    "print(merged_df.isnull().sum())\n",
    "\n",
    "# Get the list of OECD countries (excluding 'OECD - Total' which is not a country)\n",
    "oecd_country_list = [country for country in oecd_countries if country != 'OECD - Total']\n",
    "print(f\"\\nNumber of OECD countries: {len(oecd_country_list)}\")\n",
    "\n",
    "# Filter the merged dataframe to include only OECD countries\n",
    "oecd_merged_df = merged_df[merged_df['Country'].isin(oecd_country_list)].copy()\n",
    "print(f\"\\nOECD countries in merged dataframe: {len(oecd_merged_df)}\")\n",
    "\n",
    "# Find common OECD countries between all datasets (those with complete data)\n",
    "oecd_complete_data = oecd_merged_df.dropna().copy()\n",
    "print(f\"\\nNumber of OECD countries with complete data: {len(oecd_complete_data)}\")\n",
    "print(\"\\nOECD countries with complete data:\")\n",
    "display(oecd_complete_data['Country'].values)"
   ]
  },
  {
   "cell_type": "code",
   "execution_count": 8,
   "id": "a12373cb",
   "metadata": {},
   "outputs": [
    {
     "name": "stdout",
     "output_type": "stream",
     "text": [
      "OECD countries - GDP + Work-Life Balance: 37 countries\n",
      "OECD countries - GDP + Civic Engagement: 38 countries\n",
      "OECD countries - GDP + Life Satisfaction: 36 countries\n",
      "\n",
      "Final cleaned OECD dataframe has 35 countries\n"
     ]
    },
    {
     "data": {
      "text/html": [
       "<div>\n",
       "<style scoped>\n",
       "    .dataframe tbody tr th:only-of-type {\n",
       "        vertical-align: middle;\n",
       "    }\n",
       "\n",
       "    .dataframe tbody tr th {\n",
       "        vertical-align: top;\n",
       "    }\n",
       "\n",
       "    .dataframe thead th {\n",
       "        text-align: right;\n",
       "    }\n",
       "</style>\n",
       "<table border=\"1\" class=\"dataframe\">\n",
       "  <thead>\n",
       "    <tr style=\"text-align: right;\">\n",
       "      <th></th>\n",
       "      <th>Country</th>\n",
       "      <th>GDP_per_capita</th>\n",
       "      <th>Work_Life_Balance</th>\n",
       "      <th>Civic_Engagement</th>\n",
       "      <th>Life_Satisfaction</th>\n",
       "    </tr>\n",
       "  </thead>\n",
       "  <tbody>\n",
       "    <tr>\n",
       "      <th>9</th>\n",
       "      <td>Australia</td>\n",
       "      <td>59552.880</td>\n",
       "      <td>12.5</td>\n",
       "      <td>92.0</td>\n",
       "      <td>85.0</td>\n",
       "    </tr>\n",
       "    <tr>\n",
       "      <th>10</th>\n",
       "      <td>Austria</td>\n",
       "      <td>65015.133</td>\n",
       "      <td>5.3</td>\n",
       "      <td>76.0</td>\n",
       "      <td>71.0</td>\n",
       "    </tr>\n",
       "    <tr>\n",
       "      <th>17</th>\n",
       "      <td>Belgium</td>\n",
       "      <td>64185.848</td>\n",
       "      <td>4.3</td>\n",
       "      <td>88.0</td>\n",
       "      <td>74.0</td>\n",
       "    </tr>\n",
       "    <tr>\n",
       "      <th>32</th>\n",
       "      <td>Canada</td>\n",
       "      <td>55918.930</td>\n",
       "      <td>3.3</td>\n",
       "      <td>68.0</td>\n",
       "      <td>89.0</td>\n",
       "    </tr>\n",
       "    <tr>\n",
       "      <th>37</th>\n",
       "      <td>Chile</td>\n",
       "      <td>29462.640</td>\n",
       "      <td>7.7</td>\n",
       "      <td>47.0</td>\n",
       "      <td>60.0</td>\n",
       "    </tr>\n",
       "  </tbody>\n",
       "</table>\n",
       "</div>"
      ],
      "text/plain": [
       "      Country  GDP_per_capita  Work_Life_Balance  Civic_Engagement  \\\n",
       "9   Australia       59552.880               12.5              92.0   \n",
       "10    Austria       65015.133                5.3              76.0   \n",
       "17    Belgium       64185.848                4.3              88.0   \n",
       "32     Canada       55918.930                3.3              68.0   \n",
       "37      Chile       29462.640                7.7              47.0   \n",
       "\n",
       "    Life_Satisfaction  \n",
       "9                85.0  \n",
       "10               71.0  \n",
       "17               74.0  \n",
       "32               89.0  \n",
       "37               60.0  "
      ]
     },
     "metadata": {},
     "output_type": "display_data"
    }
   ],
   "source": [
    "# If we don't have enough OECD countries with complete data, let's try a more flexible approach\n",
    "# We'll create separate datasets for each indicator paired with GDP, but only for OECD countries\n",
    "\n",
    "# Filter the individual dataframes to include only OECD countries\n",
    "gdp_wlb_oecd = pd.merge(latest_gdp[latest_gdp['Country'].isin(oecd_country_list)], \n",
    "                        wlb_simplified[wlb_simplified['Country'].isin(oecd_country_list)], \n",
    "                        on='Country', how='inner')\n",
    "\n",
    "gdp_ce_oecd = pd.merge(latest_gdp[latest_gdp['Country'].isin(oecd_country_list)], \n",
    "                      ce_simplified[ce_simplified['Country'].isin(oecd_country_list)], \n",
    "                      on='Country', how='inner')\n",
    "\n",
    "gdp_ls_oecd = pd.merge(latest_gdp[latest_gdp['Country'].isin(oecd_country_list)], \n",
    "                      ls_simplified[ls_simplified['Country'].isin(oecd_country_list)], \n",
    "                      on='Country', how='inner')\n",
    "\n",
    "print(f\"OECD countries - GDP + Work-Life Balance: {len(gdp_wlb_oecd)} countries\")\n",
    "print(f\"OECD countries - GDP + Civic Engagement: {len(gdp_ce_oecd)} countries\")\n",
    "print(f\"OECD countries - GDP + Life Satisfaction: {len(gdp_ls_oecd)} countries\")\n",
    "\n",
    "# Let's use the merged dataframe with all data for OECD countries that have it\n",
    "oecd_merged_df_clean = oecd_merged_df.dropna().copy()\n",
    "print(f\"\\nFinal cleaned OECD dataframe has {len(oecd_merged_df_clean)} countries\")\n",
    "display(oecd_merged_df_clean.head())"
   ]
  },
  {
   "cell_type": "code",
   "execution_count": 9,
   "id": "9335faa4",
   "metadata": {},
   "outputs": [
    {
     "name": "stdout",
     "output_type": "stream",
     "text": [
      "Final dataframe with normalized values shape: (213, 8)\n",
      "\n",
      "Preview of final dataframe with normalized values:\n"
     ]
    },
    {
     "data": {
      "text/html": [
       "<div>\n",
       "<style scoped>\n",
       "    .dataframe tbody tr th:only-of-type {\n",
       "        vertical-align: middle;\n",
       "    }\n",
       "\n",
       "    .dataframe tbody tr th {\n",
       "        vertical-align: top;\n",
       "    }\n",
       "\n",
       "    .dataframe thead th {\n",
       "        text-align: right;\n",
       "    }\n",
       "</style>\n",
       "<table border=\"1\" class=\"dataframe\">\n",
       "  <thead>\n",
       "    <tr style=\"text-align: right;\">\n",
       "      <th></th>\n",
       "      <th>Country</th>\n",
       "      <th>GDP_per_capita</th>\n",
       "      <th>Work_Life_Balance</th>\n",
       "      <th>Work_Life_Balance_Normalized</th>\n",
       "      <th>Civic_Engagement</th>\n",
       "      <th>Civic_Engagement_Normalized</th>\n",
       "      <th>Life_Satisfaction</th>\n",
       "      <th>Life_Satisfaction_Normalized</th>\n",
       "    </tr>\n",
       "  </thead>\n",
       "  <tbody>\n",
       "    <tr>\n",
       "      <th>0</th>\n",
       "      <td>Afghanistan</td>\n",
       "      <td>1992.4244</td>\n",
       "      <td>NaN</td>\n",
       "      <td>NaN</td>\n",
       "      <td>NaN</td>\n",
       "      <td>NaN</td>\n",
       "      <td>NaN</td>\n",
       "      <td>NaN</td>\n",
       "    </tr>\n",
       "    <tr>\n",
       "      <th>1</th>\n",
       "      <td>Albania</td>\n",
       "      <td>18244.2930</td>\n",
       "      <td>NaN</td>\n",
       "      <td>NaN</td>\n",
       "      <td>NaN</td>\n",
       "      <td>NaN</td>\n",
       "      <td>NaN</td>\n",
       "      <td>NaN</td>\n",
       "    </tr>\n",
       "    <tr>\n",
       "      <th>2</th>\n",
       "      <td>Algeria</td>\n",
       "      <td>15159.3240</td>\n",
       "      <td>NaN</td>\n",
       "      <td>NaN</td>\n",
       "      <td>NaN</td>\n",
       "      <td>NaN</td>\n",
       "      <td>NaN</td>\n",
       "      <td>NaN</td>\n",
       "    </tr>\n",
       "    <tr>\n",
       "      <th>3</th>\n",
       "      <td>Andorra</td>\n",
       "      <td>64631.2970</td>\n",
       "      <td>NaN</td>\n",
       "      <td>NaN</td>\n",
       "      <td>NaN</td>\n",
       "      <td>NaN</td>\n",
       "      <td>NaN</td>\n",
       "      <td>NaN</td>\n",
       "    </tr>\n",
       "    <tr>\n",
       "      <th>4</th>\n",
       "      <td>Angola</td>\n",
       "      <td>7244.8930</td>\n",
       "      <td>NaN</td>\n",
       "      <td>NaN</td>\n",
       "      <td>NaN</td>\n",
       "      <td>NaN</td>\n",
       "      <td>NaN</td>\n",
       "      <td>NaN</td>\n",
       "    </tr>\n",
       "    <tr>\n",
       "      <th>5</th>\n",
       "      <td>Antigua and Barbuda</td>\n",
       "      <td>28967.2560</td>\n",
       "      <td>NaN</td>\n",
       "      <td>NaN</td>\n",
       "      <td>NaN</td>\n",
       "      <td>NaN</td>\n",
       "      <td>NaN</td>\n",
       "      <td>NaN</td>\n",
       "    </tr>\n",
       "    <tr>\n",
       "      <th>6</th>\n",
       "      <td>Argentina</td>\n",
       "      <td>27104.9800</td>\n",
       "      <td>NaN</td>\n",
       "      <td>NaN</td>\n",
       "      <td>NaN</td>\n",
       "      <td>NaN</td>\n",
       "      <td>NaN</td>\n",
       "      <td>NaN</td>\n",
       "    </tr>\n",
       "    <tr>\n",
       "      <th>7</th>\n",
       "      <td>Armenia</td>\n",
       "      <td>19230.1900</td>\n",
       "      <td>NaN</td>\n",
       "      <td>NaN</td>\n",
       "      <td>NaN</td>\n",
       "      <td>NaN</td>\n",
       "      <td>NaN</td>\n",
       "      <td>NaN</td>\n",
       "    </tr>\n",
       "    <tr>\n",
       "      <th>8</th>\n",
       "      <td>Aruba</td>\n",
       "      <td>40516.8100</td>\n",
       "      <td>NaN</td>\n",
       "      <td>NaN</td>\n",
       "      <td>NaN</td>\n",
       "      <td>NaN</td>\n",
       "      <td>NaN</td>\n",
       "      <td>NaN</td>\n",
       "    </tr>\n",
       "    <tr>\n",
       "      <th>9</th>\n",
       "      <td>Australia</td>\n",
       "      <td>59552.8800</td>\n",
       "      <td>12.5</td>\n",
       "      <td>0.539033</td>\n",
       "      <td>92.0</td>\n",
       "      <td>1.0</td>\n",
       "      <td>85.0</td>\n",
       "      <td>0.923077</td>\n",
       "    </tr>\n",
       "  </tbody>\n",
       "</table>\n",
       "</div>"
      ],
      "text/plain": [
       "               Country  GDP_per_capita  Work_Life_Balance  \\\n",
       "0          Afghanistan       1992.4244                NaN   \n",
       "1              Albania      18244.2930                NaN   \n",
       "2              Algeria      15159.3240                NaN   \n",
       "3              Andorra      64631.2970                NaN   \n",
       "4               Angola       7244.8930                NaN   \n",
       "5  Antigua and Barbuda      28967.2560                NaN   \n",
       "6            Argentina      27104.9800                NaN   \n",
       "7              Armenia      19230.1900                NaN   \n",
       "8                Aruba      40516.8100                NaN   \n",
       "9            Australia      59552.8800               12.5   \n",
       "\n",
       "   Work_Life_Balance_Normalized  Civic_Engagement  \\\n",
       "0                           NaN               NaN   \n",
       "1                           NaN               NaN   \n",
       "2                           NaN               NaN   \n",
       "3                           NaN               NaN   \n",
       "4                           NaN               NaN   \n",
       "5                           NaN               NaN   \n",
       "6                           NaN               NaN   \n",
       "7                           NaN               NaN   \n",
       "8                           NaN               NaN   \n",
       "9                      0.539033              92.0   \n",
       "\n",
       "   Civic_Engagement_Normalized  Life_Satisfaction  \\\n",
       "0                          NaN                NaN   \n",
       "1                          NaN                NaN   \n",
       "2                          NaN                NaN   \n",
       "3                          NaN                NaN   \n",
       "4                          NaN                NaN   \n",
       "5                          NaN                NaN   \n",
       "6                          NaN                NaN   \n",
       "7                          NaN                NaN   \n",
       "8                          NaN                NaN   \n",
       "9                          1.0               85.0   \n",
       "\n",
       "   Life_Satisfaction_Normalized  \n",
       "0                           NaN  \n",
       "1                           NaN  \n",
       "2                           NaN  \n",
       "3                           NaN  \n",
       "4                           NaN  \n",
       "5                           NaN  \n",
       "6                           NaN  \n",
       "7                           NaN  \n",
       "8                           NaN  \n",
       "9                      0.923077  "
      ]
     },
     "metadata": {},
     "output_type": "display_data"
    },
    {
     "name": "stdout",
     "output_type": "stream",
     "text": [
      "\n",
      "OECD countries with complete normalized data: 35\n"
     ]
    },
    {
     "data": {
      "text/html": [
       "<div>\n",
       "<style scoped>\n",
       "    .dataframe tbody tr th:only-of-type {\n",
       "        vertical-align: middle;\n",
       "    }\n",
       "\n",
       "    .dataframe tbody tr th {\n",
       "        vertical-align: top;\n",
       "    }\n",
       "\n",
       "    .dataframe thead th {\n",
       "        text-align: right;\n",
       "    }\n",
       "</style>\n",
       "<table border=\"1\" class=\"dataframe\">\n",
       "  <thead>\n",
       "    <tr style=\"text-align: right;\">\n",
       "      <th></th>\n",
       "      <th>Country</th>\n",
       "      <th>GDP_per_capita</th>\n",
       "      <th>Work_Life_Balance</th>\n",
       "      <th>Work_Life_Balance_Normalized</th>\n",
       "      <th>Civic_Engagement</th>\n",
       "      <th>Civic_Engagement_Normalized</th>\n",
       "      <th>Life_Satisfaction</th>\n",
       "      <th>Life_Satisfaction_Normalized</th>\n",
       "    </tr>\n",
       "  </thead>\n",
       "  <tbody>\n",
       "    <tr>\n",
       "      <th>9</th>\n",
       "      <td>Australia</td>\n",
       "      <td>59552.880</td>\n",
       "      <td>12.5</td>\n",
       "      <td>0.539033</td>\n",
       "      <td>92.0</td>\n",
       "      <td>1.000000</td>\n",
       "      <td>85.0</td>\n",
       "      <td>0.923077</td>\n",
       "    </tr>\n",
       "    <tr>\n",
       "      <th>10</th>\n",
       "      <td>Austria</td>\n",
       "      <td>65015.133</td>\n",
       "      <td>5.3</td>\n",
       "      <td>0.806691</td>\n",
       "      <td>76.0</td>\n",
       "      <td>0.659574</td>\n",
       "      <td>71.0</td>\n",
       "      <td>0.653846</td>\n",
       "    </tr>\n",
       "    <tr>\n",
       "      <th>17</th>\n",
       "      <td>Belgium</td>\n",
       "      <td>64185.848</td>\n",
       "      <td>4.3</td>\n",
       "      <td>0.843866</td>\n",
       "      <td>88.0</td>\n",
       "      <td>0.914894</td>\n",
       "      <td>74.0</td>\n",
       "      <td>0.711538</td>\n",
       "    </tr>\n",
       "    <tr>\n",
       "      <th>32</th>\n",
       "      <td>Canada</td>\n",
       "      <td>55918.930</td>\n",
       "      <td>3.3</td>\n",
       "      <td>0.881041</td>\n",
       "      <td>68.0</td>\n",
       "      <td>0.489362</td>\n",
       "      <td>89.0</td>\n",
       "      <td>1.000000</td>\n",
       "    </tr>\n",
       "    <tr>\n",
       "      <th>37</th>\n",
       "      <td>Chile</td>\n",
       "      <td>29462.640</td>\n",
       "      <td>7.7</td>\n",
       "      <td>0.717472</td>\n",
       "      <td>47.0</td>\n",
       "      <td>0.042553</td>\n",
       "      <td>60.0</td>\n",
       "      <td>0.442308</td>\n",
       "    </tr>\n",
       "  </tbody>\n",
       "</table>\n",
       "</div>"
      ],
      "text/plain": [
       "      Country  GDP_per_capita  Work_Life_Balance  \\\n",
       "9   Australia       59552.880               12.5   \n",
       "10    Austria       65015.133                5.3   \n",
       "17    Belgium       64185.848                4.3   \n",
       "32     Canada       55918.930                3.3   \n",
       "37      Chile       29462.640                7.7   \n",
       "\n",
       "    Work_Life_Balance_Normalized  Civic_Engagement  \\\n",
       "9                       0.539033              92.0   \n",
       "10                      0.806691              76.0   \n",
       "17                      0.843866              88.0   \n",
       "32                      0.881041              68.0   \n",
       "37                      0.717472              47.0   \n",
       "\n",
       "    Civic_Engagement_Normalized  Life_Satisfaction  \\\n",
       "9                      1.000000               85.0   \n",
       "10                     0.659574               71.0   \n",
       "17                     0.914894               74.0   \n",
       "32                     0.489362               89.0   \n",
       "37                     0.042553               60.0   \n",
       "\n",
       "    Life_Satisfaction_Normalized  \n",
       "9                       0.923077  \n",
       "10                      0.653846  \n",
       "17                      0.711538  \n",
       "32                      1.000000  \n",
       "37                      0.442308  "
      ]
     },
     "metadata": {},
     "output_type": "display_data"
    },
    {
     "name": "stdout",
     "output_type": "stream",
     "text": [
      "\n",
      "Range of normalized values:\n",
      "Work_Life_Balance_Normalized: Min = 0.0, Max = 1.0\n",
      "Civic_Engagement_Normalized: Min = 0.0, Max = 1.0\n",
      "Life_Satisfaction_Normalized: Min = 0.0, Max = 1.0\n"
     ]
    }
   ],
   "source": [
    "# Create a normalized version of the dataset as requested\n",
    "# First, create a copy of the merged dataframe with complete data for all three indicators\n",
    "complete_data = merged_df.dropna().copy()\n",
    "\n",
    "# Create a dataframe with normalized values\n",
    "normalized_df = merged_df.copy()\n",
    "\n",
    "# Normalize Work_Life_Balance (lower values are better)\n",
    "# For this metric, lower percentages of people working very long hours are better\n",
    "# so we invert the scale to make lower percentages result in higher scores\n",
    "wlb_min = normalized_df['Work_Life_Balance'].dropna().min()\n",
    "wlb_max = normalized_df['Work_Life_Balance'].dropna().max()\n",
    "normalized_df['Work_Life_Balance_Normalized'] = normalized_df['Work_Life_Balance'].apply(\n",
    "    lambda x: (wlb_max - x) / (wlb_max - wlb_min) if pd.notnull(x) else np.nan\n",
    ")\n",
    "\n",
    "# Normalize Civic_Engagement (higher values are better)\n",
    "# For this metric, higher percentages of voter turnout are better\n",
    "ce_min = normalized_df['Civic_Engagement'].dropna().min()\n",
    "ce_max = normalized_df['Civic_Engagement'].dropna().max()\n",
    "normalized_df['Civic_Engagement_Normalized'] = normalized_df['Civic_Engagement'].apply(\n",
    "    lambda x: (x - ce_min) / (ce_max - ce_min) if pd.notnull(x) else np.nan\n",
    ")\n",
    "\n",
    "# Normalize Life_Satisfaction (higher values are better)\n",
    "# For this metric, higher percentages of self-reported good health are better\n",
    "ls_min = normalized_df['Life_Satisfaction'].dropna().min()\n",
    "ls_max = normalized_df['Life_Satisfaction'].dropna().max()\n",
    "normalized_df['Life_Satisfaction_Normalized'] = normalized_df['Life_Satisfaction'].apply(\n",
    "    lambda x: (x - ls_min) / (ls_max - ls_min) if pd.notnull(x) else np.nan\n",
    ")\n",
    "\n",
    "# Create a final clean dataframe with original and normalized values\n",
    "final_df = normalized_df[['Country', 'GDP_per_capita', \n",
    "                         'Work_Life_Balance', 'Work_Life_Balance_Normalized',\n",
    "                         'Civic_Engagement', 'Civic_Engagement_Normalized',\n",
    "                         'Life_Satisfaction', 'Life_Satisfaction_Normalized']]\n",
    "\n",
    "# Display statistics about the normalized dataframe\n",
    "print(\"Final dataframe with normalized values shape:\", final_df.shape)\n",
    "print(\"\\nPreview of final dataframe with normalized values:\")\n",
    "display(final_df.head(10))\n",
    "\n",
    "# Create a focused dataframe with only OECD countries and complete data\n",
    "oecd_final_df = final_df[final_df['Country'].isin(oecd_country_list)].dropna()\n",
    "print(f\"\\nOECD countries with complete normalized data: {len(oecd_final_df)}\")\n",
    "display(oecd_final_df.head())\n",
    "\n",
    "# Check the range of normalized values to ensure they are all positive\n",
    "print(\"\\nRange of normalized values:\")\n",
    "for col in ['Work_Life_Balance_Normalized', 'Civic_Engagement_Normalized', 'Life_Satisfaction_Normalized']:\n",
    "    if col in final_df.columns:\n",
    "        print(f\"{col}: Min = {final_df[col].min()}, Max = {final_df[col].max()}\")\n",
    "\n",
    "# Save the final dataframe if needed\n",
    "# final_df.to_csv(\"/Users/ren/Documents/Ciencia de Datos/GDP shi/normalized_indicators.csv\", index=False)"
   ]
  },
  {
   "cell_type": "code",
   "execution_count": 10,
   "id": "6fc66c72",
   "metadata": {},
   "outputs": [
    {
     "name": "stdout",
     "output_type": "stream",
     "text": [
      "Simplified dataframe shape: (213, 5)\n",
      "Simplified dataframe with complete data shape: (35, 5)\n",
      "\n",
      "Preview of simplified dataframe with complete data:\n"
     ]
    },
    {
     "data": {
      "text/html": [
       "<div>\n",
       "<style scoped>\n",
       "    .dataframe tbody tr th:only-of-type {\n",
       "        vertical-align: middle;\n",
       "    }\n",
       "\n",
       "    .dataframe tbody tr th {\n",
       "        vertical-align: top;\n",
       "    }\n",
       "\n",
       "    .dataframe thead th {\n",
       "        text-align: right;\n",
       "    }\n",
       "</style>\n",
       "<table border=\"1\" class=\"dataframe\">\n",
       "  <thead>\n",
       "    <tr style=\"text-align: right;\">\n",
       "      <th></th>\n",
       "      <th>Country</th>\n",
       "      <th>GDP_per_capita</th>\n",
       "      <th>Work_Life_Balance</th>\n",
       "      <th>Civic_Engagement</th>\n",
       "      <th>Life_Satisfaction</th>\n",
       "    </tr>\n",
       "  </thead>\n",
       "  <tbody>\n",
       "    <tr>\n",
       "      <th>9</th>\n",
       "      <td>Australia</td>\n",
       "      <td>59552.880</td>\n",
       "      <td>0.539033</td>\n",
       "      <td>1.000000</td>\n",
       "      <td>0.923077</td>\n",
       "    </tr>\n",
       "    <tr>\n",
       "      <th>10</th>\n",
       "      <td>Austria</td>\n",
       "      <td>65015.133</td>\n",
       "      <td>0.806691</td>\n",
       "      <td>0.659574</td>\n",
       "      <td>0.653846</td>\n",
       "    </tr>\n",
       "    <tr>\n",
       "      <th>17</th>\n",
       "      <td>Belgium</td>\n",
       "      <td>64185.848</td>\n",
       "      <td>0.843866</td>\n",
       "      <td>0.914894</td>\n",
       "      <td>0.711538</td>\n",
       "    </tr>\n",
       "    <tr>\n",
       "      <th>32</th>\n",
       "      <td>Canada</td>\n",
       "      <td>55918.930</td>\n",
       "      <td>0.881041</td>\n",
       "      <td>0.489362</td>\n",
       "      <td>1.000000</td>\n",
       "    </tr>\n",
       "    <tr>\n",
       "      <th>37</th>\n",
       "      <td>Chile</td>\n",
       "      <td>29462.640</td>\n",
       "      <td>0.717472</td>\n",
       "      <td>0.042553</td>\n",
       "      <td>0.442308</td>\n",
       "    </tr>\n",
       "    <tr>\n",
       "      <th>39</th>\n",
       "      <td>Colombia</td>\n",
       "      <td>18692.385</td>\n",
       "      <td>0.122677</td>\n",
       "      <td>0.170213</td>\n",
       "      <td>0.826923</td>\n",
       "    </tr>\n",
       "    <tr>\n",
       "      <th>42</th>\n",
       "      <td>Costa Rica</td>\n",
       "      <td>26292.771</td>\n",
       "      <td>0.185874</td>\n",
       "      <td>0.446809</td>\n",
       "      <td>0.692308</td>\n",
       "    </tr>\n",
       "    <tr>\n",
       "      <th>47</th>\n",
       "      <td>Czechia</td>\n",
       "      <td>49681.060</td>\n",
       "      <td>0.836431</td>\n",
       "      <td>0.361702</td>\n",
       "      <td>0.480769</td>\n",
       "    </tr>\n",
       "    <tr>\n",
       "      <th>49</th>\n",
       "      <td>Denmark</td>\n",
       "      <td>72097.305</td>\n",
       "      <td>0.962825</td>\n",
       "      <td>0.851064</td>\n",
       "      <td>0.634615</td>\n",
       "    </tr>\n",
       "    <tr>\n",
       "      <th>59</th>\n",
       "      <td>Estonia</td>\n",
       "      <td>42471.824</td>\n",
       "      <td>0.921933</td>\n",
       "      <td>0.404255</td>\n",
       "      <td>0.384615</td>\n",
       "    </tr>\n",
       "  </tbody>\n",
       "</table>\n",
       "</div>"
      ],
      "text/plain": [
       "       Country  GDP_per_capita  Work_Life_Balance  Civic_Engagement  \\\n",
       "9    Australia       59552.880           0.539033          1.000000   \n",
       "10     Austria       65015.133           0.806691          0.659574   \n",
       "17     Belgium       64185.848           0.843866          0.914894   \n",
       "32      Canada       55918.930           0.881041          0.489362   \n",
       "37       Chile       29462.640           0.717472          0.042553   \n",
       "39    Colombia       18692.385           0.122677          0.170213   \n",
       "42  Costa Rica       26292.771           0.185874          0.446809   \n",
       "47     Czechia       49681.060           0.836431          0.361702   \n",
       "49     Denmark       72097.305           0.962825          0.851064   \n",
       "59     Estonia       42471.824           0.921933          0.404255   \n",
       "\n",
       "    Life_Satisfaction  \n",
       "9            0.923077  \n",
       "10           0.653846  \n",
       "17           0.711538  \n",
       "32           1.000000  \n",
       "37           0.442308  \n",
       "39           0.826923  \n",
       "42           0.692308  \n",
       "47           0.480769  \n",
       "49           0.634615  \n",
       "59           0.384615  "
      ]
     },
     "metadata": {},
     "output_type": "display_data"
    },
    {
     "name": "stdout",
     "output_type": "stream",
     "text": [
      "\n",
      "Countries sorted by Well-Being Index (highest to lowest):\n"
     ]
    },
    {
     "name": "stderr",
     "output_type": "stream",
     "text": [
      "/var/folders/_r/k50gsvyj2dj2hylwzztbbkjc0000gn/T/ipykernel_28679/1436197148.py:19: SettingWithCopyWarning: \n",
      "A value is trying to be set on a copy of a slice from a DataFrame.\n",
      "Try using .loc[row_indexer,col_indexer] = value instead\n",
      "\n",
      "See the caveats in the documentation: https://pandas.pydata.org/pandas-docs/stable/user_guide/indexing.html#returning-a-view-versus-a-copy\n",
      "  simplified_df_clean['Well_Being_Index'] = simplified_df_clean[['Work_Life_Balance',\n"
     ]
    },
    {
     "data": {
      "text/html": [
       "<div>\n",
       "<style scoped>\n",
       "    .dataframe tbody tr th:only-of-type {\n",
       "        vertical-align: middle;\n",
       "    }\n",
       "\n",
       "    .dataframe tbody tr th {\n",
       "        vertical-align: top;\n",
       "    }\n",
       "\n",
       "    .dataframe thead th {\n",
       "        text-align: right;\n",
       "    }\n",
       "</style>\n",
       "<table border=\"1\" class=\"dataframe\">\n",
       "  <thead>\n",
       "    <tr style=\"text-align: right;\">\n",
       "      <th></th>\n",
       "      <th>Country</th>\n",
       "      <th>GDP_per_capita</th>\n",
       "      <th>Well_Being_Index</th>\n",
       "    </tr>\n",
       "  </thead>\n",
       "  <tbody>\n",
       "    <tr>\n",
       "      <th>185</th>\n",
       "      <td>Sweden</td>\n",
       "      <td>63114.680</td>\n",
       "      <td>0.871292</td>\n",
       "    </tr>\n",
       "    <tr>\n",
       "      <th>112</th>\n",
       "      <td>Luxembourg</td>\n",
       "      <td>132846.580</td>\n",
       "      <td>0.843384</td>\n",
       "    </tr>\n",
       "    <tr>\n",
       "      <th>17</th>\n",
       "      <td>Belgium</td>\n",
       "      <td>64185.848</td>\n",
       "      <td>0.823433</td>\n",
       "    </tr>\n",
       "    <tr>\n",
       "      <th>9</th>\n",
       "      <td>Australia</td>\n",
       "      <td>59552.880</td>\n",
       "      <td>0.820703</td>\n",
       "    </tr>\n",
       "    <tr>\n",
       "      <th>49</th>\n",
       "      <td>Denmark</td>\n",
       "      <td>72097.305</td>\n",
       "      <td>0.816168</td>\n",
       "    </tr>\n",
       "    <tr>\n",
       "      <th>136</th>\n",
       "      <td>Netherlands</td>\n",
       "      <td>71446.695</td>\n",
       "      <td>0.815580</td>\n",
       "    </tr>\n",
       "    <tr>\n",
       "      <th>143</th>\n",
       "      <td>Norway</td>\n",
       "      <td>90469.810</td>\n",
       "      <td>0.794857</td>\n",
       "    </tr>\n",
       "    <tr>\n",
       "      <th>32</th>\n",
       "      <td>Canada</td>\n",
       "      <td>55918.930</td>\n",
       "      <td>0.790134</td>\n",
       "    </tr>\n",
       "    <tr>\n",
       "      <th>180</th>\n",
       "      <td>Spain</td>\n",
       "      <td>47141.543</td>\n",
       "      <td>0.738673</td>\n",
       "    </tr>\n",
       "    <tr>\n",
       "      <th>137</th>\n",
       "      <td>New Zealand</td>\n",
       "      <td>48826.574</td>\n",
       "      <td>0.737604</td>\n",
       "    </tr>\n",
       "    <tr>\n",
       "      <th>92</th>\n",
       "      <td>Italy</td>\n",
       "      <td>53312.070</td>\n",
       "      <td>0.723031</td>\n",
       "    </tr>\n",
       "    <tr>\n",
       "      <th>10</th>\n",
       "      <td>Austria</td>\n",
       "      <td>65015.133</td>\n",
       "      <td>0.706704</td>\n",
       "    </tr>\n",
       "    <tr>\n",
       "      <th>90</th>\n",
       "      <td>Ireland</td>\n",
       "      <td>114922.390</td>\n",
       "      <td>0.705274</td>\n",
       "    </tr>\n",
       "    <tr>\n",
       "      <th>85</th>\n",
       "      <td>Iceland</td>\n",
       "      <td>67255.670</td>\n",
       "      <td>0.701320</td>\n",
       "    </tr>\n",
       "    <tr>\n",
       "      <th>71</th>\n",
       "      <td>Germany</td>\n",
       "      <td>63578.140</td>\n",
       "      <td>0.692001</td>\n",
       "    </tr>\n",
       "  </tbody>\n",
       "</table>\n",
       "</div>"
      ],
      "text/plain": [
       "         Country  GDP_per_capita  Well_Being_Index\n",
       "185       Sweden       63114.680          0.871292\n",
       "112   Luxembourg      132846.580          0.843384\n",
       "17       Belgium       64185.848          0.823433\n",
       "9      Australia       59552.880          0.820703\n",
       "49       Denmark       72097.305          0.816168\n",
       "136  Netherlands       71446.695          0.815580\n",
       "143       Norway       90469.810          0.794857\n",
       "32        Canada       55918.930          0.790134\n",
       "180        Spain       47141.543          0.738673\n",
       "137  New Zealand       48826.574          0.737604\n",
       "92         Italy       53312.070          0.723031\n",
       "10       Austria       65015.133          0.706704\n",
       "90       Ireland      114922.390          0.705274\n",
       "85       Iceland       67255.670          0.701320\n",
       "71       Germany       63578.140          0.692001"
      ]
     },
     "metadata": {},
     "output_type": "display_data"
    },
    {
     "name": "stdout",
     "output_type": "stream",
     "text": [
      "\n",
      "Count of NaN values in each column before cleaning:\n",
      "Country                0\n",
      "GDP_per_capita         0\n",
      "Work_Life_Balance    176\n",
      "Civic_Engagement     175\n",
      "Life_Satisfaction    177\n",
      "dtype: int64\n",
      "\n",
      "Number of countries with complete data for correlation analysis: 35\n"
     ]
    }
   ],
   "source": [
    "# Create a simplified version with just the country, GDP, and normalized indicators\n",
    "simplified_df = pd.DataFrame({\n",
    "    'Country': final_df['Country'],\n",
    "    'GDP_per_capita': final_df['GDP_per_capita'],\n",
    "    'Work_Life_Balance': final_df['Work_Life_Balance_Normalized'],\n",
    "    'Civic_Engagement': final_df['Civic_Engagement_Normalized'],\n",
    "    'Life_Satisfaction': final_df['Life_Satisfaction_Normalized']\n",
    "})\n",
    "\n",
    "# Filter for only rows with complete data\n",
    "simplified_df_clean = simplified_df.dropna()\n",
    "\n",
    "print(\"Simplified dataframe shape:\", simplified_df.shape)\n",
    "print(\"Simplified dataframe with complete data shape:\", simplified_df_clean.shape)\n",
    "print(\"\\nPreview of simplified dataframe with complete data:\")\n",
    "display(simplified_df_clean.head(10))\n",
    "\n",
    "# Calculate the average of the three normalized indicators as a combined well-being index\n",
    "simplified_df_clean['Well_Being_Index'] = simplified_df_clean[['Work_Life_Balance', \n",
    "                                                             'Civic_Engagement', \n",
    "                                                             'Life_Satisfaction']].mean(axis=1)\n",
    "\n",
    "# Sort by Well-Being Index in descending order\n",
    "simplified_df_sorted = simplified_df_clean.sort_values('Well_Being_Index', ascending=False)\n",
    "print(\"\\nCountries sorted by Well-Being Index (highest to lowest):\")\n",
    "display(simplified_df_sorted[['Country', 'GDP_per_capita', 'Well_Being_Index']].head(15))\n",
    "\n",
    "# Check missing values in the simplified dataframe\n",
    "print(\"\\nCount of NaN values in each column before cleaning:\")\n",
    "print(simplified_df.isna().sum())\n",
    "\n",
    "# Check correlation after filtering for complete data only\n",
    "print(\"\\nNumber of countries with complete data for correlation analysis:\", len(simplified_df_clean))"
   ]
  },
  {
   "cell_type": "code",
   "execution_count": 11,
   "id": "1a63e932",
   "metadata": {},
   "outputs": [
    {
     "data": {
      "application/vnd.plotly.v1+json": {
       "config": {
        "plotlyServerURL": "https://plot.ly"
       },
       "data": [
        {
         "hovertemplate": "<b>%{hovertext}</b><br><br>GDP per Capita=%{x}<br>Well-Being Index (Normalized)=%{y}<extra></extra>",
         "hovertext": [
          "Australia",
          "Austria",
          "Belgium",
          "Canada",
          "Chile",
          "Colombia",
          "Costa Rica",
          "Czechia",
          "Denmark",
          "Estonia",
          "Finland",
          "France",
          "Germany",
          "Greece",
          "Hungary",
          "Iceland",
          "Ireland",
          "Israel",
          "Italy",
          "Latvia",
          "Lithuania",
          "Luxembourg",
          "Mexico",
          "Netherlands",
          "New Zealand",
          "Norway",
          "Poland",
          "Portugal",
          "Russia",
          "Slovenia",
          "Spain",
          "Sweden",
          "Switzerland",
          "United Kingdom",
          "United States"
         ],
         "legendgroup": "",
         "marker": {
          "color": "#636efa",
          "symbol": "circle"
         },
         "mode": "markers",
         "name": "",
         "orientation": "v",
         "showlegend": false,
         "type": "scatter",
         "x": {
          "bdata": "j8L1KBwU7UBMN4lB5L7vQGDl0CI7V+9AKVyPwt1N60Bcj8L1qMXcQD0K16MYQdJATmIQWDGt2UC4HoXrIULoQBSuR+EUmvFAfT81Xvq85ED6fmq88NzrQHWTGAQmEutArkfhekQL70Aj2/l+LgXiQLTIdr7/y+NAhetRuHpr8EDXo3A9pg78QFK4HoUDpudA16NwPQII6kC0yHa+6xHiQOxRuB6N0uZAPQrXo3Q3AEErhxbZpp/VQOxRuB5rcfFAfT81XlLX50Bcj8L1XBb2QDeJQWAFrOVAw/UoXG9j5EDJdr6fLmnjQEjhehR+judAN4lBYLEE50ApXI/CVdHuQM3MzMzYJ/RAmG4Sg8Ch6kCPwvUoGDXyQA==",
          "dtype": "f8"
         },
         "xaxis": "x",
         "y": {
          "bdata": "JS8c5zND6j+5WNXBUZ3mP1WSYqOPWeo/NUOKg8dI6T/7xM9fV6bZP0TzzD2r49c/qEy6BDZE3D9Q3LD4hejhP2XlxLIMHuo/qjmIh6I/4j95xLTnpxXlP5Gzt2CKneQ/IDV+Kt8k5j8XHrIX2HzkP1+kTTvNF+Q/h86Ipzdx5j958jkxmpHmPxttDh6psuE/OGLcFxIj5z/j+2BNCsncP5nICdQ5wt0/WztzbgD96j995DxsURHUP/eCdjU6Geo/0BbgenSa5z/4z00Td2/pPxWepgWM+uI/xz8/3dQe2D/xpKv7Bh7hP7PNl+aHdOA/dMmK2TSj5z+kw1ahoOHrP8OjC/nGkuM/zUcWZjwH4z+cf/8tPJXlPw==",
          "dtype": "f8"
         },
         "yaxis": "y"
        },
        {
         "hovertemplate": "<b>OLS trendline</b><br>Well_Being_Index = 4.3581e-06 * GDP_per_capita + 0.388818<br>R<sup>2</sup>=0.461497<br><br>GDP per Capita=%{x}<br>Well-Being Index (Normalized)=%{y} <b>(trend)</b><extra></extra>",
         "legendgroup": "",
         "marker": {
          "color": "#636efa",
          "symbol": "circle"
         },
         "mode": "lines",
         "name": "",
         "showlegend": false,
         "type": "scatter",
         "x": {
          "bdata": "PQrXoxhB0kArhxbZpp/VQE5iEFgxrdlAXI/C9ajF3EAj2/l+LgXiQLTIdr7rEeJAyXa+ny5p40C0yHa+/8vjQMP1KFxvY+RAfT81Xvq85EA3iUFgBazlQOxRuB6N0uZAN4lBYLEE50BI4XoUfo7nQFK4HoUDpudAfT81XlLX50C4HoXrIULoQNejcD0CCOpAmG4Sg8Ch6kB1kxgEJhLrQClcj8LdTetA+n5qvPDc60CPwvUoHBTtQClcj8JV0e5ArkfhekQL70Bg5dAiO1fvQEw3iUHkvu9AhetRuHpr8EDsUbgea3HxQBSuR+EUmvFAj8L1KBg18kDNzMzM2Cf0QFyPwvVcFvZA16NwPaYO/EA9CtejdDcAQQ==",
          "dtype": "f8"
         },
         "xaxis": "x",
         "y": {
          "bdata": "7foLlRUZ3j/UZfHccA/fPyT6lkLjG+A/DL5Clg6N4D8iVPTmxpbhP+lJ6FpqmuE/h/gvg3T84T//+yWvrRjiP/9VZzLuQ+I/aoXwSoFd4j+6dOJYx6HiPz96Y3Pm9eI/XqMYpTgE4z99OhsclCvjP6gxaehLMuM/iappJmFA4z/McOTO4l7jP/nqNMeE4OM/Fq5T/W0M5D+q3UoPiCzkP+rA6G2WPeQ/KdN1jHNm5D8M3AxFU7/kP5BXK7B8PuU/vqiphghP5T8MpYi7umTlP9ZXTRBWguU/VGmKq1PS5T9tqqbz82fmPwzV6kMuf+Y/gg48V7rX5j8aYcyxoPTnP3Sd/ZAbD+k/AWFJThp47D/C0i4wBvjuPw==",
          "dtype": "f8"
         },
         "yaxis": "y"
        }
       ],
       "layout": {
        "hoverlabel": {
         "font": {
          "size": 12
         }
        },
        "legend": {
         "tracegroupgap": 0
        },
        "template": {
         "data": {
          "bar": [
           {
            "error_x": {
             "color": "#2a3f5f"
            },
            "error_y": {
             "color": "#2a3f5f"
            },
            "marker": {
             "line": {
              "color": "#E5ECF6",
              "width": 0.5
             },
             "pattern": {
              "fillmode": "overlay",
              "size": 10,
              "solidity": 0.2
             }
            },
            "type": "bar"
           }
          ],
          "barpolar": [
           {
            "marker": {
             "line": {
              "color": "#E5ECF6",
              "width": 0.5
             },
             "pattern": {
              "fillmode": "overlay",
              "size": 10,
              "solidity": 0.2
             }
            },
            "type": "barpolar"
           }
          ],
          "carpet": [
           {
            "aaxis": {
             "endlinecolor": "#2a3f5f",
             "gridcolor": "white",
             "linecolor": "white",
             "minorgridcolor": "white",
             "startlinecolor": "#2a3f5f"
            },
            "baxis": {
             "endlinecolor": "#2a3f5f",
             "gridcolor": "white",
             "linecolor": "white",
             "minorgridcolor": "white",
             "startlinecolor": "#2a3f5f"
            },
            "type": "carpet"
           }
          ],
          "choropleth": [
           {
            "colorbar": {
             "outlinewidth": 0,
             "ticks": ""
            },
            "type": "choropleth"
           }
          ],
          "contour": [
           {
            "colorbar": {
             "outlinewidth": 0,
             "ticks": ""
            },
            "colorscale": [
             [
              0,
              "#0d0887"
             ],
             [
              0.1111111111111111,
              "#46039f"
             ],
             [
              0.2222222222222222,
              "#7201a8"
             ],
             [
              0.3333333333333333,
              "#9c179e"
             ],
             [
              0.4444444444444444,
              "#bd3786"
             ],
             [
              0.5555555555555556,
              "#d8576b"
             ],
             [
              0.6666666666666666,
              "#ed7953"
             ],
             [
              0.7777777777777778,
              "#fb9f3a"
             ],
             [
              0.8888888888888888,
              "#fdca26"
             ],
             [
              1,
              "#f0f921"
             ]
            ],
            "type": "contour"
           }
          ],
          "contourcarpet": [
           {
            "colorbar": {
             "outlinewidth": 0,
             "ticks": ""
            },
            "type": "contourcarpet"
           }
          ],
          "heatmap": [
           {
            "colorbar": {
             "outlinewidth": 0,
             "ticks": ""
            },
            "colorscale": [
             [
              0,
              "#0d0887"
             ],
             [
              0.1111111111111111,
              "#46039f"
             ],
             [
              0.2222222222222222,
              "#7201a8"
             ],
             [
              0.3333333333333333,
              "#9c179e"
             ],
             [
              0.4444444444444444,
              "#bd3786"
             ],
             [
              0.5555555555555556,
              "#d8576b"
             ],
             [
              0.6666666666666666,
              "#ed7953"
             ],
             [
              0.7777777777777778,
              "#fb9f3a"
             ],
             [
              0.8888888888888888,
              "#fdca26"
             ],
             [
              1,
              "#f0f921"
             ]
            ],
            "type": "heatmap"
           }
          ],
          "histogram": [
           {
            "marker": {
             "pattern": {
              "fillmode": "overlay",
              "size": 10,
              "solidity": 0.2
             }
            },
            "type": "histogram"
           }
          ],
          "histogram2d": [
           {
            "colorbar": {
             "outlinewidth": 0,
             "ticks": ""
            },
            "colorscale": [
             [
              0,
              "#0d0887"
             ],
             [
              0.1111111111111111,
              "#46039f"
             ],
             [
              0.2222222222222222,
              "#7201a8"
             ],
             [
              0.3333333333333333,
              "#9c179e"
             ],
             [
              0.4444444444444444,
              "#bd3786"
             ],
             [
              0.5555555555555556,
              "#d8576b"
             ],
             [
              0.6666666666666666,
              "#ed7953"
             ],
             [
              0.7777777777777778,
              "#fb9f3a"
             ],
             [
              0.8888888888888888,
              "#fdca26"
             ],
             [
              1,
              "#f0f921"
             ]
            ],
            "type": "histogram2d"
           }
          ],
          "histogram2dcontour": [
           {
            "colorbar": {
             "outlinewidth": 0,
             "ticks": ""
            },
            "colorscale": [
             [
              0,
              "#0d0887"
             ],
             [
              0.1111111111111111,
              "#46039f"
             ],
             [
              0.2222222222222222,
              "#7201a8"
             ],
             [
              0.3333333333333333,
              "#9c179e"
             ],
             [
              0.4444444444444444,
              "#bd3786"
             ],
             [
              0.5555555555555556,
              "#d8576b"
             ],
             [
              0.6666666666666666,
              "#ed7953"
             ],
             [
              0.7777777777777778,
              "#fb9f3a"
             ],
             [
              0.8888888888888888,
              "#fdca26"
             ],
             [
              1,
              "#f0f921"
             ]
            ],
            "type": "histogram2dcontour"
           }
          ],
          "mesh3d": [
           {
            "colorbar": {
             "outlinewidth": 0,
             "ticks": ""
            },
            "type": "mesh3d"
           }
          ],
          "parcoords": [
           {
            "line": {
             "colorbar": {
              "outlinewidth": 0,
              "ticks": ""
             }
            },
            "type": "parcoords"
           }
          ],
          "pie": [
           {
            "automargin": true,
            "type": "pie"
           }
          ],
          "scatter": [
           {
            "fillpattern": {
             "fillmode": "overlay",
             "size": 10,
             "solidity": 0.2
            },
            "type": "scatter"
           }
          ],
          "scatter3d": [
           {
            "line": {
             "colorbar": {
              "outlinewidth": 0,
              "ticks": ""
             }
            },
            "marker": {
             "colorbar": {
              "outlinewidth": 0,
              "ticks": ""
             }
            },
            "type": "scatter3d"
           }
          ],
          "scattercarpet": [
           {
            "marker": {
             "colorbar": {
              "outlinewidth": 0,
              "ticks": ""
             }
            },
            "type": "scattercarpet"
           }
          ],
          "scattergeo": [
           {
            "marker": {
             "colorbar": {
              "outlinewidth": 0,
              "ticks": ""
             }
            },
            "type": "scattergeo"
           }
          ],
          "scattergl": [
           {
            "marker": {
             "colorbar": {
              "outlinewidth": 0,
              "ticks": ""
             }
            },
            "type": "scattergl"
           }
          ],
          "scattermap": [
           {
            "marker": {
             "colorbar": {
              "outlinewidth": 0,
              "ticks": ""
             }
            },
            "type": "scattermap"
           }
          ],
          "scattermapbox": [
           {
            "marker": {
             "colorbar": {
              "outlinewidth": 0,
              "ticks": ""
             }
            },
            "type": "scattermapbox"
           }
          ],
          "scatterpolar": [
           {
            "marker": {
             "colorbar": {
              "outlinewidth": 0,
              "ticks": ""
             }
            },
            "type": "scatterpolar"
           }
          ],
          "scatterpolargl": [
           {
            "marker": {
             "colorbar": {
              "outlinewidth": 0,
              "ticks": ""
             }
            },
            "type": "scatterpolargl"
           }
          ],
          "scatterternary": [
           {
            "marker": {
             "colorbar": {
              "outlinewidth": 0,
              "ticks": ""
             }
            },
            "type": "scatterternary"
           }
          ],
          "surface": [
           {
            "colorbar": {
             "outlinewidth": 0,
             "ticks": ""
            },
            "colorscale": [
             [
              0,
              "#0d0887"
             ],
             [
              0.1111111111111111,
              "#46039f"
             ],
             [
              0.2222222222222222,
              "#7201a8"
             ],
             [
              0.3333333333333333,
              "#9c179e"
             ],
             [
              0.4444444444444444,
              "#bd3786"
             ],
             [
              0.5555555555555556,
              "#d8576b"
             ],
             [
              0.6666666666666666,
              "#ed7953"
             ],
             [
              0.7777777777777778,
              "#fb9f3a"
             ],
             [
              0.8888888888888888,
              "#fdca26"
             ],
             [
              1,
              "#f0f921"
             ]
            ],
            "type": "surface"
           }
          ],
          "table": [
           {
            "cells": {
             "fill": {
              "color": "#EBF0F8"
             },
             "line": {
              "color": "white"
             }
            },
            "header": {
             "fill": {
              "color": "#C8D4E3"
             },
             "line": {
              "color": "white"
             }
            },
            "type": "table"
           }
          ]
         },
         "layout": {
          "annotationdefaults": {
           "arrowcolor": "#2a3f5f",
           "arrowhead": 0,
           "arrowwidth": 1
          },
          "autotypenumbers": "strict",
          "coloraxis": {
           "colorbar": {
            "outlinewidth": 0,
            "ticks": ""
           }
          },
          "colorscale": {
           "diverging": [
            [
             0,
             "#8e0152"
            ],
            [
             0.1,
             "#c51b7d"
            ],
            [
             0.2,
             "#de77ae"
            ],
            [
             0.3,
             "#f1b6da"
            ],
            [
             0.4,
             "#fde0ef"
            ],
            [
             0.5,
             "#f7f7f7"
            ],
            [
             0.6,
             "#e6f5d0"
            ],
            [
             0.7,
             "#b8e186"
            ],
            [
             0.8,
             "#7fbc41"
            ],
            [
             0.9,
             "#4d9221"
            ],
            [
             1,
             "#276419"
            ]
           ],
           "sequential": [
            [
             0,
             "#0d0887"
            ],
            [
             0.1111111111111111,
             "#46039f"
            ],
            [
             0.2222222222222222,
             "#7201a8"
            ],
            [
             0.3333333333333333,
             "#9c179e"
            ],
            [
             0.4444444444444444,
             "#bd3786"
            ],
            [
             0.5555555555555556,
             "#d8576b"
            ],
            [
             0.6666666666666666,
             "#ed7953"
            ],
            [
             0.7777777777777778,
             "#fb9f3a"
            ],
            [
             0.8888888888888888,
             "#fdca26"
            ],
            [
             1,
             "#f0f921"
            ]
           ],
           "sequentialminus": [
            [
             0,
             "#0d0887"
            ],
            [
             0.1111111111111111,
             "#46039f"
            ],
            [
             0.2222222222222222,
             "#7201a8"
            ],
            [
             0.3333333333333333,
             "#9c179e"
            ],
            [
             0.4444444444444444,
             "#bd3786"
            ],
            [
             0.5555555555555556,
             "#d8576b"
            ],
            [
             0.6666666666666666,
             "#ed7953"
            ],
            [
             0.7777777777777778,
             "#fb9f3a"
            ],
            [
             0.8888888888888888,
             "#fdca26"
            ],
            [
             1,
             "#f0f921"
            ]
           ]
          },
          "colorway": [
           "#636efa",
           "#EF553B",
           "#00cc96",
           "#ab63fa",
           "#FFA15A",
           "#19d3f3",
           "#FF6692",
           "#B6E880",
           "#FF97FF",
           "#FECB52"
          ],
          "font": {
           "color": "#2a3f5f"
          },
          "geo": {
           "bgcolor": "white",
           "lakecolor": "white",
           "landcolor": "#E5ECF6",
           "showlakes": true,
           "showland": true,
           "subunitcolor": "white"
          },
          "hoverlabel": {
           "align": "left"
          },
          "hovermode": "closest",
          "mapbox": {
           "style": "light"
          },
          "paper_bgcolor": "white",
          "plot_bgcolor": "#E5ECF6",
          "polar": {
           "angularaxis": {
            "gridcolor": "white",
            "linecolor": "white",
            "ticks": ""
           },
           "bgcolor": "#E5ECF6",
           "radialaxis": {
            "gridcolor": "white",
            "linecolor": "white",
            "ticks": ""
           }
          },
          "scene": {
           "xaxis": {
            "backgroundcolor": "#E5ECF6",
            "gridcolor": "white",
            "gridwidth": 2,
            "linecolor": "white",
            "showbackground": true,
            "ticks": "",
            "zerolinecolor": "white"
           },
           "yaxis": {
            "backgroundcolor": "#E5ECF6",
            "gridcolor": "white",
            "gridwidth": 2,
            "linecolor": "white",
            "showbackground": true,
            "ticks": "",
            "zerolinecolor": "white"
           },
           "zaxis": {
            "backgroundcolor": "#E5ECF6",
            "gridcolor": "white",
            "gridwidth": 2,
            "linecolor": "white",
            "showbackground": true,
            "ticks": "",
            "zerolinecolor": "white"
           }
          },
          "shapedefaults": {
           "line": {
            "color": "#2a3f5f"
           }
          },
          "ternary": {
           "aaxis": {
            "gridcolor": "white",
            "linecolor": "white",
            "ticks": ""
           },
           "baxis": {
            "gridcolor": "white",
            "linecolor": "white",
            "ticks": ""
           },
           "bgcolor": "#E5ECF6",
           "caxis": {
            "gridcolor": "white",
            "linecolor": "white",
            "ticks": ""
           }
          },
          "title": {
           "x": 0.05
          },
          "xaxis": {
           "automargin": true,
           "gridcolor": "white",
           "linecolor": "white",
           "ticks": "",
           "title": {
            "standoff": 15
           },
           "zerolinecolor": "white",
           "zerolinewidth": 2
          },
          "yaxis": {
           "automargin": true,
           "gridcolor": "white",
           "linecolor": "white",
           "ticks": "",
           "title": {
            "standoff": 15
           },
           "zerolinecolor": "white",
           "zerolinewidth": 2
          }
         }
        },
        "title": {
         "font": {
          "size": 18
         },
         "text": "GDP per Capita vs. Well-Being Index"
        },
        "xaxis": {
         "anchor": "y",
         "domain": [
          0,
          1
         ],
         "title": {
          "font": {
           "size": 14
          },
          "text": "GDP per Capita"
         }
        },
        "yaxis": {
         "anchor": "x",
         "domain": [
          0,
          1
         ],
         "title": {
          "font": {
           "size": 14
          },
          "text": "Well-Being Index (Normalized)"
         }
        }
       }
      }
     },
     "metadata": {},
     "output_type": "display_data"
    },
    {
     "name": "stdout",
     "output_type": "stream",
     "text": [
      "\n",
      "Correlation Matrix:\n"
     ]
    },
    {
     "data": {
      "text/html": [
       "<div>\n",
       "<style scoped>\n",
       "    .dataframe tbody tr th:only-of-type {\n",
       "        vertical-align: middle;\n",
       "    }\n",
       "\n",
       "    .dataframe tbody tr th {\n",
       "        vertical-align: top;\n",
       "    }\n",
       "\n",
       "    .dataframe thead th {\n",
       "        text-align: right;\n",
       "    }\n",
       "</style>\n",
       "<table border=\"1\" class=\"dataframe\">\n",
       "  <thead>\n",
       "    <tr style=\"text-align: right;\">\n",
       "      <th></th>\n",
       "      <th>GDP_per_capita</th>\n",
       "      <th>Work_Life_Balance</th>\n",
       "      <th>Civic_Engagement</th>\n",
       "      <th>Life_Satisfaction</th>\n",
       "      <th>Well_Being_Index</th>\n",
       "    </tr>\n",
       "  </thead>\n",
       "  <tbody>\n",
       "    <tr>\n",
       "      <th>GDP_per_capita</th>\n",
       "      <td>1.000000</td>\n",
       "      <td>0.419823</td>\n",
       "      <td>0.442760</td>\n",
       "      <td>0.374671</td>\n",
       "      <td>0.679336</td>\n",
       "    </tr>\n",
       "    <tr>\n",
       "      <th>Work_Life_Balance</th>\n",
       "      <td>0.419823</td>\n",
       "      <td>1.000000</td>\n",
       "      <td>0.097907</td>\n",
       "      <td>-0.287201</td>\n",
       "      <td>0.469421</td>\n",
       "    </tr>\n",
       "    <tr>\n",
       "      <th>Civic_Engagement</th>\n",
       "      <td>0.442760</td>\n",
       "      <td>0.097907</td>\n",
       "      <td>1.000000</td>\n",
       "      <td>0.337837</td>\n",
       "      <td>0.805068</td>\n",
       "    </tr>\n",
       "    <tr>\n",
       "      <th>Life_Satisfaction</th>\n",
       "      <td>0.374671</td>\n",
       "      <td>-0.287201</td>\n",
       "      <td>0.337837</td>\n",
       "      <td>1.000000</td>\n",
       "      <td>0.539059</td>\n",
       "    </tr>\n",
       "    <tr>\n",
       "      <th>Well_Being_Index</th>\n",
       "      <td>0.679336</td>\n",
       "      <td>0.469421</td>\n",
       "      <td>0.805068</td>\n",
       "      <td>0.539059</td>\n",
       "      <td>1.000000</td>\n",
       "    </tr>\n",
       "  </tbody>\n",
       "</table>\n",
       "</div>"
      ],
      "text/plain": [
       "                   GDP_per_capita  Work_Life_Balance  Civic_Engagement  \\\n",
       "GDP_per_capita           1.000000           0.419823          0.442760   \n",
       "Work_Life_Balance        0.419823           1.000000          0.097907   \n",
       "Civic_Engagement         0.442760           0.097907          1.000000   \n",
       "Life_Satisfaction        0.374671          -0.287201          0.337837   \n",
       "Well_Being_Index         0.679336           0.469421          0.805068   \n",
       "\n",
       "                   Life_Satisfaction  Well_Being_Index  \n",
       "GDP_per_capita              0.374671          0.679336  \n",
       "Work_Life_Balance          -0.287201          0.469421  \n",
       "Civic_Engagement            0.337837          0.805068  \n",
       "Life_Satisfaction           1.000000          0.539059  \n",
       "Well_Being_Index            0.539059          1.000000  "
      ]
     },
     "metadata": {},
     "output_type": "display_data"
    },
    {
     "data": {
      "application/vnd.plotly.v1+json": {
       "config": {
        "plotlyServerURL": "https://plot.ly"
       },
       "data": [
        {
         "coloraxis": "coloraxis",
         "hovertemplate": "x: %{x}<br>y: %{y}<br>color: %{z}<extra></extra>",
         "name": "0",
         "texttemplate": "%{z}",
         "type": "heatmap",
         "x": [
          "GDP_per_capita",
          "Work_Life_Balance",
          "Civic_Engagement",
          "Life_Satisfaction",
          "Well_Being_Index"
         ],
         "xaxis": "x",
         "y": [
          "GDP_per_capita",
          "Work_Life_Balance",
          "Civic_Engagement",
          "Life_Satisfaction",
          "Well_Being_Index"
         ],
         "yaxis": "y",
         "z": {
          "bdata": "AAAAAAAA8D8m/DKfYt7aP8ctN+gsVtw/4R27RZz61z8nb0xqHr3lPyb8Mp9i3to/AAAAAAAA8D8iGUolcxC5PywD4RKCYdK/I7UtKf4K3j/HLTfoLFbcPyIZSiVzELk/AAAAAAAA8D8vwQ0iHp/VP/snGt8dw+k/4R27RZz61z8sA+ESgmHSvy/BDSIen9U/AAAAAAAA8D8wuClU+T/hPydvTGoeveU/I7UtKf4K3j/7JxrfHcPpPzC4KVT5P+E/AAAAAAAA8D8=",
          "dtype": "f8",
          "shape": "5, 5"
         }
        }
       ],
       "layout": {
        "coloraxis": {
         "cmax": 1,
         "cmin": -1,
         "colorscale": [
          [
           0,
           "rgb(5,48,97)"
          ],
          [
           0.1,
           "rgb(33,102,172)"
          ],
          [
           0.2,
           "rgb(67,147,195)"
          ],
          [
           0.3,
           "rgb(146,197,222)"
          ],
          [
           0.4,
           "rgb(209,229,240)"
          ],
          [
           0.5,
           "rgb(247,247,247)"
          ],
          [
           0.6,
           "rgb(253,219,199)"
          ],
          [
           0.7,
           "rgb(244,165,130)"
          ],
          [
           0.8,
           "rgb(214,96,77)"
          ],
          [
           0.9,
           "rgb(178,24,43)"
          ],
          [
           1,
           "rgb(103,0,31)"
          ]
         ]
        },
        "template": {
         "data": {
          "bar": [
           {
            "error_x": {
             "color": "#2a3f5f"
            },
            "error_y": {
             "color": "#2a3f5f"
            },
            "marker": {
             "line": {
              "color": "#E5ECF6",
              "width": 0.5
             },
             "pattern": {
              "fillmode": "overlay",
              "size": 10,
              "solidity": 0.2
             }
            },
            "type": "bar"
           }
          ],
          "barpolar": [
           {
            "marker": {
             "line": {
              "color": "#E5ECF6",
              "width": 0.5
             },
             "pattern": {
              "fillmode": "overlay",
              "size": 10,
              "solidity": 0.2
             }
            },
            "type": "barpolar"
           }
          ],
          "carpet": [
           {
            "aaxis": {
             "endlinecolor": "#2a3f5f",
             "gridcolor": "white",
             "linecolor": "white",
             "minorgridcolor": "white",
             "startlinecolor": "#2a3f5f"
            },
            "baxis": {
             "endlinecolor": "#2a3f5f",
             "gridcolor": "white",
             "linecolor": "white",
             "minorgridcolor": "white",
             "startlinecolor": "#2a3f5f"
            },
            "type": "carpet"
           }
          ],
          "choropleth": [
           {
            "colorbar": {
             "outlinewidth": 0,
             "ticks": ""
            },
            "type": "choropleth"
           }
          ],
          "contour": [
           {
            "colorbar": {
             "outlinewidth": 0,
             "ticks": ""
            },
            "colorscale": [
             [
              0,
              "#0d0887"
             ],
             [
              0.1111111111111111,
              "#46039f"
             ],
             [
              0.2222222222222222,
              "#7201a8"
             ],
             [
              0.3333333333333333,
              "#9c179e"
             ],
             [
              0.4444444444444444,
              "#bd3786"
             ],
             [
              0.5555555555555556,
              "#d8576b"
             ],
             [
              0.6666666666666666,
              "#ed7953"
             ],
             [
              0.7777777777777778,
              "#fb9f3a"
             ],
             [
              0.8888888888888888,
              "#fdca26"
             ],
             [
              1,
              "#f0f921"
             ]
            ],
            "type": "contour"
           }
          ],
          "contourcarpet": [
           {
            "colorbar": {
             "outlinewidth": 0,
             "ticks": ""
            },
            "type": "contourcarpet"
           }
          ],
          "heatmap": [
           {
            "colorbar": {
             "outlinewidth": 0,
             "ticks": ""
            },
            "colorscale": [
             [
              0,
              "#0d0887"
             ],
             [
              0.1111111111111111,
              "#46039f"
             ],
             [
              0.2222222222222222,
              "#7201a8"
             ],
             [
              0.3333333333333333,
              "#9c179e"
             ],
             [
              0.4444444444444444,
              "#bd3786"
             ],
             [
              0.5555555555555556,
              "#d8576b"
             ],
             [
              0.6666666666666666,
              "#ed7953"
             ],
             [
              0.7777777777777778,
              "#fb9f3a"
             ],
             [
              0.8888888888888888,
              "#fdca26"
             ],
             [
              1,
              "#f0f921"
             ]
            ],
            "type": "heatmap"
           }
          ],
          "histogram": [
           {
            "marker": {
             "pattern": {
              "fillmode": "overlay",
              "size": 10,
              "solidity": 0.2
             }
            },
            "type": "histogram"
           }
          ],
          "histogram2d": [
           {
            "colorbar": {
             "outlinewidth": 0,
             "ticks": ""
            },
            "colorscale": [
             [
              0,
              "#0d0887"
             ],
             [
              0.1111111111111111,
              "#46039f"
             ],
             [
              0.2222222222222222,
              "#7201a8"
             ],
             [
              0.3333333333333333,
              "#9c179e"
             ],
             [
              0.4444444444444444,
              "#bd3786"
             ],
             [
              0.5555555555555556,
              "#d8576b"
             ],
             [
              0.6666666666666666,
              "#ed7953"
             ],
             [
              0.7777777777777778,
              "#fb9f3a"
             ],
             [
              0.8888888888888888,
              "#fdca26"
             ],
             [
              1,
              "#f0f921"
             ]
            ],
            "type": "histogram2d"
           }
          ],
          "histogram2dcontour": [
           {
            "colorbar": {
             "outlinewidth": 0,
             "ticks": ""
            },
            "colorscale": [
             [
              0,
              "#0d0887"
             ],
             [
              0.1111111111111111,
              "#46039f"
             ],
             [
              0.2222222222222222,
              "#7201a8"
             ],
             [
              0.3333333333333333,
              "#9c179e"
             ],
             [
              0.4444444444444444,
              "#bd3786"
             ],
             [
              0.5555555555555556,
              "#d8576b"
             ],
             [
              0.6666666666666666,
              "#ed7953"
             ],
             [
              0.7777777777777778,
              "#fb9f3a"
             ],
             [
              0.8888888888888888,
              "#fdca26"
             ],
             [
              1,
              "#f0f921"
             ]
            ],
            "type": "histogram2dcontour"
           }
          ],
          "mesh3d": [
           {
            "colorbar": {
             "outlinewidth": 0,
             "ticks": ""
            },
            "type": "mesh3d"
           }
          ],
          "parcoords": [
           {
            "line": {
             "colorbar": {
              "outlinewidth": 0,
              "ticks": ""
             }
            },
            "type": "parcoords"
           }
          ],
          "pie": [
           {
            "automargin": true,
            "type": "pie"
           }
          ],
          "scatter": [
           {
            "fillpattern": {
             "fillmode": "overlay",
             "size": 10,
             "solidity": 0.2
            },
            "type": "scatter"
           }
          ],
          "scatter3d": [
           {
            "line": {
             "colorbar": {
              "outlinewidth": 0,
              "ticks": ""
             }
            },
            "marker": {
             "colorbar": {
              "outlinewidth": 0,
              "ticks": ""
             }
            },
            "type": "scatter3d"
           }
          ],
          "scattercarpet": [
           {
            "marker": {
             "colorbar": {
              "outlinewidth": 0,
              "ticks": ""
             }
            },
            "type": "scattercarpet"
           }
          ],
          "scattergeo": [
           {
            "marker": {
             "colorbar": {
              "outlinewidth": 0,
              "ticks": ""
             }
            },
            "type": "scattergeo"
           }
          ],
          "scattergl": [
           {
            "marker": {
             "colorbar": {
              "outlinewidth": 0,
              "ticks": ""
             }
            },
            "type": "scattergl"
           }
          ],
          "scattermap": [
           {
            "marker": {
             "colorbar": {
              "outlinewidth": 0,
              "ticks": ""
             }
            },
            "type": "scattermap"
           }
          ],
          "scattermapbox": [
           {
            "marker": {
             "colorbar": {
              "outlinewidth": 0,
              "ticks": ""
             }
            },
            "type": "scattermapbox"
           }
          ],
          "scatterpolar": [
           {
            "marker": {
             "colorbar": {
              "outlinewidth": 0,
              "ticks": ""
             }
            },
            "type": "scatterpolar"
           }
          ],
          "scatterpolargl": [
           {
            "marker": {
             "colorbar": {
              "outlinewidth": 0,
              "ticks": ""
             }
            },
            "type": "scatterpolargl"
           }
          ],
          "scatterternary": [
           {
            "marker": {
             "colorbar": {
              "outlinewidth": 0,
              "ticks": ""
             }
            },
            "type": "scatterternary"
           }
          ],
          "surface": [
           {
            "colorbar": {
             "outlinewidth": 0,
             "ticks": ""
            },
            "colorscale": [
             [
              0,
              "#0d0887"
             ],
             [
              0.1111111111111111,
              "#46039f"
             ],
             [
              0.2222222222222222,
              "#7201a8"
             ],
             [
              0.3333333333333333,
              "#9c179e"
             ],
             [
              0.4444444444444444,
              "#bd3786"
             ],
             [
              0.5555555555555556,
              "#d8576b"
             ],
             [
              0.6666666666666666,
              "#ed7953"
             ],
             [
              0.7777777777777778,
              "#fb9f3a"
             ],
             [
              0.8888888888888888,
              "#fdca26"
             ],
             [
              1,
              "#f0f921"
             ]
            ],
            "type": "surface"
           }
          ],
          "table": [
           {
            "cells": {
             "fill": {
              "color": "#EBF0F8"
             },
             "line": {
              "color": "white"
             }
            },
            "header": {
             "fill": {
              "color": "#C8D4E3"
             },
             "line": {
              "color": "white"
             }
            },
            "type": "table"
           }
          ]
         },
         "layout": {
          "annotationdefaults": {
           "arrowcolor": "#2a3f5f",
           "arrowhead": 0,
           "arrowwidth": 1
          },
          "autotypenumbers": "strict",
          "coloraxis": {
           "colorbar": {
            "outlinewidth": 0,
            "ticks": ""
           }
          },
          "colorscale": {
           "diverging": [
            [
             0,
             "#8e0152"
            ],
            [
             0.1,
             "#c51b7d"
            ],
            [
             0.2,
             "#de77ae"
            ],
            [
             0.3,
             "#f1b6da"
            ],
            [
             0.4,
             "#fde0ef"
            ],
            [
             0.5,
             "#f7f7f7"
            ],
            [
             0.6,
             "#e6f5d0"
            ],
            [
             0.7,
             "#b8e186"
            ],
            [
             0.8,
             "#7fbc41"
            ],
            [
             0.9,
             "#4d9221"
            ],
            [
             1,
             "#276419"
            ]
           ],
           "sequential": [
            [
             0,
             "#0d0887"
            ],
            [
             0.1111111111111111,
             "#46039f"
            ],
            [
             0.2222222222222222,
             "#7201a8"
            ],
            [
             0.3333333333333333,
             "#9c179e"
            ],
            [
             0.4444444444444444,
             "#bd3786"
            ],
            [
             0.5555555555555556,
             "#d8576b"
            ],
            [
             0.6666666666666666,
             "#ed7953"
            ],
            [
             0.7777777777777778,
             "#fb9f3a"
            ],
            [
             0.8888888888888888,
             "#fdca26"
            ],
            [
             1,
             "#f0f921"
            ]
           ],
           "sequentialminus": [
            [
             0,
             "#0d0887"
            ],
            [
             0.1111111111111111,
             "#46039f"
            ],
            [
             0.2222222222222222,
             "#7201a8"
            ],
            [
             0.3333333333333333,
             "#9c179e"
            ],
            [
             0.4444444444444444,
             "#bd3786"
            ],
            [
             0.5555555555555556,
             "#d8576b"
            ],
            [
             0.6666666666666666,
             "#ed7953"
            ],
            [
             0.7777777777777778,
             "#fb9f3a"
            ],
            [
             0.8888888888888888,
             "#fdca26"
            ],
            [
             1,
             "#f0f921"
            ]
           ]
          },
          "colorway": [
           "#636efa",
           "#EF553B",
           "#00cc96",
           "#ab63fa",
           "#FFA15A",
           "#19d3f3",
           "#FF6692",
           "#B6E880",
           "#FF97FF",
           "#FECB52"
          ],
          "font": {
           "color": "#2a3f5f"
          },
          "geo": {
           "bgcolor": "white",
           "lakecolor": "white",
           "landcolor": "#E5ECF6",
           "showlakes": true,
           "showland": true,
           "subunitcolor": "white"
          },
          "hoverlabel": {
           "align": "left"
          },
          "hovermode": "closest",
          "mapbox": {
           "style": "light"
          },
          "paper_bgcolor": "white",
          "plot_bgcolor": "#E5ECF6",
          "polar": {
           "angularaxis": {
            "gridcolor": "white",
            "linecolor": "white",
            "ticks": ""
           },
           "bgcolor": "#E5ECF6",
           "radialaxis": {
            "gridcolor": "white",
            "linecolor": "white",
            "ticks": ""
           }
          },
          "scene": {
           "xaxis": {
            "backgroundcolor": "#E5ECF6",
            "gridcolor": "white",
            "gridwidth": 2,
            "linecolor": "white",
            "showbackground": true,
            "ticks": "",
            "zerolinecolor": "white"
           },
           "yaxis": {
            "backgroundcolor": "#E5ECF6",
            "gridcolor": "white",
            "gridwidth": 2,
            "linecolor": "white",
            "showbackground": true,
            "ticks": "",
            "zerolinecolor": "white"
           },
           "zaxis": {
            "backgroundcolor": "#E5ECF6",
            "gridcolor": "white",
            "gridwidth": 2,
            "linecolor": "white",
            "showbackground": true,
            "ticks": "",
            "zerolinecolor": "white"
           }
          },
          "shapedefaults": {
           "line": {
            "color": "#2a3f5f"
           }
          },
          "ternary": {
           "aaxis": {
            "gridcolor": "white",
            "linecolor": "white",
            "ticks": ""
           },
           "baxis": {
            "gridcolor": "white",
            "linecolor": "white",
            "ticks": ""
           },
           "bgcolor": "#E5ECF6",
           "caxis": {
            "gridcolor": "white",
            "linecolor": "white",
            "ticks": ""
           }
          },
          "title": {
           "x": 0.05
          },
          "xaxis": {
           "automargin": true,
           "gridcolor": "white",
           "linecolor": "white",
           "ticks": "",
           "title": {
            "standoff": 15
           },
           "zerolinecolor": "white",
           "zerolinewidth": 2
          },
          "yaxis": {
           "automargin": true,
           "gridcolor": "white",
           "linecolor": "white",
           "ticks": "",
           "title": {
            "standoff": 15
           },
           "zerolinecolor": "white",
           "zerolinewidth": 2
          }
         }
        },
        "title": {
         "text": "Correlation Matrix of GDP per Capita and Normalized Well-Being Indicators"
        },
        "xaxis": {
         "anchor": "y",
         "constrain": "domain",
         "domain": [
          0,
          1
         ],
         "scaleanchor": "y"
        },
        "yaxis": {
         "anchor": "x",
         "autorange": "reversed",
         "constrain": "domain",
         "domain": [
          0,
          1
         ]
        }
       }
      }
     },
     "metadata": {},
     "output_type": "display_data"
    }
   ],
   "source": [
    "# Visualize the relationship between GDP per capita and the Well-Being Index\n",
    "fig1 = px.scatter(\n",
    "    simplified_df_clean, \n",
    "    x='GDP_per_capita', \n",
    "    y='Well_Being_Index',\n",
    "    hover_name='Country',\n",
    "    title='GDP per Capita vs. Well-Being Index',\n",
    "    labels={'GDP_per_capita': 'GDP per Capita', 'Well_Being_Index': 'Well-Being Index (Normalized)'},\n",
    "    trendline='ols'\n",
    ")\n",
    "\n",
    "fig1.update_layout(\n",
    "    xaxis=dict(title=dict(font=dict(size=14))),\n",
    "    yaxis=dict(title=dict(font=dict(size=14))),\n",
    "    hoverlabel=dict(font_size=12),\n",
    "    title=dict(font=dict(size=18))\n",
    ")\n",
    "\n",
    "fig1.show()\n",
    "\n",
    "# Create a correlation matrix for GDP and all normalized indicators\n",
    "correlation_matrix = simplified_df_clean[['GDP_per_capita', 'Work_Life_Balance', \n",
    "                                        'Civic_Engagement', 'Life_Satisfaction', \n",
    "                                        'Well_Being_Index']].corr()\n",
    "\n",
    "print(\"\\nCorrelation Matrix:\")\n",
    "display(correlation_matrix)\n",
    "\n",
    "# Visualize the correlation matrix\n",
    "fig2 = px.imshow(\n",
    "    correlation_matrix,\n",
    "    text_auto=True,\n",
    "    title='Correlation Matrix of GDP per Capita and Normalized Well-Being Indicators',\n",
    "    color_continuous_scale='RdBu_r',\n",
    "    zmin=-1, zmax=1\n",
    ")\n",
    "\n",
    "fig2.show()"
   ]
  },
  {
   "cell_type": "code",
   "execution_count": 12,
   "id": "e9b0de31",
   "metadata": {},
   "outputs": [
    {
     "data": {
      "application/vnd.plotly.v1+json": {
       "config": {
        "plotlyServerURL": "https://plot.ly"
       },
       "data": [
        {
         "hovertemplate": "<b>%{hovertext}</b><br><br>GDP per Capita=%{x}<br>Work-Life Balance (% Working Very Long Hours)=%{y}<extra></extra>",
         "hovertext": [
          "Australia",
          "Austria",
          "Belgium",
          "Brazil",
          "Canada",
          "Chile",
          "Colombia",
          "Costa Rica",
          "Czechia",
          "Denmark",
          "Estonia",
          "Finland",
          "France",
          "Germany",
          "Greece",
          "Hungary",
          "Iceland",
          "Ireland",
          "Israel",
          "Italy",
          "Latvia",
          "Lithuania",
          "Luxembourg",
          "Mexico",
          "Netherlands",
          "New Zealand",
          "Norway",
          "Poland",
          "Portugal",
          "Russia",
          "Slovenia",
          "South Africa",
          "Spain",
          "Sweden",
          "Switzerland",
          "United Kingdom",
          "United States"
         ],
         "legendgroup": "",
         "marker": {
          "color": "#636efa",
          "symbol": "circle"
         },
         "mode": "markers",
         "name": "",
         "orientation": "v",
         "showlegend": false,
         "type": "scatter",
         "x": {
          "bdata": "j8L1KBwU7UBMN4lB5L7vQGDl0CI7V+9AHVpkO4+S0kApXI/C3U3rQFyPwvWoxdxAPQrXoxhB0kBOYhBYMa3ZQLgeheshQuhAFK5H4RSa8UB9PzVe+rzkQPp+arzw3OtAdZMYBCYS60CuR+F6RAvvQCPb+X4uBeJAtMh2vv/L40CF61G4emvwQNejcD2mDvxAUrgehQOm50DXo3A9AgjqQLTIdr7rEeJA7FG4Ho3S5kA9CtejdDcAQSuHFtmmn9VA7FG4Hmtx8UB9PzVeUtfnQFyPwvVcFvZAN4lBYAWs5UDD9Shcb2PkQMl2vp8uaeNASOF6FH6O50C4HoXrMb3KQDeJQWCxBOdAKVyPwlXR7kDNzMzM2Cf0QJhuEoPAoepAj8L1KBg18kA=",
          "dtype": "f8"
         },
         "xaxis": "x",
         "y": {
          "bdata": "AAAAAAAAKUAzMzMzMzMVQDMzMzMzMxFAZmZmZmZmFkBmZmZmZmYKQM3MzMzMzB5AMzMzMzOzN0AAAAAAAAA2QAAAAAAAABJAmpmZmZmZ8T+amZmZmZkBQM3MzMzMzAxAzczMzMzMHkAzMzMzMzMPQAAAAAAAABJAAAAAAAAA+D9mZmZmZmYnQM3MzMzMzBJAMzMzMzMzLEBmZmZmZmYKQJqZmZmZmfk/AAAAAAAA8D9mZmZmZmYGQAAAAAAAADtAMzMzMzMz0z8AAAAAAAAsQGZmZmZmZvY/zczMzMzMEEBmZmZmZmYWQJqZmZmZmbk/ZmZmZmZmFkDNzMzMzMwuQAAAAAAAAARAzczMzMzM7D+amZmZmZnZP5qZmZmZmSVAzczMzMzMJEA=",
          "dtype": "f8"
         },
         "yaxis": "y"
        },
        {
         "hovertemplate": "<b>OLS trendline</b><br>Work_Life_Balance = -0.000119071 * GDP_per_capita + 13.2225<br>R<sup>2</sup>=0.188581<br><br>GDP per Capita=%{x}<br>Work-Life Balance (% Working Very Long Hours)=%{y} <b>(trend)</b><extra></extra>",
         "legendgroup": "",
         "marker": {
          "color": "#636efa",
          "symbol": "circle"
         },
         "mode": "lines",
         "name": "",
         "showlegend": false,
         "type": "scatter",
         "x": {
          "bdata": "uB6F6zG9ykA9CtejGEHSQB1aZDuPktJAK4cW2aaf1UBOYhBYMa3ZQFyPwvWoxdxAI9v5fi4F4kC0yHa+6xHiQMl2vp8uaeNAtMh2vv/L40DD9Shcb2PkQH0/NV76vORAN4lBYAWs5UDsUbgejdLmQDeJQWCxBOdASOF6FH6O50BSuB6FA6bnQH0/NV5S1+dAuB6F6yFC6EDXo3A9AgjqQJhuEoPAoepAdZMYBCYS60ApXI/C3U3rQPp+arzw3OtAj8L1KBwU7UApXI/CVdHuQK5H4XpEC+9AYOXQIjtX70BMN4lB5L7vQIXrUbh6a/BA7FG4Hmtx8UAUrkfhFJrxQI/C9SgYNfJAzczMzNgn9EBcj8L1XBb2QNejcD2mDvxAPQrXo3Q3AEE=",
          "dtype": "f8"
         },
         "xaxis": "x",
         "y": {
          "bdata": "RHa7gk8vJ0DcKSexXf4lQNij+R+A6iVAUOrNSwYsJUDUpSfzAi8kQEoPYwHDbSNAkM67fgOoIUBYIQLuzKEhQOrBleBi+iBA8DM1DDHKIEDe/2puVYAgQMzA9n6pVCBAig4zVCfAH0BnIdrj26AeQHHLuPnybx5AvGY35YjpHUCqpoBhl9IdQLK4saF+oh1ASqpj0E46HUDtt7TtlH8bQByq1Yyd6RpAkKXO6Pp7GkCOkzG7ukEaQCLf74wrthlAfWezE6WGGEA1JO6AW9QWQPvbOh/ZmxZAi6SaM8BRFkDJbzoBo+wVQAgmySpz2xRA0IpjC3HcEkAYjIr8HI0SQKC1qS60XhFAaODGc2gjC0BkEYHk75kDQOBtiok8iN2/yNg7Wv7DBMA=",
          "dtype": "f8"
         },
         "yaxis": "y"
        }
       ],
       "layout": {
        "hoverlabel": {
         "font": {
          "size": 12
         }
        },
        "legend": {
         "tracegroupgap": 0
        },
        "template": {
         "data": {
          "bar": [
           {
            "error_x": {
             "color": "#2a3f5f"
            },
            "error_y": {
             "color": "#2a3f5f"
            },
            "marker": {
             "line": {
              "color": "#E5ECF6",
              "width": 0.5
             },
             "pattern": {
              "fillmode": "overlay",
              "size": 10,
              "solidity": 0.2
             }
            },
            "type": "bar"
           }
          ],
          "barpolar": [
           {
            "marker": {
             "line": {
              "color": "#E5ECF6",
              "width": 0.5
             },
             "pattern": {
              "fillmode": "overlay",
              "size": 10,
              "solidity": 0.2
             }
            },
            "type": "barpolar"
           }
          ],
          "carpet": [
           {
            "aaxis": {
             "endlinecolor": "#2a3f5f",
             "gridcolor": "white",
             "linecolor": "white",
             "minorgridcolor": "white",
             "startlinecolor": "#2a3f5f"
            },
            "baxis": {
             "endlinecolor": "#2a3f5f",
             "gridcolor": "white",
             "linecolor": "white",
             "minorgridcolor": "white",
             "startlinecolor": "#2a3f5f"
            },
            "type": "carpet"
           }
          ],
          "choropleth": [
           {
            "colorbar": {
             "outlinewidth": 0,
             "ticks": ""
            },
            "type": "choropleth"
           }
          ],
          "contour": [
           {
            "colorbar": {
             "outlinewidth": 0,
             "ticks": ""
            },
            "colorscale": [
             [
              0,
              "#0d0887"
             ],
             [
              0.1111111111111111,
              "#46039f"
             ],
             [
              0.2222222222222222,
              "#7201a8"
             ],
             [
              0.3333333333333333,
              "#9c179e"
             ],
             [
              0.4444444444444444,
              "#bd3786"
             ],
             [
              0.5555555555555556,
              "#d8576b"
             ],
             [
              0.6666666666666666,
              "#ed7953"
             ],
             [
              0.7777777777777778,
              "#fb9f3a"
             ],
             [
              0.8888888888888888,
              "#fdca26"
             ],
             [
              1,
              "#f0f921"
             ]
            ],
            "type": "contour"
           }
          ],
          "contourcarpet": [
           {
            "colorbar": {
             "outlinewidth": 0,
             "ticks": ""
            },
            "type": "contourcarpet"
           }
          ],
          "heatmap": [
           {
            "colorbar": {
             "outlinewidth": 0,
             "ticks": ""
            },
            "colorscale": [
             [
              0,
              "#0d0887"
             ],
             [
              0.1111111111111111,
              "#46039f"
             ],
             [
              0.2222222222222222,
              "#7201a8"
             ],
             [
              0.3333333333333333,
              "#9c179e"
             ],
             [
              0.4444444444444444,
              "#bd3786"
             ],
             [
              0.5555555555555556,
              "#d8576b"
             ],
             [
              0.6666666666666666,
              "#ed7953"
             ],
             [
              0.7777777777777778,
              "#fb9f3a"
             ],
             [
              0.8888888888888888,
              "#fdca26"
             ],
             [
              1,
              "#f0f921"
             ]
            ],
            "type": "heatmap"
           }
          ],
          "histogram": [
           {
            "marker": {
             "pattern": {
              "fillmode": "overlay",
              "size": 10,
              "solidity": 0.2
             }
            },
            "type": "histogram"
           }
          ],
          "histogram2d": [
           {
            "colorbar": {
             "outlinewidth": 0,
             "ticks": ""
            },
            "colorscale": [
             [
              0,
              "#0d0887"
             ],
             [
              0.1111111111111111,
              "#46039f"
             ],
             [
              0.2222222222222222,
              "#7201a8"
             ],
             [
              0.3333333333333333,
              "#9c179e"
             ],
             [
              0.4444444444444444,
              "#bd3786"
             ],
             [
              0.5555555555555556,
              "#d8576b"
             ],
             [
              0.6666666666666666,
              "#ed7953"
             ],
             [
              0.7777777777777778,
              "#fb9f3a"
             ],
             [
              0.8888888888888888,
              "#fdca26"
             ],
             [
              1,
              "#f0f921"
             ]
            ],
            "type": "histogram2d"
           }
          ],
          "histogram2dcontour": [
           {
            "colorbar": {
             "outlinewidth": 0,
             "ticks": ""
            },
            "colorscale": [
             [
              0,
              "#0d0887"
             ],
             [
              0.1111111111111111,
              "#46039f"
             ],
             [
              0.2222222222222222,
              "#7201a8"
             ],
             [
              0.3333333333333333,
              "#9c179e"
             ],
             [
              0.4444444444444444,
              "#bd3786"
             ],
             [
              0.5555555555555556,
              "#d8576b"
             ],
             [
              0.6666666666666666,
              "#ed7953"
             ],
             [
              0.7777777777777778,
              "#fb9f3a"
             ],
             [
              0.8888888888888888,
              "#fdca26"
             ],
             [
              1,
              "#f0f921"
             ]
            ],
            "type": "histogram2dcontour"
           }
          ],
          "mesh3d": [
           {
            "colorbar": {
             "outlinewidth": 0,
             "ticks": ""
            },
            "type": "mesh3d"
           }
          ],
          "parcoords": [
           {
            "line": {
             "colorbar": {
              "outlinewidth": 0,
              "ticks": ""
             }
            },
            "type": "parcoords"
           }
          ],
          "pie": [
           {
            "automargin": true,
            "type": "pie"
           }
          ],
          "scatter": [
           {
            "fillpattern": {
             "fillmode": "overlay",
             "size": 10,
             "solidity": 0.2
            },
            "type": "scatter"
           }
          ],
          "scatter3d": [
           {
            "line": {
             "colorbar": {
              "outlinewidth": 0,
              "ticks": ""
             }
            },
            "marker": {
             "colorbar": {
              "outlinewidth": 0,
              "ticks": ""
             }
            },
            "type": "scatter3d"
           }
          ],
          "scattercarpet": [
           {
            "marker": {
             "colorbar": {
              "outlinewidth": 0,
              "ticks": ""
             }
            },
            "type": "scattercarpet"
           }
          ],
          "scattergeo": [
           {
            "marker": {
             "colorbar": {
              "outlinewidth": 0,
              "ticks": ""
             }
            },
            "type": "scattergeo"
           }
          ],
          "scattergl": [
           {
            "marker": {
             "colorbar": {
              "outlinewidth": 0,
              "ticks": ""
             }
            },
            "type": "scattergl"
           }
          ],
          "scattermap": [
           {
            "marker": {
             "colorbar": {
              "outlinewidth": 0,
              "ticks": ""
             }
            },
            "type": "scattermap"
           }
          ],
          "scattermapbox": [
           {
            "marker": {
             "colorbar": {
              "outlinewidth": 0,
              "ticks": ""
             }
            },
            "type": "scattermapbox"
           }
          ],
          "scatterpolar": [
           {
            "marker": {
             "colorbar": {
              "outlinewidth": 0,
              "ticks": ""
             }
            },
            "type": "scatterpolar"
           }
          ],
          "scatterpolargl": [
           {
            "marker": {
             "colorbar": {
              "outlinewidth": 0,
              "ticks": ""
             }
            },
            "type": "scatterpolargl"
           }
          ],
          "scatterternary": [
           {
            "marker": {
             "colorbar": {
              "outlinewidth": 0,
              "ticks": ""
             }
            },
            "type": "scatterternary"
           }
          ],
          "surface": [
           {
            "colorbar": {
             "outlinewidth": 0,
             "ticks": ""
            },
            "colorscale": [
             [
              0,
              "#0d0887"
             ],
             [
              0.1111111111111111,
              "#46039f"
             ],
             [
              0.2222222222222222,
              "#7201a8"
             ],
             [
              0.3333333333333333,
              "#9c179e"
             ],
             [
              0.4444444444444444,
              "#bd3786"
             ],
             [
              0.5555555555555556,
              "#d8576b"
             ],
             [
              0.6666666666666666,
              "#ed7953"
             ],
             [
              0.7777777777777778,
              "#fb9f3a"
             ],
             [
              0.8888888888888888,
              "#fdca26"
             ],
             [
              1,
              "#f0f921"
             ]
            ],
            "type": "surface"
           }
          ],
          "table": [
           {
            "cells": {
             "fill": {
              "color": "#EBF0F8"
             },
             "line": {
              "color": "white"
             }
            },
            "header": {
             "fill": {
              "color": "#C8D4E3"
             },
             "line": {
              "color": "white"
             }
            },
            "type": "table"
           }
          ]
         },
         "layout": {
          "annotationdefaults": {
           "arrowcolor": "#2a3f5f",
           "arrowhead": 0,
           "arrowwidth": 1
          },
          "autotypenumbers": "strict",
          "coloraxis": {
           "colorbar": {
            "outlinewidth": 0,
            "ticks": ""
           }
          },
          "colorscale": {
           "diverging": [
            [
             0,
             "#8e0152"
            ],
            [
             0.1,
             "#c51b7d"
            ],
            [
             0.2,
             "#de77ae"
            ],
            [
             0.3,
             "#f1b6da"
            ],
            [
             0.4,
             "#fde0ef"
            ],
            [
             0.5,
             "#f7f7f7"
            ],
            [
             0.6,
             "#e6f5d0"
            ],
            [
             0.7,
             "#b8e186"
            ],
            [
             0.8,
             "#7fbc41"
            ],
            [
             0.9,
             "#4d9221"
            ],
            [
             1,
             "#276419"
            ]
           ],
           "sequential": [
            [
             0,
             "#0d0887"
            ],
            [
             0.1111111111111111,
             "#46039f"
            ],
            [
             0.2222222222222222,
             "#7201a8"
            ],
            [
             0.3333333333333333,
             "#9c179e"
            ],
            [
             0.4444444444444444,
             "#bd3786"
            ],
            [
             0.5555555555555556,
             "#d8576b"
            ],
            [
             0.6666666666666666,
             "#ed7953"
            ],
            [
             0.7777777777777778,
             "#fb9f3a"
            ],
            [
             0.8888888888888888,
             "#fdca26"
            ],
            [
             1,
             "#f0f921"
            ]
           ],
           "sequentialminus": [
            [
             0,
             "#0d0887"
            ],
            [
             0.1111111111111111,
             "#46039f"
            ],
            [
             0.2222222222222222,
             "#7201a8"
            ],
            [
             0.3333333333333333,
             "#9c179e"
            ],
            [
             0.4444444444444444,
             "#bd3786"
            ],
            [
             0.5555555555555556,
             "#d8576b"
            ],
            [
             0.6666666666666666,
             "#ed7953"
            ],
            [
             0.7777777777777778,
             "#fb9f3a"
            ],
            [
             0.8888888888888888,
             "#fdca26"
            ],
            [
             1,
             "#f0f921"
            ]
           ]
          },
          "colorway": [
           "#636efa",
           "#EF553B",
           "#00cc96",
           "#ab63fa",
           "#FFA15A",
           "#19d3f3",
           "#FF6692",
           "#B6E880",
           "#FF97FF",
           "#FECB52"
          ],
          "font": {
           "color": "#2a3f5f"
          },
          "geo": {
           "bgcolor": "white",
           "lakecolor": "white",
           "landcolor": "#E5ECF6",
           "showlakes": true,
           "showland": true,
           "subunitcolor": "white"
          },
          "hoverlabel": {
           "align": "left"
          },
          "hovermode": "closest",
          "mapbox": {
           "style": "light"
          },
          "paper_bgcolor": "white",
          "plot_bgcolor": "#E5ECF6",
          "polar": {
           "angularaxis": {
            "gridcolor": "white",
            "linecolor": "white",
            "ticks": ""
           },
           "bgcolor": "#E5ECF6",
           "radialaxis": {
            "gridcolor": "white",
            "linecolor": "white",
            "ticks": ""
           }
          },
          "scene": {
           "xaxis": {
            "backgroundcolor": "#E5ECF6",
            "gridcolor": "white",
            "gridwidth": 2,
            "linecolor": "white",
            "showbackground": true,
            "ticks": "",
            "zerolinecolor": "white"
           },
           "yaxis": {
            "backgroundcolor": "#E5ECF6",
            "gridcolor": "white",
            "gridwidth": 2,
            "linecolor": "white",
            "showbackground": true,
            "ticks": "",
            "zerolinecolor": "white"
           },
           "zaxis": {
            "backgroundcolor": "#E5ECF6",
            "gridcolor": "white",
            "gridwidth": 2,
            "linecolor": "white",
            "showbackground": true,
            "ticks": "",
            "zerolinecolor": "white"
           }
          },
          "shapedefaults": {
           "line": {
            "color": "#2a3f5f"
           }
          },
          "ternary": {
           "aaxis": {
            "gridcolor": "white",
            "linecolor": "white",
            "ticks": ""
           },
           "baxis": {
            "gridcolor": "white",
            "linecolor": "white",
            "ticks": ""
           },
           "bgcolor": "#E5ECF6",
           "caxis": {
            "gridcolor": "white",
            "linecolor": "white",
            "ticks": ""
           }
          },
          "title": {
           "x": 0.05
          },
          "xaxis": {
           "automargin": true,
           "gridcolor": "white",
           "linecolor": "white",
           "ticks": "",
           "title": {
            "standoff": 15
           },
           "zerolinecolor": "white",
           "zerolinewidth": 2
          },
          "yaxis": {
           "automargin": true,
           "gridcolor": "white",
           "linecolor": "white",
           "ticks": "",
           "title": {
            "standoff": 15
           },
           "zerolinecolor": "white",
           "zerolinewidth": 2
          }
         }
        },
        "title": {
         "font": {
          "size": 18
         },
         "text": "GDP per Capita vs. Work-Life Balance (OECD Countries)"
        },
        "xaxis": {
         "anchor": "y",
         "domain": [
          0,
          1
         ],
         "title": {
          "font": {
           "size": 14
          },
          "text": "GDP per Capita"
         }
        },
        "yaxis": {
         "anchor": "x",
         "domain": [
          0,
          1
         ],
         "title": {
          "font": {
           "size": 14
          },
          "text": "Work-Life Balance (% Working Very Long Hours)"
         }
        }
       }
      }
     },
     "metadata": {},
     "output_type": "display_data"
    }
   ],
   "source": [
    "# Create visualizations for each indicator vs. GDP (OECD countries only)\n",
    "# Work-Life Balance vs. GDP\n",
    "fig1 = px.scatter(\n",
    "    gdp_wlb_oecd, \n",
    "    x='GDP_per_capita', \n",
    "    y='Work_Life_Balance',\n",
    "    hover_name='Country',\n",
    "    title='GDP per Capita vs. Work-Life Balance (OECD Countries)',\n",
    "    labels={'GDP_per_capita': 'GDP per Capita', 'Work_Life_Balance': 'Work-Life Balance (% Working Very Long Hours)'},\n",
    "    trendline='ols'\n",
    ")\n",
    "\n",
    "fig1.update_layout(\n",
    "    xaxis=dict(title=dict(font=dict(size=14))),\n",
    "    yaxis=dict(title=dict(font=dict(size=14))),\n",
    "    hoverlabel=dict(font_size=12),\n",
    "    title=dict(font=dict(size=18))\n",
    ")\n",
    "\n",
    "fig1.show()"
   ]
  },
  {
   "cell_type": "code",
   "execution_count": 13,
   "id": "287f6349",
   "metadata": {},
   "outputs": [
    {
     "data": {
      "application/vnd.plotly.v1+json": {
       "config": {
        "plotlyServerURL": "https://plot.ly"
       },
       "data": [
        {
         "hovertemplate": "<b>%{hovertext}</b><br><br>GDP per Capita=%{x}<br>Civic Engagement (Voter Turnout %)=%{y}<extra></extra>",
         "hovertext": [
          "Australia",
          "Austria",
          "Belgium",
          "Brazil",
          "Canada",
          "Chile",
          "Colombia",
          "Costa Rica",
          "Czechia",
          "Denmark",
          "Estonia",
          "Finland",
          "France",
          "Germany",
          "Greece",
          "Hungary",
          "Iceland",
          "Ireland",
          "Israel",
          "Italy",
          "Japan",
          "Latvia",
          "Lithuania",
          "Luxembourg",
          "Mexico",
          "Netherlands",
          "New Zealand",
          "Norway",
          "Poland",
          "Portugal",
          "Russia",
          "Slovenia",
          "South Africa",
          "Spain",
          "Sweden",
          "Switzerland",
          "United Kingdom",
          "United States"
         ],
         "legendgroup": "",
         "marker": {
          "color": "#636efa",
          "symbol": "circle"
         },
         "mode": "markers",
         "name": "",
         "orientation": "v",
         "showlegend": false,
         "type": "scatter",
         "x": {
          "bdata": "j8L1KBwU7UBMN4lB5L7vQGDl0CI7V+9AHVpkO4+S0kApXI/C3U3rQFyPwvWoxdxAPQrXoxhB0kBOYhBYMa3ZQLgeheshQuhAFK5H4RSa8UB9PzVe+rzkQPp+arzw3OtAdZMYBCYS60CuR+F6RAvvQCPb+X4uBeJAtMh2vv/L40CF61G4emvwQNejcD2mDvxAUrgehQOm50DXo3A9AgjqQPLSTWK0ieZAtMh2vusR4kDsUbgejdLmQD0K16N0NwBBK4cW2aaf1UDsUbgea3HxQH0/NV5S1+dAXI/C9VwW9kA3iUFgBazlQMP1KFxvY+RAyXa+ny5p40BI4XoUfo7nQLgehesxvcpAN4lBYLEE50ApXI/CVdHuQM3MzMzYJ/RAmG4Sg8Ch6kCPwvUoGDXyQA==",
          "dtype": "f8"
         },
         "xaxis": "x",
         "y": {
          "bdata": "AAAAAAAAV0AAAAAAAABTQAAAAAAAAFZAAAAAAAAAVEAAAAAAAABRQAAAAAAAgEdAAAAAAACASkAAAAAAAIBQQAAAAAAAAE9AAAAAAABAVUAAAAAAAABQQAAAAAAAQFFAAAAAAADAUkAAAAAAAABTQAAAAAAAAE1AAAAAAACAUUAAAAAAAEBUQAAAAAAAgE9AAAAAAADAUEAAAAAAAEBSQAAAAAAAgEpAAAAAAACAS0AAAAAAAIBMQAAAAAAAgFZAAAAAAACAT0AAAAAAAMBTQAAAAAAAgFRAAAAAAACAU0AAAAAAAABRQAAAAAAAgEhAAAAAAAAAUUAAAAAAAIBKQAAAAAAAgFBAAAAAAAAAUkAAAAAAAMBVQAAAAAAAgEZAAAAAAAAAUUAAAAAAAEBQQA==",
          "dtype": "f8"
         },
         "yaxis": "y"
        },
        {
         "hovertemplate": "<b>OLS trendline</b><br>Civic_Engagement = 0.000193077 * GDP_per_capita + 58.3187<br>R<sup>2</sup>=0.146446<br><br>GDP per Capita=%{x}<br>Civic Engagement (Voter Turnout %)=%{y} <b>(trend)</b><extra></extra>",
         "legendgroup": "",
         "marker": {
          "color": "#636efa",
          "symbol": "circle"
         },
         "mode": "lines",
         "name": "",
         "showlegend": false,
         "type": "scatter",
         "x": {
          "bdata": "uB6F6zG9ykA9CtejGEHSQB1aZDuPktJAK4cW2aaf1UBOYhBYMa3ZQFyPwvWoxdxAI9v5fi4F4kC0yHa+6xHiQMl2vp8uaeNAtMh2vv/L40DD9Shcb2PkQH0/NV76vORAN4lBYAWs5UDy0k1itInmQOxRuB6N0uZAN4lBYLEE50BI4XoUfo7nQFK4HoUDpudAfT81XlLX50C4HoXrIULoQNejcD0CCOpAmG4Sg8Ch6kB1kxgEJhLrQClcj8LdTetA+n5qvPDc60CPwvUoHBTtQClcj8JV0e5ArkfhekQL70Bg5dAiO1fvQEw3iUHkvu9AhetRuHpr8EDsUbgea3HxQBSuR+EUmvFAj8L1KBg18kDNzMzM2Cf0QFyPwvVcFvZA16NwPaYO/EA9CtejdDcAQQ==",
          "dtype": "f8"
         },
         "xaxis": "x",
         "y": {
          "bdata": "oCnZbSN7TkCtHTO7wfZOQM9iMlHP/k5AmDgNYAZMT0AnFhFel7JPQDYiXyV3AFBAxmiwgG9cUEDKEenksV1QQECKmcmgf1BA/8RnimWJUECvYE3sXZhQQJF6lvs3oVBAkmg+btm4UECP6daQw85QQNmgXBf31VBAT97GBezaUECqvVtPi+hQQKTRmo/e6lBAPL5QZb7vUEA4wA9zTfpQQAtWoKsrJ1FAScA4cV42UUBk8K7aekFRQOG8xCBiR1FAj7eb5YZVUUBw6jWmSXRRQH7V+u5MoFFA+x8vBwemUUADlZ9uia1RQOwxCsTIt1FA+qitaHjTUUDm29QpQgdSQG9zQ0hMD1JANXZfFfItUkBp0AzjjZBSQFw3+kZT8lJAVHGAyXsgVEDU08SY+P1UQA==",
          "dtype": "f8"
         },
         "yaxis": "y"
        }
       ],
       "layout": {
        "hoverlabel": {
         "font": {
          "size": 12
         }
        },
        "legend": {
         "tracegroupgap": 0
        },
        "template": {
         "data": {
          "bar": [
           {
            "error_x": {
             "color": "#2a3f5f"
            },
            "error_y": {
             "color": "#2a3f5f"
            },
            "marker": {
             "line": {
              "color": "#E5ECF6",
              "width": 0.5
             },
             "pattern": {
              "fillmode": "overlay",
              "size": 10,
              "solidity": 0.2
             }
            },
            "type": "bar"
           }
          ],
          "barpolar": [
           {
            "marker": {
             "line": {
              "color": "#E5ECF6",
              "width": 0.5
             },
             "pattern": {
              "fillmode": "overlay",
              "size": 10,
              "solidity": 0.2
             }
            },
            "type": "barpolar"
           }
          ],
          "carpet": [
           {
            "aaxis": {
             "endlinecolor": "#2a3f5f",
             "gridcolor": "white",
             "linecolor": "white",
             "minorgridcolor": "white",
             "startlinecolor": "#2a3f5f"
            },
            "baxis": {
             "endlinecolor": "#2a3f5f",
             "gridcolor": "white",
             "linecolor": "white",
             "minorgridcolor": "white",
             "startlinecolor": "#2a3f5f"
            },
            "type": "carpet"
           }
          ],
          "choropleth": [
           {
            "colorbar": {
             "outlinewidth": 0,
             "ticks": ""
            },
            "type": "choropleth"
           }
          ],
          "contour": [
           {
            "colorbar": {
             "outlinewidth": 0,
             "ticks": ""
            },
            "colorscale": [
             [
              0,
              "#0d0887"
             ],
             [
              0.1111111111111111,
              "#46039f"
             ],
             [
              0.2222222222222222,
              "#7201a8"
             ],
             [
              0.3333333333333333,
              "#9c179e"
             ],
             [
              0.4444444444444444,
              "#bd3786"
             ],
             [
              0.5555555555555556,
              "#d8576b"
             ],
             [
              0.6666666666666666,
              "#ed7953"
             ],
             [
              0.7777777777777778,
              "#fb9f3a"
             ],
             [
              0.8888888888888888,
              "#fdca26"
             ],
             [
              1,
              "#f0f921"
             ]
            ],
            "type": "contour"
           }
          ],
          "contourcarpet": [
           {
            "colorbar": {
             "outlinewidth": 0,
             "ticks": ""
            },
            "type": "contourcarpet"
           }
          ],
          "heatmap": [
           {
            "colorbar": {
             "outlinewidth": 0,
             "ticks": ""
            },
            "colorscale": [
             [
              0,
              "#0d0887"
             ],
             [
              0.1111111111111111,
              "#46039f"
             ],
             [
              0.2222222222222222,
              "#7201a8"
             ],
             [
              0.3333333333333333,
              "#9c179e"
             ],
             [
              0.4444444444444444,
              "#bd3786"
             ],
             [
              0.5555555555555556,
              "#d8576b"
             ],
             [
              0.6666666666666666,
              "#ed7953"
             ],
             [
              0.7777777777777778,
              "#fb9f3a"
             ],
             [
              0.8888888888888888,
              "#fdca26"
             ],
             [
              1,
              "#f0f921"
             ]
            ],
            "type": "heatmap"
           }
          ],
          "histogram": [
           {
            "marker": {
             "pattern": {
              "fillmode": "overlay",
              "size": 10,
              "solidity": 0.2
             }
            },
            "type": "histogram"
           }
          ],
          "histogram2d": [
           {
            "colorbar": {
             "outlinewidth": 0,
             "ticks": ""
            },
            "colorscale": [
             [
              0,
              "#0d0887"
             ],
             [
              0.1111111111111111,
              "#46039f"
             ],
             [
              0.2222222222222222,
              "#7201a8"
             ],
             [
              0.3333333333333333,
              "#9c179e"
             ],
             [
              0.4444444444444444,
              "#bd3786"
             ],
             [
              0.5555555555555556,
              "#d8576b"
             ],
             [
              0.6666666666666666,
              "#ed7953"
             ],
             [
              0.7777777777777778,
              "#fb9f3a"
             ],
             [
              0.8888888888888888,
              "#fdca26"
             ],
             [
              1,
              "#f0f921"
             ]
            ],
            "type": "histogram2d"
           }
          ],
          "histogram2dcontour": [
           {
            "colorbar": {
             "outlinewidth": 0,
             "ticks": ""
            },
            "colorscale": [
             [
              0,
              "#0d0887"
             ],
             [
              0.1111111111111111,
              "#46039f"
             ],
             [
              0.2222222222222222,
              "#7201a8"
             ],
             [
              0.3333333333333333,
              "#9c179e"
             ],
             [
              0.4444444444444444,
              "#bd3786"
             ],
             [
              0.5555555555555556,
              "#d8576b"
             ],
             [
              0.6666666666666666,
              "#ed7953"
             ],
             [
              0.7777777777777778,
              "#fb9f3a"
             ],
             [
              0.8888888888888888,
              "#fdca26"
             ],
             [
              1,
              "#f0f921"
             ]
            ],
            "type": "histogram2dcontour"
           }
          ],
          "mesh3d": [
           {
            "colorbar": {
             "outlinewidth": 0,
             "ticks": ""
            },
            "type": "mesh3d"
           }
          ],
          "parcoords": [
           {
            "line": {
             "colorbar": {
              "outlinewidth": 0,
              "ticks": ""
             }
            },
            "type": "parcoords"
           }
          ],
          "pie": [
           {
            "automargin": true,
            "type": "pie"
           }
          ],
          "scatter": [
           {
            "fillpattern": {
             "fillmode": "overlay",
             "size": 10,
             "solidity": 0.2
            },
            "type": "scatter"
           }
          ],
          "scatter3d": [
           {
            "line": {
             "colorbar": {
              "outlinewidth": 0,
              "ticks": ""
             }
            },
            "marker": {
             "colorbar": {
              "outlinewidth": 0,
              "ticks": ""
             }
            },
            "type": "scatter3d"
           }
          ],
          "scattercarpet": [
           {
            "marker": {
             "colorbar": {
              "outlinewidth": 0,
              "ticks": ""
             }
            },
            "type": "scattercarpet"
           }
          ],
          "scattergeo": [
           {
            "marker": {
             "colorbar": {
              "outlinewidth": 0,
              "ticks": ""
             }
            },
            "type": "scattergeo"
           }
          ],
          "scattergl": [
           {
            "marker": {
             "colorbar": {
              "outlinewidth": 0,
              "ticks": ""
             }
            },
            "type": "scattergl"
           }
          ],
          "scattermap": [
           {
            "marker": {
             "colorbar": {
              "outlinewidth": 0,
              "ticks": ""
             }
            },
            "type": "scattermap"
           }
          ],
          "scattermapbox": [
           {
            "marker": {
             "colorbar": {
              "outlinewidth": 0,
              "ticks": ""
             }
            },
            "type": "scattermapbox"
           }
          ],
          "scatterpolar": [
           {
            "marker": {
             "colorbar": {
              "outlinewidth": 0,
              "ticks": ""
             }
            },
            "type": "scatterpolar"
           }
          ],
          "scatterpolargl": [
           {
            "marker": {
             "colorbar": {
              "outlinewidth": 0,
              "ticks": ""
             }
            },
            "type": "scatterpolargl"
           }
          ],
          "scatterternary": [
           {
            "marker": {
             "colorbar": {
              "outlinewidth": 0,
              "ticks": ""
             }
            },
            "type": "scatterternary"
           }
          ],
          "surface": [
           {
            "colorbar": {
             "outlinewidth": 0,
             "ticks": ""
            },
            "colorscale": [
             [
              0,
              "#0d0887"
             ],
             [
              0.1111111111111111,
              "#46039f"
             ],
             [
              0.2222222222222222,
              "#7201a8"
             ],
             [
              0.3333333333333333,
              "#9c179e"
             ],
             [
              0.4444444444444444,
              "#bd3786"
             ],
             [
              0.5555555555555556,
              "#d8576b"
             ],
             [
              0.6666666666666666,
              "#ed7953"
             ],
             [
              0.7777777777777778,
              "#fb9f3a"
             ],
             [
              0.8888888888888888,
              "#fdca26"
             ],
             [
              1,
              "#f0f921"
             ]
            ],
            "type": "surface"
           }
          ],
          "table": [
           {
            "cells": {
             "fill": {
              "color": "#EBF0F8"
             },
             "line": {
              "color": "white"
             }
            },
            "header": {
             "fill": {
              "color": "#C8D4E3"
             },
             "line": {
              "color": "white"
             }
            },
            "type": "table"
           }
          ]
         },
         "layout": {
          "annotationdefaults": {
           "arrowcolor": "#2a3f5f",
           "arrowhead": 0,
           "arrowwidth": 1
          },
          "autotypenumbers": "strict",
          "coloraxis": {
           "colorbar": {
            "outlinewidth": 0,
            "ticks": ""
           }
          },
          "colorscale": {
           "diverging": [
            [
             0,
             "#8e0152"
            ],
            [
             0.1,
             "#c51b7d"
            ],
            [
             0.2,
             "#de77ae"
            ],
            [
             0.3,
             "#f1b6da"
            ],
            [
             0.4,
             "#fde0ef"
            ],
            [
             0.5,
             "#f7f7f7"
            ],
            [
             0.6,
             "#e6f5d0"
            ],
            [
             0.7,
             "#b8e186"
            ],
            [
             0.8,
             "#7fbc41"
            ],
            [
             0.9,
             "#4d9221"
            ],
            [
             1,
             "#276419"
            ]
           ],
           "sequential": [
            [
             0,
             "#0d0887"
            ],
            [
             0.1111111111111111,
             "#46039f"
            ],
            [
             0.2222222222222222,
             "#7201a8"
            ],
            [
             0.3333333333333333,
             "#9c179e"
            ],
            [
             0.4444444444444444,
             "#bd3786"
            ],
            [
             0.5555555555555556,
             "#d8576b"
            ],
            [
             0.6666666666666666,
             "#ed7953"
            ],
            [
             0.7777777777777778,
             "#fb9f3a"
            ],
            [
             0.8888888888888888,
             "#fdca26"
            ],
            [
             1,
             "#f0f921"
            ]
           ],
           "sequentialminus": [
            [
             0,
             "#0d0887"
            ],
            [
             0.1111111111111111,
             "#46039f"
            ],
            [
             0.2222222222222222,
             "#7201a8"
            ],
            [
             0.3333333333333333,
             "#9c179e"
            ],
            [
             0.4444444444444444,
             "#bd3786"
            ],
            [
             0.5555555555555556,
             "#d8576b"
            ],
            [
             0.6666666666666666,
             "#ed7953"
            ],
            [
             0.7777777777777778,
             "#fb9f3a"
            ],
            [
             0.8888888888888888,
             "#fdca26"
            ],
            [
             1,
             "#f0f921"
            ]
           ]
          },
          "colorway": [
           "#636efa",
           "#EF553B",
           "#00cc96",
           "#ab63fa",
           "#FFA15A",
           "#19d3f3",
           "#FF6692",
           "#B6E880",
           "#FF97FF",
           "#FECB52"
          ],
          "font": {
           "color": "#2a3f5f"
          },
          "geo": {
           "bgcolor": "white",
           "lakecolor": "white",
           "landcolor": "#E5ECF6",
           "showlakes": true,
           "showland": true,
           "subunitcolor": "white"
          },
          "hoverlabel": {
           "align": "left"
          },
          "hovermode": "closest",
          "mapbox": {
           "style": "light"
          },
          "paper_bgcolor": "white",
          "plot_bgcolor": "#E5ECF6",
          "polar": {
           "angularaxis": {
            "gridcolor": "white",
            "linecolor": "white",
            "ticks": ""
           },
           "bgcolor": "#E5ECF6",
           "radialaxis": {
            "gridcolor": "white",
            "linecolor": "white",
            "ticks": ""
           }
          },
          "scene": {
           "xaxis": {
            "backgroundcolor": "#E5ECF6",
            "gridcolor": "white",
            "gridwidth": 2,
            "linecolor": "white",
            "showbackground": true,
            "ticks": "",
            "zerolinecolor": "white"
           },
           "yaxis": {
            "backgroundcolor": "#E5ECF6",
            "gridcolor": "white",
            "gridwidth": 2,
            "linecolor": "white",
            "showbackground": true,
            "ticks": "",
            "zerolinecolor": "white"
           },
           "zaxis": {
            "backgroundcolor": "#E5ECF6",
            "gridcolor": "white",
            "gridwidth": 2,
            "linecolor": "white",
            "showbackground": true,
            "ticks": "",
            "zerolinecolor": "white"
           }
          },
          "shapedefaults": {
           "line": {
            "color": "#2a3f5f"
           }
          },
          "ternary": {
           "aaxis": {
            "gridcolor": "white",
            "linecolor": "white",
            "ticks": ""
           },
           "baxis": {
            "gridcolor": "white",
            "linecolor": "white",
            "ticks": ""
           },
           "bgcolor": "#E5ECF6",
           "caxis": {
            "gridcolor": "white",
            "linecolor": "white",
            "ticks": ""
           }
          },
          "title": {
           "x": 0.05
          },
          "xaxis": {
           "automargin": true,
           "gridcolor": "white",
           "linecolor": "white",
           "ticks": "",
           "title": {
            "standoff": 15
           },
           "zerolinecolor": "white",
           "zerolinewidth": 2
          },
          "yaxis": {
           "automargin": true,
           "gridcolor": "white",
           "linecolor": "white",
           "ticks": "",
           "title": {
            "standoff": 15
           },
           "zerolinecolor": "white",
           "zerolinewidth": 2
          }
         }
        },
        "title": {
         "font": {
          "size": 18
         },
         "text": "GDP per Capita vs. Civic Engagement (OECD Countries)"
        },
        "xaxis": {
         "anchor": "y",
         "domain": [
          0,
          1
         ],
         "title": {
          "font": {
           "size": 14
          },
          "text": "GDP per Capita"
         }
        },
        "yaxis": {
         "anchor": "x",
         "domain": [
          0,
          1
         ],
         "title": {
          "font": {
           "size": 14
          },
          "text": "Civic Engagement (Voter Turnout %)"
         }
        }
       }
      }
     },
     "metadata": {},
     "output_type": "display_data"
    },
    {
     "data": {
      "application/vnd.plotly.v1+json": {
       "config": {
        "plotlyServerURL": "https://plot.ly"
       },
       "data": [
        {
         "hovertemplate": "<b>%{hovertext}</b><br><br>GDP per Capita=%{x}<br>Self-Reported Health (%)=%{y}<extra></extra>",
         "hovertext": [
          "Australia",
          "Austria",
          "Belgium",
          "Canada",
          "Chile",
          "Colombia",
          "Costa Rica",
          "Czechia",
          "Denmark",
          "Estonia",
          "Finland",
          "France",
          "Germany",
          "Greece",
          "Hungary",
          "Iceland",
          "Ireland",
          "Israel",
          "Italy",
          "Japan",
          "Latvia",
          "Lithuania",
          "Luxembourg",
          "Mexico",
          "Netherlands",
          "New Zealand",
          "Norway",
          "Poland",
          "Portugal",
          "Russia",
          "Slovenia",
          "Spain",
          "Sweden",
          "Switzerland",
          "United Kingdom",
          "United States"
         ],
         "legendgroup": "",
         "marker": {
          "color": "#636efa",
          "symbol": "circle"
         },
         "mode": "markers",
         "name": "",
         "orientation": "v",
         "showlegend": false,
         "type": "scatter",
         "x": {
          "bdata": "j8L1KBwU7UBMN4lB5L7vQGDl0CI7V+9AKVyPwt1N60Bcj8L1qMXcQD0K16MYQdJATmIQWDGt2UC4HoXrIULoQBSuR+EUmvFAfT81Xvq85ED6fmq88NzrQHWTGAQmEutArkfhekQL70Aj2/l+LgXiQLTIdr7/y+NAhetRuHpr8EDXo3A9pg78QFK4HoUDpudA16NwPQII6kDy0k1itInmQLTIdr7rEeJA7FG4Ho3S5kA9CtejdDcAQSuHFtmmn9VA7FG4Hmtx8UB9PzVeUtfnQFyPwvVcFvZAN4lBYAWs5UDD9Shcb2PkQMl2vp8uaeNASOF6FH6O50A3iUFgsQTnQClcj8JV0e5AzczMzNgn9ECYbhKDwKHqQI/C9SgYNfJA",
          "dtype": "f8"
         },
         "xaxis": "x",
         "y": {
          "bdata": "AAAAAABAVUAAAAAAAMBRQAAAAAAAgFJAAAAAAABAVkAAAAAAAABOQAAAAAAAAFRAAAAAAABAUkAAAAAAAABPQAAAAAAAgFFAAAAAAACATEAAAAAAAABRQAAAAAAAwFBAAAAAAACAUEAAAAAAAMBTQAAAAAAAAE1AAAAAAABAU0AAAAAAAABVQAAAAAAAgFJAAAAAAABAUkAAAAAAAIBCQAAAAAAAgEdAAAAAAAAAR0AAAAAAAABSQAAAAAAAgFBAAAAAAADAUkAAAAAAAIBVQAAAAAAAwFJAAAAAAAAATkAAAAAAAABJQAAAAAAAgEVAAAAAAADAUEAAAAAAAMBSQAAAAAAAAFNAAAAAAABAVEAAAAAAAEBSQAAAAAAAAFZA",
          "dtype": "f8"
         },
         "yaxis": "y"
        },
        {
         "hovertemplate": "<b>OLS trendline</b><br>Life_Satisfaction = 0.000204584 * GDP_per_capita + 57.563<br>R<sup>2</sup>=0.135985<br><br>GDP per Capita=%{x}<br>Self-Reported Health (%)=%{y} <b>(trend)</b><extra></extra>",
         "legendgroup": "",
         "marker": {
          "color": "#636efa",
          "symbol": "circle"
         },
         "mode": "lines",
         "name": "",
         "showlegend": false,
         "type": "scatter",
         "x": {
          "bdata": "PQrXoxhB0kArhxbZpp/VQE5iEFgxrdlAXI/C9ajF3EAj2/l+LgXiQLTIdr7rEeJAyXa+ny5p40C0yHa+/8vjQMP1KFxvY+RAfT81Xvq85EA3iUFgBazlQPLSTWK0ieZA7FG4Ho3S5kA3iUFgsQTnQEjhehR+judAUrgehQOm50B9PzVeUtfnQLgeheshQuhA16NwPQII6kCYbhKDwKHqQHWTGAQmEutAKVyPwt1N60D6fmq88NzrQI/C9SgcFO1AKVyPwlXR7kCuR+F6RAvvQGDl0CI7V+9ATDeJQeS+70CF61G4emvwQOxRuB5rcfFAFK5H4RSa8UCPwvUoGDXyQM3MzMzYJ/RAXI/C9VwW9kDXo3A9pg78QD0K16N0NwBB",
          "dtype": "f8"
         },
         "xaxis": "x",
         "y": {
          "bdata": "9kaIJY6xTkDtK0XN5wtPQHivY72VeE9ATrq/9ZfLT0C9uTibP0dQQIZTdDaVSFBAbOa92olsUED9xb6n43ZQQGHPrnPAhlBAPcc9kiGQUECIm6mSK6lQQFaWChRkwFBAY+LbegXIUEAjk3oKRs1QQNivriy121BAWrMy5yveUEAkwzkcVuNQQJD82ESG7lBAcKPSFBEeUUCutVu/Ky5RQDEHhrDxOVFATUdyCTNAUUDbio2bL09RQGerM7THb1FAv/jeh2qeUUCn3JIBfKRRQEIO1PxwrFFA4/zCrEy3UUD7mNO/otRRQPusPa6CC1JAxIE1dwcUUkDtwaHigDRSQA4OTD/9nFJAtgu5apYEU0DOJcI4wURUQIbvUXZxL1VA",
          "dtype": "f8"
         },
         "yaxis": "y"
        }
       ],
       "layout": {
        "hoverlabel": {
         "font": {
          "size": 12
         }
        },
        "legend": {
         "tracegroupgap": 0
        },
        "template": {
         "data": {
          "bar": [
           {
            "error_x": {
             "color": "#2a3f5f"
            },
            "error_y": {
             "color": "#2a3f5f"
            },
            "marker": {
             "line": {
              "color": "#E5ECF6",
              "width": 0.5
             },
             "pattern": {
              "fillmode": "overlay",
              "size": 10,
              "solidity": 0.2
             }
            },
            "type": "bar"
           }
          ],
          "barpolar": [
           {
            "marker": {
             "line": {
              "color": "#E5ECF6",
              "width": 0.5
             },
             "pattern": {
              "fillmode": "overlay",
              "size": 10,
              "solidity": 0.2
             }
            },
            "type": "barpolar"
           }
          ],
          "carpet": [
           {
            "aaxis": {
             "endlinecolor": "#2a3f5f",
             "gridcolor": "white",
             "linecolor": "white",
             "minorgridcolor": "white",
             "startlinecolor": "#2a3f5f"
            },
            "baxis": {
             "endlinecolor": "#2a3f5f",
             "gridcolor": "white",
             "linecolor": "white",
             "minorgridcolor": "white",
             "startlinecolor": "#2a3f5f"
            },
            "type": "carpet"
           }
          ],
          "choropleth": [
           {
            "colorbar": {
             "outlinewidth": 0,
             "ticks": ""
            },
            "type": "choropleth"
           }
          ],
          "contour": [
           {
            "colorbar": {
             "outlinewidth": 0,
             "ticks": ""
            },
            "colorscale": [
             [
              0,
              "#0d0887"
             ],
             [
              0.1111111111111111,
              "#46039f"
             ],
             [
              0.2222222222222222,
              "#7201a8"
             ],
             [
              0.3333333333333333,
              "#9c179e"
             ],
             [
              0.4444444444444444,
              "#bd3786"
             ],
             [
              0.5555555555555556,
              "#d8576b"
             ],
             [
              0.6666666666666666,
              "#ed7953"
             ],
             [
              0.7777777777777778,
              "#fb9f3a"
             ],
             [
              0.8888888888888888,
              "#fdca26"
             ],
             [
              1,
              "#f0f921"
             ]
            ],
            "type": "contour"
           }
          ],
          "contourcarpet": [
           {
            "colorbar": {
             "outlinewidth": 0,
             "ticks": ""
            },
            "type": "contourcarpet"
           }
          ],
          "heatmap": [
           {
            "colorbar": {
             "outlinewidth": 0,
             "ticks": ""
            },
            "colorscale": [
             [
              0,
              "#0d0887"
             ],
             [
              0.1111111111111111,
              "#46039f"
             ],
             [
              0.2222222222222222,
              "#7201a8"
             ],
             [
              0.3333333333333333,
              "#9c179e"
             ],
             [
              0.4444444444444444,
              "#bd3786"
             ],
             [
              0.5555555555555556,
              "#d8576b"
             ],
             [
              0.6666666666666666,
              "#ed7953"
             ],
             [
              0.7777777777777778,
              "#fb9f3a"
             ],
             [
              0.8888888888888888,
              "#fdca26"
             ],
             [
              1,
              "#f0f921"
             ]
            ],
            "type": "heatmap"
           }
          ],
          "histogram": [
           {
            "marker": {
             "pattern": {
              "fillmode": "overlay",
              "size": 10,
              "solidity": 0.2
             }
            },
            "type": "histogram"
           }
          ],
          "histogram2d": [
           {
            "colorbar": {
             "outlinewidth": 0,
             "ticks": ""
            },
            "colorscale": [
             [
              0,
              "#0d0887"
             ],
             [
              0.1111111111111111,
              "#46039f"
             ],
             [
              0.2222222222222222,
              "#7201a8"
             ],
             [
              0.3333333333333333,
              "#9c179e"
             ],
             [
              0.4444444444444444,
              "#bd3786"
             ],
             [
              0.5555555555555556,
              "#d8576b"
             ],
             [
              0.6666666666666666,
              "#ed7953"
             ],
             [
              0.7777777777777778,
              "#fb9f3a"
             ],
             [
              0.8888888888888888,
              "#fdca26"
             ],
             [
              1,
              "#f0f921"
             ]
            ],
            "type": "histogram2d"
           }
          ],
          "histogram2dcontour": [
           {
            "colorbar": {
             "outlinewidth": 0,
             "ticks": ""
            },
            "colorscale": [
             [
              0,
              "#0d0887"
             ],
             [
              0.1111111111111111,
              "#46039f"
             ],
             [
              0.2222222222222222,
              "#7201a8"
             ],
             [
              0.3333333333333333,
              "#9c179e"
             ],
             [
              0.4444444444444444,
              "#bd3786"
             ],
             [
              0.5555555555555556,
              "#d8576b"
             ],
             [
              0.6666666666666666,
              "#ed7953"
             ],
             [
              0.7777777777777778,
              "#fb9f3a"
             ],
             [
              0.8888888888888888,
              "#fdca26"
             ],
             [
              1,
              "#f0f921"
             ]
            ],
            "type": "histogram2dcontour"
           }
          ],
          "mesh3d": [
           {
            "colorbar": {
             "outlinewidth": 0,
             "ticks": ""
            },
            "type": "mesh3d"
           }
          ],
          "parcoords": [
           {
            "line": {
             "colorbar": {
              "outlinewidth": 0,
              "ticks": ""
             }
            },
            "type": "parcoords"
           }
          ],
          "pie": [
           {
            "automargin": true,
            "type": "pie"
           }
          ],
          "scatter": [
           {
            "fillpattern": {
             "fillmode": "overlay",
             "size": 10,
             "solidity": 0.2
            },
            "type": "scatter"
           }
          ],
          "scatter3d": [
           {
            "line": {
             "colorbar": {
              "outlinewidth": 0,
              "ticks": ""
             }
            },
            "marker": {
             "colorbar": {
              "outlinewidth": 0,
              "ticks": ""
             }
            },
            "type": "scatter3d"
           }
          ],
          "scattercarpet": [
           {
            "marker": {
             "colorbar": {
              "outlinewidth": 0,
              "ticks": ""
             }
            },
            "type": "scattercarpet"
           }
          ],
          "scattergeo": [
           {
            "marker": {
             "colorbar": {
              "outlinewidth": 0,
              "ticks": ""
             }
            },
            "type": "scattergeo"
           }
          ],
          "scattergl": [
           {
            "marker": {
             "colorbar": {
              "outlinewidth": 0,
              "ticks": ""
             }
            },
            "type": "scattergl"
           }
          ],
          "scattermap": [
           {
            "marker": {
             "colorbar": {
              "outlinewidth": 0,
              "ticks": ""
             }
            },
            "type": "scattermap"
           }
          ],
          "scattermapbox": [
           {
            "marker": {
             "colorbar": {
              "outlinewidth": 0,
              "ticks": ""
             }
            },
            "type": "scattermapbox"
           }
          ],
          "scatterpolar": [
           {
            "marker": {
             "colorbar": {
              "outlinewidth": 0,
              "ticks": ""
             }
            },
            "type": "scatterpolar"
           }
          ],
          "scatterpolargl": [
           {
            "marker": {
             "colorbar": {
              "outlinewidth": 0,
              "ticks": ""
             }
            },
            "type": "scatterpolargl"
           }
          ],
          "scatterternary": [
           {
            "marker": {
             "colorbar": {
              "outlinewidth": 0,
              "ticks": ""
             }
            },
            "type": "scatterternary"
           }
          ],
          "surface": [
           {
            "colorbar": {
             "outlinewidth": 0,
             "ticks": ""
            },
            "colorscale": [
             [
              0,
              "#0d0887"
             ],
             [
              0.1111111111111111,
              "#46039f"
             ],
             [
              0.2222222222222222,
              "#7201a8"
             ],
             [
              0.3333333333333333,
              "#9c179e"
             ],
             [
              0.4444444444444444,
              "#bd3786"
             ],
             [
              0.5555555555555556,
              "#d8576b"
             ],
             [
              0.6666666666666666,
              "#ed7953"
             ],
             [
              0.7777777777777778,
              "#fb9f3a"
             ],
             [
              0.8888888888888888,
              "#fdca26"
             ],
             [
              1,
              "#f0f921"
             ]
            ],
            "type": "surface"
           }
          ],
          "table": [
           {
            "cells": {
             "fill": {
              "color": "#EBF0F8"
             },
             "line": {
              "color": "white"
             }
            },
            "header": {
             "fill": {
              "color": "#C8D4E3"
             },
             "line": {
              "color": "white"
             }
            },
            "type": "table"
           }
          ]
         },
         "layout": {
          "annotationdefaults": {
           "arrowcolor": "#2a3f5f",
           "arrowhead": 0,
           "arrowwidth": 1
          },
          "autotypenumbers": "strict",
          "coloraxis": {
           "colorbar": {
            "outlinewidth": 0,
            "ticks": ""
           }
          },
          "colorscale": {
           "diverging": [
            [
             0,
             "#8e0152"
            ],
            [
             0.1,
             "#c51b7d"
            ],
            [
             0.2,
             "#de77ae"
            ],
            [
             0.3,
             "#f1b6da"
            ],
            [
             0.4,
             "#fde0ef"
            ],
            [
             0.5,
             "#f7f7f7"
            ],
            [
             0.6,
             "#e6f5d0"
            ],
            [
             0.7,
             "#b8e186"
            ],
            [
             0.8,
             "#7fbc41"
            ],
            [
             0.9,
             "#4d9221"
            ],
            [
             1,
             "#276419"
            ]
           ],
           "sequential": [
            [
             0,
             "#0d0887"
            ],
            [
             0.1111111111111111,
             "#46039f"
            ],
            [
             0.2222222222222222,
             "#7201a8"
            ],
            [
             0.3333333333333333,
             "#9c179e"
            ],
            [
             0.4444444444444444,
             "#bd3786"
            ],
            [
             0.5555555555555556,
             "#d8576b"
            ],
            [
             0.6666666666666666,
             "#ed7953"
            ],
            [
             0.7777777777777778,
             "#fb9f3a"
            ],
            [
             0.8888888888888888,
             "#fdca26"
            ],
            [
             1,
             "#f0f921"
            ]
           ],
           "sequentialminus": [
            [
             0,
             "#0d0887"
            ],
            [
             0.1111111111111111,
             "#46039f"
            ],
            [
             0.2222222222222222,
             "#7201a8"
            ],
            [
             0.3333333333333333,
             "#9c179e"
            ],
            [
             0.4444444444444444,
             "#bd3786"
            ],
            [
             0.5555555555555556,
             "#d8576b"
            ],
            [
             0.6666666666666666,
             "#ed7953"
            ],
            [
             0.7777777777777778,
             "#fb9f3a"
            ],
            [
             0.8888888888888888,
             "#fdca26"
            ],
            [
             1,
             "#f0f921"
            ]
           ]
          },
          "colorway": [
           "#636efa",
           "#EF553B",
           "#00cc96",
           "#ab63fa",
           "#FFA15A",
           "#19d3f3",
           "#FF6692",
           "#B6E880",
           "#FF97FF",
           "#FECB52"
          ],
          "font": {
           "color": "#2a3f5f"
          },
          "geo": {
           "bgcolor": "white",
           "lakecolor": "white",
           "landcolor": "#E5ECF6",
           "showlakes": true,
           "showland": true,
           "subunitcolor": "white"
          },
          "hoverlabel": {
           "align": "left"
          },
          "hovermode": "closest",
          "mapbox": {
           "style": "light"
          },
          "paper_bgcolor": "white",
          "plot_bgcolor": "#E5ECF6",
          "polar": {
           "angularaxis": {
            "gridcolor": "white",
            "linecolor": "white",
            "ticks": ""
           },
           "bgcolor": "#E5ECF6",
           "radialaxis": {
            "gridcolor": "white",
            "linecolor": "white",
            "ticks": ""
           }
          },
          "scene": {
           "xaxis": {
            "backgroundcolor": "#E5ECF6",
            "gridcolor": "white",
            "gridwidth": 2,
            "linecolor": "white",
            "showbackground": true,
            "ticks": "",
            "zerolinecolor": "white"
           },
           "yaxis": {
            "backgroundcolor": "#E5ECF6",
            "gridcolor": "white",
            "gridwidth": 2,
            "linecolor": "white",
            "showbackground": true,
            "ticks": "",
            "zerolinecolor": "white"
           },
           "zaxis": {
            "backgroundcolor": "#E5ECF6",
            "gridcolor": "white",
            "gridwidth": 2,
            "linecolor": "white",
            "showbackground": true,
            "ticks": "",
            "zerolinecolor": "white"
           }
          },
          "shapedefaults": {
           "line": {
            "color": "#2a3f5f"
           }
          },
          "ternary": {
           "aaxis": {
            "gridcolor": "white",
            "linecolor": "white",
            "ticks": ""
           },
           "baxis": {
            "gridcolor": "white",
            "linecolor": "white",
            "ticks": ""
           },
           "bgcolor": "#E5ECF6",
           "caxis": {
            "gridcolor": "white",
            "linecolor": "white",
            "ticks": ""
           }
          },
          "title": {
           "x": 0.05
          },
          "xaxis": {
           "automargin": true,
           "gridcolor": "white",
           "linecolor": "white",
           "ticks": "",
           "title": {
            "standoff": 15
           },
           "zerolinecolor": "white",
           "zerolinewidth": 2
          },
          "yaxis": {
           "automargin": true,
           "gridcolor": "white",
           "linecolor": "white",
           "ticks": "",
           "title": {
            "standoff": 15
           },
           "zerolinecolor": "white",
           "zerolinewidth": 2
          }
         }
        },
        "title": {
         "font": {
          "size": 18
         },
         "text": "GDP per Capita vs. Life Satisfaction (OECD Countries)"
        },
        "xaxis": {
         "anchor": "y",
         "domain": [
          0,
          1
         ],
         "title": {
          "font": {
           "size": 14
          },
          "text": "GDP per Capita"
         }
        },
        "yaxis": {
         "anchor": "x",
         "domain": [
          0,
          1
         ],
         "title": {
          "font": {
           "size": 14
          },
          "text": "Self-Reported Health (%)"
         }
        }
       }
      }
     },
     "metadata": {},
     "output_type": "display_data"
    }
   ],
   "source": [
    "# Civic Engagement vs. GDP (OECD countries only)\n",
    "fig2 = px.scatter(\n",
    "    gdp_ce_oecd, \n",
    "    x='GDP_per_capita', \n",
    "    y='Civic_Engagement',\n",
    "    hover_name='Country',\n",
    "    title='GDP per Capita vs. Civic Engagement (OECD Countries)',\n",
    "    labels={'GDP_per_capita': 'GDP per Capita', 'Civic_Engagement': 'Civic Engagement (Voter Turnout %)'},\n",
    "    trendline='ols'\n",
    ")\n",
    "\n",
    "fig2.update_layout(\n",
    "    xaxis=dict(title=dict(font=dict(size=14))),\n",
    "    yaxis=dict(title=dict(font=dict(size=14))),\n",
    "    hoverlabel=dict(font_size=12),\n",
    "    title=dict(font=dict(size=18))\n",
    ")\n",
    "\n",
    "fig2.show()\n",
    "\n",
    "# Life Satisfaction vs. GDP (OECD countries only)\n",
    "fig3 = px.scatter(\n",
    "    gdp_ls_oecd, \n",
    "    x='GDP_per_capita', \n",
    "    y='Life_Satisfaction',\n",
    "    hover_name='Country',\n",
    "    title='GDP per Capita vs. Life Satisfaction (OECD Countries)',\n",
    "    labels={'GDP_per_capita': 'GDP per Capita', 'Life_Satisfaction': 'Self-Reported Health (%)'},\n",
    "    trendline='ols'\n",
    ")\n",
    "\n",
    "fig3.update_layout(\n",
    "    xaxis=dict(title=dict(font=dict(size=14))),\n",
    "    yaxis=dict(title=dict(font=dict(size=14))),\n",
    "    hoverlabel=dict(font_size=12),\n",
    "    title=dict(font=dict(size=18))\n",
    ")\n",
    "\n",
    "fig3.show()"
   ]
  },
  {
   "cell_type": "code",
   "execution_count": 14,
   "id": "1acd9e10",
   "metadata": {},
   "outputs": [
    {
     "name": "stdout",
     "output_type": "stream",
     "text": [
      "Correlation Matrix (OECD Countries):\n"
     ]
    },
    {
     "data": {
      "text/html": [
       "<div>\n",
       "<style scoped>\n",
       "    .dataframe tbody tr th:only-of-type {\n",
       "        vertical-align: middle;\n",
       "    }\n",
       "\n",
       "    .dataframe tbody tr th {\n",
       "        vertical-align: top;\n",
       "    }\n",
       "\n",
       "    .dataframe thead th {\n",
       "        text-align: right;\n",
       "    }\n",
       "</style>\n",
       "<table border=\"1\" class=\"dataframe\">\n",
       "  <thead>\n",
       "    <tr style=\"text-align: right;\">\n",
       "      <th></th>\n",
       "      <th>GDP_per_capita</th>\n",
       "      <th>Work_Life_Balance</th>\n",
       "      <th>Civic_Engagement</th>\n",
       "      <th>Life_Satisfaction</th>\n",
       "    </tr>\n",
       "  </thead>\n",
       "  <tbody>\n",
       "    <tr>\n",
       "      <th>GDP_per_capita</th>\n",
       "      <td>1.000000</td>\n",
       "      <td>-0.419823</td>\n",
       "      <td>0.442760</td>\n",
       "      <td>0.374671</td>\n",
       "    </tr>\n",
       "    <tr>\n",
       "      <th>Work_Life_Balance</th>\n",
       "      <td>-0.419823</td>\n",
       "      <td>1.000000</td>\n",
       "      <td>-0.097907</td>\n",
       "      <td>0.287201</td>\n",
       "    </tr>\n",
       "    <tr>\n",
       "      <th>Civic_Engagement</th>\n",
       "      <td>0.442760</td>\n",
       "      <td>-0.097907</td>\n",
       "      <td>1.000000</td>\n",
       "      <td>0.337837</td>\n",
       "    </tr>\n",
       "    <tr>\n",
       "      <th>Life_Satisfaction</th>\n",
       "      <td>0.374671</td>\n",
       "      <td>0.287201</td>\n",
       "      <td>0.337837</td>\n",
       "      <td>1.000000</td>\n",
       "    </tr>\n",
       "  </tbody>\n",
       "</table>\n",
       "</div>"
      ],
      "text/plain": [
       "                   GDP_per_capita  Work_Life_Balance  Civic_Engagement  \\\n",
       "GDP_per_capita           1.000000          -0.419823          0.442760   \n",
       "Work_Life_Balance       -0.419823           1.000000         -0.097907   \n",
       "Civic_Engagement         0.442760          -0.097907          1.000000   \n",
       "Life_Satisfaction        0.374671           0.287201          0.337837   \n",
       "\n",
       "                   Life_Satisfaction  \n",
       "GDP_per_capita              0.374671  \n",
       "Work_Life_Balance           0.287201  \n",
       "Civic_Engagement            0.337837  \n",
       "Life_Satisfaction           1.000000  "
      ]
     },
     "metadata": {},
     "output_type": "display_data"
    },
    {
     "data": {
      "application/vnd.plotly.v1+json": {
       "config": {
        "plotlyServerURL": "https://plot.ly"
       },
       "data": [
        {
         "coloraxis": "coloraxis",
         "hovertemplate": "x: %{x}<br>y: %{y}<br>color: %{z}<extra></extra>",
         "name": "0",
         "texttemplate": "%{z}",
         "type": "heatmap",
         "x": [
          "GDP_per_capita",
          "Work_Life_Balance",
          "Civic_Engagement",
          "Life_Satisfaction"
         ],
         "xaxis": "x",
         "y": [
          "GDP_per_capita",
          "Work_Life_Balance",
          "Civic_Engagement",
          "Life_Satisfaction"
         ],
         "yaxis": "y",
         "z": {
          "bdata": "AAAAAAAA8D8p/DKfYt7av8ctN+gsVtw/3x27RZz61z8p/DKfYt7avwAAAAAAAPA/GBlKJXMQub8rA+ESgmHSP8ctN+gsVtw/GBlKJXMQub8AAAAAAADwPy3BDSIen9U/3x27RZz61z8rA+ESgmHSPy3BDSIen9U/AAAAAAAA8D8=",
          "dtype": "f8",
          "shape": "4, 4"
         }
        }
       ],
       "layout": {
        "coloraxis": {
         "cmax": 1,
         "cmin": -1,
         "colorscale": [
          [
           0,
           "rgb(5,48,97)"
          ],
          [
           0.1,
           "rgb(33,102,172)"
          ],
          [
           0.2,
           "rgb(67,147,195)"
          ],
          [
           0.3,
           "rgb(146,197,222)"
          ],
          [
           0.4,
           "rgb(209,229,240)"
          ],
          [
           0.5,
           "rgb(247,247,247)"
          ],
          [
           0.6,
           "rgb(253,219,199)"
          ],
          [
           0.7,
           "rgb(244,165,130)"
          ],
          [
           0.8,
           "rgb(214,96,77)"
          ],
          [
           0.9,
           "rgb(178,24,43)"
          ],
          [
           1,
           "rgb(103,0,31)"
          ]
         ]
        },
        "template": {
         "data": {
          "bar": [
           {
            "error_x": {
             "color": "#2a3f5f"
            },
            "error_y": {
             "color": "#2a3f5f"
            },
            "marker": {
             "line": {
              "color": "#E5ECF6",
              "width": 0.5
             },
             "pattern": {
              "fillmode": "overlay",
              "size": 10,
              "solidity": 0.2
             }
            },
            "type": "bar"
           }
          ],
          "barpolar": [
           {
            "marker": {
             "line": {
              "color": "#E5ECF6",
              "width": 0.5
             },
             "pattern": {
              "fillmode": "overlay",
              "size": 10,
              "solidity": 0.2
             }
            },
            "type": "barpolar"
           }
          ],
          "carpet": [
           {
            "aaxis": {
             "endlinecolor": "#2a3f5f",
             "gridcolor": "white",
             "linecolor": "white",
             "minorgridcolor": "white",
             "startlinecolor": "#2a3f5f"
            },
            "baxis": {
             "endlinecolor": "#2a3f5f",
             "gridcolor": "white",
             "linecolor": "white",
             "minorgridcolor": "white",
             "startlinecolor": "#2a3f5f"
            },
            "type": "carpet"
           }
          ],
          "choropleth": [
           {
            "colorbar": {
             "outlinewidth": 0,
             "ticks": ""
            },
            "type": "choropleth"
           }
          ],
          "contour": [
           {
            "colorbar": {
             "outlinewidth": 0,
             "ticks": ""
            },
            "colorscale": [
             [
              0,
              "#0d0887"
             ],
             [
              0.1111111111111111,
              "#46039f"
             ],
             [
              0.2222222222222222,
              "#7201a8"
             ],
             [
              0.3333333333333333,
              "#9c179e"
             ],
             [
              0.4444444444444444,
              "#bd3786"
             ],
             [
              0.5555555555555556,
              "#d8576b"
             ],
             [
              0.6666666666666666,
              "#ed7953"
             ],
             [
              0.7777777777777778,
              "#fb9f3a"
             ],
             [
              0.8888888888888888,
              "#fdca26"
             ],
             [
              1,
              "#f0f921"
             ]
            ],
            "type": "contour"
           }
          ],
          "contourcarpet": [
           {
            "colorbar": {
             "outlinewidth": 0,
             "ticks": ""
            },
            "type": "contourcarpet"
           }
          ],
          "heatmap": [
           {
            "colorbar": {
             "outlinewidth": 0,
             "ticks": ""
            },
            "colorscale": [
             [
              0,
              "#0d0887"
             ],
             [
              0.1111111111111111,
              "#46039f"
             ],
             [
              0.2222222222222222,
              "#7201a8"
             ],
             [
              0.3333333333333333,
              "#9c179e"
             ],
             [
              0.4444444444444444,
              "#bd3786"
             ],
             [
              0.5555555555555556,
              "#d8576b"
             ],
             [
              0.6666666666666666,
              "#ed7953"
             ],
             [
              0.7777777777777778,
              "#fb9f3a"
             ],
             [
              0.8888888888888888,
              "#fdca26"
             ],
             [
              1,
              "#f0f921"
             ]
            ],
            "type": "heatmap"
           }
          ],
          "histogram": [
           {
            "marker": {
             "pattern": {
              "fillmode": "overlay",
              "size": 10,
              "solidity": 0.2
             }
            },
            "type": "histogram"
           }
          ],
          "histogram2d": [
           {
            "colorbar": {
             "outlinewidth": 0,
             "ticks": ""
            },
            "colorscale": [
             [
              0,
              "#0d0887"
             ],
             [
              0.1111111111111111,
              "#46039f"
             ],
             [
              0.2222222222222222,
              "#7201a8"
             ],
             [
              0.3333333333333333,
              "#9c179e"
             ],
             [
              0.4444444444444444,
              "#bd3786"
             ],
             [
              0.5555555555555556,
              "#d8576b"
             ],
             [
              0.6666666666666666,
              "#ed7953"
             ],
             [
              0.7777777777777778,
              "#fb9f3a"
             ],
             [
              0.8888888888888888,
              "#fdca26"
             ],
             [
              1,
              "#f0f921"
             ]
            ],
            "type": "histogram2d"
           }
          ],
          "histogram2dcontour": [
           {
            "colorbar": {
             "outlinewidth": 0,
             "ticks": ""
            },
            "colorscale": [
             [
              0,
              "#0d0887"
             ],
             [
              0.1111111111111111,
              "#46039f"
             ],
             [
              0.2222222222222222,
              "#7201a8"
             ],
             [
              0.3333333333333333,
              "#9c179e"
             ],
             [
              0.4444444444444444,
              "#bd3786"
             ],
             [
              0.5555555555555556,
              "#d8576b"
             ],
             [
              0.6666666666666666,
              "#ed7953"
             ],
             [
              0.7777777777777778,
              "#fb9f3a"
             ],
             [
              0.8888888888888888,
              "#fdca26"
             ],
             [
              1,
              "#f0f921"
             ]
            ],
            "type": "histogram2dcontour"
           }
          ],
          "mesh3d": [
           {
            "colorbar": {
             "outlinewidth": 0,
             "ticks": ""
            },
            "type": "mesh3d"
           }
          ],
          "parcoords": [
           {
            "line": {
             "colorbar": {
              "outlinewidth": 0,
              "ticks": ""
             }
            },
            "type": "parcoords"
           }
          ],
          "pie": [
           {
            "automargin": true,
            "type": "pie"
           }
          ],
          "scatter": [
           {
            "fillpattern": {
             "fillmode": "overlay",
             "size": 10,
             "solidity": 0.2
            },
            "type": "scatter"
           }
          ],
          "scatter3d": [
           {
            "line": {
             "colorbar": {
              "outlinewidth": 0,
              "ticks": ""
             }
            },
            "marker": {
             "colorbar": {
              "outlinewidth": 0,
              "ticks": ""
             }
            },
            "type": "scatter3d"
           }
          ],
          "scattercarpet": [
           {
            "marker": {
             "colorbar": {
              "outlinewidth": 0,
              "ticks": ""
             }
            },
            "type": "scattercarpet"
           }
          ],
          "scattergeo": [
           {
            "marker": {
             "colorbar": {
              "outlinewidth": 0,
              "ticks": ""
             }
            },
            "type": "scattergeo"
           }
          ],
          "scattergl": [
           {
            "marker": {
             "colorbar": {
              "outlinewidth": 0,
              "ticks": ""
             }
            },
            "type": "scattergl"
           }
          ],
          "scattermap": [
           {
            "marker": {
             "colorbar": {
              "outlinewidth": 0,
              "ticks": ""
             }
            },
            "type": "scattermap"
           }
          ],
          "scattermapbox": [
           {
            "marker": {
             "colorbar": {
              "outlinewidth": 0,
              "ticks": ""
             }
            },
            "type": "scattermapbox"
           }
          ],
          "scatterpolar": [
           {
            "marker": {
             "colorbar": {
              "outlinewidth": 0,
              "ticks": ""
             }
            },
            "type": "scatterpolar"
           }
          ],
          "scatterpolargl": [
           {
            "marker": {
             "colorbar": {
              "outlinewidth": 0,
              "ticks": ""
             }
            },
            "type": "scatterpolargl"
           }
          ],
          "scatterternary": [
           {
            "marker": {
             "colorbar": {
              "outlinewidth": 0,
              "ticks": ""
             }
            },
            "type": "scatterternary"
           }
          ],
          "surface": [
           {
            "colorbar": {
             "outlinewidth": 0,
             "ticks": ""
            },
            "colorscale": [
             [
              0,
              "#0d0887"
             ],
             [
              0.1111111111111111,
              "#46039f"
             ],
             [
              0.2222222222222222,
              "#7201a8"
             ],
             [
              0.3333333333333333,
              "#9c179e"
             ],
             [
              0.4444444444444444,
              "#bd3786"
             ],
             [
              0.5555555555555556,
              "#d8576b"
             ],
             [
              0.6666666666666666,
              "#ed7953"
             ],
             [
              0.7777777777777778,
              "#fb9f3a"
             ],
             [
              0.8888888888888888,
              "#fdca26"
             ],
             [
              1,
              "#f0f921"
             ]
            ],
            "type": "surface"
           }
          ],
          "table": [
           {
            "cells": {
             "fill": {
              "color": "#EBF0F8"
             },
             "line": {
              "color": "white"
             }
            },
            "header": {
             "fill": {
              "color": "#C8D4E3"
             },
             "line": {
              "color": "white"
             }
            },
            "type": "table"
           }
          ]
         },
         "layout": {
          "annotationdefaults": {
           "arrowcolor": "#2a3f5f",
           "arrowhead": 0,
           "arrowwidth": 1
          },
          "autotypenumbers": "strict",
          "coloraxis": {
           "colorbar": {
            "outlinewidth": 0,
            "ticks": ""
           }
          },
          "colorscale": {
           "diverging": [
            [
             0,
             "#8e0152"
            ],
            [
             0.1,
             "#c51b7d"
            ],
            [
             0.2,
             "#de77ae"
            ],
            [
             0.3,
             "#f1b6da"
            ],
            [
             0.4,
             "#fde0ef"
            ],
            [
             0.5,
             "#f7f7f7"
            ],
            [
             0.6,
             "#e6f5d0"
            ],
            [
             0.7,
             "#b8e186"
            ],
            [
             0.8,
             "#7fbc41"
            ],
            [
             0.9,
             "#4d9221"
            ],
            [
             1,
             "#276419"
            ]
           ],
           "sequential": [
            [
             0,
             "#0d0887"
            ],
            [
             0.1111111111111111,
             "#46039f"
            ],
            [
             0.2222222222222222,
             "#7201a8"
            ],
            [
             0.3333333333333333,
             "#9c179e"
            ],
            [
             0.4444444444444444,
             "#bd3786"
            ],
            [
             0.5555555555555556,
             "#d8576b"
            ],
            [
             0.6666666666666666,
             "#ed7953"
            ],
            [
             0.7777777777777778,
             "#fb9f3a"
            ],
            [
             0.8888888888888888,
             "#fdca26"
            ],
            [
             1,
             "#f0f921"
            ]
           ],
           "sequentialminus": [
            [
             0,
             "#0d0887"
            ],
            [
             0.1111111111111111,
             "#46039f"
            ],
            [
             0.2222222222222222,
             "#7201a8"
            ],
            [
             0.3333333333333333,
             "#9c179e"
            ],
            [
             0.4444444444444444,
             "#bd3786"
            ],
            [
             0.5555555555555556,
             "#d8576b"
            ],
            [
             0.6666666666666666,
             "#ed7953"
            ],
            [
             0.7777777777777778,
             "#fb9f3a"
            ],
            [
             0.8888888888888888,
             "#fdca26"
            ],
            [
             1,
             "#f0f921"
            ]
           ]
          },
          "colorway": [
           "#636efa",
           "#EF553B",
           "#00cc96",
           "#ab63fa",
           "#FFA15A",
           "#19d3f3",
           "#FF6692",
           "#B6E880",
           "#FF97FF",
           "#FECB52"
          ],
          "font": {
           "color": "#2a3f5f"
          },
          "geo": {
           "bgcolor": "white",
           "lakecolor": "white",
           "landcolor": "#E5ECF6",
           "showlakes": true,
           "showland": true,
           "subunitcolor": "white"
          },
          "hoverlabel": {
           "align": "left"
          },
          "hovermode": "closest",
          "mapbox": {
           "style": "light"
          },
          "paper_bgcolor": "white",
          "plot_bgcolor": "#E5ECF6",
          "polar": {
           "angularaxis": {
            "gridcolor": "white",
            "linecolor": "white",
            "ticks": ""
           },
           "bgcolor": "#E5ECF6",
           "radialaxis": {
            "gridcolor": "white",
            "linecolor": "white",
            "ticks": ""
           }
          },
          "scene": {
           "xaxis": {
            "backgroundcolor": "#E5ECF6",
            "gridcolor": "white",
            "gridwidth": 2,
            "linecolor": "white",
            "showbackground": true,
            "ticks": "",
            "zerolinecolor": "white"
           },
           "yaxis": {
            "backgroundcolor": "#E5ECF6",
            "gridcolor": "white",
            "gridwidth": 2,
            "linecolor": "white",
            "showbackground": true,
            "ticks": "",
            "zerolinecolor": "white"
           },
           "zaxis": {
            "backgroundcolor": "#E5ECF6",
            "gridcolor": "white",
            "gridwidth": 2,
            "linecolor": "white",
            "showbackground": true,
            "ticks": "",
            "zerolinecolor": "white"
           }
          },
          "shapedefaults": {
           "line": {
            "color": "#2a3f5f"
           }
          },
          "ternary": {
           "aaxis": {
            "gridcolor": "white",
            "linecolor": "white",
            "ticks": ""
           },
           "baxis": {
            "gridcolor": "white",
            "linecolor": "white",
            "ticks": ""
           },
           "bgcolor": "#E5ECF6",
           "caxis": {
            "gridcolor": "white",
            "linecolor": "white",
            "ticks": ""
           }
          },
          "title": {
           "x": 0.05
          },
          "xaxis": {
           "automargin": true,
           "gridcolor": "white",
           "linecolor": "white",
           "ticks": "",
           "title": {
            "standoff": 15
           },
           "zerolinecolor": "white",
           "zerolinewidth": 2
          },
          "yaxis": {
           "automargin": true,
           "gridcolor": "white",
           "linecolor": "white",
           "ticks": "",
           "title": {
            "standoff": 15
           },
           "zerolinecolor": "white",
           "zerolinewidth": 2
          }
         }
        },
        "title": {
         "text": "Correlation Matrix of GDP per Capita and OECD Indicators (OECD Countries)"
        },
        "xaxis": {
         "anchor": "y",
         "constrain": "domain",
         "domain": [
          0,
          1
         ],
         "scaleanchor": "y"
        },
        "yaxis": {
         "anchor": "x",
         "autorange": "reversed",
         "constrain": "domain",
         "domain": [
          0,
          1
         ]
        }
       }
      }
     },
     "metadata": {},
     "output_type": "display_data"
    }
   ],
   "source": [
    "# Create a correlation matrix for OECD countries that have all data points\n",
    "if len(oecd_merged_df_clean) > 0:\n",
    "    # Calculate and display correlations\n",
    "    correlation_matrix = oecd_merged_df_clean.drop('Country', axis=1).corr()\n",
    "    print(\"Correlation Matrix (OECD Countries):\")\n",
    "    display(correlation_matrix)\n",
    "\n",
    "    # Visualize the correlation matrix\n",
    "    fig4 = px.imshow(\n",
    "        correlation_matrix,\n",
    "        text_auto=True,\n",
    "        title='Correlation Matrix of GDP per Capita and OECD Indicators (OECD Countries)',\n",
    "        color_continuous_scale='RdBu_r',\n",
    "        zmin=-1, zmax=1\n",
    "    )\n",
    "    fig4.show()\n",
    "else:\n",
    "    print(\"Not enough OECD countries with complete data to create a correlation matrix.\")\n",
    "    \n",
    "    # Alternative: calculate pairwise correlations\n",
    "    print(\"\\nPairwise correlations with GDP per capita (OECD Countries):\")\n",
    "    \n",
    "    gdp_wlb_corr = gdp_wlb_oecd['GDP_per_capita'].corr(gdp_wlb_oecd['Work_Life_Balance'])\n",
    "    gdp_ce_corr = gdp_ce_oecd['GDP_per_capita'].corr(gdp_ce_oecd['Civic_Engagement'])\n",
    "    gdp_ls_corr = gdp_ls_oecd['GDP_per_capita'].corr(gdp_ls_oecd['Life_Satisfaction'])\n",
    "    \n",
    "    print(f\"GDP per capita vs Work-Life Balance: {gdp_wlb_corr:.4f}\")\n",
    "    print(f\"GDP per capita vs Civic Engagement: {gdp_ce_corr:.4f}\")\n",
    "    print(f\"GDP per capita vs Life Satisfaction: {gdp_ls_corr:.4f}\")"
   ]
  },
  {
   "cell_type": "markdown",
   "id": "e3ff71c6",
   "metadata": {},
   "source": [
    "# Normalized Indicators Analysis\n",
    "\n",
    "This analysis examines the relationship between GDP per capita and three OECD indicators after normalization:\n",
    "\n",
    "1. **Work-Life Balance** (measured by employees working very long hours) - normalized so that lower percentages receive higher scores\n",
    "2. **Civic Engagement** (measured by voter turnout) - normalized so that higher percentages receive higher scores\n",
    "3. **Life Satisfaction** (measured by self-reported health) - normalized so that higher percentages receive higher scores\n",
    "\n",
    "All indicators are normalized to a scale of 0-1, where 1 is the best possible value. The normalization formula used is:\n",
    "\n",
    "- For indicators where higher values are better (Civic Engagement, Life Satisfaction):\n",
    "  - `normalized = (value - min) / (max - min)`\n",
    "\n",
    "- For indicators where lower values are better (Work-Life Balance):\n",
    "  - `normalized = 1 - (value - min) / (max - min)`\n",
    "\n",
    "A combined \"Well-Being Index\" is calculated as the average of the three normalized indicators."
   ]
  },
  {
   "cell_type": "markdown",
   "id": "96bcfb8a",
   "metadata": {},
   "source": [
    "# Analysis Summary\n",
    "\n",
    "This analysis explores the relationship between GDP per capita and three OECD indicators among OECD member countries:\n",
    "\n",
    "1. **Work-Life Balance** (measured by percentage of employees working very long hours)\n",
    "2. **Civic Engagement** (measured by voter turnout)\n",
    "3. **Life Satisfaction** (measured by self-reported health)\n",
    "\n",
    "By focusing specifically on OECD countries, we're analyzing a more homogenous group of mostly developed economies, which may reveal different patterns than a global analysis would.\n",
    "\n",
    "The scatter plots show the relationship between GDP per capita and each indicator, with trend lines to visualize the general pattern. The correlation analysis quantifies the strength and direction of these relationships.\n",
    "\n",
    "Key findings:\n",
    "- [Add your observations about the relationships based on the actual visualizations]\n",
    "- [Discuss any interesting patterns or outlier countries]\n",
    "- [Note limitations in the data or analysis]"
   ]
  }
 ],
 "metadata": {
  "kernelspec": {
   "display_name": "idm",
   "language": "python",
   "name": "python3"
  },
  "language_info": {
   "codemirror_mode": {
    "name": "ipython",
    "version": 3
   },
   "file_extension": ".py",
   "mimetype": "text/x-python",
   "name": "python",
   "nbconvert_exporter": "python",
   "pygments_lexer": "ipython3",
   "version": "3.12.9"
  }
 },
 "nbformat": 4,
 "nbformat_minor": 5
}
