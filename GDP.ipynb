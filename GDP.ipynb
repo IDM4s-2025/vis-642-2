{
 "cells": [
  {
   "cell_type": "code",
   "execution_count": 43,
   "id": "57387baf",
   "metadata": {},
   "outputs": [],
   "source": [
    "import pandas as pd\n",
    "import requests\n",
    "import plotly.express as px\n",
    "import numpy as np\n",
    "\n",
    "# Fetch the GDP per capita data\n",
    "df_gdp = pd.read_csv(\"https://ourworldindata.org/grapher/gdp-per-capita-worldbank.csv?v=1&csvType=full&useColumnShortNames=true\", storage_options = {'User-Agent': 'Our World In Data data fetch/1.0'})\n",
    "\n",
    "# Fetch the metadata\n",
    "metadata = requests.get(\"https://ourworldindata.org/grapher/gdp-per-capita-worldbank.metadata.json?v=1&csvType=full&useColumnShortNames=true\").json()"
   ]
  },
  {
   "cell_type": "code",
   "execution_count": 44,
   "id": "001ddde7",
   "metadata": {},
   "outputs": [
    {
     "name": "stdout",
     "output_type": "stream",
     "text": [
      "GDP data shape: (7063, 4)\n",
      "OECD data shape: (2369, 22)\n",
      "\n",
      "GDP data preview:\n"
     ]
    },
    {
     "data": {
      "text/html": [
       "<div>\n",
       "<style scoped>\n",
       "    .dataframe tbody tr th:only-of-type {\n",
       "        vertical-align: middle;\n",
       "    }\n",
       "\n",
       "    .dataframe tbody tr th {\n",
       "        vertical-align: top;\n",
       "    }\n",
       "\n",
       "    .dataframe thead th {\n",
       "        text-align: right;\n",
       "    }\n",
       "</style>\n",
       "<table border=\"1\" class=\"dataframe\">\n",
       "  <thead>\n",
       "    <tr style=\"text-align: right;\">\n",
       "      <th></th>\n",
       "      <th>Entity</th>\n",
       "      <th>Code</th>\n",
       "      <th>Year</th>\n",
       "      <th>ny_gdp_pcap_pp_kd</th>\n",
       "    </tr>\n",
       "  </thead>\n",
       "  <tbody>\n",
       "    <tr>\n",
       "      <th>0</th>\n",
       "      <td>Afghanistan</td>\n",
       "      <td>AFG</td>\n",
       "      <td>2000</td>\n",
       "      <td>1617.8264</td>\n",
       "    </tr>\n",
       "    <tr>\n",
       "      <th>1</th>\n",
       "      <td>Afghanistan</td>\n",
       "      <td>AFG</td>\n",
       "      <td>2001</td>\n",
       "      <td>1454.1108</td>\n",
       "    </tr>\n",
       "    <tr>\n",
       "      <th>2</th>\n",
       "      <td>Afghanistan</td>\n",
       "      <td>AFG</td>\n",
       "      <td>2002</td>\n",
       "      <td>1774.3087</td>\n",
       "    </tr>\n",
       "    <tr>\n",
       "      <th>3</th>\n",
       "      <td>Afghanistan</td>\n",
       "      <td>AFG</td>\n",
       "      <td>2003</td>\n",
       "      <td>1815.9282</td>\n",
       "    </tr>\n",
       "    <tr>\n",
       "      <th>4</th>\n",
       "      <td>Afghanistan</td>\n",
       "      <td>AFG</td>\n",
       "      <td>2004</td>\n",
       "      <td>1776.9182</td>\n",
       "    </tr>\n",
       "  </tbody>\n",
       "</table>\n",
       "</div>"
      ],
      "text/plain": [
       "        Entity Code  Year  ny_gdp_pcap_pp_kd\n",
       "0  Afghanistan  AFG  2000          1617.8264\n",
       "1  Afghanistan  AFG  2001          1454.1108\n",
       "2  Afghanistan  AFG  2002          1774.3087\n",
       "3  Afghanistan  AFG  2003          1815.9282\n",
       "4  Afghanistan  AFG  2004          1776.9182"
      ]
     },
     "metadata": {},
     "output_type": "display_data"
    },
    {
     "name": "stdout",
     "output_type": "stream",
     "text": [
      "\n",
      "OECD data preview:\n"
     ]
    },
    {
     "data": {
      "text/html": [
       "<div>\n",
       "<style scoped>\n",
       "    .dataframe tbody tr th:only-of-type {\n",
       "        vertical-align: middle;\n",
       "    }\n",
       "\n",
       "    .dataframe tbody tr th {\n",
       "        vertical-align: top;\n",
       "    }\n",
       "\n",
       "    .dataframe thead th {\n",
       "        text-align: right;\n",
       "    }\n",
       "</style>\n",
       "<table border=\"1\" class=\"dataframe\">\n",
       "  <thead>\n",
       "    <tr style=\"text-align: right;\">\n",
       "      <th></th>\n",
       "      <th>STRUCTURE</th>\n",
       "      <th>STRUCTURE_ID</th>\n",
       "      <th>STRUCTURE_NAME</th>\n",
       "      <th>ACTION</th>\n",
       "      <th>LOCATION</th>\n",
       "      <th>Country</th>\n",
       "      <th>INDICATOR</th>\n",
       "      <th>Indicator</th>\n",
       "      <th>MEASURE</th>\n",
       "      <th>Measure</th>\n",
       "      <th>...</th>\n",
       "      <th>OBS_VALUE</th>\n",
       "      <th>Observation Value</th>\n",
       "      <th>OBS_STATUS</th>\n",
       "      <th>Observation Status</th>\n",
       "      <th>UNIT_MEASURE</th>\n",
       "      <th>Unit of Measures</th>\n",
       "      <th>UNIT_MULT</th>\n",
       "      <th>Multiplier</th>\n",
       "      <th>BASE_PER</th>\n",
       "      <th>Base reference period</th>\n",
       "    </tr>\n",
       "  </thead>\n",
       "  <tbody>\n",
       "    <tr>\n",
       "      <th>0</th>\n",
       "      <td>DATAFLOW</td>\n",
       "      <td>OECD:DF_BLI(1.0)</td>\n",
       "      <td>Better Life Index</td>\n",
       "      <td>I</td>\n",
       "      <td>AUT</td>\n",
       "      <td>Austria</td>\n",
       "      <td>JE_LMIS</td>\n",
       "      <td>Labour market insecurity</td>\n",
       "      <td>L</td>\n",
       "      <td>Value</td>\n",
       "      <td>...</td>\n",
       "      <td>2.3</td>\n",
       "      <td>NaN</td>\n",
       "      <td>A</td>\n",
       "      <td>NaN</td>\n",
       "      <td>PC</td>\n",
       "      <td>Percentage</td>\n",
       "      <td>0</td>\n",
       "      <td>Units</td>\n",
       "      <td>NaN</td>\n",
       "      <td>NaN</td>\n",
       "    </tr>\n",
       "    <tr>\n",
       "      <th>1</th>\n",
       "      <td>DATAFLOW</td>\n",
       "      <td>OECD:DF_BLI(1.0)</td>\n",
       "      <td>Better Life Index</td>\n",
       "      <td>I</td>\n",
       "      <td>BEL</td>\n",
       "      <td>Belgium</td>\n",
       "      <td>JE_LMIS</td>\n",
       "      <td>Labour market insecurity</td>\n",
       "      <td>L</td>\n",
       "      <td>Value</td>\n",
       "      <td>...</td>\n",
       "      <td>2.4</td>\n",
       "      <td>NaN</td>\n",
       "      <td>A</td>\n",
       "      <td>NaN</td>\n",
       "      <td>PC</td>\n",
       "      <td>Percentage</td>\n",
       "      <td>0</td>\n",
       "      <td>Units</td>\n",
       "      <td>NaN</td>\n",
       "      <td>NaN</td>\n",
       "    </tr>\n",
       "    <tr>\n",
       "      <th>2</th>\n",
       "      <td>DATAFLOW</td>\n",
       "      <td>OECD:DF_BLI(1.0)</td>\n",
       "      <td>Better Life Index</td>\n",
       "      <td>I</td>\n",
       "      <td>CAN</td>\n",
       "      <td>Canada</td>\n",
       "      <td>JE_LMIS</td>\n",
       "      <td>Labour market insecurity</td>\n",
       "      <td>L</td>\n",
       "      <td>Value</td>\n",
       "      <td>...</td>\n",
       "      <td>3.8</td>\n",
       "      <td>NaN</td>\n",
       "      <td>A</td>\n",
       "      <td>NaN</td>\n",
       "      <td>PC</td>\n",
       "      <td>Percentage</td>\n",
       "      <td>0</td>\n",
       "      <td>Units</td>\n",
       "      <td>NaN</td>\n",
       "      <td>NaN</td>\n",
       "    </tr>\n",
       "    <tr>\n",
       "      <th>3</th>\n",
       "      <td>DATAFLOW</td>\n",
       "      <td>OECD:DF_BLI(1.0)</td>\n",
       "      <td>Better Life Index</td>\n",
       "      <td>I</td>\n",
       "      <td>CZE</td>\n",
       "      <td>Czechia</td>\n",
       "      <td>JE_LMIS</td>\n",
       "      <td>Labour market insecurity</td>\n",
       "      <td>L</td>\n",
       "      <td>Value</td>\n",
       "      <td>...</td>\n",
       "      <td>2.3</td>\n",
       "      <td>NaN</td>\n",
       "      <td>A</td>\n",
       "      <td>NaN</td>\n",
       "      <td>PC</td>\n",
       "      <td>Percentage</td>\n",
       "      <td>0</td>\n",
       "      <td>Units</td>\n",
       "      <td>NaN</td>\n",
       "      <td>NaN</td>\n",
       "    </tr>\n",
       "    <tr>\n",
       "      <th>4</th>\n",
       "      <td>DATAFLOW</td>\n",
       "      <td>OECD:DF_BLI(1.0)</td>\n",
       "      <td>Better Life Index</td>\n",
       "      <td>I</td>\n",
       "      <td>DNK</td>\n",
       "      <td>Denmark</td>\n",
       "      <td>JE_LMIS</td>\n",
       "      <td>Labour market insecurity</td>\n",
       "      <td>L</td>\n",
       "      <td>Value</td>\n",
       "      <td>...</td>\n",
       "      <td>4.5</td>\n",
       "      <td>NaN</td>\n",
       "      <td>A</td>\n",
       "      <td>NaN</td>\n",
       "      <td>PC</td>\n",
       "      <td>Percentage</td>\n",
       "      <td>0</td>\n",
       "      <td>Units</td>\n",
       "      <td>NaN</td>\n",
       "      <td>NaN</td>\n",
       "    </tr>\n",
       "  </tbody>\n",
       "</table>\n",
       "<p>5 rows × 22 columns</p>\n",
       "</div>"
      ],
      "text/plain": [
       "  STRUCTURE      STRUCTURE_ID     STRUCTURE_NAME ACTION LOCATION  Country  \\\n",
       "0  DATAFLOW  OECD:DF_BLI(1.0)  Better Life Index      I      AUT  Austria   \n",
       "1  DATAFLOW  OECD:DF_BLI(1.0)  Better Life Index      I      BEL  Belgium   \n",
       "2  DATAFLOW  OECD:DF_BLI(1.0)  Better Life Index      I      CAN   Canada   \n",
       "3  DATAFLOW  OECD:DF_BLI(1.0)  Better Life Index      I      CZE  Czechia   \n",
       "4  DATAFLOW  OECD:DF_BLI(1.0)  Better Life Index      I      DNK  Denmark   \n",
       "\n",
       "  INDICATOR                 Indicator MEASURE Measure  ... OBS_VALUE  \\\n",
       "0   JE_LMIS  Labour market insecurity       L   Value  ...       2.3   \n",
       "1   JE_LMIS  Labour market insecurity       L   Value  ...       2.4   \n",
       "2   JE_LMIS  Labour market insecurity       L   Value  ...       3.8   \n",
       "3   JE_LMIS  Labour market insecurity       L   Value  ...       2.3   \n",
       "4   JE_LMIS  Labour market insecurity       L   Value  ...       4.5   \n",
       "\n",
       "   Observation Value  OBS_STATUS  Observation Status UNIT_MEASURE  \\\n",
       "0                NaN           A                 NaN           PC   \n",
       "1                NaN           A                 NaN           PC   \n",
       "2                NaN           A                 NaN           PC   \n",
       "3                NaN           A                 NaN           PC   \n",
       "4                NaN           A                 NaN           PC   \n",
       "\n",
       "   Unit of Measures UNIT_MULT Multiplier  BASE_PER Base reference period  \n",
       "0        Percentage         0      Units       NaN                   NaN  \n",
       "1        Percentage         0      Units       NaN                   NaN  \n",
       "2        Percentage         0      Units       NaN                   NaN  \n",
       "3        Percentage         0      Units       NaN                   NaN  \n",
       "4        Percentage         0      Units       NaN                   NaN  \n",
       "\n",
       "[5 rows x 22 columns]"
      ]
     },
     "metadata": {},
     "output_type": "display_data"
    }
   ],
   "source": [
    "# Load OECD data\n",
    "oecd_data = pd.read_csv(\"/Users/ren/Documents/Ciencia de Datos/GDP shi/OECD,DF_BLI,+all.csv\")\n",
    "\n",
    "# Let's examine both datasets\n",
    "print(\"GDP data shape:\", df_gdp.shape)\n",
    "print(\"OECD data shape:\", oecd_data.shape)\n",
    "\n",
    "# Check the first few rows of each dataset\n",
    "print(\"\\nGDP data preview:\")\n",
    "display(df_gdp.head())\n",
    "\n",
    "print(\"\\nOECD data preview:\")\n",
    "display(oecd_data.head())"
   ]
  },
  {
   "cell_type": "code",
   "execution_count": 45,
   "id": "2765581d",
   "metadata": {},
   "outputs": [
    {
     "name": "stdout",
     "output_type": "stream",
     "text": [
      "Available indicators: ['Labour market insecurity' 'Dwellings without basic facilities'\n",
      " 'Feeling safe walking alone at night' 'Housing expenditure'\n",
      " 'Employment rate' 'Long-term unemployment rate'\n",
      " 'Quality of support network' 'Educational attainment' 'Water quality'\n",
      " 'Voter turnout' 'Self-reported health'\n",
      " 'Employees working very long hours'\n",
      " 'Stakeholder engagement for developing regulations' 'Student skills'\n",
      " 'Life satisfaction' 'Rooms per person'\n",
      " 'Household net adjusted disposable income' 'Household net wealth'\n",
      " 'Personal earnings' 'Years in education' 'Air pollution'\n",
      " 'Life expectancy' 'Homicide rate'\n",
      " 'Time devoted to leisure and personal care']\n",
      "\n",
      "Inequality categories: [nan]\n",
      "\n",
      "Number of countries in OECD data: 42\n",
      "Example countries: ['Austria' 'Belgium' 'Canada' 'Czechia' 'Denmark' 'Finland' 'France'\n",
      " 'Germany' 'Greece' 'Hungary']\n"
     ]
    }
   ],
   "source": [
    "# Check unique indicators in OECD data\n",
    "indicators = oecd_data['Indicator'].unique()\n",
    "print(\"Available indicators:\", indicators)\n",
    "\n",
    "# Get unique inequality values to understand the data structure\n",
    "inequalities = oecd_data['Inequality'].unique()\n",
    "print(\"\\nInequality categories:\", inequalities)\n",
    "\n",
    "# Let's see what countries are in the dataset\n",
    "oecd_countries = oecd_data['Country'].unique()\n",
    "print(f\"\\nNumber of countries in OECD data: {len(oecd_countries)}\")\n",
    "print(\"Example countries:\", oecd_countries[:10])"
   ]
  },
  {
   "cell_type": "code",
   "execution_count": 46,
   "id": "7482da1f",
   "metadata": {},
   "outputs": [
    {
     "name": "stdout",
     "output_type": "stream",
     "text": [
      "Work-Life Balance data shape: (40, 22)\n",
      "Civic Engagement data shape: (42, 22)\n",
      "Life Satisfaction data shape: (40, 22)\n",
      "\n",
      "Work-Life Balance data preview:\n"
     ]
    },
    {
     "data": {
      "text/html": [
       "<div>\n",
       "<style scoped>\n",
       "    .dataframe tbody tr th:only-of-type {\n",
       "        vertical-align: middle;\n",
       "    }\n",
       "\n",
       "    .dataframe tbody tr th {\n",
       "        vertical-align: top;\n",
       "    }\n",
       "\n",
       "    .dataframe thead th {\n",
       "        text-align: right;\n",
       "    }\n",
       "</style>\n",
       "<table border=\"1\" class=\"dataframe\">\n",
       "  <thead>\n",
       "    <tr style=\"text-align: right;\">\n",
       "      <th></th>\n",
       "      <th>STRUCTURE</th>\n",
       "      <th>STRUCTURE_ID</th>\n",
       "      <th>STRUCTURE_NAME</th>\n",
       "      <th>ACTION</th>\n",
       "      <th>LOCATION</th>\n",
       "      <th>Country</th>\n",
       "      <th>INDICATOR</th>\n",
       "      <th>Indicator</th>\n",
       "      <th>MEASURE</th>\n",
       "      <th>Measure</th>\n",
       "      <th>...</th>\n",
       "      <th>OBS_VALUE</th>\n",
       "      <th>Observation Value</th>\n",
       "      <th>OBS_STATUS</th>\n",
       "      <th>Observation Status</th>\n",
       "      <th>UNIT_MEASURE</th>\n",
       "      <th>Unit of Measures</th>\n",
       "      <th>UNIT_MULT</th>\n",
       "      <th>Multiplier</th>\n",
       "      <th>BASE_PER</th>\n",
       "      <th>Base reference period</th>\n",
       "    </tr>\n",
       "  </thead>\n",
       "  <tbody>\n",
       "    <tr>\n",
       "      <th>1096</th>\n",
       "      <td>DATAFLOW</td>\n",
       "      <td>OECD:DF_BLI(1.0)</td>\n",
       "      <td>Better Life Index</td>\n",
       "      <td>I</td>\n",
       "      <td>AUS</td>\n",
       "      <td>Australia</td>\n",
       "      <td>WL_EWLH</td>\n",
       "      <td>Employees working very long hours</td>\n",
       "      <td>L</td>\n",
       "      <td>Value</td>\n",
       "      <td>...</td>\n",
       "      <td>12.5</td>\n",
       "      <td>NaN</td>\n",
       "      <td>A</td>\n",
       "      <td>NaN</td>\n",
       "      <td>PC</td>\n",
       "      <td>Percentage</td>\n",
       "      <td>0</td>\n",
       "      <td>Units</td>\n",
       "      <td>NaN</td>\n",
       "      <td>NaN</td>\n",
       "    </tr>\n",
       "    <tr>\n",
       "      <th>1097</th>\n",
       "      <td>DATAFLOW</td>\n",
       "      <td>OECD:DF_BLI(1.0)</td>\n",
       "      <td>Better Life Index</td>\n",
       "      <td>I</td>\n",
       "      <td>AUT</td>\n",
       "      <td>Austria</td>\n",
       "      <td>WL_EWLH</td>\n",
       "      <td>Employees working very long hours</td>\n",
       "      <td>L</td>\n",
       "      <td>Value</td>\n",
       "      <td>...</td>\n",
       "      <td>5.3</td>\n",
       "      <td>NaN</td>\n",
       "      <td>A</td>\n",
       "      <td>NaN</td>\n",
       "      <td>PC</td>\n",
       "      <td>Percentage</td>\n",
       "      <td>0</td>\n",
       "      <td>Units</td>\n",
       "      <td>NaN</td>\n",
       "      <td>NaN</td>\n",
       "    </tr>\n",
       "    <tr>\n",
       "      <th>1098</th>\n",
       "      <td>DATAFLOW</td>\n",
       "      <td>OECD:DF_BLI(1.0)</td>\n",
       "      <td>Better Life Index</td>\n",
       "      <td>I</td>\n",
       "      <td>BEL</td>\n",
       "      <td>Belgium</td>\n",
       "      <td>WL_EWLH</td>\n",
       "      <td>Employees working very long hours</td>\n",
       "      <td>L</td>\n",
       "      <td>Value</td>\n",
       "      <td>...</td>\n",
       "      <td>4.3</td>\n",
       "      <td>NaN</td>\n",
       "      <td>A</td>\n",
       "      <td>NaN</td>\n",
       "      <td>PC</td>\n",
       "      <td>Percentage</td>\n",
       "      <td>0</td>\n",
       "      <td>Units</td>\n",
       "      <td>NaN</td>\n",
       "      <td>NaN</td>\n",
       "    </tr>\n",
       "    <tr>\n",
       "      <th>1099</th>\n",
       "      <td>DATAFLOW</td>\n",
       "      <td>OECD:DF_BLI(1.0)</td>\n",
       "      <td>Better Life Index</td>\n",
       "      <td>I</td>\n",
       "      <td>CAN</td>\n",
       "      <td>Canada</td>\n",
       "      <td>WL_EWLH</td>\n",
       "      <td>Employees working very long hours</td>\n",
       "      <td>L</td>\n",
       "      <td>Value</td>\n",
       "      <td>...</td>\n",
       "      <td>3.3</td>\n",
       "      <td>NaN</td>\n",
       "      <td>A</td>\n",
       "      <td>NaN</td>\n",
       "      <td>PC</td>\n",
       "      <td>Percentage</td>\n",
       "      <td>0</td>\n",
       "      <td>Units</td>\n",
       "      <td>NaN</td>\n",
       "      <td>NaN</td>\n",
       "    </tr>\n",
       "    <tr>\n",
       "      <th>1100</th>\n",
       "      <td>DATAFLOW</td>\n",
       "      <td>OECD:DF_BLI(1.0)</td>\n",
       "      <td>Better Life Index</td>\n",
       "      <td>I</td>\n",
       "      <td>CZE</td>\n",
       "      <td>Czechia</td>\n",
       "      <td>WL_EWLH</td>\n",
       "      <td>Employees working very long hours</td>\n",
       "      <td>L</td>\n",
       "      <td>Value</td>\n",
       "      <td>...</td>\n",
       "      <td>4.5</td>\n",
       "      <td>NaN</td>\n",
       "      <td>A</td>\n",
       "      <td>NaN</td>\n",
       "      <td>PC</td>\n",
       "      <td>Percentage</td>\n",
       "      <td>0</td>\n",
       "      <td>Units</td>\n",
       "      <td>NaN</td>\n",
       "      <td>NaN</td>\n",
       "    </tr>\n",
       "  </tbody>\n",
       "</table>\n",
       "<p>5 rows × 22 columns</p>\n",
       "</div>"
      ],
      "text/plain": [
       "     STRUCTURE      STRUCTURE_ID     STRUCTURE_NAME ACTION LOCATION  \\\n",
       "1096  DATAFLOW  OECD:DF_BLI(1.0)  Better Life Index      I      AUS   \n",
       "1097  DATAFLOW  OECD:DF_BLI(1.0)  Better Life Index      I      AUT   \n",
       "1098  DATAFLOW  OECD:DF_BLI(1.0)  Better Life Index      I      BEL   \n",
       "1099  DATAFLOW  OECD:DF_BLI(1.0)  Better Life Index      I      CAN   \n",
       "1100  DATAFLOW  OECD:DF_BLI(1.0)  Better Life Index      I      CZE   \n",
       "\n",
       "        Country INDICATOR                          Indicator MEASURE Measure  \\\n",
       "1096  Australia   WL_EWLH  Employees working very long hours       L   Value   \n",
       "1097    Austria   WL_EWLH  Employees working very long hours       L   Value   \n",
       "1098    Belgium   WL_EWLH  Employees working very long hours       L   Value   \n",
       "1099     Canada   WL_EWLH  Employees working very long hours       L   Value   \n",
       "1100    Czechia   WL_EWLH  Employees working very long hours       L   Value   \n",
       "\n",
       "      ... OBS_VALUE  Observation Value  OBS_STATUS  Observation Status  \\\n",
       "1096  ...      12.5                NaN           A                 NaN   \n",
       "1097  ...       5.3                NaN           A                 NaN   \n",
       "1098  ...       4.3                NaN           A                 NaN   \n",
       "1099  ...       3.3                NaN           A                 NaN   \n",
       "1100  ...       4.5                NaN           A                 NaN   \n",
       "\n",
       "     UNIT_MEASURE  Unit of Measures UNIT_MULT Multiplier  BASE_PER  \\\n",
       "1096           PC        Percentage         0      Units       NaN   \n",
       "1097           PC        Percentage         0      Units       NaN   \n",
       "1098           PC        Percentage         0      Units       NaN   \n",
       "1099           PC        Percentage         0      Units       NaN   \n",
       "1100           PC        Percentage         0      Units       NaN   \n",
       "\n",
       "     Base reference period  \n",
       "1096                   NaN  \n",
       "1097                   NaN  \n",
       "1098                   NaN  \n",
       "1099                   NaN  \n",
       "1100                   NaN  \n",
       "\n",
       "[5 rows x 22 columns]"
      ]
     },
     "metadata": {},
     "output_type": "display_data"
    },
    {
     "name": "stdout",
     "output_type": "stream",
     "text": [
      "\n",
      "Civic Engagement data preview:\n"
     ]
    },
    {
     "data": {
      "text/html": [
       "<div>\n",
       "<style scoped>\n",
       "    .dataframe tbody tr th:only-of-type {\n",
       "        vertical-align: middle;\n",
       "    }\n",
       "\n",
       "    .dataframe tbody tr th {\n",
       "        vertical-align: top;\n",
       "    }\n",
       "\n",
       "    .dataframe thead th {\n",
       "        text-align: right;\n",
       "    }\n",
       "</style>\n",
       "<table border=\"1\" class=\"dataframe\">\n",
       "  <thead>\n",
       "    <tr style=\"text-align: right;\">\n",
       "      <th></th>\n",
       "      <th>STRUCTURE</th>\n",
       "      <th>STRUCTURE_ID</th>\n",
       "      <th>STRUCTURE_NAME</th>\n",
       "      <th>ACTION</th>\n",
       "      <th>LOCATION</th>\n",
       "      <th>Country</th>\n",
       "      <th>INDICATOR</th>\n",
       "      <th>Indicator</th>\n",
       "      <th>MEASURE</th>\n",
       "      <th>Measure</th>\n",
       "      <th>...</th>\n",
       "      <th>OBS_VALUE</th>\n",
       "      <th>Observation Value</th>\n",
       "      <th>OBS_STATUS</th>\n",
       "      <th>Observation Status</th>\n",
       "      <th>UNIT_MEASURE</th>\n",
       "      <th>Unit of Measures</th>\n",
       "      <th>UNIT_MULT</th>\n",
       "      <th>Multiplier</th>\n",
       "      <th>BASE_PER</th>\n",
       "      <th>Base reference period</th>\n",
       "    </tr>\n",
       "  </thead>\n",
       "  <tbody>\n",
       "    <tr>\n",
       "      <th>875</th>\n",
       "      <td>DATAFLOW</td>\n",
       "      <td>OECD:DF_BLI(1.0)</td>\n",
       "      <td>Better Life Index</td>\n",
       "      <td>I</td>\n",
       "      <td>AUS</td>\n",
       "      <td>Australia</td>\n",
       "      <td>CG_VOTO</td>\n",
       "      <td>Voter turnout</td>\n",
       "      <td>L</td>\n",
       "      <td>Value</td>\n",
       "      <td>...</td>\n",
       "      <td>92.0</td>\n",
       "      <td>NaN</td>\n",
       "      <td>A</td>\n",
       "      <td>NaN</td>\n",
       "      <td>PC</td>\n",
       "      <td>Percentage</td>\n",
       "      <td>0</td>\n",
       "      <td>Units</td>\n",
       "      <td>NaN</td>\n",
       "      <td>NaN</td>\n",
       "    </tr>\n",
       "    <tr>\n",
       "      <th>876</th>\n",
       "      <td>DATAFLOW</td>\n",
       "      <td>OECD:DF_BLI(1.0)</td>\n",
       "      <td>Better Life Index</td>\n",
       "      <td>I</td>\n",
       "      <td>AUT</td>\n",
       "      <td>Austria</td>\n",
       "      <td>CG_VOTO</td>\n",
       "      <td>Voter turnout</td>\n",
       "      <td>L</td>\n",
       "      <td>Value</td>\n",
       "      <td>...</td>\n",
       "      <td>76.0</td>\n",
       "      <td>NaN</td>\n",
       "      <td>A</td>\n",
       "      <td>NaN</td>\n",
       "      <td>PC</td>\n",
       "      <td>Percentage</td>\n",
       "      <td>0</td>\n",
       "      <td>Units</td>\n",
       "      <td>NaN</td>\n",
       "      <td>NaN</td>\n",
       "    </tr>\n",
       "    <tr>\n",
       "      <th>877</th>\n",
       "      <td>DATAFLOW</td>\n",
       "      <td>OECD:DF_BLI(1.0)</td>\n",
       "      <td>Better Life Index</td>\n",
       "      <td>I</td>\n",
       "      <td>BEL</td>\n",
       "      <td>Belgium</td>\n",
       "      <td>CG_VOTO</td>\n",
       "      <td>Voter turnout</td>\n",
       "      <td>L</td>\n",
       "      <td>Value</td>\n",
       "      <td>...</td>\n",
       "      <td>88.0</td>\n",
       "      <td>NaN</td>\n",
       "      <td>A</td>\n",
       "      <td>NaN</td>\n",
       "      <td>PC</td>\n",
       "      <td>Percentage</td>\n",
       "      <td>0</td>\n",
       "      <td>Units</td>\n",
       "      <td>NaN</td>\n",
       "      <td>NaN</td>\n",
       "    </tr>\n",
       "    <tr>\n",
       "      <th>878</th>\n",
       "      <td>DATAFLOW</td>\n",
       "      <td>OECD:DF_BLI(1.0)</td>\n",
       "      <td>Better Life Index</td>\n",
       "      <td>I</td>\n",
       "      <td>CAN</td>\n",
       "      <td>Canada</td>\n",
       "      <td>CG_VOTO</td>\n",
       "      <td>Voter turnout</td>\n",
       "      <td>L</td>\n",
       "      <td>Value</td>\n",
       "      <td>...</td>\n",
       "      <td>68.0</td>\n",
       "      <td>NaN</td>\n",
       "      <td>A</td>\n",
       "      <td>NaN</td>\n",
       "      <td>PC</td>\n",
       "      <td>Percentage</td>\n",
       "      <td>0</td>\n",
       "      <td>Units</td>\n",
       "      <td>NaN</td>\n",
       "      <td>NaN</td>\n",
       "    </tr>\n",
       "    <tr>\n",
       "      <th>879</th>\n",
       "      <td>DATAFLOW</td>\n",
       "      <td>OECD:DF_BLI(1.0)</td>\n",
       "      <td>Better Life Index</td>\n",
       "      <td>I</td>\n",
       "      <td>CZE</td>\n",
       "      <td>Czechia</td>\n",
       "      <td>CG_VOTO</td>\n",
       "      <td>Voter turnout</td>\n",
       "      <td>L</td>\n",
       "      <td>Value</td>\n",
       "      <td>...</td>\n",
       "      <td>62.0</td>\n",
       "      <td>NaN</td>\n",
       "      <td>A</td>\n",
       "      <td>NaN</td>\n",
       "      <td>PC</td>\n",
       "      <td>Percentage</td>\n",
       "      <td>0</td>\n",
       "      <td>Units</td>\n",
       "      <td>NaN</td>\n",
       "      <td>NaN</td>\n",
       "    </tr>\n",
       "  </tbody>\n",
       "</table>\n",
       "<p>5 rows × 22 columns</p>\n",
       "</div>"
      ],
      "text/plain": [
       "    STRUCTURE      STRUCTURE_ID     STRUCTURE_NAME ACTION LOCATION    Country  \\\n",
       "875  DATAFLOW  OECD:DF_BLI(1.0)  Better Life Index      I      AUS  Australia   \n",
       "876  DATAFLOW  OECD:DF_BLI(1.0)  Better Life Index      I      AUT    Austria   \n",
       "877  DATAFLOW  OECD:DF_BLI(1.0)  Better Life Index      I      BEL    Belgium   \n",
       "878  DATAFLOW  OECD:DF_BLI(1.0)  Better Life Index      I      CAN     Canada   \n",
       "879  DATAFLOW  OECD:DF_BLI(1.0)  Better Life Index      I      CZE    Czechia   \n",
       "\n",
       "    INDICATOR      Indicator MEASURE Measure  ... OBS_VALUE  \\\n",
       "875   CG_VOTO  Voter turnout       L   Value  ...      92.0   \n",
       "876   CG_VOTO  Voter turnout       L   Value  ...      76.0   \n",
       "877   CG_VOTO  Voter turnout       L   Value  ...      88.0   \n",
       "878   CG_VOTO  Voter turnout       L   Value  ...      68.0   \n",
       "879   CG_VOTO  Voter turnout       L   Value  ...      62.0   \n",
       "\n",
       "     Observation Value  OBS_STATUS  Observation Status UNIT_MEASURE  \\\n",
       "875                NaN           A                 NaN           PC   \n",
       "876                NaN           A                 NaN           PC   \n",
       "877                NaN           A                 NaN           PC   \n",
       "878                NaN           A                 NaN           PC   \n",
       "879                NaN           A                 NaN           PC   \n",
       "\n",
       "     Unit of Measures UNIT_MULT Multiplier  BASE_PER Base reference period  \n",
       "875        Percentage         0      Units       NaN                   NaN  \n",
       "876        Percentage         0      Units       NaN                   NaN  \n",
       "877        Percentage         0      Units       NaN                   NaN  \n",
       "878        Percentage         0      Units       NaN                   NaN  \n",
       "879        Percentage         0      Units       NaN                   NaN  \n",
       "\n",
       "[5 rows x 22 columns]"
      ]
     },
     "metadata": {},
     "output_type": "display_data"
    },
    {
     "name": "stdout",
     "output_type": "stream",
     "text": [
      "\n",
      "Life Satisfaction data preview:\n"
     ]
    },
    {
     "data": {
      "text/html": [
       "<div>\n",
       "<style scoped>\n",
       "    .dataframe tbody tr th:only-of-type {\n",
       "        vertical-align: middle;\n",
       "    }\n",
       "\n",
       "    .dataframe tbody tr th {\n",
       "        vertical-align: top;\n",
       "    }\n",
       "\n",
       "    .dataframe thead th {\n",
       "        text-align: right;\n",
       "    }\n",
       "</style>\n",
       "<table border=\"1\" class=\"dataframe\">\n",
       "  <thead>\n",
       "    <tr style=\"text-align: right;\">\n",
       "      <th></th>\n",
       "      <th>STRUCTURE</th>\n",
       "      <th>STRUCTURE_ID</th>\n",
       "      <th>STRUCTURE_NAME</th>\n",
       "      <th>ACTION</th>\n",
       "      <th>LOCATION</th>\n",
       "      <th>Country</th>\n",
       "      <th>INDICATOR</th>\n",
       "      <th>Indicator</th>\n",
       "      <th>MEASURE</th>\n",
       "      <th>Measure</th>\n",
       "      <th>...</th>\n",
       "      <th>OBS_VALUE</th>\n",
       "      <th>Observation Value</th>\n",
       "      <th>OBS_STATUS</th>\n",
       "      <th>Observation Status</th>\n",
       "      <th>UNIT_MEASURE</th>\n",
       "      <th>Unit of Measures</th>\n",
       "      <th>UNIT_MULT</th>\n",
       "      <th>Multiplier</th>\n",
       "      <th>BASE_PER</th>\n",
       "      <th>Base reference period</th>\n",
       "    </tr>\n",
       "  </thead>\n",
       "  <tbody>\n",
       "    <tr>\n",
       "      <th>914</th>\n",
       "      <td>DATAFLOW</td>\n",
       "      <td>OECD:DF_BLI(1.0)</td>\n",
       "      <td>Better Life Index</td>\n",
       "      <td>I</td>\n",
       "      <td>AUS</td>\n",
       "      <td>Australia</td>\n",
       "      <td>HS_SFRH</td>\n",
       "      <td>Self-reported health</td>\n",
       "      <td>L</td>\n",
       "      <td>Value</td>\n",
       "      <td>...</td>\n",
       "      <td>85.0</td>\n",
       "      <td>NaN</td>\n",
       "      <td>A</td>\n",
       "      <td>NaN</td>\n",
       "      <td>PC</td>\n",
       "      <td>Percentage</td>\n",
       "      <td>0</td>\n",
       "      <td>Units</td>\n",
       "      <td>NaN</td>\n",
       "      <td>NaN</td>\n",
       "    </tr>\n",
       "    <tr>\n",
       "      <th>915</th>\n",
       "      <td>DATAFLOW</td>\n",
       "      <td>OECD:DF_BLI(1.0)</td>\n",
       "      <td>Better Life Index</td>\n",
       "      <td>I</td>\n",
       "      <td>AUT</td>\n",
       "      <td>Austria</td>\n",
       "      <td>HS_SFRH</td>\n",
       "      <td>Self-reported health</td>\n",
       "      <td>L</td>\n",
       "      <td>Value</td>\n",
       "      <td>...</td>\n",
       "      <td>71.0</td>\n",
       "      <td>NaN</td>\n",
       "      <td>A</td>\n",
       "      <td>NaN</td>\n",
       "      <td>PC</td>\n",
       "      <td>Percentage</td>\n",
       "      <td>0</td>\n",
       "      <td>Units</td>\n",
       "      <td>NaN</td>\n",
       "      <td>NaN</td>\n",
       "    </tr>\n",
       "    <tr>\n",
       "      <th>916</th>\n",
       "      <td>DATAFLOW</td>\n",
       "      <td>OECD:DF_BLI(1.0)</td>\n",
       "      <td>Better Life Index</td>\n",
       "      <td>I</td>\n",
       "      <td>BEL</td>\n",
       "      <td>Belgium</td>\n",
       "      <td>HS_SFRH</td>\n",
       "      <td>Self-reported health</td>\n",
       "      <td>L</td>\n",
       "      <td>Value</td>\n",
       "      <td>...</td>\n",
       "      <td>74.0</td>\n",
       "      <td>NaN</td>\n",
       "      <td>A</td>\n",
       "      <td>NaN</td>\n",
       "      <td>PC</td>\n",
       "      <td>Percentage</td>\n",
       "      <td>0</td>\n",
       "      <td>Units</td>\n",
       "      <td>NaN</td>\n",
       "      <td>NaN</td>\n",
       "    </tr>\n",
       "    <tr>\n",
       "      <th>917</th>\n",
       "      <td>DATAFLOW</td>\n",
       "      <td>OECD:DF_BLI(1.0)</td>\n",
       "      <td>Better Life Index</td>\n",
       "      <td>I</td>\n",
       "      <td>CAN</td>\n",
       "      <td>Canada</td>\n",
       "      <td>HS_SFRH</td>\n",
       "      <td>Self-reported health</td>\n",
       "      <td>L</td>\n",
       "      <td>Value</td>\n",
       "      <td>...</td>\n",
       "      <td>89.0</td>\n",
       "      <td>NaN</td>\n",
       "      <td>A</td>\n",
       "      <td>NaN</td>\n",
       "      <td>PC</td>\n",
       "      <td>Percentage</td>\n",
       "      <td>0</td>\n",
       "      <td>Units</td>\n",
       "      <td>NaN</td>\n",
       "      <td>NaN</td>\n",
       "    </tr>\n",
       "    <tr>\n",
       "      <th>918</th>\n",
       "      <td>DATAFLOW</td>\n",
       "      <td>OECD:DF_BLI(1.0)</td>\n",
       "      <td>Better Life Index</td>\n",
       "      <td>I</td>\n",
       "      <td>CZE</td>\n",
       "      <td>Czechia</td>\n",
       "      <td>HS_SFRH</td>\n",
       "      <td>Self-reported health</td>\n",
       "      <td>L</td>\n",
       "      <td>Value</td>\n",
       "      <td>...</td>\n",
       "      <td>62.0</td>\n",
       "      <td>NaN</td>\n",
       "      <td>A</td>\n",
       "      <td>NaN</td>\n",
       "      <td>PC</td>\n",
       "      <td>Percentage</td>\n",
       "      <td>0</td>\n",
       "      <td>Units</td>\n",
       "      <td>NaN</td>\n",
       "      <td>NaN</td>\n",
       "    </tr>\n",
       "  </tbody>\n",
       "</table>\n",
       "<p>5 rows × 22 columns</p>\n",
       "</div>"
      ],
      "text/plain": [
       "    STRUCTURE      STRUCTURE_ID     STRUCTURE_NAME ACTION LOCATION    Country  \\\n",
       "914  DATAFLOW  OECD:DF_BLI(1.0)  Better Life Index      I      AUS  Australia   \n",
       "915  DATAFLOW  OECD:DF_BLI(1.0)  Better Life Index      I      AUT    Austria   \n",
       "916  DATAFLOW  OECD:DF_BLI(1.0)  Better Life Index      I      BEL    Belgium   \n",
       "917  DATAFLOW  OECD:DF_BLI(1.0)  Better Life Index      I      CAN     Canada   \n",
       "918  DATAFLOW  OECD:DF_BLI(1.0)  Better Life Index      I      CZE    Czechia   \n",
       "\n",
       "    INDICATOR             Indicator MEASURE Measure  ... OBS_VALUE  \\\n",
       "914   HS_SFRH  Self-reported health       L   Value  ...      85.0   \n",
       "915   HS_SFRH  Self-reported health       L   Value  ...      71.0   \n",
       "916   HS_SFRH  Self-reported health       L   Value  ...      74.0   \n",
       "917   HS_SFRH  Self-reported health       L   Value  ...      89.0   \n",
       "918   HS_SFRH  Self-reported health       L   Value  ...      62.0   \n",
       "\n",
       "     Observation Value  OBS_STATUS  Observation Status UNIT_MEASURE  \\\n",
       "914                NaN           A                 NaN           PC   \n",
       "915                NaN           A                 NaN           PC   \n",
       "916                NaN           A                 NaN           PC   \n",
       "917                NaN           A                 NaN           PC   \n",
       "918                NaN           A                 NaN           PC   \n",
       "\n",
       "     Unit of Measures UNIT_MULT Multiplier  BASE_PER Base reference period  \n",
       "914        Percentage         0      Units       NaN                   NaN  \n",
       "915        Percentage         0      Units       NaN                   NaN  \n",
       "916        Percentage         0      Units       NaN                   NaN  \n",
       "917        Percentage         0      Units       NaN                   NaN  \n",
       "918        Percentage         0      Units       NaN                   NaN  \n",
       "\n",
       "[5 rows x 22 columns]"
      ]
     },
     "metadata": {},
     "output_type": "display_data"
    }
   ],
   "source": [
    "# Process OECD data to extract the indicators we want\n",
    "# We'll focus on TOT (total) values for all population\n",
    "\n",
    "# Work-Life Balance (Employees working very long hours)\n",
    "work_life_balance = oecd_data[(oecd_data['Indicator'] == 'Employees working very long hours') & \n",
    "                             (oecd_data['INEQUALITY'] == 'TOT')]\n",
    "\n",
    "# Civic Engagement (Voter turnout)\n",
    "civic_engagement = oecd_data[(oecd_data['Indicator'] == 'Voter turnout') & \n",
    "                           (oecd_data['INEQUALITY'] == 'TOT')]\n",
    "\n",
    "# Life Satisfaction indicator\n",
    "life_satisfaction = oecd_data[(oecd_data['Indicator'] == 'Self-reported health') & \n",
    "                            (oecd_data['INEQUALITY'] == 'TOT')]\n",
    "\n",
    "# Check the shapes to make sure we have data\n",
    "print(\"Work-Life Balance data shape:\", work_life_balance.shape)\n",
    "print(\"Civic Engagement data shape:\", civic_engagement.shape)\n",
    "print(\"Life Satisfaction data shape:\", life_satisfaction.shape)\n",
    "\n",
    "# Preview the data to verify we have the right information\n",
    "print(\"\\nWork-Life Balance data preview:\")\n",
    "display(work_life_balance.head())\n",
    "\n",
    "print(\"\\nCivic Engagement data preview:\")\n",
    "display(civic_engagement.head())\n",
    "\n",
    "print(\"\\nLife Satisfaction data preview:\")\n",
    "display(life_satisfaction.head())"
   ]
  },
  {
   "cell_type": "code",
   "execution_count": 47,
   "id": "d414afec",
   "metadata": {},
   "outputs": [
    {
     "name": "stdout",
     "output_type": "stream",
     "text": [
      "Available numeric columns in GDP data: Index(['Year', 'ny_gdp_pcap_pp_kd'], dtype='object')\n",
      "Latest available year column: ny_gdp_pcap_pp_kd\n",
      "\n",
      "Latest GDP data shape: (213, 2)\n",
      "Preview of latest GDP data:\n"
     ]
    },
    {
     "data": {
      "text/html": [
       "<div>\n",
       "<style scoped>\n",
       "    .dataframe tbody tr th:only-of-type {\n",
       "        vertical-align: middle;\n",
       "    }\n",
       "\n",
       "    .dataframe tbody tr th {\n",
       "        vertical-align: top;\n",
       "    }\n",
       "\n",
       "    .dataframe thead th {\n",
       "        text-align: right;\n",
       "    }\n",
       "</style>\n",
       "<table border=\"1\" class=\"dataframe\">\n",
       "  <thead>\n",
       "    <tr style=\"text-align: right;\">\n",
       "      <th></th>\n",
       "      <th>Country</th>\n",
       "      <th>GDP_per_capita</th>\n",
       "    </tr>\n",
       "  </thead>\n",
       "  <tbody>\n",
       "    <tr>\n",
       "      <th>0</th>\n",
       "      <td>Afghanistan</td>\n",
       "      <td>1992.4244</td>\n",
       "    </tr>\n",
       "    <tr>\n",
       "      <th>1</th>\n",
       "      <td>Albania</td>\n",
       "      <td>18244.2930</td>\n",
       "    </tr>\n",
       "    <tr>\n",
       "      <th>2</th>\n",
       "      <td>Algeria</td>\n",
       "      <td>15159.3240</td>\n",
       "    </tr>\n",
       "    <tr>\n",
       "      <th>3</th>\n",
       "      <td>Andorra</td>\n",
       "      <td>64631.2970</td>\n",
       "    </tr>\n",
       "    <tr>\n",
       "      <th>4</th>\n",
       "      <td>Angola</td>\n",
       "      <td>7244.8930</td>\n",
       "    </tr>\n",
       "  </tbody>\n",
       "</table>\n",
       "</div>"
      ],
      "text/plain": [
       "       Country  GDP_per_capita\n",
       "0  Afghanistan       1992.4244\n",
       "1      Albania      18244.2930\n",
       "2      Algeria      15159.3240\n",
       "3      Andorra      64631.2970\n",
       "4       Angola       7244.8930"
      ]
     },
     "metadata": {},
     "output_type": "display_data"
    }
   ],
   "source": [
    "# Process the GDP data for merging\n",
    "# First, let's identify the available years\n",
    "numeric_columns = df_gdp.select_dtypes(include=['number']).columns\n",
    "years = [col for col in numeric_columns if col != 'Year']\n",
    "print(\"Available numeric columns in GDP data:\", numeric_columns)\n",
    "print(f\"Latest available year column: {years[-1]}\")\n",
    "\n",
    "# For this analysis, we'll use 2021 GDP data as it's likely to have better coverage\n",
    "# We need to reshape the GDP data to get one row per country with the latest value\n",
    "latest_gdp = df_gdp.copy()\n",
    "\n",
    "# Group by entity (country) and get the most recent non-null GDP value\n",
    "latest_gdp = latest_gdp.sort_values(['Entity', 'Year']).groupby('Entity').last().reset_index()\n",
    "latest_gdp = latest_gdp[['Entity', 'ny_gdp_pcap_pp_kd']]\n",
    "latest_gdp.rename(columns={'Entity': 'Country', 'ny_gdp_pcap_pp_kd': 'GDP_per_capita'}, inplace=True)\n",
    "\n",
    "print(\"\\nLatest GDP data shape:\", latest_gdp.shape)\n",
    "print(\"Preview of latest GDP data:\")\n",
    "display(latest_gdp.head())"
   ]
  },
  {
   "cell_type": "code",
   "execution_count": 48,
   "id": "df36b519",
   "metadata": {},
   "outputs": [
    {
     "name": "stdout",
     "output_type": "stream",
     "text": [
      "Work-Life Balance simplified shape: (40, 2)\n",
      "Civic Engagement simplified shape: (42, 2)\n",
      "Life Satisfaction simplified shape: (40, 2)\n",
      "\n",
      "Work-Life Balance simplified preview:\n"
     ]
    },
    {
     "data": {
      "text/html": [
       "<div>\n",
       "<style scoped>\n",
       "    .dataframe tbody tr th:only-of-type {\n",
       "        vertical-align: middle;\n",
       "    }\n",
       "\n",
       "    .dataframe tbody tr th {\n",
       "        vertical-align: top;\n",
       "    }\n",
       "\n",
       "    .dataframe thead th {\n",
       "        text-align: right;\n",
       "    }\n",
       "</style>\n",
       "<table border=\"1\" class=\"dataframe\">\n",
       "  <thead>\n",
       "    <tr style=\"text-align: right;\">\n",
       "      <th></th>\n",
       "      <th>Country</th>\n",
       "      <th>Work_Life_Balance</th>\n",
       "    </tr>\n",
       "  </thead>\n",
       "  <tbody>\n",
       "    <tr>\n",
       "      <th>1096</th>\n",
       "      <td>Australia</td>\n",
       "      <td>12.5</td>\n",
       "    </tr>\n",
       "    <tr>\n",
       "      <th>1097</th>\n",
       "      <td>Austria</td>\n",
       "      <td>5.3</td>\n",
       "    </tr>\n",
       "    <tr>\n",
       "      <th>1098</th>\n",
       "      <td>Belgium</td>\n",
       "      <td>4.3</td>\n",
       "    </tr>\n",
       "    <tr>\n",
       "      <th>1099</th>\n",
       "      <td>Canada</td>\n",
       "      <td>3.3</td>\n",
       "    </tr>\n",
       "    <tr>\n",
       "      <th>1100</th>\n",
       "      <td>Czechia</td>\n",
       "      <td>4.5</td>\n",
       "    </tr>\n",
       "  </tbody>\n",
       "</table>\n",
       "</div>"
      ],
      "text/plain": [
       "        Country  Work_Life_Balance\n",
       "1096  Australia               12.5\n",
       "1097    Austria                5.3\n",
       "1098    Belgium                4.3\n",
       "1099     Canada                3.3\n",
       "1100    Czechia                4.5"
      ]
     },
     "metadata": {},
     "output_type": "display_data"
    },
    {
     "name": "stdout",
     "output_type": "stream",
     "text": [
      "\n",
      "Civic Engagement simplified preview:\n"
     ]
    },
    {
     "data": {
      "text/html": [
       "<div>\n",
       "<style scoped>\n",
       "    .dataframe tbody tr th:only-of-type {\n",
       "        vertical-align: middle;\n",
       "    }\n",
       "\n",
       "    .dataframe tbody tr th {\n",
       "        vertical-align: top;\n",
       "    }\n",
       "\n",
       "    .dataframe thead th {\n",
       "        text-align: right;\n",
       "    }\n",
       "</style>\n",
       "<table border=\"1\" class=\"dataframe\">\n",
       "  <thead>\n",
       "    <tr style=\"text-align: right;\">\n",
       "      <th></th>\n",
       "      <th>Country</th>\n",
       "      <th>Civic_Engagement</th>\n",
       "    </tr>\n",
       "  </thead>\n",
       "  <tbody>\n",
       "    <tr>\n",
       "      <th>875</th>\n",
       "      <td>Australia</td>\n",
       "      <td>92.0</td>\n",
       "    </tr>\n",
       "    <tr>\n",
       "      <th>876</th>\n",
       "      <td>Austria</td>\n",
       "      <td>76.0</td>\n",
       "    </tr>\n",
       "    <tr>\n",
       "      <th>877</th>\n",
       "      <td>Belgium</td>\n",
       "      <td>88.0</td>\n",
       "    </tr>\n",
       "    <tr>\n",
       "      <th>878</th>\n",
       "      <td>Canada</td>\n",
       "      <td>68.0</td>\n",
       "    </tr>\n",
       "    <tr>\n",
       "      <th>879</th>\n",
       "      <td>Czechia</td>\n",
       "      <td>62.0</td>\n",
       "    </tr>\n",
       "  </tbody>\n",
       "</table>\n",
       "</div>"
      ],
      "text/plain": [
       "       Country  Civic_Engagement\n",
       "875  Australia              92.0\n",
       "876    Austria              76.0\n",
       "877    Belgium              88.0\n",
       "878     Canada              68.0\n",
       "879    Czechia              62.0"
      ]
     },
     "metadata": {},
     "output_type": "display_data"
    },
    {
     "name": "stdout",
     "output_type": "stream",
     "text": [
      "\n",
      "Life Satisfaction simplified preview:\n"
     ]
    },
    {
     "data": {
      "text/html": [
       "<div>\n",
       "<style scoped>\n",
       "    .dataframe tbody tr th:only-of-type {\n",
       "        vertical-align: middle;\n",
       "    }\n",
       "\n",
       "    .dataframe tbody tr th {\n",
       "        vertical-align: top;\n",
       "    }\n",
       "\n",
       "    .dataframe thead th {\n",
       "        text-align: right;\n",
       "    }\n",
       "</style>\n",
       "<table border=\"1\" class=\"dataframe\">\n",
       "  <thead>\n",
       "    <tr style=\"text-align: right;\">\n",
       "      <th></th>\n",
       "      <th>Country</th>\n",
       "      <th>Life_Satisfaction</th>\n",
       "    </tr>\n",
       "  </thead>\n",
       "  <tbody>\n",
       "    <tr>\n",
       "      <th>914</th>\n",
       "      <td>Australia</td>\n",
       "      <td>85.0</td>\n",
       "    </tr>\n",
       "    <tr>\n",
       "      <th>915</th>\n",
       "      <td>Austria</td>\n",
       "      <td>71.0</td>\n",
       "    </tr>\n",
       "    <tr>\n",
       "      <th>916</th>\n",
       "      <td>Belgium</td>\n",
       "      <td>74.0</td>\n",
       "    </tr>\n",
       "    <tr>\n",
       "      <th>917</th>\n",
       "      <td>Canada</td>\n",
       "      <td>89.0</td>\n",
       "    </tr>\n",
       "    <tr>\n",
       "      <th>918</th>\n",
       "      <td>Czechia</td>\n",
       "      <td>62.0</td>\n",
       "    </tr>\n",
       "  </tbody>\n",
       "</table>\n",
       "</div>"
      ],
      "text/plain": [
       "       Country  Life_Satisfaction\n",
       "914  Australia               85.0\n",
       "915    Austria               71.0\n",
       "916    Belgium               74.0\n",
       "917     Canada               89.0\n",
       "918    Czechia               62.0"
      ]
     },
     "metadata": {},
     "output_type": "display_data"
    }
   ],
   "source": [
    "# Prepare simplified dataframes with just the country and indicator value\n",
    "wlb_simplified = work_life_balance[['Country', 'OBS_VALUE']].copy()\n",
    "wlb_simplified.rename(columns={'OBS_VALUE': 'Work_Life_Balance'}, inplace=True)\n",
    "\n",
    "ce_simplified = civic_engagement[['Country', 'OBS_VALUE']].copy()\n",
    "ce_simplified.rename(columns={'OBS_VALUE': 'Civic_Engagement'}, inplace=True)\n",
    "\n",
    "ls_simplified = life_satisfaction[['Country', 'OBS_VALUE']].copy()\n",
    "ls_simplified.rename(columns={'OBS_VALUE': 'Life_Satisfaction'}, inplace=True)\n",
    "\n",
    "# Check that we have data\n",
    "print(\"Work-Life Balance simplified shape:\", wlb_simplified.shape)\n",
    "print(\"Civic Engagement simplified shape:\", ce_simplified.shape)\n",
    "print(\"Life Satisfaction simplified shape:\", ls_simplified.shape)\n",
    "\n",
    "# Display the first few rows of each simplified dataframe\n",
    "print(\"\\nWork-Life Balance simplified preview:\")\n",
    "display(wlb_simplified.head())\n",
    "\n",
    "print(\"\\nCivic Engagement simplified preview:\")\n",
    "display(ce_simplified.head())\n",
    "\n",
    "print(\"\\nLife Satisfaction simplified preview:\")\n",
    "display(ls_simplified.head())"
   ]
  },
  {
   "cell_type": "code",
   "execution_count": 49,
   "id": "5a2b4f64",
   "metadata": {},
   "outputs": [
    {
     "name": "stdout",
     "output_type": "stream",
     "text": [
      "Final merged dataframe shape: (213, 5)\n",
      "\n",
      "Preview of merged dataframe:\n"
     ]
    },
    {
     "data": {
      "text/html": [
       "<div>\n",
       "<style scoped>\n",
       "    .dataframe tbody tr th:only-of-type {\n",
       "        vertical-align: middle;\n",
       "    }\n",
       "\n",
       "    .dataframe tbody tr th {\n",
       "        vertical-align: top;\n",
       "    }\n",
       "\n",
       "    .dataframe thead th {\n",
       "        text-align: right;\n",
       "    }\n",
       "</style>\n",
       "<table border=\"1\" class=\"dataframe\">\n",
       "  <thead>\n",
       "    <tr style=\"text-align: right;\">\n",
       "      <th></th>\n",
       "      <th>Country</th>\n",
       "      <th>GDP_per_capita</th>\n",
       "      <th>Work_Life_Balance</th>\n",
       "      <th>Civic_Engagement</th>\n",
       "      <th>Life_Satisfaction</th>\n",
       "    </tr>\n",
       "  </thead>\n",
       "  <tbody>\n",
       "    <tr>\n",
       "      <th>0</th>\n",
       "      <td>Afghanistan</td>\n",
       "      <td>1992.4244</td>\n",
       "      <td>NaN</td>\n",
       "      <td>NaN</td>\n",
       "      <td>NaN</td>\n",
       "    </tr>\n",
       "    <tr>\n",
       "      <th>1</th>\n",
       "      <td>Albania</td>\n",
       "      <td>18244.2930</td>\n",
       "      <td>NaN</td>\n",
       "      <td>NaN</td>\n",
       "      <td>NaN</td>\n",
       "    </tr>\n",
       "    <tr>\n",
       "      <th>2</th>\n",
       "      <td>Algeria</td>\n",
       "      <td>15159.3240</td>\n",
       "      <td>NaN</td>\n",
       "      <td>NaN</td>\n",
       "      <td>NaN</td>\n",
       "    </tr>\n",
       "    <tr>\n",
       "      <th>3</th>\n",
       "      <td>Andorra</td>\n",
       "      <td>64631.2970</td>\n",
       "      <td>NaN</td>\n",
       "      <td>NaN</td>\n",
       "      <td>NaN</td>\n",
       "    </tr>\n",
       "    <tr>\n",
       "      <th>4</th>\n",
       "      <td>Angola</td>\n",
       "      <td>7244.8930</td>\n",
       "      <td>NaN</td>\n",
       "      <td>NaN</td>\n",
       "      <td>NaN</td>\n",
       "    </tr>\n",
       "    <tr>\n",
       "      <th>5</th>\n",
       "      <td>Antigua and Barbuda</td>\n",
       "      <td>28967.2560</td>\n",
       "      <td>NaN</td>\n",
       "      <td>NaN</td>\n",
       "      <td>NaN</td>\n",
       "    </tr>\n",
       "    <tr>\n",
       "      <th>6</th>\n",
       "      <td>Argentina</td>\n",
       "      <td>27104.9800</td>\n",
       "      <td>NaN</td>\n",
       "      <td>NaN</td>\n",
       "      <td>NaN</td>\n",
       "    </tr>\n",
       "    <tr>\n",
       "      <th>7</th>\n",
       "      <td>Armenia</td>\n",
       "      <td>19230.1900</td>\n",
       "      <td>NaN</td>\n",
       "      <td>NaN</td>\n",
       "      <td>NaN</td>\n",
       "    </tr>\n",
       "    <tr>\n",
       "      <th>8</th>\n",
       "      <td>Aruba</td>\n",
       "      <td>40516.8100</td>\n",
       "      <td>NaN</td>\n",
       "      <td>NaN</td>\n",
       "      <td>NaN</td>\n",
       "    </tr>\n",
       "    <tr>\n",
       "      <th>9</th>\n",
       "      <td>Australia</td>\n",
       "      <td>59552.8800</td>\n",
       "      <td>12.5</td>\n",
       "      <td>92.0</td>\n",
       "      <td>85.0</td>\n",
       "    </tr>\n",
       "  </tbody>\n",
       "</table>\n",
       "</div>"
      ],
      "text/plain": [
       "               Country  GDP_per_capita  Work_Life_Balance  Civic_Engagement  \\\n",
       "0          Afghanistan       1992.4244                NaN               NaN   \n",
       "1              Albania      18244.2930                NaN               NaN   \n",
       "2              Algeria      15159.3240                NaN               NaN   \n",
       "3              Andorra      64631.2970                NaN               NaN   \n",
       "4               Angola       7244.8930                NaN               NaN   \n",
       "5  Antigua and Barbuda      28967.2560                NaN               NaN   \n",
       "6            Argentina      27104.9800                NaN               NaN   \n",
       "7              Armenia      19230.1900                NaN               NaN   \n",
       "8                Aruba      40516.8100                NaN               NaN   \n",
       "9            Australia      59552.8800               12.5              92.0   \n",
       "\n",
       "   Life_Satisfaction  \n",
       "0                NaN  \n",
       "1                NaN  \n",
       "2                NaN  \n",
       "3                NaN  \n",
       "4                NaN  \n",
       "5                NaN  \n",
       "6                NaN  \n",
       "7                NaN  \n",
       "8                NaN  \n",
       "9               85.0  "
      ]
     },
     "metadata": {},
     "output_type": "display_data"
    },
    {
     "name": "stdout",
     "output_type": "stream",
     "text": [
      "\n",
      "Missing values in each column:\n",
      "Country                0\n",
      "GDP_per_capita         0\n",
      "Work_Life_Balance    176\n",
      "Civic_Engagement     175\n",
      "Life_Satisfaction    177\n",
      "dtype: int64\n",
      "\n",
      "Number of OECD countries: 41\n",
      "\n",
      "OECD countries in merged dataframe: 38\n",
      "\n",
      "Number of OECD countries with complete data: 35\n",
      "\n",
      "OECD countries with complete data:\n"
     ]
    },
    {
     "data": {
      "text/plain": [
       "array(['Australia', 'Austria', 'Belgium', 'Canada', 'Chile', 'Colombia',\n",
       "       'Costa Rica', 'Czechia', 'Denmark', 'Estonia', 'Finland', 'France',\n",
       "       'Germany', 'Greece', 'Hungary', 'Iceland', 'Ireland', 'Israel',\n",
       "       'Italy', 'Latvia', 'Lithuania', 'Luxembourg', 'Mexico',\n",
       "       'Netherlands', 'New Zealand', 'Norway', 'Poland', 'Portugal',\n",
       "       'Russia', 'Slovenia', 'Spain', 'Sweden', 'Switzerland',\n",
       "       'United Kingdom', 'United States'], dtype=object)"
      ]
     },
     "metadata": {},
     "output_type": "display_data"
    }
   ],
   "source": [
    "# Merge the datasets\n",
    "# Start with GDP data\n",
    "merged_df = latest_gdp.copy()\n",
    "\n",
    "# Merge with Work-Life Balance\n",
    "merged_df = pd.merge(merged_df, wlb_simplified, on='Country', how='left')\n",
    "\n",
    "# Merge with Civic Engagement\n",
    "merged_df = pd.merge(merged_df, ce_simplified, on='Country', how='left')\n",
    "\n",
    "# Merge with Life Satisfaction\n",
    "merged_df = pd.merge(merged_df, ls_simplified, on='Country', how='left')\n",
    "\n",
    "# Check the final merged dataset\n",
    "print(\"Final merged dataframe shape:\", merged_df.shape)\n",
    "print(\"\\nPreview of merged dataframe:\")\n",
    "display(merged_df.head(10))\n",
    "\n",
    "# Check for missing values\n",
    "print(\"\\nMissing values in each column:\")\n",
    "print(merged_df.isnull().sum())\n",
    "\n",
    "# Get the list of OECD countries (excluding 'OECD - Total' which is not a country)\n",
    "oecd_country_list = [country for country in oecd_countries if country != 'OECD - Total']\n",
    "print(f\"\\nNumber of OECD countries: {len(oecd_country_list)}\")\n",
    "\n",
    "# Filter the merged dataframe to include only OECD countries\n",
    "oecd_merged_df = merged_df[merged_df['Country'].isin(oecd_country_list)].copy()\n",
    "print(f\"\\nOECD countries in merged dataframe: {len(oecd_merged_df)}\")\n",
    "\n",
    "# Find common OECD countries between all datasets (those with complete data)\n",
    "oecd_complete_data = oecd_merged_df.dropna().copy()\n",
    "print(f\"\\nNumber of OECD countries with complete data: {len(oecd_complete_data)}\")\n",
    "print(\"\\nOECD countries with complete data:\")\n",
    "display(oecd_complete_data['Country'].values)"
   ]
  },
  {
   "cell_type": "code",
   "execution_count": 50,
   "id": "a12373cb",
   "metadata": {},
   "outputs": [
    {
     "name": "stdout",
     "output_type": "stream",
     "text": [
      "OECD countries - GDP + Work-Life Balance: 37 countries\n",
      "OECD countries - GDP + Civic Engagement: 38 countries\n",
      "OECD countries - GDP + Life Satisfaction: 36 countries\n",
      "\n",
      "Final cleaned OECD dataframe has 35 countries\n"
     ]
    },
    {
     "data": {
      "text/html": [
       "<div>\n",
       "<style scoped>\n",
       "    .dataframe tbody tr th:only-of-type {\n",
       "        vertical-align: middle;\n",
       "    }\n",
       "\n",
       "    .dataframe tbody tr th {\n",
       "        vertical-align: top;\n",
       "    }\n",
       "\n",
       "    .dataframe thead th {\n",
       "        text-align: right;\n",
       "    }\n",
       "</style>\n",
       "<table border=\"1\" class=\"dataframe\">\n",
       "  <thead>\n",
       "    <tr style=\"text-align: right;\">\n",
       "      <th></th>\n",
       "      <th>Country</th>\n",
       "      <th>GDP_per_capita</th>\n",
       "      <th>Work_Life_Balance</th>\n",
       "      <th>Civic_Engagement</th>\n",
       "      <th>Life_Satisfaction</th>\n",
       "    </tr>\n",
       "  </thead>\n",
       "  <tbody>\n",
       "    <tr>\n",
       "      <th>9</th>\n",
       "      <td>Australia</td>\n",
       "      <td>59552.880</td>\n",
       "      <td>12.5</td>\n",
       "      <td>92.0</td>\n",
       "      <td>85.0</td>\n",
       "    </tr>\n",
       "    <tr>\n",
       "      <th>10</th>\n",
       "      <td>Austria</td>\n",
       "      <td>65015.133</td>\n",
       "      <td>5.3</td>\n",
       "      <td>76.0</td>\n",
       "      <td>71.0</td>\n",
       "    </tr>\n",
       "    <tr>\n",
       "      <th>17</th>\n",
       "      <td>Belgium</td>\n",
       "      <td>64185.848</td>\n",
       "      <td>4.3</td>\n",
       "      <td>88.0</td>\n",
       "      <td>74.0</td>\n",
       "    </tr>\n",
       "    <tr>\n",
       "      <th>32</th>\n",
       "      <td>Canada</td>\n",
       "      <td>55918.930</td>\n",
       "      <td>3.3</td>\n",
       "      <td>68.0</td>\n",
       "      <td>89.0</td>\n",
       "    </tr>\n",
       "    <tr>\n",
       "      <th>37</th>\n",
       "      <td>Chile</td>\n",
       "      <td>29462.640</td>\n",
       "      <td>7.7</td>\n",
       "      <td>47.0</td>\n",
       "      <td>60.0</td>\n",
       "    </tr>\n",
       "  </tbody>\n",
       "</table>\n",
       "</div>"
      ],
      "text/plain": [
       "      Country  GDP_per_capita  Work_Life_Balance  Civic_Engagement  \\\n",
       "9   Australia       59552.880               12.5              92.0   \n",
       "10    Austria       65015.133                5.3              76.0   \n",
       "17    Belgium       64185.848                4.3              88.0   \n",
       "32     Canada       55918.930                3.3              68.0   \n",
       "37      Chile       29462.640                7.7              47.0   \n",
       "\n",
       "    Life_Satisfaction  \n",
       "9                85.0  \n",
       "10               71.0  \n",
       "17               74.0  \n",
       "32               89.0  \n",
       "37               60.0  "
      ]
     },
     "metadata": {},
     "output_type": "display_data"
    }
   ],
   "source": [
    "# If we don't have enough OECD countries with complete data, let's try a more flexible approach\n",
    "# We'll create separate datasets for each indicator paired with GDP, but only for OECD countries\n",
    "\n",
    "# Filter the individual dataframes to include only OECD countries\n",
    "gdp_wlb_oecd = pd.merge(latest_gdp[latest_gdp['Country'].isin(oecd_country_list)], \n",
    "                        wlb_simplified[wlb_simplified['Country'].isin(oecd_country_list)], \n",
    "                        on='Country', how='inner')\n",
    "\n",
    "gdp_ce_oecd = pd.merge(latest_gdp[latest_gdp['Country'].isin(oecd_country_list)], \n",
    "                      ce_simplified[ce_simplified['Country'].isin(oecd_country_list)], \n",
    "                      on='Country', how='inner')\n",
    "\n",
    "gdp_ls_oecd = pd.merge(latest_gdp[latest_gdp['Country'].isin(oecd_country_list)], \n",
    "                      ls_simplified[ls_simplified['Country'].isin(oecd_country_list)], \n",
    "                      on='Country', how='inner')\n",
    "\n",
    "print(f\"OECD countries - GDP + Work-Life Balance: {len(gdp_wlb_oecd)} countries\")\n",
    "print(f\"OECD countries - GDP + Civic Engagement: {len(gdp_ce_oecd)} countries\")\n",
    "print(f\"OECD countries - GDP + Life Satisfaction: {len(gdp_ls_oecd)} countries\")\n",
    "\n",
    "# Let's use the merged dataframe with all data for OECD countries that have it\n",
    "oecd_merged_df_clean = oecd_merged_df.dropna().copy()\n",
    "print(f\"\\nFinal cleaned OECD dataframe has {len(oecd_merged_df_clean)} countries\")\n",
    "display(oecd_merged_df_clean.head())"
   ]
  },
  {
   "cell_type": "code",
   "execution_count": null,
   "id": "9335faa4",
   "metadata": {},
   "outputs": [
    {
     "name": "stdout",
     "output_type": "stream",
     "text": [
      "Final dataframe with normalized values shape: (213, 8)\n",
      "\n",
      "Preview of final dataframe with normalized values:\n"
     ]
    },
    {
     "data": {
      "text/html": [
       "<div>\n",
       "<style scoped>\n",
       "    .dataframe tbody tr th:only-of-type {\n",
       "        vertical-align: middle;\n",
       "    }\n",
       "\n",
       "    .dataframe tbody tr th {\n",
       "        vertical-align: top;\n",
       "    }\n",
       "\n",
       "    .dataframe thead th {\n",
       "        text-align: right;\n",
       "    }\n",
       "</style>\n",
       "<table border=\"1\" class=\"dataframe\">\n",
       "  <thead>\n",
       "    <tr style=\"text-align: right;\">\n",
       "      <th></th>\n",
       "      <th>Country</th>\n",
       "      <th>GDP_per_capita</th>\n",
       "      <th>Work_Life_Balance</th>\n",
       "      <th>Work_Life_Balance_Normalized</th>\n",
       "      <th>Civic_Engagement</th>\n",
       "      <th>Civic_Engagement_Normalized</th>\n",
       "      <th>Life_Satisfaction</th>\n",
       "      <th>Life_Satisfaction_Normalized</th>\n",
       "    </tr>\n",
       "  </thead>\n",
       "  <tbody>\n",
       "    <tr>\n",
       "      <th>0</th>\n",
       "      <td>Afghanistan</td>\n",
       "      <td>1992.4244</td>\n",
       "      <td>NaN</td>\n",
       "      <td>0.000000</td>\n",
       "      <td>NaN</td>\n",
       "      <td>0.0</td>\n",
       "      <td>NaN</td>\n",
       "      <td>0.000000</td>\n",
       "    </tr>\n",
       "    <tr>\n",
       "      <th>1</th>\n",
       "      <td>Albania</td>\n",
       "      <td>18244.2930</td>\n",
       "      <td>NaN</td>\n",
       "      <td>0.000000</td>\n",
       "      <td>NaN</td>\n",
       "      <td>0.0</td>\n",
       "      <td>NaN</td>\n",
       "      <td>0.000000</td>\n",
       "    </tr>\n",
       "    <tr>\n",
       "      <th>2</th>\n",
       "      <td>Algeria</td>\n",
       "      <td>15159.3240</td>\n",
       "      <td>NaN</td>\n",
       "      <td>0.000000</td>\n",
       "      <td>NaN</td>\n",
       "      <td>0.0</td>\n",
       "      <td>NaN</td>\n",
       "      <td>0.000000</td>\n",
       "    </tr>\n",
       "    <tr>\n",
       "      <th>3</th>\n",
       "      <td>Andorra</td>\n",
       "      <td>64631.2970</td>\n",
       "      <td>NaN</td>\n",
       "      <td>0.000000</td>\n",
       "      <td>NaN</td>\n",
       "      <td>0.0</td>\n",
       "      <td>NaN</td>\n",
       "      <td>0.000000</td>\n",
       "    </tr>\n",
       "    <tr>\n",
       "      <th>4</th>\n",
       "      <td>Angola</td>\n",
       "      <td>7244.8930</td>\n",
       "      <td>NaN</td>\n",
       "      <td>0.000000</td>\n",
       "      <td>NaN</td>\n",
       "      <td>0.0</td>\n",
       "      <td>NaN</td>\n",
       "      <td>0.000000</td>\n",
       "    </tr>\n",
       "    <tr>\n",
       "      <th>5</th>\n",
       "      <td>Antigua and Barbuda</td>\n",
       "      <td>28967.2560</td>\n",
       "      <td>NaN</td>\n",
       "      <td>0.000000</td>\n",
       "      <td>NaN</td>\n",
       "      <td>0.0</td>\n",
       "      <td>NaN</td>\n",
       "      <td>0.000000</td>\n",
       "    </tr>\n",
       "    <tr>\n",
       "      <th>6</th>\n",
       "      <td>Argentina</td>\n",
       "      <td>27104.9800</td>\n",
       "      <td>NaN</td>\n",
       "      <td>0.000000</td>\n",
       "      <td>NaN</td>\n",
       "      <td>0.0</td>\n",
       "      <td>NaN</td>\n",
       "      <td>0.000000</td>\n",
       "    </tr>\n",
       "    <tr>\n",
       "      <th>7</th>\n",
       "      <td>Armenia</td>\n",
       "      <td>19230.1900</td>\n",
       "      <td>NaN</td>\n",
       "      <td>0.000000</td>\n",
       "      <td>NaN</td>\n",
       "      <td>0.0</td>\n",
       "      <td>NaN</td>\n",
       "      <td>0.000000</td>\n",
       "    </tr>\n",
       "    <tr>\n",
       "      <th>8</th>\n",
       "      <td>Aruba</td>\n",
       "      <td>40516.8100</td>\n",
       "      <td>NaN</td>\n",
       "      <td>0.000000</td>\n",
       "      <td>NaN</td>\n",
       "      <td>0.0</td>\n",
       "      <td>NaN</td>\n",
       "      <td>0.000000</td>\n",
       "    </tr>\n",
       "    <tr>\n",
       "      <th>9</th>\n",
       "      <td>Australia</td>\n",
       "      <td>59552.8800</td>\n",
       "      <td>12.5</td>\n",
       "      <td>0.539033</td>\n",
       "      <td>92.0</td>\n",
       "      <td>1.0</td>\n",
       "      <td>85.0</td>\n",
       "      <td>0.923077</td>\n",
       "    </tr>\n",
       "  </tbody>\n",
       "</table>\n",
       "</div>"
      ],
      "text/plain": [
       "               Country  GDP_per_capita  Work_Life_Balance  \\\n",
       "0          Afghanistan       1992.4244                NaN   \n",
       "1              Albania      18244.2930                NaN   \n",
       "2              Algeria      15159.3240                NaN   \n",
       "3              Andorra      64631.2970                NaN   \n",
       "4               Angola       7244.8930                NaN   \n",
       "5  Antigua and Barbuda      28967.2560                NaN   \n",
       "6            Argentina      27104.9800                NaN   \n",
       "7              Armenia      19230.1900                NaN   \n",
       "8                Aruba      40516.8100                NaN   \n",
       "9            Australia      59552.8800               12.5   \n",
       "\n",
       "   Work_Life_Balance_Normalized  Civic_Engagement  \\\n",
       "0                      0.000000               NaN   \n",
       "1                      0.000000               NaN   \n",
       "2                      0.000000               NaN   \n",
       "3                      0.000000               NaN   \n",
       "4                      0.000000               NaN   \n",
       "5                      0.000000               NaN   \n",
       "6                      0.000000               NaN   \n",
       "7                      0.000000               NaN   \n",
       "8                      0.000000               NaN   \n",
       "9                      0.539033              92.0   \n",
       "\n",
       "   Civic_Engagement_Normalized  Life_Satisfaction  \\\n",
       "0                          0.0                NaN   \n",
       "1                          0.0                NaN   \n",
       "2                          0.0                NaN   \n",
       "3                          0.0                NaN   \n",
       "4                          0.0                NaN   \n",
       "5                          0.0                NaN   \n",
       "6                          0.0                NaN   \n",
       "7                          0.0                NaN   \n",
       "8                          0.0                NaN   \n",
       "9                          1.0               85.0   \n",
       "\n",
       "   Life_Satisfaction_Normalized  \n",
       "0                      0.000000  \n",
       "1                      0.000000  \n",
       "2                      0.000000  \n",
       "3                      0.000000  \n",
       "4                      0.000000  \n",
       "5                      0.000000  \n",
       "6                      0.000000  \n",
       "7                      0.000000  \n",
       "8                      0.000000  \n",
       "9                      0.923077  "
      ]
     },
     "metadata": {},
     "output_type": "display_data"
    },
    {
     "name": "stdout",
     "output_type": "stream",
     "text": [
      "\n",
      "OECD countries with complete normalized data: 35\n"
     ]
    },
    {
     "data": {
      "text/html": [
       "<div>\n",
       "<style scoped>\n",
       "    .dataframe tbody tr th:only-of-type {\n",
       "        vertical-align: middle;\n",
       "    }\n",
       "\n",
       "    .dataframe tbody tr th {\n",
       "        vertical-align: top;\n",
       "    }\n",
       "\n",
       "    .dataframe thead th {\n",
       "        text-align: right;\n",
       "    }\n",
       "</style>\n",
       "<table border=\"1\" class=\"dataframe\">\n",
       "  <thead>\n",
       "    <tr style=\"text-align: right;\">\n",
       "      <th></th>\n",
       "      <th>Country</th>\n",
       "      <th>GDP_per_capita</th>\n",
       "      <th>Work_Life_Balance</th>\n",
       "      <th>Work_Life_Balance_Normalized</th>\n",
       "      <th>Civic_Engagement</th>\n",
       "      <th>Civic_Engagement_Normalized</th>\n",
       "      <th>Life_Satisfaction</th>\n",
       "      <th>Life_Satisfaction_Normalized</th>\n",
       "    </tr>\n",
       "  </thead>\n",
       "  <tbody>\n",
       "    <tr>\n",
       "      <th>9</th>\n",
       "      <td>Australia</td>\n",
       "      <td>59552.880</td>\n",
       "      <td>12.5</td>\n",
       "      <td>0.539033</td>\n",
       "      <td>92.0</td>\n",
       "      <td>1.000000</td>\n",
       "      <td>85.0</td>\n",
       "      <td>0.923077</td>\n",
       "    </tr>\n",
       "    <tr>\n",
       "      <th>10</th>\n",
       "      <td>Austria</td>\n",
       "      <td>65015.133</td>\n",
       "      <td>5.3</td>\n",
       "      <td>0.806691</td>\n",
       "      <td>76.0</td>\n",
       "      <td>0.659574</td>\n",
       "      <td>71.0</td>\n",
       "      <td>0.653846</td>\n",
       "    </tr>\n",
       "    <tr>\n",
       "      <th>17</th>\n",
       "      <td>Belgium</td>\n",
       "      <td>64185.848</td>\n",
       "      <td>4.3</td>\n",
       "      <td>0.843866</td>\n",
       "      <td>88.0</td>\n",
       "      <td>0.914894</td>\n",
       "      <td>74.0</td>\n",
       "      <td>0.711538</td>\n",
       "    </tr>\n",
       "    <tr>\n",
       "      <th>32</th>\n",
       "      <td>Canada</td>\n",
       "      <td>55918.930</td>\n",
       "      <td>3.3</td>\n",
       "      <td>0.881041</td>\n",
       "      <td>68.0</td>\n",
       "      <td>0.489362</td>\n",
       "      <td>89.0</td>\n",
       "      <td>1.000000</td>\n",
       "    </tr>\n",
       "    <tr>\n",
       "      <th>37</th>\n",
       "      <td>Chile</td>\n",
       "      <td>29462.640</td>\n",
       "      <td>7.7</td>\n",
       "      <td>0.717472</td>\n",
       "      <td>47.0</td>\n",
       "      <td>0.042553</td>\n",
       "      <td>60.0</td>\n",
       "      <td>0.442308</td>\n",
       "    </tr>\n",
       "  </tbody>\n",
       "</table>\n",
       "</div>"
      ],
      "text/plain": [
       "      Country  GDP_per_capita  Work_Life_Balance  \\\n",
       "9   Australia       59552.880               12.5   \n",
       "10    Austria       65015.133                5.3   \n",
       "17    Belgium       64185.848                4.3   \n",
       "32     Canada       55918.930                3.3   \n",
       "37      Chile       29462.640                7.7   \n",
       "\n",
       "    Work_Life_Balance_Normalized  Civic_Engagement  \\\n",
       "9                       0.539033              92.0   \n",
       "10                      0.806691              76.0   \n",
       "17                      0.843866              88.0   \n",
       "32                      0.881041              68.0   \n",
       "37                      0.717472              47.0   \n",
       "\n",
       "    Civic_Engagement_Normalized  Life_Satisfaction  \\\n",
       "9                      1.000000               85.0   \n",
       "10                     0.659574               71.0   \n",
       "17                     0.914894               74.0   \n",
       "32                     0.489362               89.0   \n",
       "37                     0.042553               60.0   \n",
       "\n",
       "    Life_Satisfaction_Normalized  \n",
       "9                       0.923077  \n",
       "10                      0.653846  \n",
       "17                      0.711538  \n",
       "32                      1.000000  \n",
       "37                      0.442308  "
      ]
     },
     "metadata": {},
     "output_type": "display_data"
    }
   ],
   "source": [
    "# Create a normalized version of the dataset as requested\n",
    "# First, create a copy of the merged dataframe with complete data for all three indicators\n",
    "complete_data = merged_df.dropna().copy()\n",
    "\n",
    "# Apply normalization to the three indicators\n",
    "# For Work_Life_Balance: lower values are better, so we want 1 - normalized value\n",
    "# 1 - (value - min) / (max - min)\n",
    "def normalize(column):\n",
    "    min_val = column.min()\n",
    "    max_val = column.max()\n",
    "    return 1 - (column - min_val) / (max_val - min_val)\n",
    "\n",
    "# Create a dataframe with normalized values\n",
    "normalized_df = merged_df.copy()\n",
    "\n",
    "# Normalize Work_Life_Balance (lower values are better)\n",
    "# For this metric, we'll invert the formula as lower percentages are better\n",
    "wlb_min = normalized_df['Work_Life_Balance'].dropna().min()\n",
    "wlb_max = normalized_df['Work_Life_Balance'].dropna().max()\n",
    "normalized_df['Work_Life_Balance_Normalized'] = normalized_df['Work_Life_Balance'].apply(\n",
    "    lambda x: 1 - (x - wlb_min) / (wlb_max - wlb_min) if pd.notnull(x) else np.nan\n",
    ")\n",
    "\n",
    "# Normalize Civic_Engagement (higher values are better)\n",
    "# For this metric, higher percentages are better, so we use the direct formula\n",
    "ce_min = normalized_df['Civic_Engagement'].dropna().min()\n",
    "ce_max = normalized_df['Civic_Engagement'].dropna().max()\n",
    "normalized_df['Civic_Engagement_Normalized'] = normalized_df['Civic_Engagement'].apply(\n",
    "    lambda x: (x - ce_min) / (ce_max - ce_min) if pd.notnull(x) else np.nan\n",
    ")\n",
    "\n",
    "# Normalize Life_Satisfaction (higher values are better)\n",
    "# For this metric, higher percentages are better, so we use the direct formula\n",
    "ls_min = normalized_df['Life_Satisfaction'].dropna().min()\n",
    "ls_max = normalized_df['Life_Satisfaction'].dropna().max()\n",
    "normalized_df['Life_Satisfaction_Normalized'] = normalized_df['Life_Satisfaction'].apply(\n",
    "    lambda x: (x - ls_min) / (ls_max - ls_min) if pd.notnull(x) else np.nan\n",
    ")\n",
    "\n",
    "# Create a final clean dataframe with original and normalized values\n",
    "final_df = normalized_df[['Country', 'GDP_per_capita', \n",
    "                         'Work_Life_Balance', 'Work_Life_Balance_Normalized',\n",
    "                         'Civic_Engagement', 'Civic_Engagement_Normalized',\n",
    "                         'Life_Satisfaction', 'Life_Satisfaction_Normalized']]\n",
    "\n",
    "# Display statistics about the normalized dataframe\n",
    "print(\"Final dataframe with normalized values shape:\", final_df.shape)\n",
    "print(\"\\nPreview of final dataframe with normalized values:\")\n",
    "display(final_df.head(10))\n",
    "\n",
    "# Create a focused dataframe with only OECD countries and complete data\n",
    "oecd_final_df = final_df[final_df['Country'].isin(oecd_country_list)].dropna()\n",
    "print(f\"\\nOECD countries with complete normalized data: {len(oecd_final_df)}\")\n",
    "display(oecd_final_df.head())\n",
    "\n",
    "# Save the final dataframe if needed\n",
    "# final_df.to_csv(\"/Users/ren/Documents/Ciencia de Datos/GDP shi/normalized_indicators.csv\", index=False)"
   ]
  },
  {
   "cell_type": "code",
   "execution_count": null,
   "id": "6fc66c72",
   "metadata": {},
   "outputs": [
    {
     "name": "stdout",
     "output_type": "stream",
     "text": [
      "Simplified dataframe shape: (213, 5)\n",
      "Simplified dataframe with complete data shape: (213, 5)\n",
      "\n",
      "Preview of simplified dataframe with complete data:\n"
     ]
    },
    {
     "data": {
      "text/html": [
       "<div>\n",
       "<style scoped>\n",
       "    .dataframe tbody tr th:only-of-type {\n",
       "        vertical-align: middle;\n",
       "    }\n",
       "\n",
       "    .dataframe tbody tr th {\n",
       "        vertical-align: top;\n",
       "    }\n",
       "\n",
       "    .dataframe thead th {\n",
       "        text-align: right;\n",
       "    }\n",
       "</style>\n",
       "<table border=\"1\" class=\"dataframe\">\n",
       "  <thead>\n",
       "    <tr style=\"text-align: right;\">\n",
       "      <th></th>\n",
       "      <th>Country</th>\n",
       "      <th>GDP_per_capita</th>\n",
       "      <th>Work_Life_Balance</th>\n",
       "      <th>Civic_Engagement</th>\n",
       "      <th>Life_Satisfaction</th>\n",
       "    </tr>\n",
       "  </thead>\n",
       "  <tbody>\n",
       "    <tr>\n",
       "      <th>0</th>\n",
       "      <td>Afghanistan</td>\n",
       "      <td>1992.4244</td>\n",
       "      <td>0.000000</td>\n",
       "      <td>0.0</td>\n",
       "      <td>0.000000</td>\n",
       "    </tr>\n",
       "    <tr>\n",
       "      <th>1</th>\n",
       "      <td>Albania</td>\n",
       "      <td>18244.2930</td>\n",
       "      <td>0.000000</td>\n",
       "      <td>0.0</td>\n",
       "      <td>0.000000</td>\n",
       "    </tr>\n",
       "    <tr>\n",
       "      <th>2</th>\n",
       "      <td>Algeria</td>\n",
       "      <td>15159.3240</td>\n",
       "      <td>0.000000</td>\n",
       "      <td>0.0</td>\n",
       "      <td>0.000000</td>\n",
       "    </tr>\n",
       "    <tr>\n",
       "      <th>3</th>\n",
       "      <td>Andorra</td>\n",
       "      <td>64631.2970</td>\n",
       "      <td>0.000000</td>\n",
       "      <td>0.0</td>\n",
       "      <td>0.000000</td>\n",
       "    </tr>\n",
       "    <tr>\n",
       "      <th>4</th>\n",
       "      <td>Angola</td>\n",
       "      <td>7244.8930</td>\n",
       "      <td>0.000000</td>\n",
       "      <td>0.0</td>\n",
       "      <td>0.000000</td>\n",
       "    </tr>\n",
       "    <tr>\n",
       "      <th>5</th>\n",
       "      <td>Antigua and Barbuda</td>\n",
       "      <td>28967.2560</td>\n",
       "      <td>0.000000</td>\n",
       "      <td>0.0</td>\n",
       "      <td>0.000000</td>\n",
       "    </tr>\n",
       "    <tr>\n",
       "      <th>6</th>\n",
       "      <td>Argentina</td>\n",
       "      <td>27104.9800</td>\n",
       "      <td>0.000000</td>\n",
       "      <td>0.0</td>\n",
       "      <td>0.000000</td>\n",
       "    </tr>\n",
       "    <tr>\n",
       "      <th>7</th>\n",
       "      <td>Armenia</td>\n",
       "      <td>19230.1900</td>\n",
       "      <td>0.000000</td>\n",
       "      <td>0.0</td>\n",
       "      <td>0.000000</td>\n",
       "    </tr>\n",
       "    <tr>\n",
       "      <th>8</th>\n",
       "      <td>Aruba</td>\n",
       "      <td>40516.8100</td>\n",
       "      <td>0.000000</td>\n",
       "      <td>0.0</td>\n",
       "      <td>0.000000</td>\n",
       "    </tr>\n",
       "    <tr>\n",
       "      <th>9</th>\n",
       "      <td>Australia</td>\n",
       "      <td>59552.8800</td>\n",
       "      <td>0.539033</td>\n",
       "      <td>1.0</td>\n",
       "      <td>0.923077</td>\n",
       "    </tr>\n",
       "  </tbody>\n",
       "</table>\n",
       "</div>"
      ],
      "text/plain": [
       "               Country  GDP_per_capita  Work_Life_Balance  Civic_Engagement  \\\n",
       "0          Afghanistan       1992.4244           0.000000               0.0   \n",
       "1              Albania      18244.2930           0.000000               0.0   \n",
       "2              Algeria      15159.3240           0.000000               0.0   \n",
       "3              Andorra      64631.2970           0.000000               0.0   \n",
       "4               Angola       7244.8930           0.000000               0.0   \n",
       "5  Antigua and Barbuda      28967.2560           0.000000               0.0   \n",
       "6            Argentina      27104.9800           0.000000               0.0   \n",
       "7              Armenia      19230.1900           0.000000               0.0   \n",
       "8                Aruba      40516.8100           0.000000               0.0   \n",
       "9            Australia      59552.8800           0.539033               1.0   \n",
       "\n",
       "   Life_Satisfaction  \n",
       "0           0.000000  \n",
       "1           0.000000  \n",
       "2           0.000000  \n",
       "3           0.000000  \n",
       "4           0.000000  \n",
       "5           0.000000  \n",
       "6           0.000000  \n",
       "7           0.000000  \n",
       "8           0.000000  \n",
       "9           0.923077  "
      ]
     },
     "metadata": {},
     "output_type": "display_data"
    },
    {
     "name": "stdout",
     "output_type": "stream",
     "text": [
      "\n",
      "Countries sorted by Well-Being Index (highest to lowest):\n"
     ]
    },
    {
     "data": {
      "text/html": [
       "<div>\n",
       "<style scoped>\n",
       "    .dataframe tbody tr th:only-of-type {\n",
       "        vertical-align: middle;\n",
       "    }\n",
       "\n",
       "    .dataframe tbody tr th {\n",
       "        vertical-align: top;\n",
       "    }\n",
       "\n",
       "    .dataframe thead th {\n",
       "        text-align: right;\n",
       "    }\n",
       "</style>\n",
       "<table border=\"1\" class=\"dataframe\">\n",
       "  <thead>\n",
       "    <tr style=\"text-align: right;\">\n",
       "      <th></th>\n",
       "      <th>Country</th>\n",
       "      <th>GDP_per_capita</th>\n",
       "      <th>Well_Being_Index</th>\n",
       "    </tr>\n",
       "  </thead>\n",
       "  <tbody>\n",
       "    <tr>\n",
       "      <th>185</th>\n",
       "      <td>Sweden</td>\n",
       "      <td>63114.680</td>\n",
       "      <td>0.871292</td>\n",
       "    </tr>\n",
       "    <tr>\n",
       "      <th>112</th>\n",
       "      <td>Luxembourg</td>\n",
       "      <td>132846.580</td>\n",
       "      <td>0.843384</td>\n",
       "    </tr>\n",
       "    <tr>\n",
       "      <th>17</th>\n",
       "      <td>Belgium</td>\n",
       "      <td>64185.848</td>\n",
       "      <td>0.823433</td>\n",
       "    </tr>\n",
       "    <tr>\n",
       "      <th>9</th>\n",
       "      <td>Australia</td>\n",
       "      <td>59552.880</td>\n",
       "      <td>0.820703</td>\n",
       "    </tr>\n",
       "    <tr>\n",
       "      <th>49</th>\n",
       "      <td>Denmark</td>\n",
       "      <td>72097.305</td>\n",
       "      <td>0.816168</td>\n",
       "    </tr>\n",
       "    <tr>\n",
       "      <th>136</th>\n",
       "      <td>Netherlands</td>\n",
       "      <td>71446.695</td>\n",
       "      <td>0.815580</td>\n",
       "    </tr>\n",
       "    <tr>\n",
       "      <th>143</th>\n",
       "      <td>Norway</td>\n",
       "      <td>90469.810</td>\n",
       "      <td>0.794857</td>\n",
       "    </tr>\n",
       "    <tr>\n",
       "      <th>32</th>\n",
       "      <td>Canada</td>\n",
       "      <td>55918.930</td>\n",
       "      <td>0.790134</td>\n",
       "    </tr>\n",
       "    <tr>\n",
       "      <th>180</th>\n",
       "      <td>Spain</td>\n",
       "      <td>47141.543</td>\n",
       "      <td>0.738673</td>\n",
       "    </tr>\n",
       "    <tr>\n",
       "      <th>137</th>\n",
       "      <td>New Zealand</td>\n",
       "      <td>48826.574</td>\n",
       "      <td>0.737604</td>\n",
       "    </tr>\n",
       "    <tr>\n",
       "      <th>92</th>\n",
       "      <td>Italy</td>\n",
       "      <td>53312.070</td>\n",
       "      <td>0.723031</td>\n",
       "    </tr>\n",
       "    <tr>\n",
       "      <th>10</th>\n",
       "      <td>Austria</td>\n",
       "      <td>65015.133</td>\n",
       "      <td>0.706704</td>\n",
       "    </tr>\n",
       "    <tr>\n",
       "      <th>90</th>\n",
       "      <td>Ireland</td>\n",
       "      <td>114922.390</td>\n",
       "      <td>0.705274</td>\n",
       "    </tr>\n",
       "    <tr>\n",
       "      <th>85</th>\n",
       "      <td>Iceland</td>\n",
       "      <td>67255.670</td>\n",
       "      <td>0.701320</td>\n",
       "    </tr>\n",
       "    <tr>\n",
       "      <th>71</th>\n",
       "      <td>Germany</td>\n",
       "      <td>63578.140</td>\n",
       "      <td>0.692001</td>\n",
       "    </tr>\n",
       "  </tbody>\n",
       "</table>\n",
       "</div>"
      ],
      "text/plain": [
       "         Country  GDP_per_capita  Well_Being_Index\n",
       "185       Sweden       63114.680          0.871292\n",
       "112   Luxembourg      132846.580          0.843384\n",
       "17       Belgium       64185.848          0.823433\n",
       "9      Australia       59552.880          0.820703\n",
       "49       Denmark       72097.305          0.816168\n",
       "136  Netherlands       71446.695          0.815580\n",
       "143       Norway       90469.810          0.794857\n",
       "32        Canada       55918.930          0.790134\n",
       "180        Spain       47141.543          0.738673\n",
       "137  New Zealand       48826.574          0.737604\n",
       "92         Italy       53312.070          0.723031\n",
       "10       Austria       65015.133          0.706704\n",
       "90       Ireland      114922.390          0.705274\n",
       "85       Iceland       67255.670          0.701320\n",
       "71       Germany       63578.140          0.692001"
      ]
     },
     "metadata": {},
     "output_type": "display_data"
    }
   ],
   "source": [
    "# Create a simplified version with just the country, GDP, and normalized indicators\n",
    "simplified_df = pd.DataFrame({\n",
    "    'Country': final_df['Country'],\n",
    "    'GDP_per_capita': final_df['GDP_per_capita'],\n",
    "    'Work_Life_Balance': final_df['Work_Life_Balance_Normalized'],\n",
    "    'Civic_Engagement': final_df['Civic_Engagement_Normalized'],\n",
    "    'Life_Satisfaction': final_df['Life_Satisfaction_Normalized']\n",
    "})\n",
    "\n",
    "# Filter for only rows with complete data\n",
    "simplified_df_clean = simplified_df.dropna()\n",
    "\n",
    "print(\"Simplified dataframe shape:\", simplified_df.shape)\n",
    "print(\"Simplified dataframe with complete data shape:\", simplified_df_clean.shape)\n",
    "print(\"\\nPreview of simplified dataframe with complete data:\")\n",
    "display(simplified_df_clean.head(10))\n",
    "\n",
    "# Calculate the average of the three normalized indicators as a combined well-being index\n",
    "simplified_df_clean['Well_Being_Index'] = simplified_df_clean[['Work_Life_Balance', \n",
    "                                                             'Civic_Engagement', \n",
    "                                                             'Life_Satisfaction']].mean(axis=1)\n",
    "\n",
    "# Sort by Well-Being Index in descending order\n",
    "simplified_df_sorted = simplified_df_clean.sort_values('Well_Being_Index', ascending=False)\n",
    "print(\"\\nCountries sorted by Well-Being Index (highest to lowest):\")\n",
    "display(simplified_df_sorted[['Country', 'GDP_per_capita', 'Well_Being_Index']].head(15))\n",
    "\n",
    "# Check missing values in the simplified dataframe\n",
    "print(\"\\nCount of NaN values in each column before cleaning:\")\n",
    "print(simplified_df.isna().sum())\n",
    "\n",
    "# Check correlation after filtering for complete data only\n",
    "print(\"\\nNumber of countries with complete data for correlation analysis:\", len(simplified_df_clean))"
   ]
  },
  {
   "cell_type": "code",
   "execution_count": 53,
   "id": "1a63e932",
   "metadata": {},
   "outputs": [
    {
     "data": {
      "application/vnd.plotly.v1+json": {
       "config": {
        "plotlyServerURL": "https://plot.ly"
       },
       "data": [
        {
         "hovertemplate": "<b>%{hovertext}</b><br><br>GDP per Capita=%{x}<br>Well-Being Index (Normalized)=%{y}<extra></extra>",
         "hovertext": [
          "Afghanistan",
          "Albania",
          "Algeria",
          "Andorra",
          "Angola",
          "Antigua and Barbuda",
          "Argentina",
          "Armenia",
          "Aruba",
          "Australia",
          "Austria",
          "Azerbaijan",
          "Bahamas",
          "Bahrain",
          "Bangladesh",
          "Barbados",
          "Belarus",
          "Belgium",
          "Belize",
          "Benin",
          "Bermuda",
          "Bhutan",
          "Bolivia",
          "Bosnia and Herzegovina",
          "Botswana",
          "Brazil",
          "Brunei",
          "Bulgaria",
          "Burkina Faso",
          "Burundi",
          "Cambodia",
          "Cameroon",
          "Canada",
          "Cape Verde",
          "Cayman Islands",
          "Central African Republic",
          "Chad",
          "Chile",
          "China",
          "Colombia",
          "Comoros",
          "Congo",
          "Costa Rica",
          "Cote d'Ivoire",
          "Croatia",
          "Curacao",
          "Cyprus",
          "Czechia",
          "Democratic Republic of Congo",
          "Denmark",
          "Djibouti",
          "Dominica",
          "Dominican Republic",
          "East Asia and Pacific (WB)",
          "East Timor",
          "Ecuador",
          "Egypt",
          "El Salvador",
          "Equatorial Guinea",
          "Estonia",
          "Eswatini",
          "Ethiopia",
          "Europe and Central Asia (WB)",
          "European Union (27)",
          "Faeroe Islands",
          "Fiji",
          "Finland",
          "France",
          "Gabon",
          "Gambia",
          "Georgia",
          "Germany",
          "Ghana",
          "Greece",
          "Greenland",
          "Grenada",
          "Guatemala",
          "Guinea",
          "Guinea-Bissau",
          "Guyana",
          "Haiti",
          "High-income countries",
          "Honduras",
          "Hong Kong",
          "Hungary",
          "Iceland",
          "India",
          "Indonesia",
          "Iran",
          "Iraq",
          "Ireland",
          "Israel",
          "Italy",
          "Jamaica",
          "Japan",
          "Jordan",
          "Kazakhstan",
          "Kenya",
          "Kiribati",
          "Kosovo",
          "Kuwait",
          "Kyrgyzstan",
          "Laos",
          "Latin America and Caribbean (WB)",
          "Latvia",
          "Lebanon",
          "Lesotho",
          "Liberia",
          "Libya",
          "Lithuania",
          "Low-income countries",
          "Lower-middle-income countries",
          "Luxembourg",
          "Macao",
          "Madagascar",
          "Malawi",
          "Malaysia",
          "Maldives",
          "Mali",
          "Malta",
          "Marshall Islands",
          "Mauritania",
          "Mauritius",
          "Mexico",
          "Micronesia (country)",
          "Middle East and North Africa (WB)",
          "Middle-income countries",
          "Moldova",
          "Mongolia",
          "Montenegro",
          "Morocco",
          "Mozambique",
          "Myanmar",
          "Namibia",
          "Nauru",
          "Nepal",
          "Netherlands",
          "New Zealand",
          "Nicaragua",
          "Niger",
          "Nigeria",
          "North America (WB)",
          "North Macedonia",
          "Norway",
          "Oman",
          "Pakistan",
          "Palau",
          "Palestine",
          "Panama",
          "Papua New Guinea",
          "Paraguay",
          "Peru",
          "Philippines",
          "Poland",
          "Portugal",
          "Puerto Rico",
          "Qatar",
          "Romania",
          "Russia",
          "Rwanda",
          "Saint Kitts and Nevis",
          "Saint Lucia",
          "Saint Vincent and the Grenadines",
          "Samoa",
          "San Marino",
          "Sao Tome and Principe",
          "Saudi Arabia",
          "Senegal",
          "Serbia",
          "Seychelles",
          "Sierra Leone",
          "Singapore",
          "Sint Maarten (Dutch part)",
          "Slovakia",
          "Slovenia",
          "Solomon Islands",
          "Somalia",
          "South Africa",
          "South Asia (WB)",
          "South Korea",
          "Spain",
          "Sri Lanka",
          "Sub-Saharan Africa (WB)",
          "Sudan",
          "Suriname",
          "Sweden",
          "Switzerland",
          "Syria",
          "Tajikistan",
          "Tanzania",
          "Thailand",
          "Togo",
          "Tonga",
          "Trinidad and Tobago",
          "Tunisia",
          "Turkey",
          "Turkmenistan",
          "Turks and Caicos Islands",
          "Tuvalu",
          "Uganda",
          "Ukraine",
          "United Arab Emirates",
          "United Kingdom",
          "United States",
          "United States Virgin Islands",
          "Upper-middle-income countries",
          "Uruguay",
          "Uzbekistan",
          "Vanuatu",
          "Vietnam",
          "World",
          "Zambia",
          "Zimbabwe"
         ],
         "legendgroup": "",
         "marker": {
          "color": "#636efa",
          "symbol": "circle"
         },
         "mode": "markers",
         "name": "",
         "orientation": "v",
         "showlegend": false,
         "type": "scatter",
         "x": {
          "bdata": "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",
          "dtype": "f8"
         },
         "xaxis": "x",
         "y": {
          "bdata": "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",
          "dtype": "f8"
         },
         "yaxis": "y"
        },
        {
         "hovertemplate": "<b>OLS trendline</b><br>Well_Being_Index = 4.8778e-06 * GDP_per_capita + -0.0238047<br>R<sup>2</sup>=0.277140<br><br>GDP per Capita=%{x}<br>Well-Being Index (Normalized)=%{y} <b>(trend)</b><extra></extra>",
         "legendgroup": "",
         "marker": {
          "color": "#636efa",
          "symbol": "circle"
         },
         "mode": "lines",
         "name": "",
         "showlegend": false,
         "type": "scatter",
         "x": {
          "bdata": "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",
          "dtype": "f8"
         },
         "xaxis": "x",
         "y": {
          "bdata": "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",
          "dtype": "f8"
         },
         "yaxis": "y"
        }
       ],
       "layout": {
        "hoverlabel": {
         "font": {
          "size": 12
         }
        },
        "legend": {
         "tracegroupgap": 0
        },
        "template": {
         "data": {
          "bar": [
           {
            "error_x": {
             "color": "#2a3f5f"
            },
            "error_y": {
             "color": "#2a3f5f"
            },
            "marker": {
             "line": {
              "color": "#E5ECF6",
              "width": 0.5
             },
             "pattern": {
              "fillmode": "overlay",
              "size": 10,
              "solidity": 0.2
             }
            },
            "type": "bar"
           }
          ],
          "barpolar": [
           {
            "marker": {
             "line": {
              "color": "#E5ECF6",
              "width": 0.5
             },
             "pattern": {
              "fillmode": "overlay",
              "size": 10,
              "solidity": 0.2
             }
            },
            "type": "barpolar"
           }
          ],
          "carpet": [
           {
            "aaxis": {
             "endlinecolor": "#2a3f5f",
             "gridcolor": "white",
             "linecolor": "white",
             "minorgridcolor": "white",
             "startlinecolor": "#2a3f5f"
            },
            "baxis": {
             "endlinecolor": "#2a3f5f",
             "gridcolor": "white",
             "linecolor": "white",
             "minorgridcolor": "white",
             "startlinecolor": "#2a3f5f"
            },
            "type": "carpet"
           }
          ],
          "choropleth": [
           {
            "colorbar": {
             "outlinewidth": 0,
             "ticks": ""
            },
            "type": "choropleth"
           }
          ],
          "contour": [
           {
            "colorbar": {
             "outlinewidth": 0,
             "ticks": ""
            },
            "colorscale": [
             [
              0,
              "#0d0887"
             ],
             [
              0.1111111111111111,
              "#46039f"
             ],
             [
              0.2222222222222222,
              "#7201a8"
             ],
             [
              0.3333333333333333,
              "#9c179e"
             ],
             [
              0.4444444444444444,
              "#bd3786"
             ],
             [
              0.5555555555555556,
              "#d8576b"
             ],
             [
              0.6666666666666666,
              "#ed7953"
             ],
             [
              0.7777777777777778,
              "#fb9f3a"
             ],
             [
              0.8888888888888888,
              "#fdca26"
             ],
             [
              1,
              "#f0f921"
             ]
            ],
            "type": "contour"
           }
          ],
          "contourcarpet": [
           {
            "colorbar": {
             "outlinewidth": 0,
             "ticks": ""
            },
            "type": "contourcarpet"
           }
          ],
          "heatmap": [
           {
            "colorbar": {
             "outlinewidth": 0,
             "ticks": ""
            },
            "colorscale": [
             [
              0,
              "#0d0887"
             ],
             [
              0.1111111111111111,
              "#46039f"
             ],
             [
              0.2222222222222222,
              "#7201a8"
             ],
             [
              0.3333333333333333,
              "#9c179e"
             ],
             [
              0.4444444444444444,
              "#bd3786"
             ],
             [
              0.5555555555555556,
              "#d8576b"
             ],
             [
              0.6666666666666666,
              "#ed7953"
             ],
             [
              0.7777777777777778,
              "#fb9f3a"
             ],
             [
              0.8888888888888888,
              "#fdca26"
             ],
             [
              1,
              "#f0f921"
             ]
            ],
            "type": "heatmap"
           }
          ],
          "histogram": [
           {
            "marker": {
             "pattern": {
              "fillmode": "overlay",
              "size": 10,
              "solidity": 0.2
             }
            },
            "type": "histogram"
           }
          ],
          "histogram2d": [
           {
            "colorbar": {
             "outlinewidth": 0,
             "ticks": ""
            },
            "colorscale": [
             [
              0,
              "#0d0887"
             ],
             [
              0.1111111111111111,
              "#46039f"
             ],
             [
              0.2222222222222222,
              "#7201a8"
             ],
             [
              0.3333333333333333,
              "#9c179e"
             ],
             [
              0.4444444444444444,
              "#bd3786"
             ],
             [
              0.5555555555555556,
              "#d8576b"
             ],
             [
              0.6666666666666666,
              "#ed7953"
             ],
             [
              0.7777777777777778,
              "#fb9f3a"
             ],
             [
              0.8888888888888888,
              "#fdca26"
             ],
             [
              1,
              "#f0f921"
             ]
            ],
            "type": "histogram2d"
           }
          ],
          "histogram2dcontour": [
           {
            "colorbar": {
             "outlinewidth": 0,
             "ticks": ""
            },
            "colorscale": [
             [
              0,
              "#0d0887"
             ],
             [
              0.1111111111111111,
              "#46039f"
             ],
             [
              0.2222222222222222,
              "#7201a8"
             ],
             [
              0.3333333333333333,
              "#9c179e"
             ],
             [
              0.4444444444444444,
              "#bd3786"
             ],
             [
              0.5555555555555556,
              "#d8576b"
             ],
             [
              0.6666666666666666,
              "#ed7953"
             ],
             [
              0.7777777777777778,
              "#fb9f3a"
             ],
             [
              0.8888888888888888,
              "#fdca26"
             ],
             [
              1,
              "#f0f921"
             ]
            ],
            "type": "histogram2dcontour"
           }
          ],
          "mesh3d": [
           {
            "colorbar": {
             "outlinewidth": 0,
             "ticks": ""
            },
            "type": "mesh3d"
           }
          ],
          "parcoords": [
           {
            "line": {
             "colorbar": {
              "outlinewidth": 0,
              "ticks": ""
             }
            },
            "type": "parcoords"
           }
          ],
          "pie": [
           {
            "automargin": true,
            "type": "pie"
           }
          ],
          "scatter": [
           {
            "fillpattern": {
             "fillmode": "overlay",
             "size": 10,
             "solidity": 0.2
            },
            "type": "scatter"
           }
          ],
          "scatter3d": [
           {
            "line": {
             "colorbar": {
              "outlinewidth": 0,
              "ticks": ""
             }
            },
            "marker": {
             "colorbar": {
              "outlinewidth": 0,
              "ticks": ""
             }
            },
            "type": "scatter3d"
           }
          ],
          "scattercarpet": [
           {
            "marker": {
             "colorbar": {
              "outlinewidth": 0,
              "ticks": ""
             }
            },
            "type": "scattercarpet"
           }
          ],
          "scattergeo": [
           {
            "marker": {
             "colorbar": {
              "outlinewidth": 0,
              "ticks": ""
             }
            },
            "type": "scattergeo"
           }
          ],
          "scattergl": [
           {
            "marker": {
             "colorbar": {
              "outlinewidth": 0,
              "ticks": ""
             }
            },
            "type": "scattergl"
           }
          ],
          "scattermap": [
           {
            "marker": {
             "colorbar": {
              "outlinewidth": 0,
              "ticks": ""
             }
            },
            "type": "scattermap"
           }
          ],
          "scattermapbox": [
           {
            "marker": {
             "colorbar": {
              "outlinewidth": 0,
              "ticks": ""
             }
            },
            "type": "scattermapbox"
           }
          ],
          "scatterpolar": [
           {
            "marker": {
             "colorbar": {
              "outlinewidth": 0,
              "ticks": ""
             }
            },
            "type": "scatterpolar"
           }
          ],
          "scatterpolargl": [
           {
            "marker": {
             "colorbar": {
              "outlinewidth": 0,
              "ticks": ""
             }
            },
            "type": "scatterpolargl"
           }
          ],
          "scatterternary": [
           {
            "marker": {
             "colorbar": {
              "outlinewidth": 0,
              "ticks": ""
             }
            },
            "type": "scatterternary"
           }
          ],
          "surface": [
           {
            "colorbar": {
             "outlinewidth": 0,
             "ticks": ""
            },
            "colorscale": [
             [
              0,
              "#0d0887"
             ],
             [
              0.1111111111111111,
              "#46039f"
             ],
             [
              0.2222222222222222,
              "#7201a8"
             ],
             [
              0.3333333333333333,
              "#9c179e"
             ],
             [
              0.4444444444444444,
              "#bd3786"
             ],
             [
              0.5555555555555556,
              "#d8576b"
             ],
             [
              0.6666666666666666,
              "#ed7953"
             ],
             [
              0.7777777777777778,
              "#fb9f3a"
             ],
             [
              0.8888888888888888,
              "#fdca26"
             ],
             [
              1,
              "#f0f921"
             ]
            ],
            "type": "surface"
           }
          ],
          "table": [
           {
            "cells": {
             "fill": {
              "color": "#EBF0F8"
             },
             "line": {
              "color": "white"
             }
            },
            "header": {
             "fill": {
              "color": "#C8D4E3"
             },
             "line": {
              "color": "white"
             }
            },
            "type": "table"
           }
          ]
         },
         "layout": {
          "annotationdefaults": {
           "arrowcolor": "#2a3f5f",
           "arrowhead": 0,
           "arrowwidth": 1
          },
          "autotypenumbers": "strict",
          "coloraxis": {
           "colorbar": {
            "outlinewidth": 0,
            "ticks": ""
           }
          },
          "colorscale": {
           "diverging": [
            [
             0,
             "#8e0152"
            ],
            [
             0.1,
             "#c51b7d"
            ],
            [
             0.2,
             "#de77ae"
            ],
            [
             0.3,
             "#f1b6da"
            ],
            [
             0.4,
             "#fde0ef"
            ],
            [
             0.5,
             "#f7f7f7"
            ],
            [
             0.6,
             "#e6f5d0"
            ],
            [
             0.7,
             "#b8e186"
            ],
            [
             0.8,
             "#7fbc41"
            ],
            [
             0.9,
             "#4d9221"
            ],
            [
             1,
             "#276419"
            ]
           ],
           "sequential": [
            [
             0,
             "#0d0887"
            ],
            [
             0.1111111111111111,
             "#46039f"
            ],
            [
             0.2222222222222222,
             "#7201a8"
            ],
            [
             0.3333333333333333,
             "#9c179e"
            ],
            [
             0.4444444444444444,
             "#bd3786"
            ],
            [
             0.5555555555555556,
             "#d8576b"
            ],
            [
             0.6666666666666666,
             "#ed7953"
            ],
            [
             0.7777777777777778,
             "#fb9f3a"
            ],
            [
             0.8888888888888888,
             "#fdca26"
            ],
            [
             1,
             "#f0f921"
            ]
           ],
           "sequentialminus": [
            [
             0,
             "#0d0887"
            ],
            [
             0.1111111111111111,
             "#46039f"
            ],
            [
             0.2222222222222222,
             "#7201a8"
            ],
            [
             0.3333333333333333,
             "#9c179e"
            ],
            [
             0.4444444444444444,
             "#bd3786"
            ],
            [
             0.5555555555555556,
             "#d8576b"
            ],
            [
             0.6666666666666666,
             "#ed7953"
            ],
            [
             0.7777777777777778,
             "#fb9f3a"
            ],
            [
             0.8888888888888888,
             "#fdca26"
            ],
            [
             1,
             "#f0f921"
            ]
           ]
          },
          "colorway": [
           "#636efa",
           "#EF553B",
           "#00cc96",
           "#ab63fa",
           "#FFA15A",
           "#19d3f3",
           "#FF6692",
           "#B6E880",
           "#FF97FF",
           "#FECB52"
          ],
          "font": {
           "color": "#2a3f5f"
          },
          "geo": {
           "bgcolor": "white",
           "lakecolor": "white",
           "landcolor": "#E5ECF6",
           "showlakes": true,
           "showland": true,
           "subunitcolor": "white"
          },
          "hoverlabel": {
           "align": "left"
          },
          "hovermode": "closest",
          "mapbox": {
           "style": "light"
          },
          "paper_bgcolor": "white",
          "plot_bgcolor": "#E5ECF6",
          "polar": {
           "angularaxis": {
            "gridcolor": "white",
            "linecolor": "white",
            "ticks": ""
           },
           "bgcolor": "#E5ECF6",
           "radialaxis": {
            "gridcolor": "white",
            "linecolor": "white",
            "ticks": ""
           }
          },
          "scene": {
           "xaxis": {
            "backgroundcolor": "#E5ECF6",
            "gridcolor": "white",
            "gridwidth": 2,
            "linecolor": "white",
            "showbackground": true,
            "ticks": "",
            "zerolinecolor": "white"
           },
           "yaxis": {
            "backgroundcolor": "#E5ECF6",
            "gridcolor": "white",
            "gridwidth": 2,
            "linecolor": "white",
            "showbackground": true,
            "ticks": "",
            "zerolinecolor": "white"
           },
           "zaxis": {
            "backgroundcolor": "#E5ECF6",
            "gridcolor": "white",
            "gridwidth": 2,
            "linecolor": "white",
            "showbackground": true,
            "ticks": "",
            "zerolinecolor": "white"
           }
          },
          "shapedefaults": {
           "line": {
            "color": "#2a3f5f"
           }
          },
          "ternary": {
           "aaxis": {
            "gridcolor": "white",
            "linecolor": "white",
            "ticks": ""
           },
           "baxis": {
            "gridcolor": "white",
            "linecolor": "white",
            "ticks": ""
           },
           "bgcolor": "#E5ECF6",
           "caxis": {
            "gridcolor": "white",
            "linecolor": "white",
            "ticks": ""
           }
          },
          "title": {
           "x": 0.05
          },
          "xaxis": {
           "automargin": true,
           "gridcolor": "white",
           "linecolor": "white",
           "ticks": "",
           "title": {
            "standoff": 15
           },
           "zerolinecolor": "white",
           "zerolinewidth": 2
          },
          "yaxis": {
           "automargin": true,
           "gridcolor": "white",
           "linecolor": "white",
           "ticks": "",
           "title": {
            "standoff": 15
           },
           "zerolinecolor": "white",
           "zerolinewidth": 2
          }
         }
        },
        "title": {
         "font": {
          "size": 18
         },
         "text": "GDP per Capita vs. Well-Being Index"
        },
        "xaxis": {
         "anchor": "y",
         "domain": [
          0,
          1
         ],
         "title": {
          "font": {
           "size": 14
          },
          "text": "GDP per Capita"
         }
        },
        "yaxis": {
         "anchor": "x",
         "domain": [
          0,
          1
         ],
         "title": {
          "font": {
           "size": 14
          },
          "text": "Well-Being Index (Normalized)"
         }
        }
       }
      }
     },
     "metadata": {},
     "output_type": "display_data"
    },
    {
     "name": "stdout",
     "output_type": "stream",
     "text": [
      "\n",
      "Correlation Matrix:\n"
     ]
    },
    {
     "data": {
      "text/html": [
       "<div>\n",
       "<style scoped>\n",
       "    .dataframe tbody tr th:only-of-type {\n",
       "        vertical-align: middle;\n",
       "    }\n",
       "\n",
       "    .dataframe tbody tr th {\n",
       "        vertical-align: top;\n",
       "    }\n",
       "\n",
       "    .dataframe thead th {\n",
       "        text-align: right;\n",
       "    }\n",
       "</style>\n",
       "<table border=\"1\" class=\"dataframe\">\n",
       "  <thead>\n",
       "    <tr style=\"text-align: right;\">\n",
       "      <th></th>\n",
       "      <th>GDP_per_capita</th>\n",
       "      <th>Work_Life_Balance</th>\n",
       "      <th>Civic_Engagement</th>\n",
       "      <th>Life_Satisfaction</th>\n",
       "      <th>Well_Being_Index</th>\n",
       "    </tr>\n",
       "  </thead>\n",
       "  <tbody>\n",
       "    <tr>\n",
       "      <th>GDP_per_capita</th>\n",
       "      <td>1.000000</td>\n",
       "      <td>0.498244</td>\n",
       "      <td>0.484819</td>\n",
       "      <td>0.505463</td>\n",
       "      <td>0.526441</td>\n",
       "    </tr>\n",
       "    <tr>\n",
       "      <th>Work_Life_Balance</th>\n",
       "      <td>0.498244</td>\n",
       "      <td>1.000000</td>\n",
       "      <td>0.841328</td>\n",
       "      <td>0.824255</td>\n",
       "      <td>0.951360</td>\n",
       "    </tr>\n",
       "    <tr>\n",
       "      <th>Civic_Engagement</th>\n",
       "      <td>0.484819</td>\n",
       "      <td>0.841328</td>\n",
       "      <td>1.000000</td>\n",
       "      <td>0.839136</td>\n",
       "      <td>0.938895</td>\n",
       "    </tr>\n",
       "    <tr>\n",
       "      <th>Life_Satisfaction</th>\n",
       "      <td>0.505463</td>\n",
       "      <td>0.824255</td>\n",
       "      <td>0.839136</td>\n",
       "      <td>1.000000</td>\n",
       "      <td>0.938405</td>\n",
       "    </tr>\n",
       "    <tr>\n",
       "      <th>Well_Being_Index</th>\n",
       "      <td>0.526441</td>\n",
       "      <td>0.951360</td>\n",
       "      <td>0.938895</td>\n",
       "      <td>0.938405</td>\n",
       "      <td>1.000000</td>\n",
       "    </tr>\n",
       "  </tbody>\n",
       "</table>\n",
       "</div>"
      ],
      "text/plain": [
       "                   GDP_per_capita  Work_Life_Balance  Civic_Engagement  \\\n",
       "GDP_per_capita           1.000000           0.498244          0.484819   \n",
       "Work_Life_Balance        0.498244           1.000000          0.841328   \n",
       "Civic_Engagement         0.484819           0.841328          1.000000   \n",
       "Life_Satisfaction        0.505463           0.824255          0.839136   \n",
       "Well_Being_Index         0.526441           0.951360          0.938895   \n",
       "\n",
       "                   Life_Satisfaction  Well_Being_Index  \n",
       "GDP_per_capita              0.505463          0.526441  \n",
       "Work_Life_Balance           0.824255          0.951360  \n",
       "Civic_Engagement            0.839136          0.938895  \n",
       "Life_Satisfaction           1.000000          0.938405  \n",
       "Well_Being_Index            0.938405          1.000000  "
      ]
     },
     "metadata": {},
     "output_type": "display_data"
    },
    {
     "data": {
      "application/vnd.plotly.v1+json": {
       "config": {
        "plotlyServerURL": "https://plot.ly"
       },
       "data": [
        {
         "coloraxis": "coloraxis",
         "hovertemplate": "x: %{x}<br>y: %{y}<br>color: %{z}<extra></extra>",
         "name": "0",
         "texttemplate": "%{z}",
         "type": "heatmap",
         "x": [
          "GDP_per_capita",
          "Work_Life_Balance",
          "Civic_Engagement",
          "Life_Satisfaction",
          "Well_Being_Index"
         ],
         "xaxis": "x",
         "y": [
          "GDP_per_capita",
          "Work_Life_Balance",
          "Civic_Engagement",
          "Life_Satisfaction",
          "Well_Being_Index"
         ],
         "yaxis": "y",
         "z": {
          "bdata": "AAAAAAAA8D82zlNqOePfPyU/f7BHB98/icDP68As4D/6k4yTmtjgPzbOU2o5498/AAAAAAAA8D8y0/G5KOzqP9udl4ZMYOo/pjqb94px7j8lP3+wRwffPzLT8bko7Oo/AAAAAAAA8D/WZhUNM9rqP23BT/5sC+4/icDP68As4D/bnZeGTGDqP9ZmFQ0z2uo/AAAAAAAA8D/B8dhQagfuP/qTjJOa2OA/pjqb94px7j9twU/+bAvuP8Hx2FBqB+4/AAAAAAAA8D8=",
          "dtype": "f8",
          "shape": "5, 5"
         }
        }
       ],
       "layout": {
        "coloraxis": {
         "cmax": 1,
         "cmin": -1,
         "colorscale": [
          [
           0,
           "rgb(5,48,97)"
          ],
          [
           0.1,
           "rgb(33,102,172)"
          ],
          [
           0.2,
           "rgb(67,147,195)"
          ],
          [
           0.3,
           "rgb(146,197,222)"
          ],
          [
           0.4,
           "rgb(209,229,240)"
          ],
          [
           0.5,
           "rgb(247,247,247)"
          ],
          [
           0.6,
           "rgb(253,219,199)"
          ],
          [
           0.7,
           "rgb(244,165,130)"
          ],
          [
           0.8,
           "rgb(214,96,77)"
          ],
          [
           0.9,
           "rgb(178,24,43)"
          ],
          [
           1,
           "rgb(103,0,31)"
          ]
         ]
        },
        "template": {
         "data": {
          "bar": [
           {
            "error_x": {
             "color": "#2a3f5f"
            },
            "error_y": {
             "color": "#2a3f5f"
            },
            "marker": {
             "line": {
              "color": "#E5ECF6",
              "width": 0.5
             },
             "pattern": {
              "fillmode": "overlay",
              "size": 10,
              "solidity": 0.2
             }
            },
            "type": "bar"
           }
          ],
          "barpolar": [
           {
            "marker": {
             "line": {
              "color": "#E5ECF6",
              "width": 0.5
             },
             "pattern": {
              "fillmode": "overlay",
              "size": 10,
              "solidity": 0.2
             }
            },
            "type": "barpolar"
           }
          ],
          "carpet": [
           {
            "aaxis": {
             "endlinecolor": "#2a3f5f",
             "gridcolor": "white",
             "linecolor": "white",
             "minorgridcolor": "white",
             "startlinecolor": "#2a3f5f"
            },
            "baxis": {
             "endlinecolor": "#2a3f5f",
             "gridcolor": "white",
             "linecolor": "white",
             "minorgridcolor": "white",
             "startlinecolor": "#2a3f5f"
            },
            "type": "carpet"
           }
          ],
          "choropleth": [
           {
            "colorbar": {
             "outlinewidth": 0,
             "ticks": ""
            },
            "type": "choropleth"
           }
          ],
          "contour": [
           {
            "colorbar": {
             "outlinewidth": 0,
             "ticks": ""
            },
            "colorscale": [
             [
              0,
              "#0d0887"
             ],
             [
              0.1111111111111111,
              "#46039f"
             ],
             [
              0.2222222222222222,
              "#7201a8"
             ],
             [
              0.3333333333333333,
              "#9c179e"
             ],
             [
              0.4444444444444444,
              "#bd3786"
             ],
             [
              0.5555555555555556,
              "#d8576b"
             ],
             [
              0.6666666666666666,
              "#ed7953"
             ],
             [
              0.7777777777777778,
              "#fb9f3a"
             ],
             [
              0.8888888888888888,
              "#fdca26"
             ],
             [
              1,
              "#f0f921"
             ]
            ],
            "type": "contour"
           }
          ],
          "contourcarpet": [
           {
            "colorbar": {
             "outlinewidth": 0,
             "ticks": ""
            },
            "type": "contourcarpet"
           }
          ],
          "heatmap": [
           {
            "colorbar": {
             "outlinewidth": 0,
             "ticks": ""
            },
            "colorscale": [
             [
              0,
              "#0d0887"
             ],
             [
              0.1111111111111111,
              "#46039f"
             ],
             [
              0.2222222222222222,
              "#7201a8"
             ],
             [
              0.3333333333333333,
              "#9c179e"
             ],
             [
              0.4444444444444444,
              "#bd3786"
             ],
             [
              0.5555555555555556,
              "#d8576b"
             ],
             [
              0.6666666666666666,
              "#ed7953"
             ],
             [
              0.7777777777777778,
              "#fb9f3a"
             ],
             [
              0.8888888888888888,
              "#fdca26"
             ],
             [
              1,
              "#f0f921"
             ]
            ],
            "type": "heatmap"
           }
          ],
          "histogram": [
           {
            "marker": {
             "pattern": {
              "fillmode": "overlay",
              "size": 10,
              "solidity": 0.2
             }
            },
            "type": "histogram"
           }
          ],
          "histogram2d": [
           {
            "colorbar": {
             "outlinewidth": 0,
             "ticks": ""
            },
            "colorscale": [
             [
              0,
              "#0d0887"
             ],
             [
              0.1111111111111111,
              "#46039f"
             ],
             [
              0.2222222222222222,
              "#7201a8"
             ],
             [
              0.3333333333333333,
              "#9c179e"
             ],
             [
              0.4444444444444444,
              "#bd3786"
             ],
             [
              0.5555555555555556,
              "#d8576b"
             ],
             [
              0.6666666666666666,
              "#ed7953"
             ],
             [
              0.7777777777777778,
              "#fb9f3a"
             ],
             [
              0.8888888888888888,
              "#fdca26"
             ],
             [
              1,
              "#f0f921"
             ]
            ],
            "type": "histogram2d"
           }
          ],
          "histogram2dcontour": [
           {
            "colorbar": {
             "outlinewidth": 0,
             "ticks": ""
            },
            "colorscale": [
             [
              0,
              "#0d0887"
             ],
             [
              0.1111111111111111,
              "#46039f"
             ],
             [
              0.2222222222222222,
              "#7201a8"
             ],
             [
              0.3333333333333333,
              "#9c179e"
             ],
             [
              0.4444444444444444,
              "#bd3786"
             ],
             [
              0.5555555555555556,
              "#d8576b"
             ],
             [
              0.6666666666666666,
              "#ed7953"
             ],
             [
              0.7777777777777778,
              "#fb9f3a"
             ],
             [
              0.8888888888888888,
              "#fdca26"
             ],
             [
              1,
              "#f0f921"
             ]
            ],
            "type": "histogram2dcontour"
           }
          ],
          "mesh3d": [
           {
            "colorbar": {
             "outlinewidth": 0,
             "ticks": ""
            },
            "type": "mesh3d"
           }
          ],
          "parcoords": [
           {
            "line": {
             "colorbar": {
              "outlinewidth": 0,
              "ticks": ""
             }
            },
            "type": "parcoords"
           }
          ],
          "pie": [
           {
            "automargin": true,
            "type": "pie"
           }
          ],
          "scatter": [
           {
            "fillpattern": {
             "fillmode": "overlay",
             "size": 10,
             "solidity": 0.2
            },
            "type": "scatter"
           }
          ],
          "scatter3d": [
           {
            "line": {
             "colorbar": {
              "outlinewidth": 0,
              "ticks": ""
             }
            },
            "marker": {
             "colorbar": {
              "outlinewidth": 0,
              "ticks": ""
             }
            },
            "type": "scatter3d"
           }
          ],
          "scattercarpet": [
           {
            "marker": {
             "colorbar": {
              "outlinewidth": 0,
              "ticks": ""
             }
            },
            "type": "scattercarpet"
           }
          ],
          "scattergeo": [
           {
            "marker": {
             "colorbar": {
              "outlinewidth": 0,
              "ticks": ""
             }
            },
            "type": "scattergeo"
           }
          ],
          "scattergl": [
           {
            "marker": {
             "colorbar": {
              "outlinewidth": 0,
              "ticks": ""
             }
            },
            "type": "scattergl"
           }
          ],
          "scattermap": [
           {
            "marker": {
             "colorbar": {
              "outlinewidth": 0,
              "ticks": ""
             }
            },
            "type": "scattermap"
           }
          ],
          "scattermapbox": [
           {
            "marker": {
             "colorbar": {
              "outlinewidth": 0,
              "ticks": ""
             }
            },
            "type": "scattermapbox"
           }
          ],
          "scatterpolar": [
           {
            "marker": {
             "colorbar": {
              "outlinewidth": 0,
              "ticks": ""
             }
            },
            "type": "scatterpolar"
           }
          ],
          "scatterpolargl": [
           {
            "marker": {
             "colorbar": {
              "outlinewidth": 0,
              "ticks": ""
             }
            },
            "type": "scatterpolargl"
           }
          ],
          "scatterternary": [
           {
            "marker": {
             "colorbar": {
              "outlinewidth": 0,
              "ticks": ""
             }
            },
            "type": "scatterternary"
           }
          ],
          "surface": [
           {
            "colorbar": {
             "outlinewidth": 0,
             "ticks": ""
            },
            "colorscale": [
             [
              0,
              "#0d0887"
             ],
             [
              0.1111111111111111,
              "#46039f"
             ],
             [
              0.2222222222222222,
              "#7201a8"
             ],
             [
              0.3333333333333333,
              "#9c179e"
             ],
             [
              0.4444444444444444,
              "#bd3786"
             ],
             [
              0.5555555555555556,
              "#d8576b"
             ],
             [
              0.6666666666666666,
              "#ed7953"
             ],
             [
              0.7777777777777778,
              "#fb9f3a"
             ],
             [
              0.8888888888888888,
              "#fdca26"
             ],
             [
              1,
              "#f0f921"
             ]
            ],
            "type": "surface"
           }
          ],
          "table": [
           {
            "cells": {
             "fill": {
              "color": "#EBF0F8"
             },
             "line": {
              "color": "white"
             }
            },
            "header": {
             "fill": {
              "color": "#C8D4E3"
             },
             "line": {
              "color": "white"
             }
            },
            "type": "table"
           }
          ]
         },
         "layout": {
          "annotationdefaults": {
           "arrowcolor": "#2a3f5f",
           "arrowhead": 0,
           "arrowwidth": 1
          },
          "autotypenumbers": "strict",
          "coloraxis": {
           "colorbar": {
            "outlinewidth": 0,
            "ticks": ""
           }
          },
          "colorscale": {
           "diverging": [
            [
             0,
             "#8e0152"
            ],
            [
             0.1,
             "#c51b7d"
            ],
            [
             0.2,
             "#de77ae"
            ],
            [
             0.3,
             "#f1b6da"
            ],
            [
             0.4,
             "#fde0ef"
            ],
            [
             0.5,
             "#f7f7f7"
            ],
            [
             0.6,
             "#e6f5d0"
            ],
            [
             0.7,
             "#b8e186"
            ],
            [
             0.8,
             "#7fbc41"
            ],
            [
             0.9,
             "#4d9221"
            ],
            [
             1,
             "#276419"
            ]
           ],
           "sequential": [
            [
             0,
             "#0d0887"
            ],
            [
             0.1111111111111111,
             "#46039f"
            ],
            [
             0.2222222222222222,
             "#7201a8"
            ],
            [
             0.3333333333333333,
             "#9c179e"
            ],
            [
             0.4444444444444444,
             "#bd3786"
            ],
            [
             0.5555555555555556,
             "#d8576b"
            ],
            [
             0.6666666666666666,
             "#ed7953"
            ],
            [
             0.7777777777777778,
             "#fb9f3a"
            ],
            [
             0.8888888888888888,
             "#fdca26"
            ],
            [
             1,
             "#f0f921"
            ]
           ],
           "sequentialminus": [
            [
             0,
             "#0d0887"
            ],
            [
             0.1111111111111111,
             "#46039f"
            ],
            [
             0.2222222222222222,
             "#7201a8"
            ],
            [
             0.3333333333333333,
             "#9c179e"
            ],
            [
             0.4444444444444444,
             "#bd3786"
            ],
            [
             0.5555555555555556,
             "#d8576b"
            ],
            [
             0.6666666666666666,
             "#ed7953"
            ],
            [
             0.7777777777777778,
             "#fb9f3a"
            ],
            [
             0.8888888888888888,
             "#fdca26"
            ],
            [
             1,
             "#f0f921"
            ]
           ]
          },
          "colorway": [
           "#636efa",
           "#EF553B",
           "#00cc96",
           "#ab63fa",
           "#FFA15A",
           "#19d3f3",
           "#FF6692",
           "#B6E880",
           "#FF97FF",
           "#FECB52"
          ],
          "font": {
           "color": "#2a3f5f"
          },
          "geo": {
           "bgcolor": "white",
           "lakecolor": "white",
           "landcolor": "#E5ECF6",
           "showlakes": true,
           "showland": true,
           "subunitcolor": "white"
          },
          "hoverlabel": {
           "align": "left"
          },
          "hovermode": "closest",
          "mapbox": {
           "style": "light"
          },
          "paper_bgcolor": "white",
          "plot_bgcolor": "#E5ECF6",
          "polar": {
           "angularaxis": {
            "gridcolor": "white",
            "linecolor": "white",
            "ticks": ""
           },
           "bgcolor": "#E5ECF6",
           "radialaxis": {
            "gridcolor": "white",
            "linecolor": "white",
            "ticks": ""
           }
          },
          "scene": {
           "xaxis": {
            "backgroundcolor": "#E5ECF6",
            "gridcolor": "white",
            "gridwidth": 2,
            "linecolor": "white",
            "showbackground": true,
            "ticks": "",
            "zerolinecolor": "white"
           },
           "yaxis": {
            "backgroundcolor": "#E5ECF6",
            "gridcolor": "white",
            "gridwidth": 2,
            "linecolor": "white",
            "showbackground": true,
            "ticks": "",
            "zerolinecolor": "white"
           },
           "zaxis": {
            "backgroundcolor": "#E5ECF6",
            "gridcolor": "white",
            "gridwidth": 2,
            "linecolor": "white",
            "showbackground": true,
            "ticks": "",
            "zerolinecolor": "white"
           }
          },
          "shapedefaults": {
           "line": {
            "color": "#2a3f5f"
           }
          },
          "ternary": {
           "aaxis": {
            "gridcolor": "white",
            "linecolor": "white",
            "ticks": ""
           },
           "baxis": {
            "gridcolor": "white",
            "linecolor": "white",
            "ticks": ""
           },
           "bgcolor": "#E5ECF6",
           "caxis": {
            "gridcolor": "white",
            "linecolor": "white",
            "ticks": ""
           }
          },
          "title": {
           "x": 0.05
          },
          "xaxis": {
           "automargin": true,
           "gridcolor": "white",
           "linecolor": "white",
           "ticks": "",
           "title": {
            "standoff": 15
           },
           "zerolinecolor": "white",
           "zerolinewidth": 2
          },
          "yaxis": {
           "automargin": true,
           "gridcolor": "white",
           "linecolor": "white",
           "ticks": "",
           "title": {
            "standoff": 15
           },
           "zerolinecolor": "white",
           "zerolinewidth": 2
          }
         }
        },
        "title": {
         "text": "Correlation Matrix of GDP per Capita and Normalized Well-Being Indicators"
        },
        "xaxis": {
         "anchor": "y",
         "constrain": "domain",
         "domain": [
          0,
          1
         ],
         "scaleanchor": "y"
        },
        "yaxis": {
         "anchor": "x",
         "autorange": "reversed",
         "constrain": "domain",
         "domain": [
          0,
          1
         ]
        }
       }
      }
     },
     "metadata": {},
     "output_type": "display_data"
    }
   ],
   "source": [
    "# Visualize the relationship between GDP per capita and the Well-Being Index\n",
    "fig1 = px.scatter(\n",
    "    simplified_df_clean, \n",
    "    x='GDP_per_capita', \n",
    "    y='Well_Being_Index',\n",
    "    hover_name='Country',\n",
    "    title='GDP per Capita vs. Well-Being Index',\n",
    "    labels={'GDP_per_capita': 'GDP per Capita', 'Well_Being_Index': 'Well-Being Index (Normalized)'},\n",
    "    trendline='ols'\n",
    ")\n",
    "\n",
    "fig1.update_layout(\n",
    "    xaxis=dict(title=dict(font=dict(size=14))),\n",
    "    yaxis=dict(title=dict(font=dict(size=14))),\n",
    "    hoverlabel=dict(font_size=12),\n",
    "    title=dict(font=dict(size=18))\n",
    ")\n",
    "\n",
    "fig1.show()\n",
    "\n",
    "# Create a correlation matrix for GDP and all normalized indicators\n",
    "correlation_matrix = simplified_df_clean[['GDP_per_capita', 'Work_Life_Balance', \n",
    "                                        'Civic_Engagement', 'Life_Satisfaction', \n",
    "                                        'Well_Being_Index']].corr()\n",
    "\n",
    "print(\"\\nCorrelation Matrix:\")\n",
    "display(correlation_matrix)\n",
    "\n",
    "# Visualize the correlation matrix\n",
    "fig2 = px.imshow(\n",
    "    correlation_matrix,\n",
    "    text_auto=True,\n",
    "    title='Correlation Matrix of GDP per Capita and Normalized Well-Being Indicators',\n",
    "    color_continuous_scale='RdBu_r',\n",
    "    zmin=-1, zmax=1\n",
    ")\n",
    "\n",
    "fig2.show()"
   ]
  },
  {
   "cell_type": "code",
   "execution_count": 54,
   "id": "e9b0de31",
   "metadata": {},
   "outputs": [
    {
     "data": {
      "application/vnd.plotly.v1+json": {
       "config": {
        "plotlyServerURL": "https://plot.ly"
       },
       "data": [
        {
         "hovertemplate": "<b>%{hovertext}</b><br><br>GDP per Capita=%{x}<br>Work-Life Balance (% Working Very Long Hours)=%{y}<extra></extra>",
         "hovertext": [
          "Australia",
          "Austria",
          "Belgium",
          "Brazil",
          "Canada",
          "Chile",
          "Colombia",
          "Costa Rica",
          "Czechia",
          "Denmark",
          "Estonia",
          "Finland",
          "France",
          "Germany",
          "Greece",
          "Hungary",
          "Iceland",
          "Ireland",
          "Israel",
          "Italy",
          "Latvia",
          "Lithuania",
          "Luxembourg",
          "Mexico",
          "Netherlands",
          "New Zealand",
          "Norway",
          "Poland",
          "Portugal",
          "Russia",
          "Slovenia",
          "South Africa",
          "Spain",
          "Sweden",
          "Switzerland",
          "United Kingdom",
          "United States"
         ],
         "legendgroup": "",
         "marker": {
          "color": "#636efa",
          "symbol": "circle"
         },
         "mode": "markers",
         "name": "",
         "orientation": "v",
         "showlegend": false,
         "type": "scatter",
         "x": {
          "bdata": "j8L1KBwU7UBMN4lB5L7vQGDl0CI7V+9AHVpkO4+S0kApXI/C3U3rQFyPwvWoxdxAPQrXoxhB0kBOYhBYMa3ZQLgeheshQuhAFK5H4RSa8UB9PzVe+rzkQPp+arzw3OtAdZMYBCYS60CuR+F6RAvvQCPb+X4uBeJAtMh2vv/L40CF61G4emvwQNejcD2mDvxAUrgehQOm50DXo3A9AgjqQLTIdr7rEeJA7FG4Ho3S5kA9CtejdDcAQSuHFtmmn9VA7FG4Hmtx8UB9PzVeUtfnQFyPwvVcFvZAN4lBYAWs5UDD9Shcb2PkQMl2vp8uaeNASOF6FH6O50C4HoXrMb3KQDeJQWCxBOdAKVyPwlXR7kDNzMzM2Cf0QJhuEoPAoepAj8L1KBg18kA=",
          "dtype": "f8"
         },
         "xaxis": "x",
         "y": {
          "bdata": "AAAAAAAAKUAzMzMzMzMVQDMzMzMzMxFAZmZmZmZmFkBmZmZmZmYKQM3MzMzMzB5AMzMzMzOzN0AAAAAAAAA2QAAAAAAAABJAmpmZmZmZ8T+amZmZmZkBQM3MzMzMzAxAzczMzMzMHkAzMzMzMzMPQAAAAAAAABJAAAAAAAAA+D9mZmZmZmYnQM3MzMzMzBJAMzMzMzMzLEBmZmZmZmYKQJqZmZmZmfk/AAAAAAAA8D9mZmZmZmYGQAAAAAAAADtAMzMzMzMz0z8AAAAAAAAsQGZmZmZmZvY/zczMzMzMEEBmZmZmZmYWQJqZmZmZmbk/ZmZmZmZmFkDNzMzMzMwuQAAAAAAAAARAzczMzMzM7D+amZmZmZnZP5qZmZmZmSVAzczMzMzMJEA=",
          "dtype": "f8"
         },
         "yaxis": "y"
        },
        {
         "hovertemplate": "<b>OLS trendline</b><br>Work_Life_Balance = -0.000119071 * GDP_per_capita + 13.2225<br>R<sup>2</sup>=0.188581<br><br>GDP per Capita=%{x}<br>Work-Life Balance (% Working Very Long Hours)=%{y} <b>(trend)</b><extra></extra>",
         "legendgroup": "",
         "marker": {
          "color": "#636efa",
          "symbol": "circle"
         },
         "mode": "lines",
         "name": "",
         "showlegend": false,
         "type": "scatter",
         "x": {
          "bdata": "uB6F6zG9ykA9CtejGEHSQB1aZDuPktJAK4cW2aaf1UBOYhBYMa3ZQFyPwvWoxdxAI9v5fi4F4kC0yHa+6xHiQMl2vp8uaeNAtMh2vv/L40DD9Shcb2PkQH0/NV76vORAN4lBYAWs5UDsUbgejdLmQDeJQWCxBOdASOF6FH6O50BSuB6FA6bnQH0/NV5S1+dAuB6F6yFC6EDXo3A9AgjqQJhuEoPAoepAdZMYBCYS60ApXI/C3U3rQPp+arzw3OtAj8L1KBwU7UApXI/CVdHuQK5H4XpEC+9AYOXQIjtX70BMN4lB5L7vQIXrUbh6a/BA7FG4Hmtx8UAUrkfhFJrxQI/C9SgYNfJAzczMzNgn9EBcj8L1XBb2QNejcD2mDvxAPQrXo3Q3AEE=",
          "dtype": "f8"
         },
         "xaxis": "x",
         "y": {
          "bdata": "RHa7gk8vJ0DcKSexXf4lQNij+R+A6iVAUOrNSwYsJUDUpSfzAi8kQEoPYwHDbSNAkM67fgOoIUBYIQLuzKEhQOrBleBi+iBA8DM1DDHKIEDe/2puVYAgQMzA9n6pVCBAig4zVCfAH0BnIdrj26AeQHHLuPnybx5AvGY35YjpHUCqpoBhl9IdQLK4saF+oh1ASqpj0E46HUDtt7TtlH8bQByq1Yyd6RpAkKXO6Pp7GkCOkzG7ukEaQCLf74wrthlAfWezE6WGGEA1JO6AW9QWQPvbOh/ZmxZAi6SaM8BRFkDJbzoBo+wVQAgmySpz2xRA0IpjC3HcEkAYjIr8HI0SQKC1qS60XhFAaODGc2gjC0BkEYHk75kDQOBtiok8iN2/yNg7Wv7DBMA=",
          "dtype": "f8"
         },
         "yaxis": "y"
        }
       ],
       "layout": {
        "hoverlabel": {
         "font": {
          "size": 12
         }
        },
        "legend": {
         "tracegroupgap": 0
        },
        "template": {
         "data": {
          "bar": [
           {
            "error_x": {
             "color": "#2a3f5f"
            },
            "error_y": {
             "color": "#2a3f5f"
            },
            "marker": {
             "line": {
              "color": "#E5ECF6",
              "width": 0.5
             },
             "pattern": {
              "fillmode": "overlay",
              "size": 10,
              "solidity": 0.2
             }
            },
            "type": "bar"
           }
          ],
          "barpolar": [
           {
            "marker": {
             "line": {
              "color": "#E5ECF6",
              "width": 0.5
             },
             "pattern": {
              "fillmode": "overlay",
              "size": 10,
              "solidity": 0.2
             }
            },
            "type": "barpolar"
           }
          ],
          "carpet": [
           {
            "aaxis": {
             "endlinecolor": "#2a3f5f",
             "gridcolor": "white",
             "linecolor": "white",
             "minorgridcolor": "white",
             "startlinecolor": "#2a3f5f"
            },
            "baxis": {
             "endlinecolor": "#2a3f5f",
             "gridcolor": "white",
             "linecolor": "white",
             "minorgridcolor": "white",
             "startlinecolor": "#2a3f5f"
            },
            "type": "carpet"
           }
          ],
          "choropleth": [
           {
            "colorbar": {
             "outlinewidth": 0,
             "ticks": ""
            },
            "type": "choropleth"
           }
          ],
          "contour": [
           {
            "colorbar": {
             "outlinewidth": 0,
             "ticks": ""
            },
            "colorscale": [
             [
              0,
              "#0d0887"
             ],
             [
              0.1111111111111111,
              "#46039f"
             ],
             [
              0.2222222222222222,
              "#7201a8"
             ],
             [
              0.3333333333333333,
              "#9c179e"
             ],
             [
              0.4444444444444444,
              "#bd3786"
             ],
             [
              0.5555555555555556,
              "#d8576b"
             ],
             [
              0.6666666666666666,
              "#ed7953"
             ],
             [
              0.7777777777777778,
              "#fb9f3a"
             ],
             [
              0.8888888888888888,
              "#fdca26"
             ],
             [
              1,
              "#f0f921"
             ]
            ],
            "type": "contour"
           }
          ],
          "contourcarpet": [
           {
            "colorbar": {
             "outlinewidth": 0,
             "ticks": ""
            },
            "type": "contourcarpet"
           }
          ],
          "heatmap": [
           {
            "colorbar": {
             "outlinewidth": 0,
             "ticks": ""
            },
            "colorscale": [
             [
              0,
              "#0d0887"
             ],
             [
              0.1111111111111111,
              "#46039f"
             ],
             [
              0.2222222222222222,
              "#7201a8"
             ],
             [
              0.3333333333333333,
              "#9c179e"
             ],
             [
              0.4444444444444444,
              "#bd3786"
             ],
             [
              0.5555555555555556,
              "#d8576b"
             ],
             [
              0.6666666666666666,
              "#ed7953"
             ],
             [
              0.7777777777777778,
              "#fb9f3a"
             ],
             [
              0.8888888888888888,
              "#fdca26"
             ],
             [
              1,
              "#f0f921"
             ]
            ],
            "type": "heatmap"
           }
          ],
          "histogram": [
           {
            "marker": {
             "pattern": {
              "fillmode": "overlay",
              "size": 10,
              "solidity": 0.2
             }
            },
            "type": "histogram"
           }
          ],
          "histogram2d": [
           {
            "colorbar": {
             "outlinewidth": 0,
             "ticks": ""
            },
            "colorscale": [
             [
              0,
              "#0d0887"
             ],
             [
              0.1111111111111111,
              "#46039f"
             ],
             [
              0.2222222222222222,
              "#7201a8"
             ],
             [
              0.3333333333333333,
              "#9c179e"
             ],
             [
              0.4444444444444444,
              "#bd3786"
             ],
             [
              0.5555555555555556,
              "#d8576b"
             ],
             [
              0.6666666666666666,
              "#ed7953"
             ],
             [
              0.7777777777777778,
              "#fb9f3a"
             ],
             [
              0.8888888888888888,
              "#fdca26"
             ],
             [
              1,
              "#f0f921"
             ]
            ],
            "type": "histogram2d"
           }
          ],
          "histogram2dcontour": [
           {
            "colorbar": {
             "outlinewidth": 0,
             "ticks": ""
            },
            "colorscale": [
             [
              0,
              "#0d0887"
             ],
             [
              0.1111111111111111,
              "#46039f"
             ],
             [
              0.2222222222222222,
              "#7201a8"
             ],
             [
              0.3333333333333333,
              "#9c179e"
             ],
             [
              0.4444444444444444,
              "#bd3786"
             ],
             [
              0.5555555555555556,
              "#d8576b"
             ],
             [
              0.6666666666666666,
              "#ed7953"
             ],
             [
              0.7777777777777778,
              "#fb9f3a"
             ],
             [
              0.8888888888888888,
              "#fdca26"
             ],
             [
              1,
              "#f0f921"
             ]
            ],
            "type": "histogram2dcontour"
           }
          ],
          "mesh3d": [
           {
            "colorbar": {
             "outlinewidth": 0,
             "ticks": ""
            },
            "type": "mesh3d"
           }
          ],
          "parcoords": [
           {
            "line": {
             "colorbar": {
              "outlinewidth": 0,
              "ticks": ""
             }
            },
            "type": "parcoords"
           }
          ],
          "pie": [
           {
            "automargin": true,
            "type": "pie"
           }
          ],
          "scatter": [
           {
            "fillpattern": {
             "fillmode": "overlay",
             "size": 10,
             "solidity": 0.2
            },
            "type": "scatter"
           }
          ],
          "scatter3d": [
           {
            "line": {
             "colorbar": {
              "outlinewidth": 0,
              "ticks": ""
             }
            },
            "marker": {
             "colorbar": {
              "outlinewidth": 0,
              "ticks": ""
             }
            },
            "type": "scatter3d"
           }
          ],
          "scattercarpet": [
           {
            "marker": {
             "colorbar": {
              "outlinewidth": 0,
              "ticks": ""
             }
            },
            "type": "scattercarpet"
           }
          ],
          "scattergeo": [
           {
            "marker": {
             "colorbar": {
              "outlinewidth": 0,
              "ticks": ""
             }
            },
            "type": "scattergeo"
           }
          ],
          "scattergl": [
           {
            "marker": {
             "colorbar": {
              "outlinewidth": 0,
              "ticks": ""
             }
            },
            "type": "scattergl"
           }
          ],
          "scattermap": [
           {
            "marker": {
             "colorbar": {
              "outlinewidth": 0,
              "ticks": ""
             }
            },
            "type": "scattermap"
           }
          ],
          "scattermapbox": [
           {
            "marker": {
             "colorbar": {
              "outlinewidth": 0,
              "ticks": ""
             }
            },
            "type": "scattermapbox"
           }
          ],
          "scatterpolar": [
           {
            "marker": {
             "colorbar": {
              "outlinewidth": 0,
              "ticks": ""
             }
            },
            "type": "scatterpolar"
           }
          ],
          "scatterpolargl": [
           {
            "marker": {
             "colorbar": {
              "outlinewidth": 0,
              "ticks": ""
             }
            },
            "type": "scatterpolargl"
           }
          ],
          "scatterternary": [
           {
            "marker": {
             "colorbar": {
              "outlinewidth": 0,
              "ticks": ""
             }
            },
            "type": "scatterternary"
           }
          ],
          "surface": [
           {
            "colorbar": {
             "outlinewidth": 0,
             "ticks": ""
            },
            "colorscale": [
             [
              0,
              "#0d0887"
             ],
             [
              0.1111111111111111,
              "#46039f"
             ],
             [
              0.2222222222222222,
              "#7201a8"
             ],
             [
              0.3333333333333333,
              "#9c179e"
             ],
             [
              0.4444444444444444,
              "#bd3786"
             ],
             [
              0.5555555555555556,
              "#d8576b"
             ],
             [
              0.6666666666666666,
              "#ed7953"
             ],
             [
              0.7777777777777778,
              "#fb9f3a"
             ],
             [
              0.8888888888888888,
              "#fdca26"
             ],
             [
              1,
              "#f0f921"
             ]
            ],
            "type": "surface"
           }
          ],
          "table": [
           {
            "cells": {
             "fill": {
              "color": "#EBF0F8"
             },
             "line": {
              "color": "white"
             }
            },
            "header": {
             "fill": {
              "color": "#C8D4E3"
             },
             "line": {
              "color": "white"
             }
            },
            "type": "table"
           }
          ]
         },
         "layout": {
          "annotationdefaults": {
           "arrowcolor": "#2a3f5f",
           "arrowhead": 0,
           "arrowwidth": 1
          },
          "autotypenumbers": "strict",
          "coloraxis": {
           "colorbar": {
            "outlinewidth": 0,
            "ticks": ""
           }
          },
          "colorscale": {
           "diverging": [
            [
             0,
             "#8e0152"
            ],
            [
             0.1,
             "#c51b7d"
            ],
            [
             0.2,
             "#de77ae"
            ],
            [
             0.3,
             "#f1b6da"
            ],
            [
             0.4,
             "#fde0ef"
            ],
            [
             0.5,
             "#f7f7f7"
            ],
            [
             0.6,
             "#e6f5d0"
            ],
            [
             0.7,
             "#b8e186"
            ],
            [
             0.8,
             "#7fbc41"
            ],
            [
             0.9,
             "#4d9221"
            ],
            [
             1,
             "#276419"
            ]
           ],
           "sequential": [
            [
             0,
             "#0d0887"
            ],
            [
             0.1111111111111111,
             "#46039f"
            ],
            [
             0.2222222222222222,
             "#7201a8"
            ],
            [
             0.3333333333333333,
             "#9c179e"
            ],
            [
             0.4444444444444444,
             "#bd3786"
            ],
            [
             0.5555555555555556,
             "#d8576b"
            ],
            [
             0.6666666666666666,
             "#ed7953"
            ],
            [
             0.7777777777777778,
             "#fb9f3a"
            ],
            [
             0.8888888888888888,
             "#fdca26"
            ],
            [
             1,
             "#f0f921"
            ]
           ],
           "sequentialminus": [
            [
             0,
             "#0d0887"
            ],
            [
             0.1111111111111111,
             "#46039f"
            ],
            [
             0.2222222222222222,
             "#7201a8"
            ],
            [
             0.3333333333333333,
             "#9c179e"
            ],
            [
             0.4444444444444444,
             "#bd3786"
            ],
            [
             0.5555555555555556,
             "#d8576b"
            ],
            [
             0.6666666666666666,
             "#ed7953"
            ],
            [
             0.7777777777777778,
             "#fb9f3a"
            ],
            [
             0.8888888888888888,
             "#fdca26"
            ],
            [
             1,
             "#f0f921"
            ]
           ]
          },
          "colorway": [
           "#636efa",
           "#EF553B",
           "#00cc96",
           "#ab63fa",
           "#FFA15A",
           "#19d3f3",
           "#FF6692",
           "#B6E880",
           "#FF97FF",
           "#FECB52"
          ],
          "font": {
           "color": "#2a3f5f"
          },
          "geo": {
           "bgcolor": "white",
           "lakecolor": "white",
           "landcolor": "#E5ECF6",
           "showlakes": true,
           "showland": true,
           "subunitcolor": "white"
          },
          "hoverlabel": {
           "align": "left"
          },
          "hovermode": "closest",
          "mapbox": {
           "style": "light"
          },
          "paper_bgcolor": "white",
          "plot_bgcolor": "#E5ECF6",
          "polar": {
           "angularaxis": {
            "gridcolor": "white",
            "linecolor": "white",
            "ticks": ""
           },
           "bgcolor": "#E5ECF6",
           "radialaxis": {
            "gridcolor": "white",
            "linecolor": "white",
            "ticks": ""
           }
          },
          "scene": {
           "xaxis": {
            "backgroundcolor": "#E5ECF6",
            "gridcolor": "white",
            "gridwidth": 2,
            "linecolor": "white",
            "showbackground": true,
            "ticks": "",
            "zerolinecolor": "white"
           },
           "yaxis": {
            "backgroundcolor": "#E5ECF6",
            "gridcolor": "white",
            "gridwidth": 2,
            "linecolor": "white",
            "showbackground": true,
            "ticks": "",
            "zerolinecolor": "white"
           },
           "zaxis": {
            "backgroundcolor": "#E5ECF6",
            "gridcolor": "white",
            "gridwidth": 2,
            "linecolor": "white",
            "showbackground": true,
            "ticks": "",
            "zerolinecolor": "white"
           }
          },
          "shapedefaults": {
           "line": {
            "color": "#2a3f5f"
           }
          },
          "ternary": {
           "aaxis": {
            "gridcolor": "white",
            "linecolor": "white",
            "ticks": ""
           },
           "baxis": {
            "gridcolor": "white",
            "linecolor": "white",
            "ticks": ""
           },
           "bgcolor": "#E5ECF6",
           "caxis": {
            "gridcolor": "white",
            "linecolor": "white",
            "ticks": ""
           }
          },
          "title": {
           "x": 0.05
          },
          "xaxis": {
           "automargin": true,
           "gridcolor": "white",
           "linecolor": "white",
           "ticks": "",
           "title": {
            "standoff": 15
           },
           "zerolinecolor": "white",
           "zerolinewidth": 2
          },
          "yaxis": {
           "automargin": true,
           "gridcolor": "white",
           "linecolor": "white",
           "ticks": "",
           "title": {
            "standoff": 15
           },
           "zerolinecolor": "white",
           "zerolinewidth": 2
          }
         }
        },
        "title": {
         "font": {
          "size": 18
         },
         "text": "GDP per Capita vs. Work-Life Balance (OECD Countries)"
        },
        "xaxis": {
         "anchor": "y",
         "domain": [
          0,
          1
         ],
         "title": {
          "font": {
           "size": 14
          },
          "text": "GDP per Capita"
         }
        },
        "yaxis": {
         "anchor": "x",
         "domain": [
          0,
          1
         ],
         "title": {
          "font": {
           "size": 14
          },
          "text": "Work-Life Balance (% Working Very Long Hours)"
         }
        }
       }
      }
     },
     "metadata": {},
     "output_type": "display_data"
    }
   ],
   "source": [
    "# Create visualizations for each indicator vs. GDP (OECD countries only)\n",
    "# Work-Life Balance vs. GDP\n",
    "fig1 = px.scatter(\n",
    "    gdp_wlb_oecd, \n",
    "    x='GDP_per_capita', \n",
    "    y='Work_Life_Balance',\n",
    "    hover_name='Country',\n",
    "    title='GDP per Capita vs. Work-Life Balance (OECD Countries)',\n",
    "    labels={'GDP_per_capita': 'GDP per Capita', 'Work_Life_Balance': 'Work-Life Balance (% Working Very Long Hours)'},\n",
    "    trendline='ols'\n",
    ")\n",
    "\n",
    "fig1.update_layout(\n",
    "    xaxis=dict(title=dict(font=dict(size=14))),\n",
    "    yaxis=dict(title=dict(font=dict(size=14))),\n",
    "    hoverlabel=dict(font_size=12),\n",
    "    title=dict(font=dict(size=18))\n",
    ")\n",
    "\n",
    "fig1.show()"
   ]
  },
  {
   "cell_type": "code",
   "execution_count": 55,
   "id": "287f6349",
   "metadata": {},
   "outputs": [
    {
     "data": {
      "application/vnd.plotly.v1+json": {
       "config": {
        "plotlyServerURL": "https://plot.ly"
       },
       "data": [
        {
         "hovertemplate": "<b>%{hovertext}</b><br><br>GDP per Capita=%{x}<br>Civic Engagement (Voter Turnout %)=%{y}<extra></extra>",
         "hovertext": [
          "Australia",
          "Austria",
          "Belgium",
          "Brazil",
          "Canada",
          "Chile",
          "Colombia",
          "Costa Rica",
          "Czechia",
          "Denmark",
          "Estonia",
          "Finland",
          "France",
          "Germany",
          "Greece",
          "Hungary",
          "Iceland",
          "Ireland",
          "Israel",
          "Italy",
          "Japan",
          "Latvia",
          "Lithuania",
          "Luxembourg",
          "Mexico",
          "Netherlands",
          "New Zealand",
          "Norway",
          "Poland",
          "Portugal",
          "Russia",
          "Slovenia",
          "South Africa",
          "Spain",
          "Sweden",
          "Switzerland",
          "United Kingdom",
          "United States"
         ],
         "legendgroup": "",
         "marker": {
          "color": "#636efa",
          "symbol": "circle"
         },
         "mode": "markers",
         "name": "",
         "orientation": "v",
         "showlegend": false,
         "type": "scatter",
         "x": {
          "bdata": "j8L1KBwU7UBMN4lB5L7vQGDl0CI7V+9AHVpkO4+S0kApXI/C3U3rQFyPwvWoxdxAPQrXoxhB0kBOYhBYMa3ZQLgeheshQuhAFK5H4RSa8UB9PzVe+rzkQPp+arzw3OtAdZMYBCYS60CuR+F6RAvvQCPb+X4uBeJAtMh2vv/L40CF61G4emvwQNejcD2mDvxAUrgehQOm50DXo3A9AgjqQPLSTWK0ieZAtMh2vusR4kDsUbgejdLmQD0K16N0NwBBK4cW2aaf1UDsUbgea3HxQH0/NV5S1+dAXI/C9VwW9kA3iUFgBazlQMP1KFxvY+RAyXa+ny5p40BI4XoUfo7nQLgehesxvcpAN4lBYLEE50ApXI/CVdHuQM3MzMzYJ/RAmG4Sg8Ch6kCPwvUoGDXyQA==",
          "dtype": "f8"
         },
         "xaxis": "x",
         "y": {
          "bdata": "AAAAAAAAV0AAAAAAAABTQAAAAAAAAFZAAAAAAAAAVEAAAAAAAABRQAAAAAAAgEdAAAAAAACASkAAAAAAAIBQQAAAAAAAAE9AAAAAAABAVUAAAAAAAABQQAAAAAAAQFFAAAAAAADAUkAAAAAAAABTQAAAAAAAAE1AAAAAAACAUUAAAAAAAEBUQAAAAAAAgE9AAAAAAADAUEAAAAAAAEBSQAAAAAAAgEpAAAAAAACAS0AAAAAAAIBMQAAAAAAAgFZAAAAAAACAT0AAAAAAAMBTQAAAAAAAgFRAAAAAAACAU0AAAAAAAABRQAAAAAAAgEhAAAAAAAAAUUAAAAAAAIBKQAAAAAAAgFBAAAAAAAAAUkAAAAAAAMBVQAAAAAAAgEZAAAAAAAAAUUAAAAAAAEBQQA==",
          "dtype": "f8"
         },
         "yaxis": "y"
        },
        {
         "hovertemplate": "<b>OLS trendline</b><br>Civic_Engagement = 0.000193077 * GDP_per_capita + 58.3187<br>R<sup>2</sup>=0.146446<br><br>GDP per Capita=%{x}<br>Civic Engagement (Voter Turnout %)=%{y} <b>(trend)</b><extra></extra>",
         "legendgroup": "",
         "marker": {
          "color": "#636efa",
          "symbol": "circle"
         },
         "mode": "lines",
         "name": "",
         "showlegend": false,
         "type": "scatter",
         "x": {
          "bdata": "uB6F6zG9ykA9CtejGEHSQB1aZDuPktJAK4cW2aaf1UBOYhBYMa3ZQFyPwvWoxdxAI9v5fi4F4kC0yHa+6xHiQMl2vp8uaeNAtMh2vv/L40DD9Shcb2PkQH0/NV76vORAN4lBYAWs5UDy0k1itInmQOxRuB6N0uZAN4lBYLEE50BI4XoUfo7nQFK4HoUDpudAfT81XlLX50C4HoXrIULoQNejcD0CCOpAmG4Sg8Ch6kB1kxgEJhLrQClcj8LdTetA+n5qvPDc60CPwvUoHBTtQClcj8JV0e5ArkfhekQL70Bg5dAiO1fvQEw3iUHkvu9AhetRuHpr8EDsUbgea3HxQBSuR+EUmvFAj8L1KBg18kDNzMzM2Cf0QFyPwvVcFvZA16NwPaYO/EA9CtejdDcAQQ==",
          "dtype": "f8"
         },
         "xaxis": "x",
         "y": {
          "bdata": "oCnZbSN7TkCtHTO7wfZOQM9iMlHP/k5AmDgNYAZMT0AnFhFel7JPQDYiXyV3AFBAxmiwgG9cUEDKEenksV1QQECKmcmgf1BA/8RnimWJUECvYE3sXZhQQJF6lvs3oVBAkmg+btm4UECP6daQw85QQNmgXBf31VBAT97GBezaUECqvVtPi+hQQKTRmo/e6lBAPL5QZb7vUEA4wA9zTfpQQAtWoKsrJ1FAScA4cV42UUBk8K7aekFRQOG8xCBiR1FAj7eb5YZVUUBw6jWmSXRRQH7V+u5MoFFA+x8vBwemUUADlZ9uia1RQOwxCsTIt1FA+qitaHjTUUDm29QpQgdSQG9zQ0hMD1JANXZfFfItUkBp0AzjjZBSQFw3+kZT8lJAVHGAyXsgVEDU08SY+P1UQA==",
          "dtype": "f8"
         },
         "yaxis": "y"
        }
       ],
       "layout": {
        "hoverlabel": {
         "font": {
          "size": 12
         }
        },
        "legend": {
         "tracegroupgap": 0
        },
        "template": {
         "data": {
          "bar": [
           {
            "error_x": {
             "color": "#2a3f5f"
            },
            "error_y": {
             "color": "#2a3f5f"
            },
            "marker": {
             "line": {
              "color": "#E5ECF6",
              "width": 0.5
             },
             "pattern": {
              "fillmode": "overlay",
              "size": 10,
              "solidity": 0.2
             }
            },
            "type": "bar"
           }
          ],
          "barpolar": [
           {
            "marker": {
             "line": {
              "color": "#E5ECF6",
              "width": 0.5
             },
             "pattern": {
              "fillmode": "overlay",
              "size": 10,
              "solidity": 0.2
             }
            },
            "type": "barpolar"
           }
          ],
          "carpet": [
           {
            "aaxis": {
             "endlinecolor": "#2a3f5f",
             "gridcolor": "white",
             "linecolor": "white",
             "minorgridcolor": "white",
             "startlinecolor": "#2a3f5f"
            },
            "baxis": {
             "endlinecolor": "#2a3f5f",
             "gridcolor": "white",
             "linecolor": "white",
             "minorgridcolor": "white",
             "startlinecolor": "#2a3f5f"
            },
            "type": "carpet"
           }
          ],
          "choropleth": [
           {
            "colorbar": {
             "outlinewidth": 0,
             "ticks": ""
            },
            "type": "choropleth"
           }
          ],
          "contour": [
           {
            "colorbar": {
             "outlinewidth": 0,
             "ticks": ""
            },
            "colorscale": [
             [
              0,
              "#0d0887"
             ],
             [
              0.1111111111111111,
              "#46039f"
             ],
             [
              0.2222222222222222,
              "#7201a8"
             ],
             [
              0.3333333333333333,
              "#9c179e"
             ],
             [
              0.4444444444444444,
              "#bd3786"
             ],
             [
              0.5555555555555556,
              "#d8576b"
             ],
             [
              0.6666666666666666,
              "#ed7953"
             ],
             [
              0.7777777777777778,
              "#fb9f3a"
             ],
             [
              0.8888888888888888,
              "#fdca26"
             ],
             [
              1,
              "#f0f921"
             ]
            ],
            "type": "contour"
           }
          ],
          "contourcarpet": [
           {
            "colorbar": {
             "outlinewidth": 0,
             "ticks": ""
            },
            "type": "contourcarpet"
           }
          ],
          "heatmap": [
           {
            "colorbar": {
             "outlinewidth": 0,
             "ticks": ""
            },
            "colorscale": [
             [
              0,
              "#0d0887"
             ],
             [
              0.1111111111111111,
              "#46039f"
             ],
             [
              0.2222222222222222,
              "#7201a8"
             ],
             [
              0.3333333333333333,
              "#9c179e"
             ],
             [
              0.4444444444444444,
              "#bd3786"
             ],
             [
              0.5555555555555556,
              "#d8576b"
             ],
             [
              0.6666666666666666,
              "#ed7953"
             ],
             [
              0.7777777777777778,
              "#fb9f3a"
             ],
             [
              0.8888888888888888,
              "#fdca26"
             ],
             [
              1,
              "#f0f921"
             ]
            ],
            "type": "heatmap"
           }
          ],
          "histogram": [
           {
            "marker": {
             "pattern": {
              "fillmode": "overlay",
              "size": 10,
              "solidity": 0.2
             }
            },
            "type": "histogram"
           }
          ],
          "histogram2d": [
           {
            "colorbar": {
             "outlinewidth": 0,
             "ticks": ""
            },
            "colorscale": [
             [
              0,
              "#0d0887"
             ],
             [
              0.1111111111111111,
              "#46039f"
             ],
             [
              0.2222222222222222,
              "#7201a8"
             ],
             [
              0.3333333333333333,
              "#9c179e"
             ],
             [
              0.4444444444444444,
              "#bd3786"
             ],
             [
              0.5555555555555556,
              "#d8576b"
             ],
             [
              0.6666666666666666,
              "#ed7953"
             ],
             [
              0.7777777777777778,
              "#fb9f3a"
             ],
             [
              0.8888888888888888,
              "#fdca26"
             ],
             [
              1,
              "#f0f921"
             ]
            ],
            "type": "histogram2d"
           }
          ],
          "histogram2dcontour": [
           {
            "colorbar": {
             "outlinewidth": 0,
             "ticks": ""
            },
            "colorscale": [
             [
              0,
              "#0d0887"
             ],
             [
              0.1111111111111111,
              "#46039f"
             ],
             [
              0.2222222222222222,
              "#7201a8"
             ],
             [
              0.3333333333333333,
              "#9c179e"
             ],
             [
              0.4444444444444444,
              "#bd3786"
             ],
             [
              0.5555555555555556,
              "#d8576b"
             ],
             [
              0.6666666666666666,
              "#ed7953"
             ],
             [
              0.7777777777777778,
              "#fb9f3a"
             ],
             [
              0.8888888888888888,
              "#fdca26"
             ],
             [
              1,
              "#f0f921"
             ]
            ],
            "type": "histogram2dcontour"
           }
          ],
          "mesh3d": [
           {
            "colorbar": {
             "outlinewidth": 0,
             "ticks": ""
            },
            "type": "mesh3d"
           }
          ],
          "parcoords": [
           {
            "line": {
             "colorbar": {
              "outlinewidth": 0,
              "ticks": ""
             }
            },
            "type": "parcoords"
           }
          ],
          "pie": [
           {
            "automargin": true,
            "type": "pie"
           }
          ],
          "scatter": [
           {
            "fillpattern": {
             "fillmode": "overlay",
             "size": 10,
             "solidity": 0.2
            },
            "type": "scatter"
           }
          ],
          "scatter3d": [
           {
            "line": {
             "colorbar": {
              "outlinewidth": 0,
              "ticks": ""
             }
            },
            "marker": {
             "colorbar": {
              "outlinewidth": 0,
              "ticks": ""
             }
            },
            "type": "scatter3d"
           }
          ],
          "scattercarpet": [
           {
            "marker": {
             "colorbar": {
              "outlinewidth": 0,
              "ticks": ""
             }
            },
            "type": "scattercarpet"
           }
          ],
          "scattergeo": [
           {
            "marker": {
             "colorbar": {
              "outlinewidth": 0,
              "ticks": ""
             }
            },
            "type": "scattergeo"
           }
          ],
          "scattergl": [
           {
            "marker": {
             "colorbar": {
              "outlinewidth": 0,
              "ticks": ""
             }
            },
            "type": "scattergl"
           }
          ],
          "scattermap": [
           {
            "marker": {
             "colorbar": {
              "outlinewidth": 0,
              "ticks": ""
             }
            },
            "type": "scattermap"
           }
          ],
          "scattermapbox": [
           {
            "marker": {
             "colorbar": {
              "outlinewidth": 0,
              "ticks": ""
             }
            },
            "type": "scattermapbox"
           }
          ],
          "scatterpolar": [
           {
            "marker": {
             "colorbar": {
              "outlinewidth": 0,
              "ticks": ""
             }
            },
            "type": "scatterpolar"
           }
          ],
          "scatterpolargl": [
           {
            "marker": {
             "colorbar": {
              "outlinewidth": 0,
              "ticks": ""
             }
            },
            "type": "scatterpolargl"
           }
          ],
          "scatterternary": [
           {
            "marker": {
             "colorbar": {
              "outlinewidth": 0,
              "ticks": ""
             }
            },
            "type": "scatterternary"
           }
          ],
          "surface": [
           {
            "colorbar": {
             "outlinewidth": 0,
             "ticks": ""
            },
            "colorscale": [
             [
              0,
              "#0d0887"
             ],
             [
              0.1111111111111111,
              "#46039f"
             ],
             [
              0.2222222222222222,
              "#7201a8"
             ],
             [
              0.3333333333333333,
              "#9c179e"
             ],
             [
              0.4444444444444444,
              "#bd3786"
             ],
             [
              0.5555555555555556,
              "#d8576b"
             ],
             [
              0.6666666666666666,
              "#ed7953"
             ],
             [
              0.7777777777777778,
              "#fb9f3a"
             ],
             [
              0.8888888888888888,
              "#fdca26"
             ],
             [
              1,
              "#f0f921"
             ]
            ],
            "type": "surface"
           }
          ],
          "table": [
           {
            "cells": {
             "fill": {
              "color": "#EBF0F8"
             },
             "line": {
              "color": "white"
             }
            },
            "header": {
             "fill": {
              "color": "#C8D4E3"
             },
             "line": {
              "color": "white"
             }
            },
            "type": "table"
           }
          ]
         },
         "layout": {
          "annotationdefaults": {
           "arrowcolor": "#2a3f5f",
           "arrowhead": 0,
           "arrowwidth": 1
          },
          "autotypenumbers": "strict",
          "coloraxis": {
           "colorbar": {
            "outlinewidth": 0,
            "ticks": ""
           }
          },
          "colorscale": {
           "diverging": [
            [
             0,
             "#8e0152"
            ],
            [
             0.1,
             "#c51b7d"
            ],
            [
             0.2,
             "#de77ae"
            ],
            [
             0.3,
             "#f1b6da"
            ],
            [
             0.4,
             "#fde0ef"
            ],
            [
             0.5,
             "#f7f7f7"
            ],
            [
             0.6,
             "#e6f5d0"
            ],
            [
             0.7,
             "#b8e186"
            ],
            [
             0.8,
             "#7fbc41"
            ],
            [
             0.9,
             "#4d9221"
            ],
            [
             1,
             "#276419"
            ]
           ],
           "sequential": [
            [
             0,
             "#0d0887"
            ],
            [
             0.1111111111111111,
             "#46039f"
            ],
            [
             0.2222222222222222,
             "#7201a8"
            ],
            [
             0.3333333333333333,
             "#9c179e"
            ],
            [
             0.4444444444444444,
             "#bd3786"
            ],
            [
             0.5555555555555556,
             "#d8576b"
            ],
            [
             0.6666666666666666,
             "#ed7953"
            ],
            [
             0.7777777777777778,
             "#fb9f3a"
            ],
            [
             0.8888888888888888,
             "#fdca26"
            ],
            [
             1,
             "#f0f921"
            ]
           ],
           "sequentialminus": [
            [
             0,
             "#0d0887"
            ],
            [
             0.1111111111111111,
             "#46039f"
            ],
            [
             0.2222222222222222,
             "#7201a8"
            ],
            [
             0.3333333333333333,
             "#9c179e"
            ],
            [
             0.4444444444444444,
             "#bd3786"
            ],
            [
             0.5555555555555556,
             "#d8576b"
            ],
            [
             0.6666666666666666,
             "#ed7953"
            ],
            [
             0.7777777777777778,
             "#fb9f3a"
            ],
            [
             0.8888888888888888,
             "#fdca26"
            ],
            [
             1,
             "#f0f921"
            ]
           ]
          },
          "colorway": [
           "#636efa",
           "#EF553B",
           "#00cc96",
           "#ab63fa",
           "#FFA15A",
           "#19d3f3",
           "#FF6692",
           "#B6E880",
           "#FF97FF",
           "#FECB52"
          ],
          "font": {
           "color": "#2a3f5f"
          },
          "geo": {
           "bgcolor": "white",
           "lakecolor": "white",
           "landcolor": "#E5ECF6",
           "showlakes": true,
           "showland": true,
           "subunitcolor": "white"
          },
          "hoverlabel": {
           "align": "left"
          },
          "hovermode": "closest",
          "mapbox": {
           "style": "light"
          },
          "paper_bgcolor": "white",
          "plot_bgcolor": "#E5ECF6",
          "polar": {
           "angularaxis": {
            "gridcolor": "white",
            "linecolor": "white",
            "ticks": ""
           },
           "bgcolor": "#E5ECF6",
           "radialaxis": {
            "gridcolor": "white",
            "linecolor": "white",
            "ticks": ""
           }
          },
          "scene": {
           "xaxis": {
            "backgroundcolor": "#E5ECF6",
            "gridcolor": "white",
            "gridwidth": 2,
            "linecolor": "white",
            "showbackground": true,
            "ticks": "",
            "zerolinecolor": "white"
           },
           "yaxis": {
            "backgroundcolor": "#E5ECF6",
            "gridcolor": "white",
            "gridwidth": 2,
            "linecolor": "white",
            "showbackground": true,
            "ticks": "",
            "zerolinecolor": "white"
           },
           "zaxis": {
            "backgroundcolor": "#E5ECF6",
            "gridcolor": "white",
            "gridwidth": 2,
            "linecolor": "white",
            "showbackground": true,
            "ticks": "",
            "zerolinecolor": "white"
           }
          },
          "shapedefaults": {
           "line": {
            "color": "#2a3f5f"
           }
          },
          "ternary": {
           "aaxis": {
            "gridcolor": "white",
            "linecolor": "white",
            "ticks": ""
           },
           "baxis": {
            "gridcolor": "white",
            "linecolor": "white",
            "ticks": ""
           },
           "bgcolor": "#E5ECF6",
           "caxis": {
            "gridcolor": "white",
            "linecolor": "white",
            "ticks": ""
           }
          },
          "title": {
           "x": 0.05
          },
          "xaxis": {
           "automargin": true,
           "gridcolor": "white",
           "linecolor": "white",
           "ticks": "",
           "title": {
            "standoff": 15
           },
           "zerolinecolor": "white",
           "zerolinewidth": 2
          },
          "yaxis": {
           "automargin": true,
           "gridcolor": "white",
           "linecolor": "white",
           "ticks": "",
           "title": {
            "standoff": 15
           },
           "zerolinecolor": "white",
           "zerolinewidth": 2
          }
         }
        },
        "title": {
         "font": {
          "size": 18
         },
         "text": "GDP per Capita vs. Civic Engagement (OECD Countries)"
        },
        "xaxis": {
         "anchor": "y",
         "domain": [
          0,
          1
         ],
         "title": {
          "font": {
           "size": 14
          },
          "text": "GDP per Capita"
         }
        },
        "yaxis": {
         "anchor": "x",
         "domain": [
          0,
          1
         ],
         "title": {
          "font": {
           "size": 14
          },
          "text": "Civic Engagement (Voter Turnout %)"
         }
        }
       }
      }
     },
     "metadata": {},
     "output_type": "display_data"
    },
    {
     "data": {
      "application/vnd.plotly.v1+json": {
       "config": {
        "plotlyServerURL": "https://plot.ly"
       },
       "data": [
        {
         "hovertemplate": "<b>%{hovertext}</b><br><br>GDP per Capita=%{x}<br>Self-Reported Health (%)=%{y}<extra></extra>",
         "hovertext": [
          "Australia",
          "Austria",
          "Belgium",
          "Canada",
          "Chile",
          "Colombia",
          "Costa Rica",
          "Czechia",
          "Denmark",
          "Estonia",
          "Finland",
          "France",
          "Germany",
          "Greece",
          "Hungary",
          "Iceland",
          "Ireland",
          "Israel",
          "Italy",
          "Japan",
          "Latvia",
          "Lithuania",
          "Luxembourg",
          "Mexico",
          "Netherlands",
          "New Zealand",
          "Norway",
          "Poland",
          "Portugal",
          "Russia",
          "Slovenia",
          "Spain",
          "Sweden",
          "Switzerland",
          "United Kingdom",
          "United States"
         ],
         "legendgroup": "",
         "marker": {
          "color": "#636efa",
          "symbol": "circle"
         },
         "mode": "markers",
         "name": "",
         "orientation": "v",
         "showlegend": false,
         "type": "scatter",
         "x": {
          "bdata": "j8L1KBwU7UBMN4lB5L7vQGDl0CI7V+9AKVyPwt1N60Bcj8L1qMXcQD0K16MYQdJATmIQWDGt2UC4HoXrIULoQBSuR+EUmvFAfT81Xvq85ED6fmq88NzrQHWTGAQmEutArkfhekQL70Aj2/l+LgXiQLTIdr7/y+NAhetRuHpr8EDXo3A9pg78QFK4HoUDpudA16NwPQII6kDy0k1itInmQLTIdr7rEeJA7FG4Ho3S5kA9CtejdDcAQSuHFtmmn9VA7FG4Hmtx8UB9PzVeUtfnQFyPwvVcFvZAN4lBYAWs5UDD9Shcb2PkQMl2vp8uaeNASOF6FH6O50A3iUFgsQTnQClcj8JV0e5AzczMzNgn9ECYbhKDwKHqQI/C9SgYNfJA",
          "dtype": "f8"
         },
         "xaxis": "x",
         "y": {
          "bdata": "AAAAAABAVUAAAAAAAMBRQAAAAAAAgFJAAAAAAABAVkAAAAAAAABOQAAAAAAAAFRAAAAAAABAUkAAAAAAAABPQAAAAAAAgFFAAAAAAACATEAAAAAAAABRQAAAAAAAwFBAAAAAAACAUEAAAAAAAMBTQAAAAAAAAE1AAAAAAABAU0AAAAAAAABVQAAAAAAAgFJAAAAAAABAUkAAAAAAAIBCQAAAAAAAgEdAAAAAAAAAR0AAAAAAAABSQAAAAAAAgFBAAAAAAADAUkAAAAAAAIBVQAAAAAAAwFJAAAAAAAAATkAAAAAAAABJQAAAAAAAgEVAAAAAAADAUEAAAAAAAMBSQAAAAAAAAFNAAAAAAABAVEAAAAAAAEBSQAAAAAAAAFZA",
          "dtype": "f8"
         },
         "yaxis": "y"
        },
        {
         "hovertemplate": "<b>OLS trendline</b><br>Life_Satisfaction = 0.000204584 * GDP_per_capita + 57.563<br>R<sup>2</sup>=0.135985<br><br>GDP per Capita=%{x}<br>Self-Reported Health (%)=%{y} <b>(trend)</b><extra></extra>",
         "legendgroup": "",
         "marker": {
          "color": "#636efa",
          "symbol": "circle"
         },
         "mode": "lines",
         "name": "",
         "showlegend": false,
         "type": "scatter",
         "x": {
          "bdata": "PQrXoxhB0kArhxbZpp/VQE5iEFgxrdlAXI/C9ajF3EAj2/l+LgXiQLTIdr7rEeJAyXa+ny5p40C0yHa+/8vjQMP1KFxvY+RAfT81Xvq85EA3iUFgBazlQPLSTWK0ieZA7FG4Ho3S5kA3iUFgsQTnQEjhehR+judAUrgehQOm50B9PzVeUtfnQLgeheshQuhA16NwPQII6kCYbhKDwKHqQHWTGAQmEutAKVyPwt1N60D6fmq88NzrQI/C9SgcFO1AKVyPwlXR7kCuR+F6RAvvQGDl0CI7V+9ATDeJQeS+70CF61G4emvwQOxRuB5rcfFAFK5H4RSa8UCPwvUoGDXyQM3MzMzYJ/RAXI/C9VwW9kDXo3A9pg78QD0K16N0NwBB",
          "dtype": "f8"
         },
         "xaxis": "x",
         "y": {
          "bdata": "9kaIJY6xTkDtK0XN5wtPQHivY72VeE9ATrq/9ZfLT0C9uTibP0dQQIZTdDaVSFBAbOa92olsUED9xb6n43ZQQGHPrnPAhlBAPcc9kiGQUECIm6mSK6lQQFaWChRkwFBAY+LbegXIUEAjk3oKRs1QQNivriy121BAWrMy5yveUEAkwzkcVuNQQJD82ESG7lBAcKPSFBEeUUCutVu/Ky5RQDEHhrDxOVFATUdyCTNAUUDbio2bL09RQGerM7THb1FAv/jeh2qeUUCn3JIBfKRRQEIO1PxwrFFA4/zCrEy3UUD7mNO/otRRQPusPa6CC1JAxIE1dwcUUkDtwaHigDRSQA4OTD/9nFJAtgu5apYEU0DOJcI4wURUQIbvUXZxL1VA",
          "dtype": "f8"
         },
         "yaxis": "y"
        }
       ],
       "layout": {
        "hoverlabel": {
         "font": {
          "size": 12
         }
        },
        "legend": {
         "tracegroupgap": 0
        },
        "template": {
         "data": {
          "bar": [
           {
            "error_x": {
             "color": "#2a3f5f"
            },
            "error_y": {
             "color": "#2a3f5f"
            },
            "marker": {
             "line": {
              "color": "#E5ECF6",
              "width": 0.5
             },
             "pattern": {
              "fillmode": "overlay",
              "size": 10,
              "solidity": 0.2
             }
            },
            "type": "bar"
           }
          ],
          "barpolar": [
           {
            "marker": {
             "line": {
              "color": "#E5ECF6",
              "width": 0.5
             },
             "pattern": {
              "fillmode": "overlay",
              "size": 10,
              "solidity": 0.2
             }
            },
            "type": "barpolar"
           }
          ],
          "carpet": [
           {
            "aaxis": {
             "endlinecolor": "#2a3f5f",
             "gridcolor": "white",
             "linecolor": "white",
             "minorgridcolor": "white",
             "startlinecolor": "#2a3f5f"
            },
            "baxis": {
             "endlinecolor": "#2a3f5f",
             "gridcolor": "white",
             "linecolor": "white",
             "minorgridcolor": "white",
             "startlinecolor": "#2a3f5f"
            },
            "type": "carpet"
           }
          ],
          "choropleth": [
           {
            "colorbar": {
             "outlinewidth": 0,
             "ticks": ""
            },
            "type": "choropleth"
           }
          ],
          "contour": [
           {
            "colorbar": {
             "outlinewidth": 0,
             "ticks": ""
            },
            "colorscale": [
             [
              0,
              "#0d0887"
             ],
             [
              0.1111111111111111,
              "#46039f"
             ],
             [
              0.2222222222222222,
              "#7201a8"
             ],
             [
              0.3333333333333333,
              "#9c179e"
             ],
             [
              0.4444444444444444,
              "#bd3786"
             ],
             [
              0.5555555555555556,
              "#d8576b"
             ],
             [
              0.6666666666666666,
              "#ed7953"
             ],
             [
              0.7777777777777778,
              "#fb9f3a"
             ],
             [
              0.8888888888888888,
              "#fdca26"
             ],
             [
              1,
              "#f0f921"
             ]
            ],
            "type": "contour"
           }
          ],
          "contourcarpet": [
           {
            "colorbar": {
             "outlinewidth": 0,
             "ticks": ""
            },
            "type": "contourcarpet"
           }
          ],
          "heatmap": [
           {
            "colorbar": {
             "outlinewidth": 0,
             "ticks": ""
            },
            "colorscale": [
             [
              0,
              "#0d0887"
             ],
             [
              0.1111111111111111,
              "#46039f"
             ],
             [
              0.2222222222222222,
              "#7201a8"
             ],
             [
              0.3333333333333333,
              "#9c179e"
             ],
             [
              0.4444444444444444,
              "#bd3786"
             ],
             [
              0.5555555555555556,
              "#d8576b"
             ],
             [
              0.6666666666666666,
              "#ed7953"
             ],
             [
              0.7777777777777778,
              "#fb9f3a"
             ],
             [
              0.8888888888888888,
              "#fdca26"
             ],
             [
              1,
              "#f0f921"
             ]
            ],
            "type": "heatmap"
           }
          ],
          "histogram": [
           {
            "marker": {
             "pattern": {
              "fillmode": "overlay",
              "size": 10,
              "solidity": 0.2
             }
            },
            "type": "histogram"
           }
          ],
          "histogram2d": [
           {
            "colorbar": {
             "outlinewidth": 0,
             "ticks": ""
            },
            "colorscale": [
             [
              0,
              "#0d0887"
             ],
             [
              0.1111111111111111,
              "#46039f"
             ],
             [
              0.2222222222222222,
              "#7201a8"
             ],
             [
              0.3333333333333333,
              "#9c179e"
             ],
             [
              0.4444444444444444,
              "#bd3786"
             ],
             [
              0.5555555555555556,
              "#d8576b"
             ],
             [
              0.6666666666666666,
              "#ed7953"
             ],
             [
              0.7777777777777778,
              "#fb9f3a"
             ],
             [
              0.8888888888888888,
              "#fdca26"
             ],
             [
              1,
              "#f0f921"
             ]
            ],
            "type": "histogram2d"
           }
          ],
          "histogram2dcontour": [
           {
            "colorbar": {
             "outlinewidth": 0,
             "ticks": ""
            },
            "colorscale": [
             [
              0,
              "#0d0887"
             ],
             [
              0.1111111111111111,
              "#46039f"
             ],
             [
              0.2222222222222222,
              "#7201a8"
             ],
             [
              0.3333333333333333,
              "#9c179e"
             ],
             [
              0.4444444444444444,
              "#bd3786"
             ],
             [
              0.5555555555555556,
              "#d8576b"
             ],
             [
              0.6666666666666666,
              "#ed7953"
             ],
             [
              0.7777777777777778,
              "#fb9f3a"
             ],
             [
              0.8888888888888888,
              "#fdca26"
             ],
             [
              1,
              "#f0f921"
             ]
            ],
            "type": "histogram2dcontour"
           }
          ],
          "mesh3d": [
           {
            "colorbar": {
             "outlinewidth": 0,
             "ticks": ""
            },
            "type": "mesh3d"
           }
          ],
          "parcoords": [
           {
            "line": {
             "colorbar": {
              "outlinewidth": 0,
              "ticks": ""
             }
            },
            "type": "parcoords"
           }
          ],
          "pie": [
           {
            "automargin": true,
            "type": "pie"
           }
          ],
          "scatter": [
           {
            "fillpattern": {
             "fillmode": "overlay",
             "size": 10,
             "solidity": 0.2
            },
            "type": "scatter"
           }
          ],
          "scatter3d": [
           {
            "line": {
             "colorbar": {
              "outlinewidth": 0,
              "ticks": ""
             }
            },
            "marker": {
             "colorbar": {
              "outlinewidth": 0,
              "ticks": ""
             }
            },
            "type": "scatter3d"
           }
          ],
          "scattercarpet": [
           {
            "marker": {
             "colorbar": {
              "outlinewidth": 0,
              "ticks": ""
             }
            },
            "type": "scattercarpet"
           }
          ],
          "scattergeo": [
           {
            "marker": {
             "colorbar": {
              "outlinewidth": 0,
              "ticks": ""
             }
            },
            "type": "scattergeo"
           }
          ],
          "scattergl": [
           {
            "marker": {
             "colorbar": {
              "outlinewidth": 0,
              "ticks": ""
             }
            },
            "type": "scattergl"
           }
          ],
          "scattermap": [
           {
            "marker": {
             "colorbar": {
              "outlinewidth": 0,
              "ticks": ""
             }
            },
            "type": "scattermap"
           }
          ],
          "scattermapbox": [
           {
            "marker": {
             "colorbar": {
              "outlinewidth": 0,
              "ticks": ""
             }
            },
            "type": "scattermapbox"
           }
          ],
          "scatterpolar": [
           {
            "marker": {
             "colorbar": {
              "outlinewidth": 0,
              "ticks": ""
             }
            },
            "type": "scatterpolar"
           }
          ],
          "scatterpolargl": [
           {
            "marker": {
             "colorbar": {
              "outlinewidth": 0,
              "ticks": ""
             }
            },
            "type": "scatterpolargl"
           }
          ],
          "scatterternary": [
           {
            "marker": {
             "colorbar": {
              "outlinewidth": 0,
              "ticks": ""
             }
            },
            "type": "scatterternary"
           }
          ],
          "surface": [
           {
            "colorbar": {
             "outlinewidth": 0,
             "ticks": ""
            },
            "colorscale": [
             [
              0,
              "#0d0887"
             ],
             [
              0.1111111111111111,
              "#46039f"
             ],
             [
              0.2222222222222222,
              "#7201a8"
             ],
             [
              0.3333333333333333,
              "#9c179e"
             ],
             [
              0.4444444444444444,
              "#bd3786"
             ],
             [
              0.5555555555555556,
              "#d8576b"
             ],
             [
              0.6666666666666666,
              "#ed7953"
             ],
             [
              0.7777777777777778,
              "#fb9f3a"
             ],
             [
              0.8888888888888888,
              "#fdca26"
             ],
             [
              1,
              "#f0f921"
             ]
            ],
            "type": "surface"
           }
          ],
          "table": [
           {
            "cells": {
             "fill": {
              "color": "#EBF0F8"
             },
             "line": {
              "color": "white"
             }
            },
            "header": {
             "fill": {
              "color": "#C8D4E3"
             },
             "line": {
              "color": "white"
             }
            },
            "type": "table"
           }
          ]
         },
         "layout": {
          "annotationdefaults": {
           "arrowcolor": "#2a3f5f",
           "arrowhead": 0,
           "arrowwidth": 1
          },
          "autotypenumbers": "strict",
          "coloraxis": {
           "colorbar": {
            "outlinewidth": 0,
            "ticks": ""
           }
          },
          "colorscale": {
           "diverging": [
            [
             0,
             "#8e0152"
            ],
            [
             0.1,
             "#c51b7d"
            ],
            [
             0.2,
             "#de77ae"
            ],
            [
             0.3,
             "#f1b6da"
            ],
            [
             0.4,
             "#fde0ef"
            ],
            [
             0.5,
             "#f7f7f7"
            ],
            [
             0.6,
             "#e6f5d0"
            ],
            [
             0.7,
             "#b8e186"
            ],
            [
             0.8,
             "#7fbc41"
            ],
            [
             0.9,
             "#4d9221"
            ],
            [
             1,
             "#276419"
            ]
           ],
           "sequential": [
            [
             0,
             "#0d0887"
            ],
            [
             0.1111111111111111,
             "#46039f"
            ],
            [
             0.2222222222222222,
             "#7201a8"
            ],
            [
             0.3333333333333333,
             "#9c179e"
            ],
            [
             0.4444444444444444,
             "#bd3786"
            ],
            [
             0.5555555555555556,
             "#d8576b"
            ],
            [
             0.6666666666666666,
             "#ed7953"
            ],
            [
             0.7777777777777778,
             "#fb9f3a"
            ],
            [
             0.8888888888888888,
             "#fdca26"
            ],
            [
             1,
             "#f0f921"
            ]
           ],
           "sequentialminus": [
            [
             0,
             "#0d0887"
            ],
            [
             0.1111111111111111,
             "#46039f"
            ],
            [
             0.2222222222222222,
             "#7201a8"
            ],
            [
             0.3333333333333333,
             "#9c179e"
            ],
            [
             0.4444444444444444,
             "#bd3786"
            ],
            [
             0.5555555555555556,
             "#d8576b"
            ],
            [
             0.6666666666666666,
             "#ed7953"
            ],
            [
             0.7777777777777778,
             "#fb9f3a"
            ],
            [
             0.8888888888888888,
             "#fdca26"
            ],
            [
             1,
             "#f0f921"
            ]
           ]
          },
          "colorway": [
           "#636efa",
           "#EF553B",
           "#00cc96",
           "#ab63fa",
           "#FFA15A",
           "#19d3f3",
           "#FF6692",
           "#B6E880",
           "#FF97FF",
           "#FECB52"
          ],
          "font": {
           "color": "#2a3f5f"
          },
          "geo": {
           "bgcolor": "white",
           "lakecolor": "white",
           "landcolor": "#E5ECF6",
           "showlakes": true,
           "showland": true,
           "subunitcolor": "white"
          },
          "hoverlabel": {
           "align": "left"
          },
          "hovermode": "closest",
          "mapbox": {
           "style": "light"
          },
          "paper_bgcolor": "white",
          "plot_bgcolor": "#E5ECF6",
          "polar": {
           "angularaxis": {
            "gridcolor": "white",
            "linecolor": "white",
            "ticks": ""
           },
           "bgcolor": "#E5ECF6",
           "radialaxis": {
            "gridcolor": "white",
            "linecolor": "white",
            "ticks": ""
           }
          },
          "scene": {
           "xaxis": {
            "backgroundcolor": "#E5ECF6",
            "gridcolor": "white",
            "gridwidth": 2,
            "linecolor": "white",
            "showbackground": true,
            "ticks": "",
            "zerolinecolor": "white"
           },
           "yaxis": {
            "backgroundcolor": "#E5ECF6",
            "gridcolor": "white",
            "gridwidth": 2,
            "linecolor": "white",
            "showbackground": true,
            "ticks": "",
            "zerolinecolor": "white"
           },
           "zaxis": {
            "backgroundcolor": "#E5ECF6",
            "gridcolor": "white",
            "gridwidth": 2,
            "linecolor": "white",
            "showbackground": true,
            "ticks": "",
            "zerolinecolor": "white"
           }
          },
          "shapedefaults": {
           "line": {
            "color": "#2a3f5f"
           }
          },
          "ternary": {
           "aaxis": {
            "gridcolor": "white",
            "linecolor": "white",
            "ticks": ""
           },
           "baxis": {
            "gridcolor": "white",
            "linecolor": "white",
            "ticks": ""
           },
           "bgcolor": "#E5ECF6",
           "caxis": {
            "gridcolor": "white",
            "linecolor": "white",
            "ticks": ""
           }
          },
          "title": {
           "x": 0.05
          },
          "xaxis": {
           "automargin": true,
           "gridcolor": "white",
           "linecolor": "white",
           "ticks": "",
           "title": {
            "standoff": 15
           },
           "zerolinecolor": "white",
           "zerolinewidth": 2
          },
          "yaxis": {
           "automargin": true,
           "gridcolor": "white",
           "linecolor": "white",
           "ticks": "",
           "title": {
            "standoff": 15
           },
           "zerolinecolor": "white",
           "zerolinewidth": 2
          }
         }
        },
        "title": {
         "font": {
          "size": 18
         },
         "text": "GDP per Capita vs. Life Satisfaction (OECD Countries)"
        },
        "xaxis": {
         "anchor": "y",
         "domain": [
          0,
          1
         ],
         "title": {
          "font": {
           "size": 14
          },
          "text": "GDP per Capita"
         }
        },
        "yaxis": {
         "anchor": "x",
         "domain": [
          0,
          1
         ],
         "title": {
          "font": {
           "size": 14
          },
          "text": "Self-Reported Health (%)"
         }
        }
       }
      }
     },
     "metadata": {},
     "output_type": "display_data"
    }
   ],
   "source": [
    "# Civic Engagement vs. GDP (OECD countries only)\n",
    "fig2 = px.scatter(\n",
    "    gdp_ce_oecd, \n",
    "    x='GDP_per_capita', \n",
    "    y='Civic_Engagement',\n",
    "    hover_name='Country',\n",
    "    title='GDP per Capita vs. Civic Engagement (OECD Countries)',\n",
    "    labels={'GDP_per_capita': 'GDP per Capita', 'Civic_Engagement': 'Civic Engagement (Voter Turnout %)'},\n",
    "    trendline='ols'\n",
    ")\n",
    "\n",
    "fig2.update_layout(\n",
    "    xaxis=dict(title=dict(font=dict(size=14))),\n",
    "    yaxis=dict(title=dict(font=dict(size=14))),\n",
    "    hoverlabel=dict(font_size=12),\n",
    "    title=dict(font=dict(size=18))\n",
    ")\n",
    "\n",
    "fig2.show()\n",
    "\n",
    "# Life Satisfaction vs. GDP (OECD countries only)\n",
    "fig3 = px.scatter(\n",
    "    gdp_ls_oecd, \n",
    "    x='GDP_per_capita', \n",
    "    y='Life_Satisfaction',\n",
    "    hover_name='Country',\n",
    "    title='GDP per Capita vs. Life Satisfaction (OECD Countries)',\n",
    "    labels={'GDP_per_capita': 'GDP per Capita', 'Life_Satisfaction': 'Self-Reported Health (%)'},\n",
    "    trendline='ols'\n",
    ")\n",
    "\n",
    "fig3.update_layout(\n",
    "    xaxis=dict(title=dict(font=dict(size=14))),\n",
    "    yaxis=dict(title=dict(font=dict(size=14))),\n",
    "    hoverlabel=dict(font_size=12),\n",
    "    title=dict(font=dict(size=18))\n",
    ")\n",
    "\n",
    "fig3.show()"
   ]
  },
  {
   "cell_type": "code",
   "execution_count": 56,
   "id": "1acd9e10",
   "metadata": {},
   "outputs": [
    {
     "name": "stdout",
     "output_type": "stream",
     "text": [
      "Correlation Matrix (OECD Countries):\n"
     ]
    },
    {
     "data": {
      "text/html": [
       "<div>\n",
       "<style scoped>\n",
       "    .dataframe tbody tr th:only-of-type {\n",
       "        vertical-align: middle;\n",
       "    }\n",
       "\n",
       "    .dataframe tbody tr th {\n",
       "        vertical-align: top;\n",
       "    }\n",
       "\n",
       "    .dataframe thead th {\n",
       "        text-align: right;\n",
       "    }\n",
       "</style>\n",
       "<table border=\"1\" class=\"dataframe\">\n",
       "  <thead>\n",
       "    <tr style=\"text-align: right;\">\n",
       "      <th></th>\n",
       "      <th>GDP_per_capita</th>\n",
       "      <th>Work_Life_Balance</th>\n",
       "      <th>Civic_Engagement</th>\n",
       "      <th>Life_Satisfaction</th>\n",
       "    </tr>\n",
       "  </thead>\n",
       "  <tbody>\n",
       "    <tr>\n",
       "      <th>GDP_per_capita</th>\n",
       "      <td>1.000000</td>\n",
       "      <td>-0.419823</td>\n",
       "      <td>0.442760</td>\n",
       "      <td>0.374671</td>\n",
       "    </tr>\n",
       "    <tr>\n",
       "      <th>Work_Life_Balance</th>\n",
       "      <td>-0.419823</td>\n",
       "      <td>1.000000</td>\n",
       "      <td>-0.097907</td>\n",
       "      <td>0.287201</td>\n",
       "    </tr>\n",
       "    <tr>\n",
       "      <th>Civic_Engagement</th>\n",
       "      <td>0.442760</td>\n",
       "      <td>-0.097907</td>\n",
       "      <td>1.000000</td>\n",
       "      <td>0.337837</td>\n",
       "    </tr>\n",
       "    <tr>\n",
       "      <th>Life_Satisfaction</th>\n",
       "      <td>0.374671</td>\n",
       "      <td>0.287201</td>\n",
       "      <td>0.337837</td>\n",
       "      <td>1.000000</td>\n",
       "    </tr>\n",
       "  </tbody>\n",
       "</table>\n",
       "</div>"
      ],
      "text/plain": [
       "                   GDP_per_capita  Work_Life_Balance  Civic_Engagement  \\\n",
       "GDP_per_capita           1.000000          -0.419823          0.442760   \n",
       "Work_Life_Balance       -0.419823           1.000000         -0.097907   \n",
       "Civic_Engagement         0.442760          -0.097907          1.000000   \n",
       "Life_Satisfaction        0.374671           0.287201          0.337837   \n",
       "\n",
       "                   Life_Satisfaction  \n",
       "GDP_per_capita              0.374671  \n",
       "Work_Life_Balance           0.287201  \n",
       "Civic_Engagement            0.337837  \n",
       "Life_Satisfaction           1.000000  "
      ]
     },
     "metadata": {},
     "output_type": "display_data"
    },
    {
     "data": {
      "application/vnd.plotly.v1+json": {
       "config": {
        "plotlyServerURL": "https://plot.ly"
       },
       "data": [
        {
         "coloraxis": "coloraxis",
         "hovertemplate": "x: %{x}<br>y: %{y}<br>color: %{z}<extra></extra>",
         "name": "0",
         "texttemplate": "%{z}",
         "type": "heatmap",
         "x": [
          "GDP_per_capita",
          "Work_Life_Balance",
          "Civic_Engagement",
          "Life_Satisfaction"
         ],
         "xaxis": "x",
         "y": [
          "GDP_per_capita",
          "Work_Life_Balance",
          "Civic_Engagement",
          "Life_Satisfaction"
         ],
         "yaxis": "y",
         "z": {
          "bdata": "AAAAAAAA8D8p/DKfYt7av8ctN+gsVtw/3x27RZz61z8p/DKfYt7avwAAAAAAAPA/GBlKJXMQub8rA+ESgmHSP8ctN+gsVtw/GBlKJXMQub8AAAAAAADwPy3BDSIen9U/3x27RZz61z8rA+ESgmHSPy3BDSIen9U/AAAAAAAA8D8=",
          "dtype": "f8",
          "shape": "4, 4"
         }
        }
       ],
       "layout": {
        "coloraxis": {
         "cmax": 1,
         "cmin": -1,
         "colorscale": [
          [
           0,
           "rgb(5,48,97)"
          ],
          [
           0.1,
           "rgb(33,102,172)"
          ],
          [
           0.2,
           "rgb(67,147,195)"
          ],
          [
           0.3,
           "rgb(146,197,222)"
          ],
          [
           0.4,
           "rgb(209,229,240)"
          ],
          [
           0.5,
           "rgb(247,247,247)"
          ],
          [
           0.6,
           "rgb(253,219,199)"
          ],
          [
           0.7,
           "rgb(244,165,130)"
          ],
          [
           0.8,
           "rgb(214,96,77)"
          ],
          [
           0.9,
           "rgb(178,24,43)"
          ],
          [
           1,
           "rgb(103,0,31)"
          ]
         ]
        },
        "template": {
         "data": {
          "bar": [
           {
            "error_x": {
             "color": "#2a3f5f"
            },
            "error_y": {
             "color": "#2a3f5f"
            },
            "marker": {
             "line": {
              "color": "#E5ECF6",
              "width": 0.5
             },
             "pattern": {
              "fillmode": "overlay",
              "size": 10,
              "solidity": 0.2
             }
            },
            "type": "bar"
           }
          ],
          "barpolar": [
           {
            "marker": {
             "line": {
              "color": "#E5ECF6",
              "width": 0.5
             },
             "pattern": {
              "fillmode": "overlay",
              "size": 10,
              "solidity": 0.2
             }
            },
            "type": "barpolar"
           }
          ],
          "carpet": [
           {
            "aaxis": {
             "endlinecolor": "#2a3f5f",
             "gridcolor": "white",
             "linecolor": "white",
             "minorgridcolor": "white",
             "startlinecolor": "#2a3f5f"
            },
            "baxis": {
             "endlinecolor": "#2a3f5f",
             "gridcolor": "white",
             "linecolor": "white",
             "minorgridcolor": "white",
             "startlinecolor": "#2a3f5f"
            },
            "type": "carpet"
           }
          ],
          "choropleth": [
           {
            "colorbar": {
             "outlinewidth": 0,
             "ticks": ""
            },
            "type": "choropleth"
           }
          ],
          "contour": [
           {
            "colorbar": {
             "outlinewidth": 0,
             "ticks": ""
            },
            "colorscale": [
             [
              0,
              "#0d0887"
             ],
             [
              0.1111111111111111,
              "#46039f"
             ],
             [
              0.2222222222222222,
              "#7201a8"
             ],
             [
              0.3333333333333333,
              "#9c179e"
             ],
             [
              0.4444444444444444,
              "#bd3786"
             ],
             [
              0.5555555555555556,
              "#d8576b"
             ],
             [
              0.6666666666666666,
              "#ed7953"
             ],
             [
              0.7777777777777778,
              "#fb9f3a"
             ],
             [
              0.8888888888888888,
              "#fdca26"
             ],
             [
              1,
              "#f0f921"
             ]
            ],
            "type": "contour"
           }
          ],
          "contourcarpet": [
           {
            "colorbar": {
             "outlinewidth": 0,
             "ticks": ""
            },
            "type": "contourcarpet"
           }
          ],
          "heatmap": [
           {
            "colorbar": {
             "outlinewidth": 0,
             "ticks": ""
            },
            "colorscale": [
             [
              0,
              "#0d0887"
             ],
             [
              0.1111111111111111,
              "#46039f"
             ],
             [
              0.2222222222222222,
              "#7201a8"
             ],
             [
              0.3333333333333333,
              "#9c179e"
             ],
             [
              0.4444444444444444,
              "#bd3786"
             ],
             [
              0.5555555555555556,
              "#d8576b"
             ],
             [
              0.6666666666666666,
              "#ed7953"
             ],
             [
              0.7777777777777778,
              "#fb9f3a"
             ],
             [
              0.8888888888888888,
              "#fdca26"
             ],
             [
              1,
              "#f0f921"
             ]
            ],
            "type": "heatmap"
           }
          ],
          "histogram": [
           {
            "marker": {
             "pattern": {
              "fillmode": "overlay",
              "size": 10,
              "solidity": 0.2
             }
            },
            "type": "histogram"
           }
          ],
          "histogram2d": [
           {
            "colorbar": {
             "outlinewidth": 0,
             "ticks": ""
            },
            "colorscale": [
             [
              0,
              "#0d0887"
             ],
             [
              0.1111111111111111,
              "#46039f"
             ],
             [
              0.2222222222222222,
              "#7201a8"
             ],
             [
              0.3333333333333333,
              "#9c179e"
             ],
             [
              0.4444444444444444,
              "#bd3786"
             ],
             [
              0.5555555555555556,
              "#d8576b"
             ],
             [
              0.6666666666666666,
              "#ed7953"
             ],
             [
              0.7777777777777778,
              "#fb9f3a"
             ],
             [
              0.8888888888888888,
              "#fdca26"
             ],
             [
              1,
              "#f0f921"
             ]
            ],
            "type": "histogram2d"
           }
          ],
          "histogram2dcontour": [
           {
            "colorbar": {
             "outlinewidth": 0,
             "ticks": ""
            },
            "colorscale": [
             [
              0,
              "#0d0887"
             ],
             [
              0.1111111111111111,
              "#46039f"
             ],
             [
              0.2222222222222222,
              "#7201a8"
             ],
             [
              0.3333333333333333,
              "#9c179e"
             ],
             [
              0.4444444444444444,
              "#bd3786"
             ],
             [
              0.5555555555555556,
              "#d8576b"
             ],
             [
              0.6666666666666666,
              "#ed7953"
             ],
             [
              0.7777777777777778,
              "#fb9f3a"
             ],
             [
              0.8888888888888888,
              "#fdca26"
             ],
             [
              1,
              "#f0f921"
             ]
            ],
            "type": "histogram2dcontour"
           }
          ],
          "mesh3d": [
           {
            "colorbar": {
             "outlinewidth": 0,
             "ticks": ""
            },
            "type": "mesh3d"
           }
          ],
          "parcoords": [
           {
            "line": {
             "colorbar": {
              "outlinewidth": 0,
              "ticks": ""
             }
            },
            "type": "parcoords"
           }
          ],
          "pie": [
           {
            "automargin": true,
            "type": "pie"
           }
          ],
          "scatter": [
           {
            "fillpattern": {
             "fillmode": "overlay",
             "size": 10,
             "solidity": 0.2
            },
            "type": "scatter"
           }
          ],
          "scatter3d": [
           {
            "line": {
             "colorbar": {
              "outlinewidth": 0,
              "ticks": ""
             }
            },
            "marker": {
             "colorbar": {
              "outlinewidth": 0,
              "ticks": ""
             }
            },
            "type": "scatter3d"
           }
          ],
          "scattercarpet": [
           {
            "marker": {
             "colorbar": {
              "outlinewidth": 0,
              "ticks": ""
             }
            },
            "type": "scattercarpet"
           }
          ],
          "scattergeo": [
           {
            "marker": {
             "colorbar": {
              "outlinewidth": 0,
              "ticks": ""
             }
            },
            "type": "scattergeo"
           }
          ],
          "scattergl": [
           {
            "marker": {
             "colorbar": {
              "outlinewidth": 0,
              "ticks": ""
             }
            },
            "type": "scattergl"
           }
          ],
          "scattermap": [
           {
            "marker": {
             "colorbar": {
              "outlinewidth": 0,
              "ticks": ""
             }
            },
            "type": "scattermap"
           }
          ],
          "scattermapbox": [
           {
            "marker": {
             "colorbar": {
              "outlinewidth": 0,
              "ticks": ""
             }
            },
            "type": "scattermapbox"
           }
          ],
          "scatterpolar": [
           {
            "marker": {
             "colorbar": {
              "outlinewidth": 0,
              "ticks": ""
             }
            },
            "type": "scatterpolar"
           }
          ],
          "scatterpolargl": [
           {
            "marker": {
             "colorbar": {
              "outlinewidth": 0,
              "ticks": ""
             }
            },
            "type": "scatterpolargl"
           }
          ],
          "scatterternary": [
           {
            "marker": {
             "colorbar": {
              "outlinewidth": 0,
              "ticks": ""
             }
            },
            "type": "scatterternary"
           }
          ],
          "surface": [
           {
            "colorbar": {
             "outlinewidth": 0,
             "ticks": ""
            },
            "colorscale": [
             [
              0,
              "#0d0887"
             ],
             [
              0.1111111111111111,
              "#46039f"
             ],
             [
              0.2222222222222222,
              "#7201a8"
             ],
             [
              0.3333333333333333,
              "#9c179e"
             ],
             [
              0.4444444444444444,
              "#bd3786"
             ],
             [
              0.5555555555555556,
              "#d8576b"
             ],
             [
              0.6666666666666666,
              "#ed7953"
             ],
             [
              0.7777777777777778,
              "#fb9f3a"
             ],
             [
              0.8888888888888888,
              "#fdca26"
             ],
             [
              1,
              "#f0f921"
             ]
            ],
            "type": "surface"
           }
          ],
          "table": [
           {
            "cells": {
             "fill": {
              "color": "#EBF0F8"
             },
             "line": {
              "color": "white"
             }
            },
            "header": {
             "fill": {
              "color": "#C8D4E3"
             },
             "line": {
              "color": "white"
             }
            },
            "type": "table"
           }
          ]
         },
         "layout": {
          "annotationdefaults": {
           "arrowcolor": "#2a3f5f",
           "arrowhead": 0,
           "arrowwidth": 1
          },
          "autotypenumbers": "strict",
          "coloraxis": {
           "colorbar": {
            "outlinewidth": 0,
            "ticks": ""
           }
          },
          "colorscale": {
           "diverging": [
            [
             0,
             "#8e0152"
            ],
            [
             0.1,
             "#c51b7d"
            ],
            [
             0.2,
             "#de77ae"
            ],
            [
             0.3,
             "#f1b6da"
            ],
            [
             0.4,
             "#fde0ef"
            ],
            [
             0.5,
             "#f7f7f7"
            ],
            [
             0.6,
             "#e6f5d0"
            ],
            [
             0.7,
             "#b8e186"
            ],
            [
             0.8,
             "#7fbc41"
            ],
            [
             0.9,
             "#4d9221"
            ],
            [
             1,
             "#276419"
            ]
           ],
           "sequential": [
            [
             0,
             "#0d0887"
            ],
            [
             0.1111111111111111,
             "#46039f"
            ],
            [
             0.2222222222222222,
             "#7201a8"
            ],
            [
             0.3333333333333333,
             "#9c179e"
            ],
            [
             0.4444444444444444,
             "#bd3786"
            ],
            [
             0.5555555555555556,
             "#d8576b"
            ],
            [
             0.6666666666666666,
             "#ed7953"
            ],
            [
             0.7777777777777778,
             "#fb9f3a"
            ],
            [
             0.8888888888888888,
             "#fdca26"
            ],
            [
             1,
             "#f0f921"
            ]
           ],
           "sequentialminus": [
            [
             0,
             "#0d0887"
            ],
            [
             0.1111111111111111,
             "#46039f"
            ],
            [
             0.2222222222222222,
             "#7201a8"
            ],
            [
             0.3333333333333333,
             "#9c179e"
            ],
            [
             0.4444444444444444,
             "#bd3786"
            ],
            [
             0.5555555555555556,
             "#d8576b"
            ],
            [
             0.6666666666666666,
             "#ed7953"
            ],
            [
             0.7777777777777778,
             "#fb9f3a"
            ],
            [
             0.8888888888888888,
             "#fdca26"
            ],
            [
             1,
             "#f0f921"
            ]
           ]
          },
          "colorway": [
           "#636efa",
           "#EF553B",
           "#00cc96",
           "#ab63fa",
           "#FFA15A",
           "#19d3f3",
           "#FF6692",
           "#B6E880",
           "#FF97FF",
           "#FECB52"
          ],
          "font": {
           "color": "#2a3f5f"
          },
          "geo": {
           "bgcolor": "white",
           "lakecolor": "white",
           "landcolor": "#E5ECF6",
           "showlakes": true,
           "showland": true,
           "subunitcolor": "white"
          },
          "hoverlabel": {
           "align": "left"
          },
          "hovermode": "closest",
          "mapbox": {
           "style": "light"
          },
          "paper_bgcolor": "white",
          "plot_bgcolor": "#E5ECF6",
          "polar": {
           "angularaxis": {
            "gridcolor": "white",
            "linecolor": "white",
            "ticks": ""
           },
           "bgcolor": "#E5ECF6",
           "radialaxis": {
            "gridcolor": "white",
            "linecolor": "white",
            "ticks": ""
           }
          },
          "scene": {
           "xaxis": {
            "backgroundcolor": "#E5ECF6",
            "gridcolor": "white",
            "gridwidth": 2,
            "linecolor": "white",
            "showbackground": true,
            "ticks": "",
            "zerolinecolor": "white"
           },
           "yaxis": {
            "backgroundcolor": "#E5ECF6",
            "gridcolor": "white",
            "gridwidth": 2,
            "linecolor": "white",
            "showbackground": true,
            "ticks": "",
            "zerolinecolor": "white"
           },
           "zaxis": {
            "backgroundcolor": "#E5ECF6",
            "gridcolor": "white",
            "gridwidth": 2,
            "linecolor": "white",
            "showbackground": true,
            "ticks": "",
            "zerolinecolor": "white"
           }
          },
          "shapedefaults": {
           "line": {
            "color": "#2a3f5f"
           }
          },
          "ternary": {
           "aaxis": {
            "gridcolor": "white",
            "linecolor": "white",
            "ticks": ""
           },
           "baxis": {
            "gridcolor": "white",
            "linecolor": "white",
            "ticks": ""
           },
           "bgcolor": "#E5ECF6",
           "caxis": {
            "gridcolor": "white",
            "linecolor": "white",
            "ticks": ""
           }
          },
          "title": {
           "x": 0.05
          },
          "xaxis": {
           "automargin": true,
           "gridcolor": "white",
           "linecolor": "white",
           "ticks": "",
           "title": {
            "standoff": 15
           },
           "zerolinecolor": "white",
           "zerolinewidth": 2
          },
          "yaxis": {
           "automargin": true,
           "gridcolor": "white",
           "linecolor": "white",
           "ticks": "",
           "title": {
            "standoff": 15
           },
           "zerolinecolor": "white",
           "zerolinewidth": 2
          }
         }
        },
        "title": {
         "text": "Correlation Matrix of GDP per Capita and OECD Indicators (OECD Countries)"
        },
        "xaxis": {
         "anchor": "y",
         "constrain": "domain",
         "domain": [
          0,
          1
         ],
         "scaleanchor": "y"
        },
        "yaxis": {
         "anchor": "x",
         "autorange": "reversed",
         "constrain": "domain",
         "domain": [
          0,
          1
         ]
        }
       }
      }
     },
     "metadata": {},
     "output_type": "display_data"
    }
   ],
   "source": [
    "# Create a correlation matrix for OECD countries that have all data points\n",
    "if len(oecd_merged_df_clean) > 0:\n",
    "    # Calculate and display correlations\n",
    "    correlation_matrix = oecd_merged_df_clean.drop('Country', axis=1).corr()\n",
    "    print(\"Correlation Matrix (OECD Countries):\")\n",
    "    display(correlation_matrix)\n",
    "\n",
    "    # Visualize the correlation matrix\n",
    "    fig4 = px.imshow(\n",
    "        correlation_matrix,\n",
    "        text_auto=True,\n",
    "        title='Correlation Matrix of GDP per Capita and OECD Indicators (OECD Countries)',\n",
    "        color_continuous_scale='RdBu_r',\n",
    "        zmin=-1, zmax=1\n",
    "    )\n",
    "    fig4.show()\n",
    "else:\n",
    "    print(\"Not enough OECD countries with complete data to create a correlation matrix.\")\n",
    "    \n",
    "    # Alternative: calculate pairwise correlations\n",
    "    print(\"\\nPairwise correlations with GDP per capita (OECD Countries):\")\n",
    "    \n",
    "    gdp_wlb_corr = gdp_wlb_oecd['GDP_per_capita'].corr(gdp_wlb_oecd['Work_Life_Balance'])\n",
    "    gdp_ce_corr = gdp_ce_oecd['GDP_per_capita'].corr(gdp_ce_oecd['Civic_Engagement'])\n",
    "    gdp_ls_corr = gdp_ls_oecd['GDP_per_capita'].corr(gdp_ls_oecd['Life_Satisfaction'])\n",
    "    \n",
    "    print(f\"GDP per capita vs Work-Life Balance: {gdp_wlb_corr:.4f}\")\n",
    "    print(f\"GDP per capita vs Civic Engagement: {gdp_ce_corr:.4f}\")\n",
    "    print(f\"GDP per capita vs Life Satisfaction: {gdp_ls_corr:.4f}\")"
   ]
  },
  {
   "cell_type": "markdown",
   "id": "e3ff71c6",
   "metadata": {},
   "source": [
    "# Normalized Indicators Analysis\n",
    "\n",
    "This analysis examines the relationship between GDP per capita and three OECD indicators after normalization:\n",
    "\n",
    "1. **Work-Life Balance** (measured by employees working very long hours) - normalized so that lower percentages receive higher scores\n",
    "2. **Civic Engagement** (measured by voter turnout) - normalized so that higher percentages receive higher scores\n",
    "3. **Life Satisfaction** (measured by self-reported health) - normalized so that higher percentages receive higher scores\n",
    "\n",
    "All indicators are normalized to a scale of 0-1, where 1 is the best possible value. The normalization formula used is:\n",
    "\n",
    "- For indicators where higher values are better (Civic Engagement, Life Satisfaction):\n",
    "  - `normalized = (value - min) / (max - min)`\n",
    "\n",
    "- For indicators where lower values are better (Work-Life Balance):\n",
    "  - `normalized = 1 - (value - min) / (max - min)`\n",
    "\n",
    "A combined \"Well-Being Index\" is calculated as the average of the three normalized indicators."
   ]
  },
  {
   "cell_type": "markdown",
   "id": "96bcfb8a",
   "metadata": {},
   "source": [
    "# Analysis Summary\n",
    "\n",
    "This analysis explores the relationship between GDP per capita and three OECD indicators among OECD member countries:\n",
    "\n",
    "1. **Work-Life Balance** (measured by percentage of employees working very long hours)\n",
    "2. **Civic Engagement** (measured by voter turnout)\n",
    "3. **Life Satisfaction** (measured by self-reported health)\n",
    "\n",
    "By focusing specifically on OECD countries, we're analyzing a more homogenous group of mostly developed economies, which may reveal different patterns than a global analysis would.\n",
    "\n",
    "The scatter plots show the relationship between GDP per capita and each indicator, with trend lines to visualize the general pattern. The correlation analysis quantifies the strength and direction of these relationships.\n",
    "\n",
    "Key findings:\n",
    "- [Add your observations about the relationships based on the actual visualizations]\n",
    "- [Discuss any interesting patterns or outlier countries]\n",
    "- [Note limitations in the data or analysis]"
   ]
  }
 ],
 "metadata": {
  "kernelspec": {
   "display_name": "idm",
   "language": "python",
   "name": "python3"
  },
  "language_info": {
   "codemirror_mode": {
    "name": "ipython",
    "version": 3
   },
   "file_extension": ".py",
   "mimetype": "text/x-python",
   "name": "python",
   "nbconvert_exporter": "python",
   "pygments_lexer": "ipython3",
   "version": "3.12.9"
  }
 },
 "nbformat": 4,
 "nbformat_minor": 5
}
