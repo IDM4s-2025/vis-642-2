{
 "cells": [
  {
   "cell_type": "code",
   "execution_count": 2,
   "id": "d049ac3a",
   "metadata": {},
   "outputs": [
    {
     "name": "stdout",
     "output_type": "stream",
     "text": [
      "['JE_LMIS' 'HO_BASE' 'PS_FSAFEN' 'HO_HISH' 'JE_EMPL' 'JE_LTUR' 'SC_SNTWS'\n",
      " 'ES_EDUA' 'EQ_WATER' 'CG_VOTO' 'HS_SFRH' 'WL_EWLH' 'CG_SENG' 'ES_STCS'\n",
      " 'SW_LIFS' 'HO_NUMR' 'IW_HADI' 'IW_HNFW' 'JE_PEARN' 'ES_EDUEX' 'EQ_AIRP'\n",
      " 'HS_LEB' 'PS_REPH' 'WL_TNOW']\n"
     ]
    }
   ],
   "source": [
    "import pandas as pd\n",
    "import requests\n",
    "\n",
    "df = pd.read_csv(\"OECD,DF_BLI,+all.csv\")\n",
    "df = df.drop([\"Unnamed: 5\", \"Unnamed: 7\", \"Unnamed: 9\",\"Unnamed: 11\", \"Unnamed: 13\", \"Unnamed: 15\", \"Unnamed: 17\", \"Unnamed: 19\", \"Unnamed: 21\"], axis = 1)\n",
    "print(df[\"INDICATOR\"].unique())\n",
    "dataframes_separados = {}\n",
    "\n",
    "for valor, grupo in df.groupby('INDICATOR'):\n",
    "    dataframes_separados[valor] = grupo.copy()\n",
    "\n",
    "#JOBS\n",
    "df2 = dataframes_separados['JE_LMIS']\n",
    "df3 = dataframes_separados['JE_EMPL']\n",
    "df4 = dataframes_separados['JE_LTUR']\n",
    "df5 = dataframes_separados['JE_PEARN']\n",
    "\n",
    "#HO\n",
    "df6 = dataframes_separados['HO_BASE']\n",
    "df7 = dataframes_separados['HO_HISH']\n",
    "df8 = dataframes_separados['HO_NUMR']\n",
    "\n",
    "#PF\n",
    "df9 = dataframes_separados['PS_FSAFEN']\n",
    "df10 = dataframes_separados['PS_REPH']\n",
    "\n",
    "#Community\n",
    "df11 = dataframes_separados['SC_SNTWS']\n",
    "\n",
    "#ES\n",
    "df12 = dataframes_separados['ES_EDUA']\n",
    "df13 = dataframes_separados['ES_STCS']\n",
    "df14 = dataframes_separados['ES_EDUEX']\n",
    "\n",
    "#EQ\n",
    "df15 = dataframes_separados['EQ_WATER']\n",
    "df16 = dataframes_separados['EQ_AIRP']\n",
    "\n",
    "#CG\n",
    "df17 = dataframes_separados['CG_VOTO']\n",
    "df18 = dataframes_separados['CG_SENG']\n",
    "\n",
    "#HS\n",
    "df19 = dataframes_separados['HS_SFRH']\n",
    "df20 = dataframes_separados['HS_LEB']\n",
    "\n",
    "#WL\n",
    "df21 = dataframes_separados['WL_EWLH']\n",
    "df22 = dataframes_separados['WL_TNOW']\n",
    "\n",
    "#SW\n",
    "df23 = dataframes_separados['SW_LIFS']\n",
    "\n",
    "#INCOME\n",
    "df24 = dataframes_separados['IW_HADI']\n",
    "df25 = dataframes_separados['IW_HNFW']\n",
    "\n"
   ]
  },
  {
   "cell_type": "code",
   "execution_count": 3,
   "id": "ee35be00",
   "metadata": {},
   "outputs": [
    {
     "data": {
      "text/html": [
       "<div>\n",
       "<style scoped>\n",
       "    .dataframe tbody tr th:only-of-type {\n",
       "        vertical-align: middle;\n",
       "    }\n",
       "\n",
       "    .dataframe tbody tr th {\n",
       "        vertical-align: top;\n",
       "    }\n",
       "\n",
       "    .dataframe thead th {\n",
       "        text-align: right;\n",
       "    }\n",
       "</style>\n",
       "<table border=\"1\" class=\"dataframe\">\n",
       "  <thead>\n",
       "    <tr style=\"text-align: right;\">\n",
       "      <th></th>\n",
       "      <th>LOCATION</th>\n",
       "      <th>JE_LMIS</th>\n",
       "      <th>JE_EMPL</th>\n",
       "      <th>JE_LTUR</th>\n",
       "      <th>JE_PEARN</th>\n",
       "      <th>INDEX</th>\n",
       "    </tr>\n",
       "  </thead>\n",
       "  <tbody>\n",
       "    <tr>\n",
       "      <th>20</th>\n",
       "      <td>ISL</td>\n",
       "      <td>1.000000</td>\n",
       "      <td>0.882716</td>\n",
       "      <td>0.967949</td>\n",
       "      <td>0.964185</td>\n",
       "      <td>0.953712</td>\n",
       "    </tr>\n",
       "    <tr>\n",
       "      <th>29</th>\n",
       "      <td>NLD</td>\n",
       "      <td>0.927536</td>\n",
       "      <td>0.888889</td>\n",
       "      <td>0.955128</td>\n",
       "      <td>0.801287</td>\n",
       "      <td>0.893210</td>\n",
       "    </tr>\n",
       "    <tr>\n",
       "      <th>40</th>\n",
       "      <td>USA</td>\n",
       "      <td>0.845411</td>\n",
       "      <td>0.685185</td>\n",
       "      <td>0.977564</td>\n",
       "      <td>1.000000</td>\n",
       "      <td>0.877040</td>\n",
       "    </tr>\n",
       "    <tr>\n",
       "      <th>10</th>\n",
       "      <td>DEU</td>\n",
       "      <td>0.980676</td>\n",
       "      <td>0.864198</td>\n",
       "      <td>0.942308</td>\n",
       "      <td>0.705673</td>\n",
       "      <td>0.873214</td>\n",
       "    </tr>\n",
       "    <tr>\n",
       "      <th>26</th>\n",
       "      <td>LUX</td>\n",
       "      <td>0.942029</td>\n",
       "      <td>0.685185</td>\n",
       "      <td>0.916667</td>\n",
       "      <td>0.933449</td>\n",
       "      <td>0.869332</td>\n",
       "    </tr>\n",
       "    <tr>\n",
       "      <th>30</th>\n",
       "      <td>NOR</td>\n",
       "      <td>0.913043</td>\n",
       "      <td>0.833333</td>\n",
       "      <td>0.956731</td>\n",
       "      <td>0.743952</td>\n",
       "      <td>0.861765</td>\n",
       "    </tr>\n",
       "    <tr>\n",
       "      <th>11</th>\n",
       "      <td>DNK</td>\n",
       "      <td>0.830918</td>\n",
       "      <td>0.814815</td>\n",
       "      <td>0.955128</td>\n",
       "      <td>0.793800</td>\n",
       "      <td>0.848665</td>\n",
       "    </tr>\n",
       "    <tr>\n",
       "      <th>0</th>\n",
       "      <td>AUS</td>\n",
       "      <td>0.898551</td>\n",
       "      <td>0.796296</td>\n",
       "      <td>0.950321</td>\n",
       "      <td>0.733155</td>\n",
       "      <td>0.844581</td>\n",
       "    </tr>\n",
       "    <tr>\n",
       "      <th>1</th>\n",
       "      <td>AUT</td>\n",
       "      <td>0.937198</td>\n",
       "      <td>0.777778</td>\n",
       "      <td>0.935897</td>\n",
       "      <td>0.694142</td>\n",
       "      <td>0.836254</td>\n",
       "    </tr>\n",
       "    <tr>\n",
       "      <th>4</th>\n",
       "      <td>CAN</td>\n",
       "      <td>0.864734</td>\n",
       "      <td>0.740741</td>\n",
       "      <td>0.975962</td>\n",
       "      <td>0.735713</td>\n",
       "      <td>0.829288</td>\n",
       "    </tr>\n",
       "    <tr>\n",
       "      <th>16</th>\n",
       "      <td>GBR</td>\n",
       "      <td>0.888889</td>\n",
       "      <td>0.839506</td>\n",
       "      <td>0.956731</td>\n",
       "      <td>0.581562</td>\n",
       "      <td>0.816672</td>\n",
       "    </tr>\n",
       "    <tr>\n",
       "      <th>14</th>\n",
       "      <td>FIN</td>\n",
       "      <td>0.942029</td>\n",
       "      <td>0.783951</td>\n",
       "      <td>0.942308</td>\n",
       "      <td>0.564313</td>\n",
       "      <td>0.808150</td>\n",
       "    </tr>\n",
       "    <tr>\n",
       "      <th>31</th>\n",
       "      <td>NZL</td>\n",
       "      <td>0.830918</td>\n",
       "      <td>0.864198</td>\n",
       "      <td>0.980769</td>\n",
       "      <td>0.546236</td>\n",
       "      <td>0.805530</td>\n",
       "    </tr>\n",
       "    <tr>\n",
       "      <th>38</th>\n",
       "      <td>SWE</td>\n",
       "      <td>0.835749</td>\n",
       "      <td>0.839506</td>\n",
       "      <td>0.951923</td>\n",
       "      <td>0.579173</td>\n",
       "      <td>0.801588</td>\n",
       "    </tr>\n",
       "    <tr>\n",
       "      <th>19</th>\n",
       "      <td>IRL</td>\n",
       "      <td>0.922705</td>\n",
       "      <td>0.703704</td>\n",
       "      <td>0.943910</td>\n",
       "      <td>0.625334</td>\n",
       "      <td>0.798913</td>\n",
       "    </tr>\n",
       "    <tr>\n",
       "      <th>2</th>\n",
       "      <td>BEL</td>\n",
       "      <td>0.932367</td>\n",
       "      <td>0.641975</td>\n",
       "      <td>0.889423</td>\n",
       "      <td>0.716621</td>\n",
       "      <td>0.795097</td>\n",
       "    </tr>\n",
       "    <tr>\n",
       "      <th>23</th>\n",
       "      <td>JPN</td>\n",
       "      <td>0.917874</td>\n",
       "      <td>0.876543</td>\n",
       "      <td>0.963141</td>\n",
       "      <td>0.419190</td>\n",
       "      <td>0.794187</td>\n",
       "    </tr>\n",
       "    <tr>\n",
       "      <th>24</th>\n",
       "      <td>KOR</td>\n",
       "      <td>0.908213</td>\n",
       "      <td>0.666667</td>\n",
       "      <td>1.000000</td>\n",
       "      <td>0.483992</td>\n",
       "      <td>0.764718</td>\n",
       "    </tr>\n",
       "    <tr>\n",
       "      <th>32</th>\n",
       "      <td>OECD</td>\n",
       "      <td>0.801932</td>\n",
       "      <td>0.672840</td>\n",
       "      <td>0.935897</td>\n",
       "      <td>0.619521</td>\n",
       "      <td>0.757548</td>\n",
       "    </tr>\n",
       "    <tr>\n",
       "      <th>9</th>\n",
       "      <td>CZE</td>\n",
       "      <td>0.937198</td>\n",
       "      <td>0.814815</td>\n",
       "      <td>0.972756</td>\n",
       "      <td>0.256856</td>\n",
       "      <td>0.745406</td>\n",
       "    </tr>\n",
       "    <tr>\n",
       "      <th>15</th>\n",
       "      <td>FRA</td>\n",
       "      <td>0.898551</td>\n",
       "      <td>0.648148</td>\n",
       "      <td>0.858974</td>\n",
       "      <td>0.552105</td>\n",
       "      <td>0.739445</td>\n",
       "    </tr>\n",
       "    <tr>\n",
       "      <th>21</th>\n",
       "      <td>ISR</td>\n",
       "      <td>0.826087</td>\n",
       "      <td>0.685185</td>\n",
       "      <td>0.990385</td>\n",
       "      <td>0.434370</td>\n",
       "      <td>0.734007</td>\n",
       "    </tr>\n",
       "    <tr>\n",
       "      <th>37</th>\n",
       "      <td>SVN</td>\n",
       "      <td>0.763285</td>\n",
       "      <td>0.759259</td>\n",
       "      <td>0.907051</td>\n",
       "      <td>0.474305</td>\n",
       "      <td>0.725975</td>\n",
       "    </tr>\n",
       "    <tr>\n",
       "      <th>13</th>\n",
       "      <td>EST</td>\n",
       "      <td>0.787440</td>\n",
       "      <td>0.814815</td>\n",
       "      <td>0.943910</td>\n",
       "      <td>0.272563</td>\n",
       "      <td>0.704682</td>\n",
       "    </tr>\n",
       "    <tr>\n",
       "      <th>33</th>\n",
       "      <td>POL</td>\n",
       "      <td>0.806763</td>\n",
       "      <td>0.716049</td>\n",
       "      <td>0.969551</td>\n",
       "      <td>0.306554</td>\n",
       "      <td>0.699729</td>\n",
       "    </tr>\n",
       "    <tr>\n",
       "      <th>5</th>\n",
       "      <td>CHE</td>\n",
       "      <td>0.000000</td>\n",
       "      <td>0.925926</td>\n",
       "      <td>0.918269</td>\n",
       "      <td>0.914074</td>\n",
       "      <td>0.689567</td>\n",
       "    </tr>\n",
       "    <tr>\n",
       "      <th>18</th>\n",
       "      <td>HUN</td>\n",
       "      <td>0.864734</td>\n",
       "      <td>0.734568</td>\n",
       "      <td>0.943910</td>\n",
       "      <td>0.172661</td>\n",
       "      <td>0.678968</td>\n",
       "    </tr>\n",
       "    <tr>\n",
       "      <th>27</th>\n",
       "      <td>LVA</td>\n",
       "      <td>0.743961</td>\n",
       "      <td>0.771605</td>\n",
       "      <td>0.894231</td>\n",
       "      <td>0.256687</td>\n",
       "      <td>0.666621</td>\n",
       "    </tr>\n",
       "    <tr>\n",
       "      <th>34</th>\n",
       "      <td>PRT</td>\n",
       "      <td>0.657005</td>\n",
       "      <td>0.728395</td>\n",
       "      <td>0.889423</td>\n",
       "      <td>0.229111</td>\n",
       "      <td>0.625983</td>\n",
       "    </tr>\n",
       "    <tr>\n",
       "      <th>28</th>\n",
       "      <td>MEX</td>\n",
       "      <td>0.855072</td>\n",
       "      <td>0.555556</td>\n",
       "      <td>0.995192</td>\n",
       "      <td>0.000000</td>\n",
       "      <td>0.601455</td>\n",
       "    </tr>\n",
       "    <tr>\n",
       "      <th>22</th>\n",
       "      <td>ITA</td>\n",
       "      <td>0.632850</td>\n",
       "      <td>0.518519</td>\n",
       "      <td>0.767628</td>\n",
       "      <td>0.405158</td>\n",
       "      <td>0.581039</td>\n",
       "    </tr>\n",
       "    <tr>\n",
       "      <th>36</th>\n",
       "      <td>SVK</td>\n",
       "      <td>0.623188</td>\n",
       "      <td>0.697531</td>\n",
       "      <td>0.855769</td>\n",
       "      <td>0.138990</td>\n",
       "      <td>0.578870</td>\n",
       "    </tr>\n",
       "    <tr>\n",
       "      <th>12</th>\n",
       "      <td>ESP</td>\n",
       "      <td>0.285024</td>\n",
       "      <td>0.592593</td>\n",
       "      <td>0.756410</td>\n",
       "      <td>0.408036</td>\n",
       "      <td>0.510516</td>\n",
       "    </tr>\n",
       "    <tr>\n",
       "      <th>25</th>\n",
       "      <td>LTU</td>\n",
       "      <td>0.000000</td>\n",
       "      <td>0.771605</td>\n",
       "      <td>0.881410</td>\n",
       "      <td>0.293085</td>\n",
       "      <td>0.486525</td>\n",
       "    </tr>\n",
       "    <tr>\n",
       "      <th>35</th>\n",
       "      <td>RUS</td>\n",
       "      <td>0.000000</td>\n",
       "      <td>0.740741</td>\n",
       "      <td>0.947115</td>\n",
       "      <td>0.000000</td>\n",
       "      <td>0.421964</td>\n",
       "    </tr>\n",
       "    <tr>\n",
       "      <th>39</th>\n",
       "      <td>TUR</td>\n",
       "      <td>0.420290</td>\n",
       "      <td>0.327160</td>\n",
       "      <td>0.828526</td>\n",
       "      <td>0.000000</td>\n",
       "      <td>0.393994</td>\n",
       "    </tr>\n",
       "    <tr>\n",
       "      <th>7</th>\n",
       "      <td>COL</td>\n",
       "      <td>0.000000</td>\n",
       "      <td>0.518519</td>\n",
       "      <td>0.945513</td>\n",
       "      <td>0.000000</td>\n",
       "      <td>0.366008</td>\n",
       "    </tr>\n",
       "    <tr>\n",
       "      <th>6</th>\n",
       "      <td>CHL</td>\n",
       "      <td>0.710145</td>\n",
       "      <td>0.481481</td>\n",
       "      <td>0.000000</td>\n",
       "      <td>0.197491</td>\n",
       "      <td>0.347279</td>\n",
       "    </tr>\n",
       "    <tr>\n",
       "      <th>8</th>\n",
       "      <td>CRI</td>\n",
       "      <td>0.000000</td>\n",
       "      <td>0.456790</td>\n",
       "      <td>0.921474</td>\n",
       "      <td>0.000000</td>\n",
       "      <td>0.344566</td>\n",
       "    </tr>\n",
       "    <tr>\n",
       "      <th>17</th>\n",
       "      <td>GRC</td>\n",
       "      <td>0.000000</td>\n",
       "      <td>0.481481</td>\n",
       "      <td>0.471154</td>\n",
       "      <td>0.206482</td>\n",
       "      <td>0.289779</td>\n",
       "    </tr>\n",
       "    <tr>\n",
       "      <th>3</th>\n",
       "      <td>BRA</td>\n",
       "      <td>0.000000</td>\n",
       "      <td>0.500000</td>\n",
       "      <td>0.000000</td>\n",
       "      <td>0.000000</td>\n",
       "      <td>0.125000</td>\n",
       "    </tr>\n",
       "    <tr>\n",
       "      <th>41</th>\n",
       "      <td>ZAF</td>\n",
       "      <td>0.000000</td>\n",
       "      <td>0.160494</td>\n",
       "      <td>0.128205</td>\n",
       "      <td>0.000000</td>\n",
       "      <td>0.072175</td>\n",
       "    </tr>\n",
       "  </tbody>\n",
       "</table>\n",
       "</div>"
      ],
      "text/plain": [
       "   LOCATION   JE_LMIS   JE_EMPL   JE_LTUR  JE_PEARN     INDEX\n",
       "20      ISL  1.000000  0.882716  0.967949  0.964185  0.953712\n",
       "29      NLD  0.927536  0.888889  0.955128  0.801287  0.893210\n",
       "40      USA  0.845411  0.685185  0.977564  1.000000  0.877040\n",
       "10      DEU  0.980676  0.864198  0.942308  0.705673  0.873214\n",
       "26      LUX  0.942029  0.685185  0.916667  0.933449  0.869332\n",
       "30      NOR  0.913043  0.833333  0.956731  0.743952  0.861765\n",
       "11      DNK  0.830918  0.814815  0.955128  0.793800  0.848665\n",
       "0       AUS  0.898551  0.796296  0.950321  0.733155  0.844581\n",
       "1       AUT  0.937198  0.777778  0.935897  0.694142  0.836254\n",
       "4       CAN  0.864734  0.740741  0.975962  0.735713  0.829288\n",
       "16      GBR  0.888889  0.839506  0.956731  0.581562  0.816672\n",
       "14      FIN  0.942029  0.783951  0.942308  0.564313  0.808150\n",
       "31      NZL  0.830918  0.864198  0.980769  0.546236  0.805530\n",
       "38      SWE  0.835749  0.839506  0.951923  0.579173  0.801588\n",
       "19      IRL  0.922705  0.703704  0.943910  0.625334  0.798913\n",
       "2       BEL  0.932367  0.641975  0.889423  0.716621  0.795097\n",
       "23      JPN  0.917874  0.876543  0.963141  0.419190  0.794187\n",
       "24      KOR  0.908213  0.666667  1.000000  0.483992  0.764718\n",
       "32     OECD  0.801932  0.672840  0.935897  0.619521  0.757548\n",
       "9       CZE  0.937198  0.814815  0.972756  0.256856  0.745406\n",
       "15      FRA  0.898551  0.648148  0.858974  0.552105  0.739445\n",
       "21      ISR  0.826087  0.685185  0.990385  0.434370  0.734007\n",
       "37      SVN  0.763285  0.759259  0.907051  0.474305  0.725975\n",
       "13      EST  0.787440  0.814815  0.943910  0.272563  0.704682\n",
       "33      POL  0.806763  0.716049  0.969551  0.306554  0.699729\n",
       "5       CHE  0.000000  0.925926  0.918269  0.914074  0.689567\n",
       "18      HUN  0.864734  0.734568  0.943910  0.172661  0.678968\n",
       "27      LVA  0.743961  0.771605  0.894231  0.256687  0.666621\n",
       "34      PRT  0.657005  0.728395  0.889423  0.229111  0.625983\n",
       "28      MEX  0.855072  0.555556  0.995192  0.000000  0.601455\n",
       "22      ITA  0.632850  0.518519  0.767628  0.405158  0.581039\n",
       "36      SVK  0.623188  0.697531  0.855769  0.138990  0.578870\n",
       "12      ESP  0.285024  0.592593  0.756410  0.408036  0.510516\n",
       "25      LTU  0.000000  0.771605  0.881410  0.293085  0.486525\n",
       "35      RUS  0.000000  0.740741  0.947115  0.000000  0.421964\n",
       "39      TUR  0.420290  0.327160  0.828526  0.000000  0.393994\n",
       "7       COL  0.000000  0.518519  0.945513  0.000000  0.366008\n",
       "6       CHL  0.710145  0.481481  0.000000  0.197491  0.347279\n",
       "8       CRI  0.000000  0.456790  0.921474  0.000000  0.344566\n",
       "17      GRC  0.000000  0.481481  0.471154  0.206482  0.289779\n",
       "3       BRA  0.000000  0.500000  0.000000  0.000000  0.125000\n",
       "41      ZAF  0.000000  0.160494  0.128205  0.000000  0.072175"
      ]
     },
     "execution_count": 3,
     "metadata": {},
     "output_type": "execute_result"
    }
   ],
   "source": [
    "#JOBS\n",
    "from sklearn.preprocessing import MinMaxScaler\n",
    "from functools import reduce\n",
    "\n",
    "for df in [df2, df3, df4, df5, df11, df24, df25]:\n",
    "    df.columns = df.columns.str.strip()\n",
    "    df['OBS_VALUE'] = df['OBS_VALUE'].fillna(0)\n",
    "\n",
    "scaler = MinMaxScaler()\n",
    "for df in [df3, df5, df11, df24, df25]:\n",
    "    df['OBS_VALUE'] = scaler.fit_transform(df[['OBS_VALUE']])\n",
    "\n",
    "for df in [df2, df4,]:\n",
    "    df['OBS_VALUE'] = (1 - scaler.fit_transform(df[['OBS_VALUE']]))\n",
    "\n",
    "df2_grouped = df2.groupby('LOCATION', as_index=False)['OBS_VALUE'].mean().rename(columns={'OBS_VALUE': 'JE_LMIS'})\n",
    "df3_grouped = df3.groupby('LOCATION', as_index=False)['OBS_VALUE'].mean().rename(columns={'OBS_VALUE': 'JE_EMPL'})\n",
    "df4_grouped = df4.groupby('LOCATION', as_index=False)['OBS_VALUE'].mean().rename(columns={'OBS_VALUE': 'JE_LTUR'})\n",
    "df5_grouped = df5.groupby('LOCATION', as_index=False)['OBS_VALUE'].mean().rename(columns={'OBS_VALUE': 'JE_PEARN'})\n",
    "\n",
    "df_JOBS = [df2_grouped, df3_grouped, df4_grouped, df5_grouped]\n",
    "JE_Merge = reduce(lambda left, right: pd.merge(left, right, on='LOCATION', how='outer'), df_JOBS)\n",
    "\n",
    "JE_Merge.fillna(0, inplace=True)\n",
    "\n",
    "JE_Merge = JE_Merge.sort_values(by='LOCATION')\n",
    "\n",
    "JE_Merge['INDEX'] = JE_Merge[['JE_LMIS', 'JE_EMPL', 'JE_LTUR', 'JE_PEARN']].mean(axis=1)\n",
    "\n",
    "JE_Merge = JE_Merge.sort_values(by='INDEX', ascending = False)\n",
    "\n",
    "JE_Merge\n"
   ]
  },
  {
   "cell_type": "code",
   "execution_count": 4,
   "id": "ca967a32",
   "metadata": {},
   "outputs": [
    {
     "data": {
      "text/html": [
       "<div>\n",
       "<style scoped>\n",
       "    .dataframe tbody tr th:only-of-type {\n",
       "        vertical-align: middle;\n",
       "    }\n",
       "\n",
       "    .dataframe tbody tr th {\n",
       "        vertical-align: top;\n",
       "    }\n",
       "\n",
       "    .dataframe thead th {\n",
       "        text-align: right;\n",
       "    }\n",
       "</style>\n",
       "<table border=\"1\" class=\"dataframe\">\n",
       "  <thead>\n",
       "    <tr style=\"text-align: right;\">\n",
       "      <th></th>\n",
       "      <th>LOCATION</th>\n",
       "      <th>IW_HADI</th>\n",
       "      <th>IW_HNFW</th>\n",
       "      <th>INDEX</th>\n",
       "    </tr>\n",
       "  </thead>\n",
       "  <tbody>\n",
       "    <tr>\n",
       "      <th>22</th>\n",
       "      <td>LUX</td>\n",
       "      <td>0.847545</td>\n",
       "      <td>1.000000</td>\n",
       "      <td>0.923772</td>\n",
       "    </tr>\n",
       "    <tr>\n",
       "      <th>35</th>\n",
       "      <td>USA</td>\n",
       "      <td>1.000000</td>\n",
       "      <td>0.702220</td>\n",
       "      <td>0.851110</td>\n",
       "    </tr>\n",
       "    <tr>\n",
       "      <th>27</th>\n",
       "      <td>NZL</td>\n",
       "      <td>0.710039</td>\n",
       "      <td>0.504593</td>\n",
       "      <td>0.607316</td>\n",
       "    </tr>\n",
       "    <tr>\n",
       "      <th>0</th>\n",
       "      <td>AUS</td>\n",
       "      <td>0.671985</td>\n",
       "      <td>0.521539</td>\n",
       "      <td>0.596762</td>\n",
       "    </tr>\n",
       "    <tr>\n",
       "      <th>14</th>\n",
       "      <td>GBR</td>\n",
       "      <td>0.567127</td>\n",
       "      <td>0.516496</td>\n",
       "      <td>0.541812</td>\n",
       "    </tr>\n",
       "    <tr>\n",
       "      <th>3</th>\n",
       "      <td>CAN</td>\n",
       "      <td>0.599943</td>\n",
       "      <td>0.462916</td>\n",
       "      <td>0.531429</td>\n",
       "    </tr>\n",
       "    <tr>\n",
       "      <th>2</th>\n",
       "      <td>BEL</td>\n",
       "      <td>0.611017</td>\n",
       "      <td>0.427375</td>\n",
       "      <td>0.519196</td>\n",
       "    </tr>\n",
       "    <tr>\n",
       "      <th>8</th>\n",
       "      <td>DEU</td>\n",
       "      <td>0.708771</td>\n",
       "      <td>0.261130</td>\n",
       "      <td>0.484950</td>\n",
       "    </tr>\n",
       "    <tr>\n",
       "      <th>26</th>\n",
       "      <td>NOR</td>\n",
       "      <td>0.712909</td>\n",
       "      <td>0.219410</td>\n",
       "      <td>0.466159</td>\n",
       "    </tr>\n",
       "    <tr>\n",
       "      <th>1</th>\n",
       "      <td>AUT</td>\n",
       "      <td>0.661652</td>\n",
       "      <td>0.267302</td>\n",
       "      <td>0.464477</td>\n",
       "    </tr>\n",
       "    <tr>\n",
       "      <th>13</th>\n",
       "      <td>FRA</td>\n",
       "      <td>0.598842</td>\n",
       "      <td>0.254542</td>\n",
       "      <td>0.426692</td>\n",
       "    </tr>\n",
       "    <tr>\n",
       "      <th>17</th>\n",
       "      <td>IRL</td>\n",
       "      <td>0.481954</td>\n",
       "      <td>0.337731</td>\n",
       "      <td>0.409842</td>\n",
       "    </tr>\n",
       "    <tr>\n",
       "      <th>25</th>\n",
       "      <td>NLD</td>\n",
       "      <td>0.613409</td>\n",
       "      <td>0.196485</td>\n",
       "      <td>0.404947</td>\n",
       "    </tr>\n",
       "    <tr>\n",
       "      <th>28</th>\n",
       "      <td>OECD</td>\n",
       "      <td>0.505920</td>\n",
       "      <td>0.283919</td>\n",
       "      <td>0.394920</td>\n",
       "    </tr>\n",
       "    <tr>\n",
       "      <th>10</th>\n",
       "      <td>ESP</td>\n",
       "      <td>0.426152</td>\n",
       "      <td>0.333314</td>\n",
       "      <td>0.379733</td>\n",
       "    </tr>\n",
       "    <tr>\n",
       "      <th>12</th>\n",
       "      <td>FIN</td>\n",
       "      <td>0.577220</td>\n",
       "      <td>0.174944</td>\n",
       "      <td>0.376082</td>\n",
       "    </tr>\n",
       "    <tr>\n",
       "      <th>18</th>\n",
       "      <td>ITA</td>\n",
       "      <td>0.480590</td>\n",
       "      <td>0.250343</td>\n",
       "      <td>0.365467</td>\n",
       "    </tr>\n",
       "    <tr>\n",
       "      <th>4</th>\n",
       "      <td>CHE</td>\n",
       "      <td>0.726136</td>\n",
       "      <td>0.000000</td>\n",
       "      <td>0.363068</td>\n",
       "    </tr>\n",
       "    <tr>\n",
       "      <th>19</th>\n",
       "      <td>JPN</td>\n",
       "      <td>0.467220</td>\n",
       "      <td>0.250012</td>\n",
       "      <td>0.358616</td>\n",
       "    </tr>\n",
       "    <tr>\n",
       "      <th>20</th>\n",
       "      <td>KOR</td>\n",
       "      <td>0.364802</td>\n",
       "      <td>0.328448</td>\n",
       "      <td>0.346625</td>\n",
       "    </tr>\n",
       "    <tr>\n",
       "      <th>9</th>\n",
       "      <td>DNK</td>\n",
       "      <td>0.584467</td>\n",
       "      <td>0.081932</td>\n",
       "      <td>0.333200</td>\n",
       "    </tr>\n",
       "    <tr>\n",
       "      <th>34</th>\n",
       "      <td>SWE</td>\n",
       "      <td>0.583415</td>\n",
       "      <td>0.000000</td>\n",
       "      <td>0.291708</td>\n",
       "    </tr>\n",
       "    <tr>\n",
       "      <th>30</th>\n",
       "      <td>PRT</td>\n",
       "      <td>0.371666</td>\n",
       "      <td>0.204263</td>\n",
       "      <td>0.287965</td>\n",
       "    </tr>\n",
       "    <tr>\n",
       "      <th>33</th>\n",
       "      <td>SVN</td>\n",
       "      <td>0.380588</td>\n",
       "      <td>0.178719</td>\n",
       "      <td>0.279653</td>\n",
       "    </tr>\n",
       "    <tr>\n",
       "      <th>21</th>\n",
       "      <td>LTU</td>\n",
       "      <td>0.421871</td>\n",
       "      <td>0.119262</td>\n",
       "      <td>0.270566</td>\n",
       "    </tr>\n",
       "    <tr>\n",
       "      <th>29</th>\n",
       "      <td>POL</td>\n",
       "      <td>0.342917</td>\n",
       "      <td>0.178644</td>\n",
       "      <td>0.260780</td>\n",
       "    </tr>\n",
       "    <tr>\n",
       "      <th>11</th>\n",
       "      <td>EST</td>\n",
       "      <td>0.345524</td>\n",
       "      <td>0.126905</td>\n",
       "      <td>0.236215</td>\n",
       "    </tr>\n",
       "    <tr>\n",
       "      <th>7</th>\n",
       "      <td>CZE</td>\n",
       "      <td>0.414408</td>\n",
       "      <td>0.000000</td>\n",
       "      <td>0.207204</td>\n",
       "    </tr>\n",
       "    <tr>\n",
       "      <th>32</th>\n",
       "      <td>SVK</td>\n",
       "      <td>0.282499</td>\n",
       "      <td>0.106948</td>\n",
       "      <td>0.194723</td>\n",
       "    </tr>\n",
       "    <tr>\n",
       "      <th>16</th>\n",
       "      <td>HUN</td>\n",
       "      <td>0.279557</td>\n",
       "      <td>0.082434</td>\n",
       "      <td>0.180995</td>\n",
       "    </tr>\n",
       "    <tr>\n",
       "      <th>15</th>\n",
       "      <td>GRC</td>\n",
       "      <td>0.273936</td>\n",
       "      <td>0.080145</td>\n",
       "      <td>0.177040</td>\n",
       "    </tr>\n",
       "    <tr>\n",
       "      <th>23</th>\n",
       "      <td>LVA</td>\n",
       "      <td>0.249827</td>\n",
       "      <td>0.000000</td>\n",
       "      <td>0.124913</td>\n",
       "    </tr>\n",
       "    <tr>\n",
       "      <th>31</th>\n",
       "      <td>RUS</td>\n",
       "      <td>0.244158</td>\n",
       "      <td>0.000000</td>\n",
       "      <td>0.122079</td>\n",
       "    </tr>\n",
       "    <tr>\n",
       "      <th>6</th>\n",
       "      <td>CRI</td>\n",
       "      <td>0.171709</td>\n",
       "      <td>0.000000</td>\n",
       "      <td>0.085855</td>\n",
       "    </tr>\n",
       "    <tr>\n",
       "      <th>24</th>\n",
       "      <td>MEX</td>\n",
       "      <td>0.165778</td>\n",
       "      <td>0.000000</td>\n",
       "      <td>0.082889</td>\n",
       "    </tr>\n",
       "    <tr>\n",
       "      <th>5</th>\n",
       "      <td>CHL</td>\n",
       "      <td>0.000000</td>\n",
       "      <td>0.065600</td>\n",
       "      <td>0.032800</td>\n",
       "    </tr>\n",
       "    <tr>\n",
       "      <th>36</th>\n",
       "      <td>ZAF</td>\n",
       "      <td>0.000000</td>\n",
       "      <td>0.000000</td>\n",
       "      <td>0.000000</td>\n",
       "    </tr>\n",
       "  </tbody>\n",
       "</table>\n",
       "</div>"
      ],
      "text/plain": [
       "   LOCATION   IW_HADI   IW_HNFW     INDEX\n",
       "22      LUX  0.847545  1.000000  0.923772\n",
       "35      USA  1.000000  0.702220  0.851110\n",
       "27      NZL  0.710039  0.504593  0.607316\n",
       "0       AUS  0.671985  0.521539  0.596762\n",
       "14      GBR  0.567127  0.516496  0.541812\n",
       "3       CAN  0.599943  0.462916  0.531429\n",
       "2       BEL  0.611017  0.427375  0.519196\n",
       "8       DEU  0.708771  0.261130  0.484950\n",
       "26      NOR  0.712909  0.219410  0.466159\n",
       "1       AUT  0.661652  0.267302  0.464477\n",
       "13      FRA  0.598842  0.254542  0.426692\n",
       "17      IRL  0.481954  0.337731  0.409842\n",
       "25      NLD  0.613409  0.196485  0.404947\n",
       "28     OECD  0.505920  0.283919  0.394920\n",
       "10      ESP  0.426152  0.333314  0.379733\n",
       "12      FIN  0.577220  0.174944  0.376082\n",
       "18      ITA  0.480590  0.250343  0.365467\n",
       "4       CHE  0.726136  0.000000  0.363068\n",
       "19      JPN  0.467220  0.250012  0.358616\n",
       "20      KOR  0.364802  0.328448  0.346625\n",
       "9       DNK  0.584467  0.081932  0.333200\n",
       "34      SWE  0.583415  0.000000  0.291708\n",
       "30      PRT  0.371666  0.204263  0.287965\n",
       "33      SVN  0.380588  0.178719  0.279653\n",
       "21      LTU  0.421871  0.119262  0.270566\n",
       "29      POL  0.342917  0.178644  0.260780\n",
       "11      EST  0.345524  0.126905  0.236215\n",
       "7       CZE  0.414408  0.000000  0.207204\n",
       "32      SVK  0.282499  0.106948  0.194723\n",
       "16      HUN  0.279557  0.082434  0.180995\n",
       "15      GRC  0.273936  0.080145  0.177040\n",
       "23      LVA  0.249827  0.000000  0.124913\n",
       "31      RUS  0.244158  0.000000  0.122079\n",
       "6       CRI  0.171709  0.000000  0.085855\n",
       "24      MEX  0.165778  0.000000  0.082889\n",
       "5       CHL  0.000000  0.065600  0.032800\n",
       "36      ZAF  0.000000  0.000000  0.000000"
      ]
     },
     "execution_count": 4,
     "metadata": {},
     "output_type": "execute_result"
    }
   ],
   "source": [
    "#INCOME\n",
    "\n",
    "#Not all countries appear since the df are incomplete, you can prove this statement with the following code: \n",
    "# print(\"df24:\", df24['LOCATION'].nunique()) \n",
    "# print(\"df25:\", df25['LOCATION'].nunique()) \n",
    "# This will show that df24 has 36 and df25 has 30 countries\n",
    "\n",
    "\n",
    "df24_grouped = df24.groupby('LOCATION', as_index=False)['OBS_VALUE'].mean().rename(columns={'OBS_VALUE': 'IW_HADI'})\n",
    "df25_grouped = df25.groupby('LOCATION', as_index=False)['OBS_VALUE'].mean().rename(columns={'OBS_VALUE': 'IW_HNFW'})\n",
    "\n",
    "\n",
    "df_INCOME = [df24_grouped, df25_grouped]\n",
    "IW_MERGE = reduce(lambda left, right: pd.merge(left, right, on='LOCATION', how='outer'), df_INCOME)\n",
    "\n",
    "IW_MERGE.fillna(0, inplace=True)\n",
    "\n",
    "IW_MERGE = IW_MERGE.sort_values(by='LOCATION')\n",
    "\n",
    "IW_MERGE['INDEX'] = IW_MERGE[['IW_HADI', 'IW_HNFW']].mean(axis=1)\n",
    "\n",
    "\n",
    "IW_MERGE = IW_MERGE.sort_values(by='INDEX', ascending = False)\n",
    "\n",
    "IW_MERGE\n"
   ]
  },
  {
   "cell_type": "code",
   "execution_count": 5,
   "id": "86abb6f2",
   "metadata": {},
   "outputs": [
    {
     "data": {
      "text/html": [
       "<div>\n",
       "<style scoped>\n",
       "    .dataframe tbody tr th:only-of-type {\n",
       "        vertical-align: middle;\n",
       "    }\n",
       "\n",
       "    .dataframe tbody tr th {\n",
       "        vertical-align: top;\n",
       "    }\n",
       "\n",
       "    .dataframe thead th {\n",
       "        text-align: right;\n",
       "    }\n",
       "</style>\n",
       "<table border=\"1\" class=\"dataframe\">\n",
       "  <thead>\n",
       "    <tr style=\"text-align: right;\">\n",
       "      <th></th>\n",
       "      <th>LOCATION</th>\n",
       "      <th>SC_SNTWS</th>\n",
       "      <th>INDEX</th>\n",
       "    </tr>\n",
       "  </thead>\n",
       "  <tbody>\n",
       "    <tr>\n",
       "      <th>20</th>\n",
       "      <td>ISL</td>\n",
       "      <td>0.942308</td>\n",
       "      <td>0.942308</td>\n",
       "    </tr>\n",
       "    <tr>\n",
       "      <th>14</th>\n",
       "      <td>FIN</td>\n",
       "      <td>0.884615</td>\n",
       "      <td>0.884615</td>\n",
       "    </tr>\n",
       "    <tr>\n",
       "      <th>9</th>\n",
       "      <td>CZE</td>\n",
       "      <td>0.869231</td>\n",
       "      <td>0.869231</td>\n",
       "    </tr>\n",
       "    <tr>\n",
       "      <th>19</th>\n",
       "      <td>IRL</td>\n",
       "      <td>0.853846</td>\n",
       "      <td>0.853846</td>\n",
       "    </tr>\n",
       "    <tr>\n",
       "      <th>30</th>\n",
       "      <td>NOR</td>\n",
       "      <td>0.846154</td>\n",
       "      <td>0.846154</td>\n",
       "    </tr>\n",
       "    <tr>\n",
       "      <th>21</th>\n",
       "      <td>ISR</td>\n",
       "      <td>0.823077</td>\n",
       "      <td>0.823077</td>\n",
       "    </tr>\n",
       "    <tr>\n",
       "      <th>36</th>\n",
       "      <td>SVK</td>\n",
       "      <td>0.815385</td>\n",
       "      <td>0.815385</td>\n",
       "    </tr>\n",
       "    <tr>\n",
       "      <th>37</th>\n",
       "      <td>SVN</td>\n",
       "      <td>0.807692</td>\n",
       "      <td>0.807692</td>\n",
       "    </tr>\n",
       "    <tr>\n",
       "      <th>11</th>\n",
       "      <td>DNK</td>\n",
       "      <td>0.807692</td>\n",
       "      <td>0.807692</td>\n",
       "    </tr>\n",
       "    <tr>\n",
       "      <th>31</th>\n",
       "      <td>NZL</td>\n",
       "      <td>0.800000</td>\n",
       "      <td>0.800000</td>\n",
       "    </tr>\n",
       "    <tr>\n",
       "      <th>13</th>\n",
       "      <td>EST</td>\n",
       "      <td>0.800000</td>\n",
       "      <td>0.800000</td>\n",
       "    </tr>\n",
       "    <tr>\n",
       "      <th>15</th>\n",
       "      <td>FRA</td>\n",
       "      <td>0.800000</td>\n",
       "      <td>0.800000</td>\n",
       "    </tr>\n",
       "    <tr>\n",
       "      <th>18</th>\n",
       "      <td>HUN</td>\n",
       "      <td>0.792308</td>\n",
       "      <td>0.792308</td>\n",
       "    </tr>\n",
       "    <tr>\n",
       "      <th>33</th>\n",
       "      <td>POL</td>\n",
       "      <td>0.792308</td>\n",
       "      <td>0.792308</td>\n",
       "    </tr>\n",
       "    <tr>\n",
       "      <th>29</th>\n",
       "      <td>NLD</td>\n",
       "      <td>0.784615</td>\n",
       "      <td>0.784615</td>\n",
       "    </tr>\n",
       "    <tr>\n",
       "      <th>5</th>\n",
       "      <td>CHE</td>\n",
       "      <td>0.776923</td>\n",
       "      <td>0.776923</td>\n",
       "    </tr>\n",
       "    <tr>\n",
       "      <th>12</th>\n",
       "      <td>ESP</td>\n",
       "      <td>0.769231</td>\n",
       "      <td>0.769231</td>\n",
       "    </tr>\n",
       "    <tr>\n",
       "      <th>38</th>\n",
       "      <td>SWE</td>\n",
       "      <td>0.769231</td>\n",
       "      <td>0.769231</td>\n",
       "    </tr>\n",
       "    <tr>\n",
       "      <th>40</th>\n",
       "      <td>USA</td>\n",
       "      <td>0.769231</td>\n",
       "      <td>0.769231</td>\n",
       "    </tr>\n",
       "    <tr>\n",
       "      <th>0</th>\n",
       "      <td>AUS</td>\n",
       "      <td>0.761538</td>\n",
       "      <td>0.761538</td>\n",
       "    </tr>\n",
       "    <tr>\n",
       "      <th>4</th>\n",
       "      <td>CAN</td>\n",
       "      <td>0.738462</td>\n",
       "      <td>0.738462</td>\n",
       "    </tr>\n",
       "    <tr>\n",
       "      <th>1</th>\n",
       "      <td>AUT</td>\n",
       "      <td>0.730769</td>\n",
       "      <td>0.730769</td>\n",
       "    </tr>\n",
       "    <tr>\n",
       "      <th>16</th>\n",
       "      <td>GBR</td>\n",
       "      <td>0.723077</td>\n",
       "      <td>0.723077</td>\n",
       "    </tr>\n",
       "    <tr>\n",
       "      <th>27</th>\n",
       "      <td>LVA</td>\n",
       "      <td>0.715385</td>\n",
       "      <td>0.715385</td>\n",
       "    </tr>\n",
       "    <tr>\n",
       "      <th>32</th>\n",
       "      <td>OECD</td>\n",
       "      <td>0.676923</td>\n",
       "      <td>0.676923</td>\n",
       "    </tr>\n",
       "    <tr>\n",
       "      <th>26</th>\n",
       "      <td>LUX</td>\n",
       "      <td>0.661538</td>\n",
       "      <td>0.661538</td>\n",
       "    </tr>\n",
       "    <tr>\n",
       "      <th>2</th>\n",
       "      <td>BEL</td>\n",
       "      <td>0.623077</td>\n",
       "      <td>0.623077</td>\n",
       "    </tr>\n",
       "    <tr>\n",
       "      <th>41</th>\n",
       "      <td>ZAF</td>\n",
       "      <td>0.623077</td>\n",
       "      <td>0.623077</td>\n",
       "    </tr>\n",
       "    <tr>\n",
       "      <th>10</th>\n",
       "      <td>DEU</td>\n",
       "      <td>0.623077</td>\n",
       "      <td>0.623077</td>\n",
       "    </tr>\n",
       "    <tr>\n",
       "      <th>25</th>\n",
       "      <td>LTU</td>\n",
       "      <td>0.615385</td>\n",
       "      <td>0.615385</td>\n",
       "    </tr>\n",
       "    <tr>\n",
       "      <th>34</th>\n",
       "      <td>PRT</td>\n",
       "      <td>0.600000</td>\n",
       "      <td>0.600000</td>\n",
       "    </tr>\n",
       "    <tr>\n",
       "      <th>35</th>\n",
       "      <td>RUS</td>\n",
       "      <td>0.600000</td>\n",
       "      <td>0.600000</td>\n",
       "    </tr>\n",
       "    <tr>\n",
       "      <th>22</th>\n",
       "      <td>ITA</td>\n",
       "      <td>0.600000</td>\n",
       "      <td>0.600000</td>\n",
       "    </tr>\n",
       "    <tr>\n",
       "      <th>6</th>\n",
       "      <td>CHL</td>\n",
       "      <td>0.584615</td>\n",
       "      <td>0.584615</td>\n",
       "    </tr>\n",
       "    <tr>\n",
       "      <th>23</th>\n",
       "      <td>JPN</td>\n",
       "      <td>0.584615</td>\n",
       "      <td>0.584615</td>\n",
       "    </tr>\n",
       "    <tr>\n",
       "      <th>39</th>\n",
       "      <td>TUR</td>\n",
       "      <td>0.476923</td>\n",
       "      <td>0.476923</td>\n",
       "    </tr>\n",
       "    <tr>\n",
       "      <th>3</th>\n",
       "      <td>BRA</td>\n",
       "      <td>0.423077</td>\n",
       "      <td>0.423077</td>\n",
       "    </tr>\n",
       "    <tr>\n",
       "      <th>8</th>\n",
       "      <td>CRI</td>\n",
       "      <td>0.400000</td>\n",
       "      <td>0.400000</td>\n",
       "    </tr>\n",
       "    <tr>\n",
       "      <th>7</th>\n",
       "      <td>COL</td>\n",
       "      <td>0.315385</td>\n",
       "      <td>0.315385</td>\n",
       "    </tr>\n",
       "    <tr>\n",
       "      <th>24</th>\n",
       "      <td>KOR</td>\n",
       "      <td>0.261538</td>\n",
       "      <td>0.261538</td>\n",
       "    </tr>\n",
       "    <tr>\n",
       "      <th>17</th>\n",
       "      <td>GRC</td>\n",
       "      <td>0.207692</td>\n",
       "      <td>0.207692</td>\n",
       "    </tr>\n",
       "    <tr>\n",
       "      <th>28</th>\n",
       "      <td>MEX</td>\n",
       "      <td>0.207692</td>\n",
       "      <td>0.207692</td>\n",
       "    </tr>\n",
       "  </tbody>\n",
       "</table>\n",
       "</div>"
      ],
      "text/plain": [
       "   LOCATION  SC_SNTWS     INDEX\n",
       "20      ISL  0.942308  0.942308\n",
       "14      FIN  0.884615  0.884615\n",
       "9       CZE  0.869231  0.869231\n",
       "19      IRL  0.853846  0.853846\n",
       "30      NOR  0.846154  0.846154\n",
       "21      ISR  0.823077  0.823077\n",
       "36      SVK  0.815385  0.815385\n",
       "37      SVN  0.807692  0.807692\n",
       "11      DNK  0.807692  0.807692\n",
       "31      NZL  0.800000  0.800000\n",
       "13      EST  0.800000  0.800000\n",
       "15      FRA  0.800000  0.800000\n",
       "18      HUN  0.792308  0.792308\n",
       "33      POL  0.792308  0.792308\n",
       "29      NLD  0.784615  0.784615\n",
       "5       CHE  0.776923  0.776923\n",
       "12      ESP  0.769231  0.769231\n",
       "38      SWE  0.769231  0.769231\n",
       "40      USA  0.769231  0.769231\n",
       "0       AUS  0.761538  0.761538\n",
       "4       CAN  0.738462  0.738462\n",
       "1       AUT  0.730769  0.730769\n",
       "16      GBR  0.723077  0.723077\n",
       "27      LVA  0.715385  0.715385\n",
       "32     OECD  0.676923  0.676923\n",
       "26      LUX  0.661538  0.661538\n",
       "2       BEL  0.623077  0.623077\n",
       "41      ZAF  0.623077  0.623077\n",
       "10      DEU  0.623077  0.623077\n",
       "25      LTU  0.615385  0.615385\n",
       "34      PRT  0.600000  0.600000\n",
       "35      RUS  0.600000  0.600000\n",
       "22      ITA  0.600000  0.600000\n",
       "6       CHL  0.584615  0.584615\n",
       "23      JPN  0.584615  0.584615\n",
       "39      TUR  0.476923  0.476923\n",
       "3       BRA  0.423077  0.423077\n",
       "8       CRI  0.400000  0.400000\n",
       "7       COL  0.315385  0.315385\n",
       "24      KOR  0.261538  0.261538\n",
       "17      GRC  0.207692  0.207692\n",
       "28      MEX  0.207692  0.207692"
      ]
     },
     "execution_count": 5,
     "metadata": {},
     "output_type": "execute_result"
    }
   ],
   "source": [
    "SC_MERGE = df11.groupby('LOCATION', as_index=False)['OBS_VALUE'].mean().rename(columns={'OBS_VALUE': 'SC_SNTWS'})\n",
    "\n",
    "SC_MERGE = SC_MERGE.sort_values(by='LOCATION')\n",
    "\n",
    "SC_MERGE['INDEX'] = SC_MERGE['SC_SNTWS']\n",
    "\n",
    "SC_MERGE = SC_MERGE.sort_values(by='INDEX', ascending = False)\n",
    "\n",
    "SC_MERGE\n"
   ]
  },
  {
   "cell_type": "code",
   "execution_count": 6,
   "id": "f45723c6",
   "metadata": {},
   "outputs": [
    {
     "data": {
      "application/vnd.plotly.v1+json": {
       "config": {
        "plotlyServerURL": "https://plot.ly"
       },
       "data": [
        {
         "mode": "lines+markers",
         "name": "IW_MERGE",
         "type": "scatter",
         "x": [
          "AUS",
          "AUT",
          "BEL",
          "CAN",
          "CHE",
          "CHL",
          "CRI",
          "CZE",
          "DEU",
          "DNK",
          "ESP",
          "EST",
          "FIN",
          "FRA",
          "GBR",
          "GRC",
          "HUN",
          "IRL",
          "ITA",
          "JPN",
          "KOR",
          "LTU",
          "LUX",
          "LVA",
          "MEX",
          "NLD",
          "NOR",
          "NZL",
          "OECD",
          "POL",
          "PRT",
          "RUS",
          "SVK",
          "SVN",
          "SWE",
          "USA",
          "ZAF"
         ],
         "y": {
          "bdata": "Cp9dsqsY4z+qJIj6/LndP4MHlvRAneA/oSX4zncB4T8EV22PgDzXP79FdyIuy6A/KWnKL5P6tT9iQN26qoXKP/xKUotsCd8/DTG8+CVT1T9WouIvjE3YPwCFj5tHPM4/9NEjL7oR2D8Zv7mE7E7bP1BnGSOFVuE/qRDUsEKpxj8xSeMk2yrHP4NMXxPbOto/3A5Ug85j1z8ujeF2kfPWP2DTQH0aL9Y/vQDBDfZQ0T9RfGEfi4/tP6kC7llR+r8/gxMuKzQ4tT8evwmOpurZP1AkqIaN1d0/2uMmGiFv4z/AUVPqXEbZP6pHHh6fsNA/vGPyEQRu0j9bYvFikUC/PwZTgpWx7Mg/nu9yvtfl0T8dnTUMVqvSP4TiHptKPOs/AAAAAAAAAAA=",
          "dtype": "f8"
         }
        },
        {
         "mode": "lines+markers",
         "name": "JE_Merge",
         "type": "scatter",
         "x": [
          "AUS",
          "AUT",
          "BEL",
          "CAN",
          "CHE",
          "CHL",
          "CRI",
          "CZE",
          "DEU",
          "DNK",
          "ESP",
          "EST",
          "FIN",
          "FRA",
          "GBR",
          "GRC",
          "HUN",
          "IRL",
          "ITA",
          "JPN",
          "KOR",
          "LTU",
          "LUX",
          "LVA",
          "MEX",
          "NLD",
          "NOR",
          "NZL",
          "OECD",
          "POL",
          "PRT",
          "RUS",
          "SVK",
          "SVN",
          "SWE",
          "USA",
          "ZAF"
         ],
         "y": {
          "bdata": "au3/Gc4G6z+Sgz2Zl8LqPxgiynBucek/aqFB+IWJ6j/Crmdm7xDmPwirmdnSOdY/gHvUDl8N1j9fd2GSXtrnPz4PZNhd8es/cGOtA0Qo6z/YxPMHJVbgP7F9UyjBjOY/XF2vd13c6T9AdAWTh6nnP86RKz0tIuo/N7gssL6L0j+KY6bSG7rlP8b/gZqykOk/N5u4dt6X4j/9bldl+2npP1e5AaaReOg/rFAVQjoj3z+mF4smktHrP7Zttab1VOU/ba9Euh4/4z/KNtUdLZXsP9D9PjWUk+s/SM6SM+fG6T9iQ9Co1D3oP2d+H9wuZOY/CRsHiw4I5D8YIKxsdQHbP2vf/bkZhuI/QG8mMjA75z9OBpdsm6bpPxbqWiW2EOw/TNLrLgt6sj8=",
          "dtype": "f8"
         }
        }
       ],
       "layout": {
        "template": {
         "data": {
          "bar": [
           {
            "error_x": {
             "color": "#2a3f5f"
            },
            "error_y": {
             "color": "#2a3f5f"
            },
            "marker": {
             "line": {
              "color": "#E5ECF6",
              "width": 0.5
             },
             "pattern": {
              "fillmode": "overlay",
              "size": 10,
              "solidity": 0.2
             }
            },
            "type": "bar"
           }
          ],
          "barpolar": [
           {
            "marker": {
             "line": {
              "color": "#E5ECF6",
              "width": 0.5
             },
             "pattern": {
              "fillmode": "overlay",
              "size": 10,
              "solidity": 0.2
             }
            },
            "type": "barpolar"
           }
          ],
          "carpet": [
           {
            "aaxis": {
             "endlinecolor": "#2a3f5f",
             "gridcolor": "white",
             "linecolor": "white",
             "minorgridcolor": "white",
             "startlinecolor": "#2a3f5f"
            },
            "baxis": {
             "endlinecolor": "#2a3f5f",
             "gridcolor": "white",
             "linecolor": "white",
             "minorgridcolor": "white",
             "startlinecolor": "#2a3f5f"
            },
            "type": "carpet"
           }
          ],
          "choropleth": [
           {
            "colorbar": {
             "outlinewidth": 0,
             "ticks": ""
            },
            "type": "choropleth"
           }
          ],
          "contour": [
           {
            "colorbar": {
             "outlinewidth": 0,
             "ticks": ""
            },
            "colorscale": [
             [
              0,
              "#0d0887"
             ],
             [
              0.1111111111111111,
              "#46039f"
             ],
             [
              0.2222222222222222,
              "#7201a8"
             ],
             [
              0.3333333333333333,
              "#9c179e"
             ],
             [
              0.4444444444444444,
              "#bd3786"
             ],
             [
              0.5555555555555556,
              "#d8576b"
             ],
             [
              0.6666666666666666,
              "#ed7953"
             ],
             [
              0.7777777777777778,
              "#fb9f3a"
             ],
             [
              0.8888888888888888,
              "#fdca26"
             ],
             [
              1,
              "#f0f921"
             ]
            ],
            "type": "contour"
           }
          ],
          "contourcarpet": [
           {
            "colorbar": {
             "outlinewidth": 0,
             "ticks": ""
            },
            "type": "contourcarpet"
           }
          ],
          "heatmap": [
           {
            "colorbar": {
             "outlinewidth": 0,
             "ticks": ""
            },
            "colorscale": [
             [
              0,
              "#0d0887"
             ],
             [
              0.1111111111111111,
              "#46039f"
             ],
             [
              0.2222222222222222,
              "#7201a8"
             ],
             [
              0.3333333333333333,
              "#9c179e"
             ],
             [
              0.4444444444444444,
              "#bd3786"
             ],
             [
              0.5555555555555556,
              "#d8576b"
             ],
             [
              0.6666666666666666,
              "#ed7953"
             ],
             [
              0.7777777777777778,
              "#fb9f3a"
             ],
             [
              0.8888888888888888,
              "#fdca26"
             ],
             [
              1,
              "#f0f921"
             ]
            ],
            "type": "heatmap"
           }
          ],
          "histogram": [
           {
            "marker": {
             "pattern": {
              "fillmode": "overlay",
              "size": 10,
              "solidity": 0.2
             }
            },
            "type": "histogram"
           }
          ],
          "histogram2d": [
           {
            "colorbar": {
             "outlinewidth": 0,
             "ticks": ""
            },
            "colorscale": [
             [
              0,
              "#0d0887"
             ],
             [
              0.1111111111111111,
              "#46039f"
             ],
             [
              0.2222222222222222,
              "#7201a8"
             ],
             [
              0.3333333333333333,
              "#9c179e"
             ],
             [
              0.4444444444444444,
              "#bd3786"
             ],
             [
              0.5555555555555556,
              "#d8576b"
             ],
             [
              0.6666666666666666,
              "#ed7953"
             ],
             [
              0.7777777777777778,
              "#fb9f3a"
             ],
             [
              0.8888888888888888,
              "#fdca26"
             ],
             [
              1,
              "#f0f921"
             ]
            ],
            "type": "histogram2d"
           }
          ],
          "histogram2dcontour": [
           {
            "colorbar": {
             "outlinewidth": 0,
             "ticks": ""
            },
            "colorscale": [
             [
              0,
              "#0d0887"
             ],
             [
              0.1111111111111111,
              "#46039f"
             ],
             [
              0.2222222222222222,
              "#7201a8"
             ],
             [
              0.3333333333333333,
              "#9c179e"
             ],
             [
              0.4444444444444444,
              "#bd3786"
             ],
             [
              0.5555555555555556,
              "#d8576b"
             ],
             [
              0.6666666666666666,
              "#ed7953"
             ],
             [
              0.7777777777777778,
              "#fb9f3a"
             ],
             [
              0.8888888888888888,
              "#fdca26"
             ],
             [
              1,
              "#f0f921"
             ]
            ],
            "type": "histogram2dcontour"
           }
          ],
          "mesh3d": [
           {
            "colorbar": {
             "outlinewidth": 0,
             "ticks": ""
            },
            "type": "mesh3d"
           }
          ],
          "parcoords": [
           {
            "line": {
             "colorbar": {
              "outlinewidth": 0,
              "ticks": ""
             }
            },
            "type": "parcoords"
           }
          ],
          "pie": [
           {
            "automargin": true,
            "type": "pie"
           }
          ],
          "scatter": [
           {
            "fillpattern": {
             "fillmode": "overlay",
             "size": 10,
             "solidity": 0.2
            },
            "type": "scatter"
           }
          ],
          "scatter3d": [
           {
            "line": {
             "colorbar": {
              "outlinewidth": 0,
              "ticks": ""
             }
            },
            "marker": {
             "colorbar": {
              "outlinewidth": 0,
              "ticks": ""
             }
            },
            "type": "scatter3d"
           }
          ],
          "scattercarpet": [
           {
            "marker": {
             "colorbar": {
              "outlinewidth": 0,
              "ticks": ""
             }
            },
            "type": "scattercarpet"
           }
          ],
          "scattergeo": [
           {
            "marker": {
             "colorbar": {
              "outlinewidth": 0,
              "ticks": ""
             }
            },
            "type": "scattergeo"
           }
          ],
          "scattergl": [
           {
            "marker": {
             "colorbar": {
              "outlinewidth": 0,
              "ticks": ""
             }
            },
            "type": "scattergl"
           }
          ],
          "scattermap": [
           {
            "marker": {
             "colorbar": {
              "outlinewidth": 0,
              "ticks": ""
             }
            },
            "type": "scattermap"
           }
          ],
          "scattermapbox": [
           {
            "marker": {
             "colorbar": {
              "outlinewidth": 0,
              "ticks": ""
             }
            },
            "type": "scattermapbox"
           }
          ],
          "scatterpolar": [
           {
            "marker": {
             "colorbar": {
              "outlinewidth": 0,
              "ticks": ""
             }
            },
            "type": "scatterpolar"
           }
          ],
          "scatterpolargl": [
           {
            "marker": {
             "colorbar": {
              "outlinewidth": 0,
              "ticks": ""
             }
            },
            "type": "scatterpolargl"
           }
          ],
          "scatterternary": [
           {
            "marker": {
             "colorbar": {
              "outlinewidth": 0,
              "ticks": ""
             }
            },
            "type": "scatterternary"
           }
          ],
          "surface": [
           {
            "colorbar": {
             "outlinewidth": 0,
             "ticks": ""
            },
            "colorscale": [
             [
              0,
              "#0d0887"
             ],
             [
              0.1111111111111111,
              "#46039f"
             ],
             [
              0.2222222222222222,
              "#7201a8"
             ],
             [
              0.3333333333333333,
              "#9c179e"
             ],
             [
              0.4444444444444444,
              "#bd3786"
             ],
             [
              0.5555555555555556,
              "#d8576b"
             ],
             [
              0.6666666666666666,
              "#ed7953"
             ],
             [
              0.7777777777777778,
              "#fb9f3a"
             ],
             [
              0.8888888888888888,
              "#fdca26"
             ],
             [
              1,
              "#f0f921"
             ]
            ],
            "type": "surface"
           }
          ],
          "table": [
           {
            "cells": {
             "fill": {
              "color": "#EBF0F8"
             },
             "line": {
              "color": "white"
             }
            },
            "header": {
             "fill": {
              "color": "#C8D4E3"
             },
             "line": {
              "color": "white"
             }
            },
            "type": "table"
           }
          ]
         },
         "layout": {
          "annotationdefaults": {
           "arrowcolor": "#2a3f5f",
           "arrowhead": 0,
           "arrowwidth": 1
          },
          "autotypenumbers": "strict",
          "coloraxis": {
           "colorbar": {
            "outlinewidth": 0,
            "ticks": ""
           }
          },
          "colorscale": {
           "diverging": [
            [
             0,
             "#8e0152"
            ],
            [
             0.1,
             "#c51b7d"
            ],
            [
             0.2,
             "#de77ae"
            ],
            [
             0.3,
             "#f1b6da"
            ],
            [
             0.4,
             "#fde0ef"
            ],
            [
             0.5,
             "#f7f7f7"
            ],
            [
             0.6,
             "#e6f5d0"
            ],
            [
             0.7,
             "#b8e186"
            ],
            [
             0.8,
             "#7fbc41"
            ],
            [
             0.9,
             "#4d9221"
            ],
            [
             1,
             "#276419"
            ]
           ],
           "sequential": [
            [
             0,
             "#0d0887"
            ],
            [
             0.1111111111111111,
             "#46039f"
            ],
            [
             0.2222222222222222,
             "#7201a8"
            ],
            [
             0.3333333333333333,
             "#9c179e"
            ],
            [
             0.4444444444444444,
             "#bd3786"
            ],
            [
             0.5555555555555556,
             "#d8576b"
            ],
            [
             0.6666666666666666,
             "#ed7953"
            ],
            [
             0.7777777777777778,
             "#fb9f3a"
            ],
            [
             0.8888888888888888,
             "#fdca26"
            ],
            [
             1,
             "#f0f921"
            ]
           ],
           "sequentialminus": [
            [
             0,
             "#0d0887"
            ],
            [
             0.1111111111111111,
             "#46039f"
            ],
            [
             0.2222222222222222,
             "#7201a8"
            ],
            [
             0.3333333333333333,
             "#9c179e"
            ],
            [
             0.4444444444444444,
             "#bd3786"
            ],
            [
             0.5555555555555556,
             "#d8576b"
            ],
            [
             0.6666666666666666,
             "#ed7953"
            ],
            [
             0.7777777777777778,
             "#fb9f3a"
            ],
            [
             0.8888888888888888,
             "#fdca26"
            ],
            [
             1,
             "#f0f921"
            ]
           ]
          },
          "colorway": [
           "#636efa",
           "#EF553B",
           "#00cc96",
           "#ab63fa",
           "#FFA15A",
           "#19d3f3",
           "#FF6692",
           "#B6E880",
           "#FF97FF",
           "#FECB52"
          ],
          "font": {
           "color": "#2a3f5f"
          },
          "geo": {
           "bgcolor": "white",
           "lakecolor": "white",
           "landcolor": "#E5ECF6",
           "showlakes": true,
           "showland": true,
           "subunitcolor": "white"
          },
          "hoverlabel": {
           "align": "left"
          },
          "hovermode": "closest",
          "mapbox": {
           "style": "light"
          },
          "paper_bgcolor": "white",
          "plot_bgcolor": "#E5ECF6",
          "polar": {
           "angularaxis": {
            "gridcolor": "white",
            "linecolor": "white",
            "ticks": ""
           },
           "bgcolor": "#E5ECF6",
           "radialaxis": {
            "gridcolor": "white",
            "linecolor": "white",
            "ticks": ""
           }
          },
          "scene": {
           "xaxis": {
            "backgroundcolor": "#E5ECF6",
            "gridcolor": "white",
            "gridwidth": 2,
            "linecolor": "white",
            "showbackground": true,
            "ticks": "",
            "zerolinecolor": "white"
           },
           "yaxis": {
            "backgroundcolor": "#E5ECF6",
            "gridcolor": "white",
            "gridwidth": 2,
            "linecolor": "white",
            "showbackground": true,
            "ticks": "",
            "zerolinecolor": "white"
           },
           "zaxis": {
            "backgroundcolor": "#E5ECF6",
            "gridcolor": "white",
            "gridwidth": 2,
            "linecolor": "white",
            "showbackground": true,
            "ticks": "",
            "zerolinecolor": "white"
           }
          },
          "shapedefaults": {
           "line": {
            "color": "#2a3f5f"
           }
          },
          "ternary": {
           "aaxis": {
            "gridcolor": "white",
            "linecolor": "white",
            "ticks": ""
           },
           "baxis": {
            "gridcolor": "white",
            "linecolor": "white",
            "ticks": ""
           },
           "bgcolor": "#E5ECF6",
           "caxis": {
            "gridcolor": "white",
            "linecolor": "white",
            "ticks": ""
           }
          },
          "title": {
           "x": 0.05
          },
          "xaxis": {
           "automargin": true,
           "gridcolor": "white",
           "linecolor": "white",
           "ticks": "",
           "title": {
            "standoff": 15
           },
           "zerolinecolor": "white",
           "zerolinewidth": 2
          },
          "yaxis": {
           "automargin": true,
           "gridcolor": "white",
           "linecolor": "white",
           "ticks": "",
           "title": {
            "standoff": 15
           },
           "zerolinecolor": "white",
           "zerolinewidth": 2
          }
         }
        },
        "title": {
         "text": "Line Chart: INDEX by LOCATION"
        },
        "xaxis": {
         "title": {
          "text": "Country Code (LOCATION)"
         }
        },
        "yaxis": {
         "title": {
          "text": "INDEX"
         }
        }
       }
      }
     },
     "metadata": {},
     "output_type": "display_data"
    },
    {
     "data": {
      "application/vnd.plotly.v1+json": {
       "config": {
        "plotlyServerURL": "https://plot.ly"
       },
       "data": [
        {
         "name": "IW_MERGE",
         "type": "bar",
         "x": [
          "AUS",
          "AUT",
          "BEL",
          "CAN",
          "CHE",
          "CHL",
          "CRI",
          "CZE",
          "DEU",
          "DNK",
          "ESP",
          "EST",
          "FIN",
          "FRA",
          "GBR",
          "GRC",
          "HUN",
          "IRL",
          "ITA",
          "JPN",
          "KOR",
          "LTU",
          "LUX",
          "LVA",
          "MEX",
          "NLD",
          "NOR",
          "NZL",
          "OECD",
          "POL",
          "PRT",
          "RUS",
          "SVK",
          "SVN",
          "SWE",
          "USA",
          "ZAF"
         ],
         "y": {
          "bdata": "Cp9dsqsY4z+qJIj6/LndP4MHlvRAneA/oSX4zncB4T8EV22PgDzXP79FdyIuy6A/KWnKL5P6tT9iQN26qoXKP/xKUotsCd8/DTG8+CVT1T9WouIvjE3YPwCFj5tHPM4/9NEjL7oR2D8Zv7mE7E7bP1BnGSOFVuE/qRDUsEKpxj8xSeMk2yrHP4NMXxPbOto/3A5Ug85j1z8ujeF2kfPWP2DTQH0aL9Y/vQDBDfZQ0T9RfGEfi4/tP6kC7llR+r8/gxMuKzQ4tT8evwmOpurZP1AkqIaN1d0/2uMmGiFv4z/AUVPqXEbZP6pHHh6fsNA/vGPyEQRu0j9bYvFikUC/PwZTgpWx7Mg/nu9yvtfl0T8dnTUMVqvSP4TiHptKPOs/AAAAAAAAAAA=",
          "dtype": "f8"
         }
        },
        {
         "name": "JE_Merge",
         "type": "bar",
         "x": [
          "AUS",
          "AUT",
          "BEL",
          "CAN",
          "CHE",
          "CHL",
          "CRI",
          "CZE",
          "DEU",
          "DNK",
          "ESP",
          "EST",
          "FIN",
          "FRA",
          "GBR",
          "GRC",
          "HUN",
          "IRL",
          "ITA",
          "JPN",
          "KOR",
          "LTU",
          "LUX",
          "LVA",
          "MEX",
          "NLD",
          "NOR",
          "NZL",
          "OECD",
          "POL",
          "PRT",
          "RUS",
          "SVK",
          "SVN",
          "SWE",
          "USA",
          "ZAF"
         ],
         "y": {
          "bdata": "au3/Gc4G6z+Sgz2Zl8LqPxgiynBucek/aqFB+IWJ6j/Crmdm7xDmPwirmdnSOdY/gHvUDl8N1j9fd2GSXtrnPz4PZNhd8es/cGOtA0Qo6z/YxPMHJVbgP7F9UyjBjOY/XF2vd13c6T9AdAWTh6nnP86RKz0tIuo/N7gssL6L0j+KY6bSG7rlP8b/gZqykOk/N5u4dt6X4j/9bldl+2npP1e5AaaReOg/rFAVQjoj3z+mF4smktHrP7Zttab1VOU/ba9Euh4/4z/KNtUdLZXsP9D9PjWUk+s/SM6SM+fG6T9iQ9Co1D3oP2d+H9wuZOY/CRsHiw4I5D8YIKxsdQHbP2vf/bkZhuI/QG8mMjA75z9OBpdsm6bpPxbqWiW2EOw/TNLrLgt6sj8=",
          "dtype": "f8"
         }
        }
       ],
       "layout": {
        "barmode": "group",
        "template": {
         "data": {
          "bar": [
           {
            "error_x": {
             "color": "#2a3f5f"
            },
            "error_y": {
             "color": "#2a3f5f"
            },
            "marker": {
             "line": {
              "color": "#E5ECF6",
              "width": 0.5
             },
             "pattern": {
              "fillmode": "overlay",
              "size": 10,
              "solidity": 0.2
             }
            },
            "type": "bar"
           }
          ],
          "barpolar": [
           {
            "marker": {
             "line": {
              "color": "#E5ECF6",
              "width": 0.5
             },
             "pattern": {
              "fillmode": "overlay",
              "size": 10,
              "solidity": 0.2
             }
            },
            "type": "barpolar"
           }
          ],
          "carpet": [
           {
            "aaxis": {
             "endlinecolor": "#2a3f5f",
             "gridcolor": "white",
             "linecolor": "white",
             "minorgridcolor": "white",
             "startlinecolor": "#2a3f5f"
            },
            "baxis": {
             "endlinecolor": "#2a3f5f",
             "gridcolor": "white",
             "linecolor": "white",
             "minorgridcolor": "white",
             "startlinecolor": "#2a3f5f"
            },
            "type": "carpet"
           }
          ],
          "choropleth": [
           {
            "colorbar": {
             "outlinewidth": 0,
             "ticks": ""
            },
            "type": "choropleth"
           }
          ],
          "contour": [
           {
            "colorbar": {
             "outlinewidth": 0,
             "ticks": ""
            },
            "colorscale": [
             [
              0,
              "#0d0887"
             ],
             [
              0.1111111111111111,
              "#46039f"
             ],
             [
              0.2222222222222222,
              "#7201a8"
             ],
             [
              0.3333333333333333,
              "#9c179e"
             ],
             [
              0.4444444444444444,
              "#bd3786"
             ],
             [
              0.5555555555555556,
              "#d8576b"
             ],
             [
              0.6666666666666666,
              "#ed7953"
             ],
             [
              0.7777777777777778,
              "#fb9f3a"
             ],
             [
              0.8888888888888888,
              "#fdca26"
             ],
             [
              1,
              "#f0f921"
             ]
            ],
            "type": "contour"
           }
          ],
          "contourcarpet": [
           {
            "colorbar": {
             "outlinewidth": 0,
             "ticks": ""
            },
            "type": "contourcarpet"
           }
          ],
          "heatmap": [
           {
            "colorbar": {
             "outlinewidth": 0,
             "ticks": ""
            },
            "colorscale": [
             [
              0,
              "#0d0887"
             ],
             [
              0.1111111111111111,
              "#46039f"
             ],
             [
              0.2222222222222222,
              "#7201a8"
             ],
             [
              0.3333333333333333,
              "#9c179e"
             ],
             [
              0.4444444444444444,
              "#bd3786"
             ],
             [
              0.5555555555555556,
              "#d8576b"
             ],
             [
              0.6666666666666666,
              "#ed7953"
             ],
             [
              0.7777777777777778,
              "#fb9f3a"
             ],
             [
              0.8888888888888888,
              "#fdca26"
             ],
             [
              1,
              "#f0f921"
             ]
            ],
            "type": "heatmap"
           }
          ],
          "histogram": [
           {
            "marker": {
             "pattern": {
              "fillmode": "overlay",
              "size": 10,
              "solidity": 0.2
             }
            },
            "type": "histogram"
           }
          ],
          "histogram2d": [
           {
            "colorbar": {
             "outlinewidth": 0,
             "ticks": ""
            },
            "colorscale": [
             [
              0,
              "#0d0887"
             ],
             [
              0.1111111111111111,
              "#46039f"
             ],
             [
              0.2222222222222222,
              "#7201a8"
             ],
             [
              0.3333333333333333,
              "#9c179e"
             ],
             [
              0.4444444444444444,
              "#bd3786"
             ],
             [
              0.5555555555555556,
              "#d8576b"
             ],
             [
              0.6666666666666666,
              "#ed7953"
             ],
             [
              0.7777777777777778,
              "#fb9f3a"
             ],
             [
              0.8888888888888888,
              "#fdca26"
             ],
             [
              1,
              "#f0f921"
             ]
            ],
            "type": "histogram2d"
           }
          ],
          "histogram2dcontour": [
           {
            "colorbar": {
             "outlinewidth": 0,
             "ticks": ""
            },
            "colorscale": [
             [
              0,
              "#0d0887"
             ],
             [
              0.1111111111111111,
              "#46039f"
             ],
             [
              0.2222222222222222,
              "#7201a8"
             ],
             [
              0.3333333333333333,
              "#9c179e"
             ],
             [
              0.4444444444444444,
              "#bd3786"
             ],
             [
              0.5555555555555556,
              "#d8576b"
             ],
             [
              0.6666666666666666,
              "#ed7953"
             ],
             [
              0.7777777777777778,
              "#fb9f3a"
             ],
             [
              0.8888888888888888,
              "#fdca26"
             ],
             [
              1,
              "#f0f921"
             ]
            ],
            "type": "histogram2dcontour"
           }
          ],
          "mesh3d": [
           {
            "colorbar": {
             "outlinewidth": 0,
             "ticks": ""
            },
            "type": "mesh3d"
           }
          ],
          "parcoords": [
           {
            "line": {
             "colorbar": {
              "outlinewidth": 0,
              "ticks": ""
             }
            },
            "type": "parcoords"
           }
          ],
          "pie": [
           {
            "automargin": true,
            "type": "pie"
           }
          ],
          "scatter": [
           {
            "fillpattern": {
             "fillmode": "overlay",
             "size": 10,
             "solidity": 0.2
            },
            "type": "scatter"
           }
          ],
          "scatter3d": [
           {
            "line": {
             "colorbar": {
              "outlinewidth": 0,
              "ticks": ""
             }
            },
            "marker": {
             "colorbar": {
              "outlinewidth": 0,
              "ticks": ""
             }
            },
            "type": "scatter3d"
           }
          ],
          "scattercarpet": [
           {
            "marker": {
             "colorbar": {
              "outlinewidth": 0,
              "ticks": ""
             }
            },
            "type": "scattercarpet"
           }
          ],
          "scattergeo": [
           {
            "marker": {
             "colorbar": {
              "outlinewidth": 0,
              "ticks": ""
             }
            },
            "type": "scattergeo"
           }
          ],
          "scattergl": [
           {
            "marker": {
             "colorbar": {
              "outlinewidth": 0,
              "ticks": ""
             }
            },
            "type": "scattergl"
           }
          ],
          "scattermap": [
           {
            "marker": {
             "colorbar": {
              "outlinewidth": 0,
              "ticks": ""
             }
            },
            "type": "scattermap"
           }
          ],
          "scattermapbox": [
           {
            "marker": {
             "colorbar": {
              "outlinewidth": 0,
              "ticks": ""
             }
            },
            "type": "scattermapbox"
           }
          ],
          "scatterpolar": [
           {
            "marker": {
             "colorbar": {
              "outlinewidth": 0,
              "ticks": ""
             }
            },
            "type": "scatterpolar"
           }
          ],
          "scatterpolargl": [
           {
            "marker": {
             "colorbar": {
              "outlinewidth": 0,
              "ticks": ""
             }
            },
            "type": "scatterpolargl"
           }
          ],
          "scatterternary": [
           {
            "marker": {
             "colorbar": {
              "outlinewidth": 0,
              "ticks": ""
             }
            },
            "type": "scatterternary"
           }
          ],
          "surface": [
           {
            "colorbar": {
             "outlinewidth": 0,
             "ticks": ""
            },
            "colorscale": [
             [
              0,
              "#0d0887"
             ],
             [
              0.1111111111111111,
              "#46039f"
             ],
             [
              0.2222222222222222,
              "#7201a8"
             ],
             [
              0.3333333333333333,
              "#9c179e"
             ],
             [
              0.4444444444444444,
              "#bd3786"
             ],
             [
              0.5555555555555556,
              "#d8576b"
             ],
             [
              0.6666666666666666,
              "#ed7953"
             ],
             [
              0.7777777777777778,
              "#fb9f3a"
             ],
             [
              0.8888888888888888,
              "#fdca26"
             ],
             [
              1,
              "#f0f921"
             ]
            ],
            "type": "surface"
           }
          ],
          "table": [
           {
            "cells": {
             "fill": {
              "color": "#EBF0F8"
             },
             "line": {
              "color": "white"
             }
            },
            "header": {
             "fill": {
              "color": "#C8D4E3"
             },
             "line": {
              "color": "white"
             }
            },
            "type": "table"
           }
          ]
         },
         "layout": {
          "annotationdefaults": {
           "arrowcolor": "#2a3f5f",
           "arrowhead": 0,
           "arrowwidth": 1
          },
          "autotypenumbers": "strict",
          "coloraxis": {
           "colorbar": {
            "outlinewidth": 0,
            "ticks": ""
           }
          },
          "colorscale": {
           "diverging": [
            [
             0,
             "#8e0152"
            ],
            [
             0.1,
             "#c51b7d"
            ],
            [
             0.2,
             "#de77ae"
            ],
            [
             0.3,
             "#f1b6da"
            ],
            [
             0.4,
             "#fde0ef"
            ],
            [
             0.5,
             "#f7f7f7"
            ],
            [
             0.6,
             "#e6f5d0"
            ],
            [
             0.7,
             "#b8e186"
            ],
            [
             0.8,
             "#7fbc41"
            ],
            [
             0.9,
             "#4d9221"
            ],
            [
             1,
             "#276419"
            ]
           ],
           "sequential": [
            [
             0,
             "#0d0887"
            ],
            [
             0.1111111111111111,
             "#46039f"
            ],
            [
             0.2222222222222222,
             "#7201a8"
            ],
            [
             0.3333333333333333,
             "#9c179e"
            ],
            [
             0.4444444444444444,
             "#bd3786"
            ],
            [
             0.5555555555555556,
             "#d8576b"
            ],
            [
             0.6666666666666666,
             "#ed7953"
            ],
            [
             0.7777777777777778,
             "#fb9f3a"
            ],
            [
             0.8888888888888888,
             "#fdca26"
            ],
            [
             1,
             "#f0f921"
            ]
           ],
           "sequentialminus": [
            [
             0,
             "#0d0887"
            ],
            [
             0.1111111111111111,
             "#46039f"
            ],
            [
             0.2222222222222222,
             "#7201a8"
            ],
            [
             0.3333333333333333,
             "#9c179e"
            ],
            [
             0.4444444444444444,
             "#bd3786"
            ],
            [
             0.5555555555555556,
             "#d8576b"
            ],
            [
             0.6666666666666666,
             "#ed7953"
            ],
            [
             0.7777777777777778,
             "#fb9f3a"
            ],
            [
             0.8888888888888888,
             "#fdca26"
            ],
            [
             1,
             "#f0f921"
            ]
           ]
          },
          "colorway": [
           "#636efa",
           "#EF553B",
           "#00cc96",
           "#ab63fa",
           "#FFA15A",
           "#19d3f3",
           "#FF6692",
           "#B6E880",
           "#FF97FF",
           "#FECB52"
          ],
          "font": {
           "color": "#2a3f5f"
          },
          "geo": {
           "bgcolor": "white",
           "lakecolor": "white",
           "landcolor": "#E5ECF6",
           "showlakes": true,
           "showland": true,
           "subunitcolor": "white"
          },
          "hoverlabel": {
           "align": "left"
          },
          "hovermode": "closest",
          "mapbox": {
           "style": "light"
          },
          "paper_bgcolor": "white",
          "plot_bgcolor": "#E5ECF6",
          "polar": {
           "angularaxis": {
            "gridcolor": "white",
            "linecolor": "white",
            "ticks": ""
           },
           "bgcolor": "#E5ECF6",
           "radialaxis": {
            "gridcolor": "white",
            "linecolor": "white",
            "ticks": ""
           }
          },
          "scene": {
           "xaxis": {
            "backgroundcolor": "#E5ECF6",
            "gridcolor": "white",
            "gridwidth": 2,
            "linecolor": "white",
            "showbackground": true,
            "ticks": "",
            "zerolinecolor": "white"
           },
           "yaxis": {
            "backgroundcolor": "#E5ECF6",
            "gridcolor": "white",
            "gridwidth": 2,
            "linecolor": "white",
            "showbackground": true,
            "ticks": "",
            "zerolinecolor": "white"
           },
           "zaxis": {
            "backgroundcolor": "#E5ECF6",
            "gridcolor": "white",
            "gridwidth": 2,
            "linecolor": "white",
            "showbackground": true,
            "ticks": "",
            "zerolinecolor": "white"
           }
          },
          "shapedefaults": {
           "line": {
            "color": "#2a3f5f"
           }
          },
          "ternary": {
           "aaxis": {
            "gridcolor": "white",
            "linecolor": "white",
            "ticks": ""
           },
           "baxis": {
            "gridcolor": "white",
            "linecolor": "white",
            "ticks": ""
           },
           "bgcolor": "#E5ECF6",
           "caxis": {
            "gridcolor": "white",
            "linecolor": "white",
            "ticks": ""
           }
          },
          "title": {
           "x": 0.05
          },
          "xaxis": {
           "automargin": true,
           "gridcolor": "white",
           "linecolor": "white",
           "ticks": "",
           "title": {
            "standoff": 15
           },
           "zerolinecolor": "white",
           "zerolinewidth": 2
          },
          "yaxis": {
           "automargin": true,
           "gridcolor": "white",
           "linecolor": "white",
           "ticks": "",
           "title": {
            "standoff": 15
           },
           "zerolinecolor": "white",
           "zerolinewidth": 2
          }
         }
        },
        "title": {
         "text": "Bar Chart: INDEX by LOCATION"
        },
        "xaxis": {
         "title": {
          "text": "Country Code (LOCATION)"
         }
        },
        "yaxis": {
         "title": {
          "text": "INDEX"
         }
        }
       }
      }
     },
     "metadata": {},
     "output_type": "display_data"
    },
    {
     "data": {
      "application/vnd.plotly.v1+json": {
       "config": {
        "plotlyServerURL": "https://plot.ly"
       },
       "data": [
        {
         "mode": "markers+text",
         "name": "Country Comparison",
         "text": [
          "AUS",
          "AUT",
          "BEL",
          "CAN",
          "CHE",
          "CHL",
          "CRI",
          "CZE",
          "DEU",
          "DNK",
          "ESP",
          "EST",
          "FIN",
          "FRA",
          "GBR",
          "GRC",
          "HUN",
          "IRL",
          "ITA",
          "JPN",
          "KOR",
          "LTU",
          "LUX",
          "LVA",
          "MEX",
          "NLD",
          "NOR",
          "NZL",
          "OECD",
          "POL",
          "PRT",
          "RUS",
          "SVK",
          "SVN",
          "SWE",
          "USA",
          "ZAF"
         ],
         "textposition": "top center",
         "type": "scatter",
         "x": {
          "bdata": "Cp9dsqsY4z+qJIj6/LndP4MHlvRAneA/oSX4zncB4T8EV22PgDzXP79FdyIuy6A/KWnKL5P6tT9iQN26qoXKP/xKUotsCd8/DTG8+CVT1T9WouIvjE3YPwCFj5tHPM4/9NEjL7oR2D8Zv7mE7E7bP1BnGSOFVuE/qRDUsEKpxj8xSeMk2yrHP4NMXxPbOto/3A5Ug85j1z8ujeF2kfPWP2DTQH0aL9Y/vQDBDfZQ0T9RfGEfi4/tP6kC7llR+r8/gxMuKzQ4tT8evwmOpurZP1AkqIaN1d0/2uMmGiFv4z/AUVPqXEbZP6pHHh6fsNA/vGPyEQRu0j9bYvFikUC/PwZTgpWx7Mg/nu9yvtfl0T8dnTUMVqvSP4TiHptKPOs/AAAAAAAAAAA=",
          "dtype": "f8"
         },
         "y": {
          "bdata": "au3/Gc4G6z+Sgz2Zl8LqPxgiynBucek/aqFB+IWJ6j/Crmdm7xDmPwirmdnSOdY/gHvUDl8N1j9fd2GSXtrnPz4PZNhd8es/cGOtA0Qo6z/YxPMHJVbgP7F9UyjBjOY/XF2vd13c6T9AdAWTh6nnP86RKz0tIuo/N7gssL6L0j+KY6bSG7rlP8b/gZqykOk/N5u4dt6X4j/9bldl+2npP1e5AaaReOg/rFAVQjoj3z+mF4smktHrP7Zttab1VOU/ba9Euh4/4z/KNtUdLZXsP9D9PjWUk+s/SM6SM+fG6T9iQ9Co1D3oP2d+H9wuZOY/CRsHiw4I5D8YIKxsdQHbP2vf/bkZhuI/QG8mMjA75z9OBpdsm6bpPxbqWiW2EOw/TNLrLgt6sj8=",
          "dtype": "f8"
         }
        }
       ],
       "layout": {
        "template": {
         "data": {
          "bar": [
           {
            "error_x": {
             "color": "#2a3f5f"
            },
            "error_y": {
             "color": "#2a3f5f"
            },
            "marker": {
             "line": {
              "color": "#E5ECF6",
              "width": 0.5
             },
             "pattern": {
              "fillmode": "overlay",
              "size": 10,
              "solidity": 0.2
             }
            },
            "type": "bar"
           }
          ],
          "barpolar": [
           {
            "marker": {
             "line": {
              "color": "#E5ECF6",
              "width": 0.5
             },
             "pattern": {
              "fillmode": "overlay",
              "size": 10,
              "solidity": 0.2
             }
            },
            "type": "barpolar"
           }
          ],
          "carpet": [
           {
            "aaxis": {
             "endlinecolor": "#2a3f5f",
             "gridcolor": "white",
             "linecolor": "white",
             "minorgridcolor": "white",
             "startlinecolor": "#2a3f5f"
            },
            "baxis": {
             "endlinecolor": "#2a3f5f",
             "gridcolor": "white",
             "linecolor": "white",
             "minorgridcolor": "white",
             "startlinecolor": "#2a3f5f"
            },
            "type": "carpet"
           }
          ],
          "choropleth": [
           {
            "colorbar": {
             "outlinewidth": 0,
             "ticks": ""
            },
            "type": "choropleth"
           }
          ],
          "contour": [
           {
            "colorbar": {
             "outlinewidth": 0,
             "ticks": ""
            },
            "colorscale": [
             [
              0,
              "#0d0887"
             ],
             [
              0.1111111111111111,
              "#46039f"
             ],
             [
              0.2222222222222222,
              "#7201a8"
             ],
             [
              0.3333333333333333,
              "#9c179e"
             ],
             [
              0.4444444444444444,
              "#bd3786"
             ],
             [
              0.5555555555555556,
              "#d8576b"
             ],
             [
              0.6666666666666666,
              "#ed7953"
             ],
             [
              0.7777777777777778,
              "#fb9f3a"
             ],
             [
              0.8888888888888888,
              "#fdca26"
             ],
             [
              1,
              "#f0f921"
             ]
            ],
            "type": "contour"
           }
          ],
          "contourcarpet": [
           {
            "colorbar": {
             "outlinewidth": 0,
             "ticks": ""
            },
            "type": "contourcarpet"
           }
          ],
          "heatmap": [
           {
            "colorbar": {
             "outlinewidth": 0,
             "ticks": ""
            },
            "colorscale": [
             [
              0,
              "#0d0887"
             ],
             [
              0.1111111111111111,
              "#46039f"
             ],
             [
              0.2222222222222222,
              "#7201a8"
             ],
             [
              0.3333333333333333,
              "#9c179e"
             ],
             [
              0.4444444444444444,
              "#bd3786"
             ],
             [
              0.5555555555555556,
              "#d8576b"
             ],
             [
              0.6666666666666666,
              "#ed7953"
             ],
             [
              0.7777777777777778,
              "#fb9f3a"
             ],
             [
              0.8888888888888888,
              "#fdca26"
             ],
             [
              1,
              "#f0f921"
             ]
            ],
            "type": "heatmap"
           }
          ],
          "histogram": [
           {
            "marker": {
             "pattern": {
              "fillmode": "overlay",
              "size": 10,
              "solidity": 0.2
             }
            },
            "type": "histogram"
           }
          ],
          "histogram2d": [
           {
            "colorbar": {
             "outlinewidth": 0,
             "ticks": ""
            },
            "colorscale": [
             [
              0,
              "#0d0887"
             ],
             [
              0.1111111111111111,
              "#46039f"
             ],
             [
              0.2222222222222222,
              "#7201a8"
             ],
             [
              0.3333333333333333,
              "#9c179e"
             ],
             [
              0.4444444444444444,
              "#bd3786"
             ],
             [
              0.5555555555555556,
              "#d8576b"
             ],
             [
              0.6666666666666666,
              "#ed7953"
             ],
             [
              0.7777777777777778,
              "#fb9f3a"
             ],
             [
              0.8888888888888888,
              "#fdca26"
             ],
             [
              1,
              "#f0f921"
             ]
            ],
            "type": "histogram2d"
           }
          ],
          "histogram2dcontour": [
           {
            "colorbar": {
             "outlinewidth": 0,
             "ticks": ""
            },
            "colorscale": [
             [
              0,
              "#0d0887"
             ],
             [
              0.1111111111111111,
              "#46039f"
             ],
             [
              0.2222222222222222,
              "#7201a8"
             ],
             [
              0.3333333333333333,
              "#9c179e"
             ],
             [
              0.4444444444444444,
              "#bd3786"
             ],
             [
              0.5555555555555556,
              "#d8576b"
             ],
             [
              0.6666666666666666,
              "#ed7953"
             ],
             [
              0.7777777777777778,
              "#fb9f3a"
             ],
             [
              0.8888888888888888,
              "#fdca26"
             ],
             [
              1,
              "#f0f921"
             ]
            ],
            "type": "histogram2dcontour"
           }
          ],
          "mesh3d": [
           {
            "colorbar": {
             "outlinewidth": 0,
             "ticks": ""
            },
            "type": "mesh3d"
           }
          ],
          "parcoords": [
           {
            "line": {
             "colorbar": {
              "outlinewidth": 0,
              "ticks": ""
             }
            },
            "type": "parcoords"
           }
          ],
          "pie": [
           {
            "automargin": true,
            "type": "pie"
           }
          ],
          "scatter": [
           {
            "fillpattern": {
             "fillmode": "overlay",
             "size": 10,
             "solidity": 0.2
            },
            "type": "scatter"
           }
          ],
          "scatter3d": [
           {
            "line": {
             "colorbar": {
              "outlinewidth": 0,
              "ticks": ""
             }
            },
            "marker": {
             "colorbar": {
              "outlinewidth": 0,
              "ticks": ""
             }
            },
            "type": "scatter3d"
           }
          ],
          "scattercarpet": [
           {
            "marker": {
             "colorbar": {
              "outlinewidth": 0,
              "ticks": ""
             }
            },
            "type": "scattercarpet"
           }
          ],
          "scattergeo": [
           {
            "marker": {
             "colorbar": {
              "outlinewidth": 0,
              "ticks": ""
             }
            },
            "type": "scattergeo"
           }
          ],
          "scattergl": [
           {
            "marker": {
             "colorbar": {
              "outlinewidth": 0,
              "ticks": ""
             }
            },
            "type": "scattergl"
           }
          ],
          "scattermap": [
           {
            "marker": {
             "colorbar": {
              "outlinewidth": 0,
              "ticks": ""
             }
            },
            "type": "scattermap"
           }
          ],
          "scattermapbox": [
           {
            "marker": {
             "colorbar": {
              "outlinewidth": 0,
              "ticks": ""
             }
            },
            "type": "scattermapbox"
           }
          ],
          "scatterpolar": [
           {
            "marker": {
             "colorbar": {
              "outlinewidth": 0,
              "ticks": ""
             }
            },
            "type": "scatterpolar"
           }
          ],
          "scatterpolargl": [
           {
            "marker": {
             "colorbar": {
              "outlinewidth": 0,
              "ticks": ""
             }
            },
            "type": "scatterpolargl"
           }
          ],
          "scatterternary": [
           {
            "marker": {
             "colorbar": {
              "outlinewidth": 0,
              "ticks": ""
             }
            },
            "type": "scatterternary"
           }
          ],
          "surface": [
           {
            "colorbar": {
             "outlinewidth": 0,
             "ticks": ""
            },
            "colorscale": [
             [
              0,
              "#0d0887"
             ],
             [
              0.1111111111111111,
              "#46039f"
             ],
             [
              0.2222222222222222,
              "#7201a8"
             ],
             [
              0.3333333333333333,
              "#9c179e"
             ],
             [
              0.4444444444444444,
              "#bd3786"
             ],
             [
              0.5555555555555556,
              "#d8576b"
             ],
             [
              0.6666666666666666,
              "#ed7953"
             ],
             [
              0.7777777777777778,
              "#fb9f3a"
             ],
             [
              0.8888888888888888,
              "#fdca26"
             ],
             [
              1,
              "#f0f921"
             ]
            ],
            "type": "surface"
           }
          ],
          "table": [
           {
            "cells": {
             "fill": {
              "color": "#EBF0F8"
             },
             "line": {
              "color": "white"
             }
            },
            "header": {
             "fill": {
              "color": "#C8D4E3"
             },
             "line": {
              "color": "white"
             }
            },
            "type": "table"
           }
          ]
         },
         "layout": {
          "annotationdefaults": {
           "arrowcolor": "#2a3f5f",
           "arrowhead": 0,
           "arrowwidth": 1
          },
          "autotypenumbers": "strict",
          "coloraxis": {
           "colorbar": {
            "outlinewidth": 0,
            "ticks": ""
           }
          },
          "colorscale": {
           "diverging": [
            [
             0,
             "#8e0152"
            ],
            [
             0.1,
             "#c51b7d"
            ],
            [
             0.2,
             "#de77ae"
            ],
            [
             0.3,
             "#f1b6da"
            ],
            [
             0.4,
             "#fde0ef"
            ],
            [
             0.5,
             "#f7f7f7"
            ],
            [
             0.6,
             "#e6f5d0"
            ],
            [
             0.7,
             "#b8e186"
            ],
            [
             0.8,
             "#7fbc41"
            ],
            [
             0.9,
             "#4d9221"
            ],
            [
             1,
             "#276419"
            ]
           ],
           "sequential": [
            [
             0,
             "#0d0887"
            ],
            [
             0.1111111111111111,
             "#46039f"
            ],
            [
             0.2222222222222222,
             "#7201a8"
            ],
            [
             0.3333333333333333,
             "#9c179e"
            ],
            [
             0.4444444444444444,
             "#bd3786"
            ],
            [
             0.5555555555555556,
             "#d8576b"
            ],
            [
             0.6666666666666666,
             "#ed7953"
            ],
            [
             0.7777777777777778,
             "#fb9f3a"
            ],
            [
             0.8888888888888888,
             "#fdca26"
            ],
            [
             1,
             "#f0f921"
            ]
           ],
           "sequentialminus": [
            [
             0,
             "#0d0887"
            ],
            [
             0.1111111111111111,
             "#46039f"
            ],
            [
             0.2222222222222222,
             "#7201a8"
            ],
            [
             0.3333333333333333,
             "#9c179e"
            ],
            [
             0.4444444444444444,
             "#bd3786"
            ],
            [
             0.5555555555555556,
             "#d8576b"
            ],
            [
             0.6666666666666666,
             "#ed7953"
            ],
            [
             0.7777777777777778,
             "#fb9f3a"
            ],
            [
             0.8888888888888888,
             "#fdca26"
            ],
            [
             1,
             "#f0f921"
            ]
           ]
          },
          "colorway": [
           "#636efa",
           "#EF553B",
           "#00cc96",
           "#ab63fa",
           "#FFA15A",
           "#19d3f3",
           "#FF6692",
           "#B6E880",
           "#FF97FF",
           "#FECB52"
          ],
          "font": {
           "color": "#2a3f5f"
          },
          "geo": {
           "bgcolor": "white",
           "lakecolor": "white",
           "landcolor": "#E5ECF6",
           "showlakes": true,
           "showland": true,
           "subunitcolor": "white"
          },
          "hoverlabel": {
           "align": "left"
          },
          "hovermode": "closest",
          "mapbox": {
           "style": "light"
          },
          "paper_bgcolor": "white",
          "plot_bgcolor": "#E5ECF6",
          "polar": {
           "angularaxis": {
            "gridcolor": "white",
            "linecolor": "white",
            "ticks": ""
           },
           "bgcolor": "#E5ECF6",
           "radialaxis": {
            "gridcolor": "white",
            "linecolor": "white",
            "ticks": ""
           }
          },
          "scene": {
           "xaxis": {
            "backgroundcolor": "#E5ECF6",
            "gridcolor": "white",
            "gridwidth": 2,
            "linecolor": "white",
            "showbackground": true,
            "ticks": "",
            "zerolinecolor": "white"
           },
           "yaxis": {
            "backgroundcolor": "#E5ECF6",
            "gridcolor": "white",
            "gridwidth": 2,
            "linecolor": "white",
            "showbackground": true,
            "ticks": "",
            "zerolinecolor": "white"
           },
           "zaxis": {
            "backgroundcolor": "#E5ECF6",
            "gridcolor": "white",
            "gridwidth": 2,
            "linecolor": "white",
            "showbackground": true,
            "ticks": "",
            "zerolinecolor": "white"
           }
          },
          "shapedefaults": {
           "line": {
            "color": "#2a3f5f"
           }
          },
          "ternary": {
           "aaxis": {
            "gridcolor": "white",
            "linecolor": "white",
            "ticks": ""
           },
           "baxis": {
            "gridcolor": "white",
            "linecolor": "white",
            "ticks": ""
           },
           "bgcolor": "#E5ECF6",
           "caxis": {
            "gridcolor": "white",
            "linecolor": "white",
            "ticks": ""
           }
          },
          "title": {
           "x": 0.05
          },
          "xaxis": {
           "automargin": true,
           "gridcolor": "white",
           "linecolor": "white",
           "ticks": "",
           "title": {
            "standoff": 15
           },
           "zerolinecolor": "white",
           "zerolinewidth": 2
          },
          "yaxis": {
           "automargin": true,
           "gridcolor": "white",
           "linecolor": "white",
           "ticks": "",
           "title": {
            "standoff": 15
           },
           "zerolinecolor": "white",
           "zerolinewidth": 2
          }
         }
        },
        "title": {
         "text": "Scatter Plot: INDEX IW_MERGE vs JE_Merge by Country"
        },
        "xaxis": {
         "title": {
          "text": "IW_MERGE INDEX"
         }
        },
        "yaxis": {
         "title": {
          "text": "JE_Merge INDEX"
         }
        }
       }
      }
     },
     "metadata": {},
     "output_type": "display_data"
    }
   ],
   "source": [
    "import plotly.graph_objects as go\n",
    "import pandas as pd\n",
    "\n",
    "merged_df = pd.merge(IW_MERGE[['LOCATION', 'INDEX']], JE_Merge[['LOCATION', 'INDEX']],\n",
    "                     on='LOCATION', suffixes=('_IW', '_JE'))\n",
    "\n",
    "merged_df = merged_df.sort_values('LOCATION')\n",
    "\n",
    "fig1 = go.Figure()\n",
    "fig1.add_trace(go.Scatter(x=merged_df['LOCATION'], y=merged_df['INDEX_IW'], mode='lines+markers', name='IW_MERGE'))\n",
    "fig1.add_trace(go.Scatter(x=merged_df['LOCATION'], y=merged_df['INDEX_JE'], mode='lines+markers', name='JE_Merge'))\n",
    "fig1.update_layout(title='Line Chart: INDEX by LOCATION', xaxis_title='Country Code (LOCATION)', yaxis_title='INDEX')\n",
    "\n",
    "fig2 = go.Figure()\n",
    "fig2.add_trace(go.Bar(x=merged_df['LOCATION'], y=merged_df['INDEX_IW'], name='IW_MERGE'))\n",
    "fig2.add_trace(go.Bar(x=merged_df['LOCATION'], y=merged_df['INDEX_JE'], name='JE_Merge'))\n",
    "fig2.update_layout(barmode='group', title='Bar Chart: INDEX by LOCATION', xaxis_title='Country Code (LOCATION)', yaxis_title='INDEX')\n",
    "\n",
    "fig3 = go.Figure()\n",
    "fig3.add_trace(go.Scatter(x=merged_df['INDEX_IW'], y=merged_df['INDEX_JE'], mode='markers+text',\n",
    "                          text=merged_df['LOCATION'], textposition='top center',\n",
    "                          name='Country Comparison'))\n",
    "fig3.update_layout(title='Scatter Plot: INDEX IW_MERGE vs JE_Merge by Country',\n",
    "                   xaxis_title='IW_MERGE INDEX',\n",
    "                   yaxis_title='JE_Merge INDEX')\n",
    "\n",
    "fig1.show()\n",
    "fig2.show()\n",
    "fig3.show()\n"
   ]
  },
  {
   "cell_type": "code",
   "execution_count": 7,
   "id": "add68b04",
   "metadata": {},
   "outputs": [
    {
     "name": "stdout",
     "output_type": "stream",
     "text": [
      "Pearson correlation coefficient (r): 0.7190\n",
      "P-value: 5.353e-07\n",
      "Regression equation: INDEX_JE = 0.6820 * INDEX_IW + 0.4468\n"
     ]
    },
    {
     "data": {
      "application/vnd.plotly.v1+json": {
       "config": {
        "plotlyServerURL": "https://plot.ly"
       },
       "data": [
        {
         "hovertemplate": "IW_MERGE INDEX=%{x}<br>JE_Merge INDEX=%{y}<br>LOCATION=%{text}<extra></extra>",
         "legendgroup": "",
         "marker": {
          "color": "#636efa",
          "symbol": "circle"
         },
         "mode": "markers+text",
         "name": "",
         "orientation": "v",
         "showlegend": false,
         "text": [
          "AUS",
          "AUT",
          "BEL",
          "CAN",
          "CHE",
          "CHL",
          "CRI",
          "CZE",
          "DEU",
          "DNK",
          "ESP",
          "EST",
          "FIN",
          "FRA",
          "GBR",
          "GRC",
          "HUN",
          "IRL",
          "ITA",
          "JPN",
          "KOR",
          "LTU",
          "LUX",
          "LVA",
          "MEX",
          "NLD",
          "NOR",
          "NZL",
          "OECD",
          "POL",
          "PRT",
          "RUS",
          "SVK",
          "SVN",
          "SWE",
          "USA",
          "ZAF"
         ],
         "textposition": "top center",
         "type": "scatter",
         "x": {
          "bdata": "Cp9dsqsY4z+qJIj6/LndP4MHlvRAneA/oSX4zncB4T8EV22PgDzXP79FdyIuy6A/KWnKL5P6tT9iQN26qoXKP/xKUotsCd8/DTG8+CVT1T9WouIvjE3YPwCFj5tHPM4/9NEjL7oR2D8Zv7mE7E7bP1BnGSOFVuE/qRDUsEKpxj8xSeMk2yrHP4NMXxPbOto/3A5Ug85j1z8ujeF2kfPWP2DTQH0aL9Y/vQDBDfZQ0T9RfGEfi4/tP6kC7llR+r8/gxMuKzQ4tT8evwmOpurZP1AkqIaN1d0/2uMmGiFv4z/AUVPqXEbZP6pHHh6fsNA/vGPyEQRu0j9bYvFikUC/PwZTgpWx7Mg/nu9yvtfl0T8dnTUMVqvSP4TiHptKPOs/AAAAAAAAAAA=",
          "dtype": "f8"
         },
         "xaxis": "x",
         "y": {
          "bdata": "au3/Gc4G6z+Sgz2Zl8LqPxgiynBucek/aqFB+IWJ6j/Crmdm7xDmPwirmdnSOdY/gHvUDl8N1j9fd2GSXtrnPz4PZNhd8es/cGOtA0Qo6z/YxPMHJVbgP7F9UyjBjOY/XF2vd13c6T9AdAWTh6nnP86RKz0tIuo/N7gssL6L0j+KY6bSG7rlP8b/gZqykOk/N5u4dt6X4j/9bldl+2npP1e5AaaReOg/rFAVQjoj3z+mF4smktHrP7Zttab1VOU/ba9Euh4/4z/KNtUdLZXsP9D9PjWUk+s/SM6SM+fG6T9iQ9Co1D3oP2d+H9wuZOY/CRsHiw4I5D8YIKxsdQHbP2vf/bkZhuI/QG8mMjA75z9OBpdsm6bpPxbqWiW2EOw/TNLrLgt6sj8=",
          "dtype": "f8"
         },
         "yaxis": "y"
        },
        {
         "mode": "lines",
         "name": "Regression Line",
         "textposition": "top center",
         "type": "scatter",
         "x": {
          "bdata": "Cp9dsqsY4z+qJIj6/LndP4MHlvRAneA/oSX4zncB4T8EV22PgDzXP79FdyIuy6A/KWnKL5P6tT9iQN26qoXKP/xKUotsCd8/DTG8+CVT1T9WouIvjE3YPwCFj5tHPM4/9NEjL7oR2D8Zv7mE7E7bP1BnGSOFVuE/qRDUsEKpxj8xSeMk2yrHP4NMXxPbOto/3A5Ug85j1z8ujeF2kfPWP2DTQH0aL9Y/vQDBDfZQ0T9RfGEfi4/tP6kC7llR+r8/gxMuKzQ4tT8evwmOpurZP1AkqIaN1d0/2uMmGiFv4z/AUVPqXEbZP6pHHh6fsNA/vGPyEQRu0j9bYvFikUC/PwZTgpWx7Mg/nu9yvtfl0T8dnTUMVqvSP4TiHptKPOs/AAAAAAAAAAA=",
          "dtype": "f8"
         },
         "y": {
          "bdata": "GK4akZ9S6z8YAtvtgm/oP+z1Di4+oek/qKtv15fl6T85o4Mg6TjmP+fWx985B94/iBhONwss4D/IKumoDtLiPyx4suTm4eg/reWV7AeS5T9gmCpVBpbmP6PIeYAldOM/8MGZ8Z+B5j+urObXZZznP6769SSaH+o/542CGoYp4j8bnGYHnz/iPwCNJcBAPuc/KKSLdVBG5j+V3YrmCSDmPyfBckgK3eU/VyS0gBQ05D9VBOK33DrxP2p05WZGBuE/8V82AXkb4D9+FHS95iLnPzQrP1vpeOg/Kg7vdJeN6z+4qAk54OrmP91X9adm/eM/pFtnI0qV5D/pwG1acPbgP3tSKblSjOI/arRsDdpm5D9+H3B4M6rkPyY1aHneb/A/Opm27LKY3D8=",
          "dtype": "f8"
         }
        }
       ],
       "layout": {
        "legend": {
         "tracegroupgap": 0
        },
        "showlegend": true,
        "template": {
         "data": {
          "bar": [
           {
            "error_x": {
             "color": "#2a3f5f"
            },
            "error_y": {
             "color": "#2a3f5f"
            },
            "marker": {
             "line": {
              "color": "#E5ECF6",
              "width": 0.5
             },
             "pattern": {
              "fillmode": "overlay",
              "size": 10,
              "solidity": 0.2
             }
            },
            "type": "bar"
           }
          ],
          "barpolar": [
           {
            "marker": {
             "line": {
              "color": "#E5ECF6",
              "width": 0.5
             },
             "pattern": {
              "fillmode": "overlay",
              "size": 10,
              "solidity": 0.2
             }
            },
            "type": "barpolar"
           }
          ],
          "carpet": [
           {
            "aaxis": {
             "endlinecolor": "#2a3f5f",
             "gridcolor": "white",
             "linecolor": "white",
             "minorgridcolor": "white",
             "startlinecolor": "#2a3f5f"
            },
            "baxis": {
             "endlinecolor": "#2a3f5f",
             "gridcolor": "white",
             "linecolor": "white",
             "minorgridcolor": "white",
             "startlinecolor": "#2a3f5f"
            },
            "type": "carpet"
           }
          ],
          "choropleth": [
           {
            "colorbar": {
             "outlinewidth": 0,
             "ticks": ""
            },
            "type": "choropleth"
           }
          ],
          "contour": [
           {
            "colorbar": {
             "outlinewidth": 0,
             "ticks": ""
            },
            "colorscale": [
             [
              0,
              "#0d0887"
             ],
             [
              0.1111111111111111,
              "#46039f"
             ],
             [
              0.2222222222222222,
              "#7201a8"
             ],
             [
              0.3333333333333333,
              "#9c179e"
             ],
             [
              0.4444444444444444,
              "#bd3786"
             ],
             [
              0.5555555555555556,
              "#d8576b"
             ],
             [
              0.6666666666666666,
              "#ed7953"
             ],
             [
              0.7777777777777778,
              "#fb9f3a"
             ],
             [
              0.8888888888888888,
              "#fdca26"
             ],
             [
              1,
              "#f0f921"
             ]
            ],
            "type": "contour"
           }
          ],
          "contourcarpet": [
           {
            "colorbar": {
             "outlinewidth": 0,
             "ticks": ""
            },
            "type": "contourcarpet"
           }
          ],
          "heatmap": [
           {
            "colorbar": {
             "outlinewidth": 0,
             "ticks": ""
            },
            "colorscale": [
             [
              0,
              "#0d0887"
             ],
             [
              0.1111111111111111,
              "#46039f"
             ],
             [
              0.2222222222222222,
              "#7201a8"
             ],
             [
              0.3333333333333333,
              "#9c179e"
             ],
             [
              0.4444444444444444,
              "#bd3786"
             ],
             [
              0.5555555555555556,
              "#d8576b"
             ],
             [
              0.6666666666666666,
              "#ed7953"
             ],
             [
              0.7777777777777778,
              "#fb9f3a"
             ],
             [
              0.8888888888888888,
              "#fdca26"
             ],
             [
              1,
              "#f0f921"
             ]
            ],
            "type": "heatmap"
           }
          ],
          "histogram": [
           {
            "marker": {
             "pattern": {
              "fillmode": "overlay",
              "size": 10,
              "solidity": 0.2
             }
            },
            "type": "histogram"
           }
          ],
          "histogram2d": [
           {
            "colorbar": {
             "outlinewidth": 0,
             "ticks": ""
            },
            "colorscale": [
             [
              0,
              "#0d0887"
             ],
             [
              0.1111111111111111,
              "#46039f"
             ],
             [
              0.2222222222222222,
              "#7201a8"
             ],
             [
              0.3333333333333333,
              "#9c179e"
             ],
             [
              0.4444444444444444,
              "#bd3786"
             ],
             [
              0.5555555555555556,
              "#d8576b"
             ],
             [
              0.6666666666666666,
              "#ed7953"
             ],
             [
              0.7777777777777778,
              "#fb9f3a"
             ],
             [
              0.8888888888888888,
              "#fdca26"
             ],
             [
              1,
              "#f0f921"
             ]
            ],
            "type": "histogram2d"
           }
          ],
          "histogram2dcontour": [
           {
            "colorbar": {
             "outlinewidth": 0,
             "ticks": ""
            },
            "colorscale": [
             [
              0,
              "#0d0887"
             ],
             [
              0.1111111111111111,
              "#46039f"
             ],
             [
              0.2222222222222222,
              "#7201a8"
             ],
             [
              0.3333333333333333,
              "#9c179e"
             ],
             [
              0.4444444444444444,
              "#bd3786"
             ],
             [
              0.5555555555555556,
              "#d8576b"
             ],
             [
              0.6666666666666666,
              "#ed7953"
             ],
             [
              0.7777777777777778,
              "#fb9f3a"
             ],
             [
              0.8888888888888888,
              "#fdca26"
             ],
             [
              1,
              "#f0f921"
             ]
            ],
            "type": "histogram2dcontour"
           }
          ],
          "mesh3d": [
           {
            "colorbar": {
             "outlinewidth": 0,
             "ticks": ""
            },
            "type": "mesh3d"
           }
          ],
          "parcoords": [
           {
            "line": {
             "colorbar": {
              "outlinewidth": 0,
              "ticks": ""
             }
            },
            "type": "parcoords"
           }
          ],
          "pie": [
           {
            "automargin": true,
            "type": "pie"
           }
          ],
          "scatter": [
           {
            "fillpattern": {
             "fillmode": "overlay",
             "size": 10,
             "solidity": 0.2
            },
            "type": "scatter"
           }
          ],
          "scatter3d": [
           {
            "line": {
             "colorbar": {
              "outlinewidth": 0,
              "ticks": ""
             }
            },
            "marker": {
             "colorbar": {
              "outlinewidth": 0,
              "ticks": ""
             }
            },
            "type": "scatter3d"
           }
          ],
          "scattercarpet": [
           {
            "marker": {
             "colorbar": {
              "outlinewidth": 0,
              "ticks": ""
             }
            },
            "type": "scattercarpet"
           }
          ],
          "scattergeo": [
           {
            "marker": {
             "colorbar": {
              "outlinewidth": 0,
              "ticks": ""
             }
            },
            "type": "scattergeo"
           }
          ],
          "scattergl": [
           {
            "marker": {
             "colorbar": {
              "outlinewidth": 0,
              "ticks": ""
             }
            },
            "type": "scattergl"
           }
          ],
          "scattermap": [
           {
            "marker": {
             "colorbar": {
              "outlinewidth": 0,
              "ticks": ""
             }
            },
            "type": "scattermap"
           }
          ],
          "scattermapbox": [
           {
            "marker": {
             "colorbar": {
              "outlinewidth": 0,
              "ticks": ""
             }
            },
            "type": "scattermapbox"
           }
          ],
          "scatterpolar": [
           {
            "marker": {
             "colorbar": {
              "outlinewidth": 0,
              "ticks": ""
             }
            },
            "type": "scatterpolar"
           }
          ],
          "scatterpolargl": [
           {
            "marker": {
             "colorbar": {
              "outlinewidth": 0,
              "ticks": ""
             }
            },
            "type": "scatterpolargl"
           }
          ],
          "scatterternary": [
           {
            "marker": {
             "colorbar": {
              "outlinewidth": 0,
              "ticks": ""
             }
            },
            "type": "scatterternary"
           }
          ],
          "surface": [
           {
            "colorbar": {
             "outlinewidth": 0,
             "ticks": ""
            },
            "colorscale": [
             [
              0,
              "#0d0887"
             ],
             [
              0.1111111111111111,
              "#46039f"
             ],
             [
              0.2222222222222222,
              "#7201a8"
             ],
             [
              0.3333333333333333,
              "#9c179e"
             ],
             [
              0.4444444444444444,
              "#bd3786"
             ],
             [
              0.5555555555555556,
              "#d8576b"
             ],
             [
              0.6666666666666666,
              "#ed7953"
             ],
             [
              0.7777777777777778,
              "#fb9f3a"
             ],
             [
              0.8888888888888888,
              "#fdca26"
             ],
             [
              1,
              "#f0f921"
             ]
            ],
            "type": "surface"
           }
          ],
          "table": [
           {
            "cells": {
             "fill": {
              "color": "#EBF0F8"
             },
             "line": {
              "color": "white"
             }
            },
            "header": {
             "fill": {
              "color": "#C8D4E3"
             },
             "line": {
              "color": "white"
             }
            },
            "type": "table"
           }
          ]
         },
         "layout": {
          "annotationdefaults": {
           "arrowcolor": "#2a3f5f",
           "arrowhead": 0,
           "arrowwidth": 1
          },
          "autotypenumbers": "strict",
          "coloraxis": {
           "colorbar": {
            "outlinewidth": 0,
            "ticks": ""
           }
          },
          "colorscale": {
           "diverging": [
            [
             0,
             "#8e0152"
            ],
            [
             0.1,
             "#c51b7d"
            ],
            [
             0.2,
             "#de77ae"
            ],
            [
             0.3,
             "#f1b6da"
            ],
            [
             0.4,
             "#fde0ef"
            ],
            [
             0.5,
             "#f7f7f7"
            ],
            [
             0.6,
             "#e6f5d0"
            ],
            [
             0.7,
             "#b8e186"
            ],
            [
             0.8,
             "#7fbc41"
            ],
            [
             0.9,
             "#4d9221"
            ],
            [
             1,
             "#276419"
            ]
           ],
           "sequential": [
            [
             0,
             "#0d0887"
            ],
            [
             0.1111111111111111,
             "#46039f"
            ],
            [
             0.2222222222222222,
             "#7201a8"
            ],
            [
             0.3333333333333333,
             "#9c179e"
            ],
            [
             0.4444444444444444,
             "#bd3786"
            ],
            [
             0.5555555555555556,
             "#d8576b"
            ],
            [
             0.6666666666666666,
             "#ed7953"
            ],
            [
             0.7777777777777778,
             "#fb9f3a"
            ],
            [
             0.8888888888888888,
             "#fdca26"
            ],
            [
             1,
             "#f0f921"
            ]
           ],
           "sequentialminus": [
            [
             0,
             "#0d0887"
            ],
            [
             0.1111111111111111,
             "#46039f"
            ],
            [
             0.2222222222222222,
             "#7201a8"
            ],
            [
             0.3333333333333333,
             "#9c179e"
            ],
            [
             0.4444444444444444,
             "#bd3786"
            ],
            [
             0.5555555555555556,
             "#d8576b"
            ],
            [
             0.6666666666666666,
             "#ed7953"
            ],
            [
             0.7777777777777778,
             "#fb9f3a"
            ],
            [
             0.8888888888888888,
             "#fdca26"
            ],
            [
             1,
             "#f0f921"
            ]
           ]
          },
          "colorway": [
           "#636efa",
           "#EF553B",
           "#00cc96",
           "#ab63fa",
           "#FFA15A",
           "#19d3f3",
           "#FF6692",
           "#B6E880",
           "#FF97FF",
           "#FECB52"
          ],
          "font": {
           "color": "#2a3f5f"
          },
          "geo": {
           "bgcolor": "white",
           "lakecolor": "white",
           "landcolor": "#E5ECF6",
           "showlakes": true,
           "showland": true,
           "subunitcolor": "white"
          },
          "hoverlabel": {
           "align": "left"
          },
          "hovermode": "closest",
          "mapbox": {
           "style": "light"
          },
          "paper_bgcolor": "white",
          "plot_bgcolor": "#E5ECF6",
          "polar": {
           "angularaxis": {
            "gridcolor": "white",
            "linecolor": "white",
            "ticks": ""
           },
           "bgcolor": "#E5ECF6",
           "radialaxis": {
            "gridcolor": "white",
            "linecolor": "white",
            "ticks": ""
           }
          },
          "scene": {
           "xaxis": {
            "backgroundcolor": "#E5ECF6",
            "gridcolor": "white",
            "gridwidth": 2,
            "linecolor": "white",
            "showbackground": true,
            "ticks": "",
            "zerolinecolor": "white"
           },
           "yaxis": {
            "backgroundcolor": "#E5ECF6",
            "gridcolor": "white",
            "gridwidth": 2,
            "linecolor": "white",
            "showbackground": true,
            "ticks": "",
            "zerolinecolor": "white"
           },
           "zaxis": {
            "backgroundcolor": "#E5ECF6",
            "gridcolor": "white",
            "gridwidth": 2,
            "linecolor": "white",
            "showbackground": true,
            "ticks": "",
            "zerolinecolor": "white"
           }
          },
          "shapedefaults": {
           "line": {
            "color": "#2a3f5f"
           }
          },
          "ternary": {
           "aaxis": {
            "gridcolor": "white",
            "linecolor": "white",
            "ticks": ""
           },
           "baxis": {
            "gridcolor": "white",
            "linecolor": "white",
            "ticks": ""
           },
           "bgcolor": "#E5ECF6",
           "caxis": {
            "gridcolor": "white",
            "linecolor": "white",
            "ticks": ""
           }
          },
          "title": {
           "x": 0.05
          },
          "xaxis": {
           "automargin": true,
           "gridcolor": "white",
           "linecolor": "white",
           "ticks": "",
           "title": {
            "standoff": 15
           },
           "zerolinecolor": "white",
           "zerolinewidth": 2
          },
          "yaxis": {
           "automargin": true,
           "gridcolor": "white",
           "linecolor": "white",
           "ticks": "",
           "title": {
            "standoff": 15
           },
           "zerolinecolor": "white",
           "zerolinewidth": 2
          }
         }
        },
        "title": {
         "text": "Linear Correlation: INDEX IW_MERGE vs JE_Merge"
        },
        "xaxis": {
         "anchor": "y",
         "domain": [
          0,
          1
         ],
         "title": {
          "text": "IW_MERGE INDEX"
         }
        },
        "yaxis": {
         "anchor": "x",
         "domain": [
          0,
          1
         ],
         "title": {
          "text": "JE_Merge INDEX"
         }
        }
       }
      }
     },
     "metadata": {},
     "output_type": "display_data"
    }
   ],
   "source": [
    "import plotly.express as px\n",
    "from scipy.stats import linregress\n",
    "\n",
    "# Calculate linear regression\n",
    "slope, intercept, r_value, p_value, std_err = linregress(merged_df['INDEX_IW'], merged_df['INDEX_JE'])\n",
    "\n",
    "# Print correlation results\n",
    "print(f\"Pearson correlation coefficient (r): {r_value:.4f}\")\n",
    "print(f\"P-value: {p_value:.4g}\")\n",
    "print(f\"Regression equation: INDEX_JE = {slope:.4f} * INDEX_IW + {intercept:.4f}\")\n",
    "\n",
    "# Add predicted values to DataFrame\n",
    "merged_df['Predicted_JE'] = slope * merged_df['INDEX_IW'] + intercept\n",
    "\n",
    "# Plot scatter with regression line\n",
    "fig = px.scatter(merged_df, x='INDEX_IW', y='INDEX_JE', text='LOCATION',\n",
    "                 title='Linear Correlation: INDEX IW_MERGE vs JE_Merge',\n",
    "                 labels={'INDEX_IW': 'IW_MERGE INDEX', 'INDEX_JE': 'JE_Merge INDEX'})\n",
    "\n",
    "# Add regression line\n",
    "fig.add_scatter(x=merged_df['INDEX_IW'], y=merged_df['Predicted_JE'], mode='lines', name='Regression Line')\n",
    "\n",
    "# Update layout\n",
    "fig.update_traces(textposition='top center')\n",
    "fig.update_layout(showlegend=True)\n",
    "\n",
    "fig.show()\n"
   ]
  },
  {
   "cell_type": "code",
   "execution_count": 9,
   "id": "f6733967",
   "metadata": {},
   "outputs": [
    {
     "data": {
      "text/html": [
       "<div>\n",
       "<style scoped>\n",
       "    .dataframe tbody tr th:only-of-type {\n",
       "        vertical-align: middle;\n",
       "    }\n",
       "\n",
       "    .dataframe tbody tr th {\n",
       "        vertical-align: top;\n",
       "    }\n",
       "\n",
       "    .dataframe thead th {\n",
       "        text-align: right;\n",
       "    }\n",
       "</style>\n",
       "<table border=\"1\" class=\"dataframe\">\n",
       "  <thead>\n",
       "    <tr style=\"text-align: right;\">\n",
       "      <th></th>\n",
       "      <th>LOCATION</th>\n",
       "      <th>JOBS_INDEX</th>\n",
       "      <th>INCOME_INDEX</th>\n",
       "      <th>COMMUNITY_INDEX</th>\n",
       "      <th>OVERALL_INDEX</th>\n",
       "    </tr>\n",
       "  </thead>\n",
       "  <tbody>\n",
       "    <tr>\n",
       "      <th>40</th>\n",
       "      <td>USA</td>\n",
       "      <td>0.877040</td>\n",
       "      <td>0.851110</td>\n",
       "      <td>0.769231</td>\n",
       "      <td>0.832460</td>\n",
       "    </tr>\n",
       "    <tr>\n",
       "      <th>26</th>\n",
       "      <td>LUX</td>\n",
       "      <td>0.869332</td>\n",
       "      <td>0.923772</td>\n",
       "      <td>0.661538</td>\n",
       "      <td>0.818214</td>\n",
       "    </tr>\n",
       "    <tr>\n",
       "      <th>31</th>\n",
       "      <td>NZL</td>\n",
       "      <td>0.805530</td>\n",
       "      <td>0.607316</td>\n",
       "      <td>0.800000</td>\n",
       "      <td>0.737615</td>\n",
       "    </tr>\n",
       "    <tr>\n",
       "      <th>0</th>\n",
       "      <td>AUS</td>\n",
       "      <td>0.844581</td>\n",
       "      <td>0.596762</td>\n",
       "      <td>0.761538</td>\n",
       "      <td>0.734294</td>\n",
       "    </tr>\n",
       "    <tr>\n",
       "      <th>30</th>\n",
       "      <td>NOR</td>\n",
       "      <td>0.861765</td>\n",
       "      <td>0.466159</td>\n",
       "      <td>0.846154</td>\n",
       "      <td>0.724693</td>\n",
       "    </tr>\n",
       "    <tr>\n",
       "      <th>4</th>\n",
       "      <td>CAN</td>\n",
       "      <td>0.829288</td>\n",
       "      <td>0.531429</td>\n",
       "      <td>0.738462</td>\n",
       "      <td>0.699726</td>\n",
       "    </tr>\n",
       "    <tr>\n",
       "      <th>29</th>\n",
       "      <td>NLD</td>\n",
       "      <td>0.893210</td>\n",
       "      <td>0.404947</td>\n",
       "      <td>0.784615</td>\n",
       "      <td>0.694257</td>\n",
       "    </tr>\n",
       "    <tr>\n",
       "      <th>16</th>\n",
       "      <td>GBR</td>\n",
       "      <td>0.816672</td>\n",
       "      <td>0.541812</td>\n",
       "      <td>0.723077</td>\n",
       "      <td>0.693853</td>\n",
       "    </tr>\n",
       "    <tr>\n",
       "      <th>14</th>\n",
       "      <td>FIN</td>\n",
       "      <td>0.808150</td>\n",
       "      <td>0.376082</td>\n",
       "      <td>0.884615</td>\n",
       "      <td>0.689616</td>\n",
       "    </tr>\n",
       "    <tr>\n",
       "      <th>19</th>\n",
       "      <td>IRL</td>\n",
       "      <td>0.798913</td>\n",
       "      <td>0.409842</td>\n",
       "      <td>0.853846</td>\n",
       "      <td>0.687534</td>\n",
       "    </tr>\n",
       "    <tr>\n",
       "      <th>1</th>\n",
       "      <td>AUT</td>\n",
       "      <td>0.836254</td>\n",
       "      <td>0.464477</td>\n",
       "      <td>0.730769</td>\n",
       "      <td>0.677167</td>\n",
       "    </tr>\n",
       "    <tr>\n",
       "      <th>11</th>\n",
       "      <td>DNK</td>\n",
       "      <td>0.848665</td>\n",
       "      <td>0.333200</td>\n",
       "      <td>0.807692</td>\n",
       "      <td>0.663186</td>\n",
       "    </tr>\n",
       "    <tr>\n",
       "      <th>10</th>\n",
       "      <td>DEU</td>\n",
       "      <td>0.873214</td>\n",
       "      <td>0.484950</td>\n",
       "      <td>0.623077</td>\n",
       "      <td>0.660414</td>\n",
       "    </tr>\n",
       "    <tr>\n",
       "      <th>15</th>\n",
       "      <td>FRA</td>\n",
       "      <td>0.739445</td>\n",
       "      <td>0.426692</td>\n",
       "      <td>0.800000</td>\n",
       "      <td>0.655379</td>\n",
       "    </tr>\n",
       "    <tr>\n",
       "      <th>2</th>\n",
       "      <td>BEL</td>\n",
       "      <td>0.795097</td>\n",
       "      <td>0.519196</td>\n",
       "      <td>0.623077</td>\n",
       "      <td>0.645790</td>\n",
       "    </tr>\n",
       "    <tr>\n",
       "      <th>20</th>\n",
       "      <td>ISL</td>\n",
       "      <td>0.953712</td>\n",
       "      <td>0.000000</td>\n",
       "      <td>0.942308</td>\n",
       "      <td>0.632007</td>\n",
       "    </tr>\n",
       "    <tr>\n",
       "      <th>38</th>\n",
       "      <td>SWE</td>\n",
       "      <td>0.801588</td>\n",
       "      <td>0.291708</td>\n",
       "      <td>0.769231</td>\n",
       "      <td>0.620842</td>\n",
       "    </tr>\n",
       "    <tr>\n",
       "      <th>5</th>\n",
       "      <td>CHE</td>\n",
       "      <td>0.689567</td>\n",
       "      <td>0.363068</td>\n",
       "      <td>0.776923</td>\n",
       "      <td>0.609853</td>\n",
       "    </tr>\n",
       "    <tr>\n",
       "      <th>32</th>\n",
       "      <td>OECD</td>\n",
       "      <td>0.757548</td>\n",
       "      <td>0.394920</td>\n",
       "      <td>0.676923</td>\n",
       "      <td>0.609797</td>\n",
       "    </tr>\n",
       "    <tr>\n",
       "      <th>9</th>\n",
       "      <td>CZE</td>\n",
       "      <td>0.745406</td>\n",
       "      <td>0.207204</td>\n",
       "      <td>0.869231</td>\n",
       "      <td>0.607280</td>\n",
       "    </tr>\n",
       "    <tr>\n",
       "      <th>37</th>\n",
       "      <td>SVN</td>\n",
       "      <td>0.725975</td>\n",
       "      <td>0.279653</td>\n",
       "      <td>0.807692</td>\n",
       "      <td>0.604440</td>\n",
       "    </tr>\n",
       "    <tr>\n",
       "      <th>33</th>\n",
       "      <td>POL</td>\n",
       "      <td>0.699729</td>\n",
       "      <td>0.260780</td>\n",
       "      <td>0.792308</td>\n",
       "      <td>0.584272</td>\n",
       "    </tr>\n",
       "    <tr>\n",
       "      <th>13</th>\n",
       "      <td>EST</td>\n",
       "      <td>0.704682</td>\n",
       "      <td>0.236215</td>\n",
       "      <td>0.800000</td>\n",
       "      <td>0.580299</td>\n",
       "    </tr>\n",
       "    <tr>\n",
       "      <th>23</th>\n",
       "      <td>JPN</td>\n",
       "      <td>0.794187</td>\n",
       "      <td>0.358616</td>\n",
       "      <td>0.584615</td>\n",
       "      <td>0.579140</td>\n",
       "    </tr>\n",
       "    <tr>\n",
       "      <th>12</th>\n",
       "      <td>ESP</td>\n",
       "      <td>0.510516</td>\n",
       "      <td>0.379733</td>\n",
       "      <td>0.769231</td>\n",
       "      <td>0.553160</td>\n",
       "    </tr>\n",
       "    <tr>\n",
       "      <th>18</th>\n",
       "      <td>HUN</td>\n",
       "      <td>0.678968</td>\n",
       "      <td>0.180995</td>\n",
       "      <td>0.792308</td>\n",
       "      <td>0.550757</td>\n",
       "    </tr>\n",
       "    <tr>\n",
       "      <th>36</th>\n",
       "      <td>SVK</td>\n",
       "      <td>0.578870</td>\n",
       "      <td>0.194723</td>\n",
       "      <td>0.815385</td>\n",
       "      <td>0.529659</td>\n",
       "    </tr>\n",
       "    <tr>\n",
       "      <th>21</th>\n",
       "      <td>ISR</td>\n",
       "      <td>0.734007</td>\n",
       "      <td>0.000000</td>\n",
       "      <td>0.823077</td>\n",
       "      <td>0.519028</td>\n",
       "    </tr>\n",
       "    <tr>\n",
       "      <th>22</th>\n",
       "      <td>ITA</td>\n",
       "      <td>0.581039</td>\n",
       "      <td>0.365467</td>\n",
       "      <td>0.600000</td>\n",
       "      <td>0.515502</td>\n",
       "    </tr>\n",
       "    <tr>\n",
       "      <th>34</th>\n",
       "      <td>PRT</td>\n",
       "      <td>0.625983</td>\n",
       "      <td>0.287965</td>\n",
       "      <td>0.600000</td>\n",
       "      <td>0.504649</td>\n",
       "    </tr>\n",
       "    <tr>\n",
       "      <th>27</th>\n",
       "      <td>LVA</td>\n",
       "      <td>0.666621</td>\n",
       "      <td>0.124913</td>\n",
       "      <td>0.715385</td>\n",
       "      <td>0.502306</td>\n",
       "    </tr>\n",
       "    <tr>\n",
       "      <th>24</th>\n",
       "      <td>KOR</td>\n",
       "      <td>0.764718</td>\n",
       "      <td>0.346625</td>\n",
       "      <td>0.261538</td>\n",
       "      <td>0.457627</td>\n",
       "    </tr>\n",
       "    <tr>\n",
       "      <th>25</th>\n",
       "      <td>LTU</td>\n",
       "      <td>0.486525</td>\n",
       "      <td>0.270566</td>\n",
       "      <td>0.615385</td>\n",
       "      <td>0.457492</td>\n",
       "    </tr>\n",
       "    <tr>\n",
       "      <th>35</th>\n",
       "      <td>RUS</td>\n",
       "      <td>0.421964</td>\n",
       "      <td>0.122079</td>\n",
       "      <td>0.600000</td>\n",
       "      <td>0.381348</td>\n",
       "    </tr>\n",
       "    <tr>\n",
       "      <th>6</th>\n",
       "      <td>CHL</td>\n",
       "      <td>0.347279</td>\n",
       "      <td>0.032800</td>\n",
       "      <td>0.584615</td>\n",
       "      <td>0.321565</td>\n",
       "    </tr>\n",
       "    <tr>\n",
       "      <th>28</th>\n",
       "      <td>MEX</td>\n",
       "      <td>0.601455</td>\n",
       "      <td>0.082889</td>\n",
       "      <td>0.207692</td>\n",
       "      <td>0.297345</td>\n",
       "    </tr>\n",
       "    <tr>\n",
       "      <th>39</th>\n",
       "      <td>TUR</td>\n",
       "      <td>0.393994</td>\n",
       "      <td>0.000000</td>\n",
       "      <td>0.476923</td>\n",
       "      <td>0.290306</td>\n",
       "    </tr>\n",
       "    <tr>\n",
       "      <th>8</th>\n",
       "      <td>CRI</td>\n",
       "      <td>0.344566</td>\n",
       "      <td>0.085855</td>\n",
       "      <td>0.400000</td>\n",
       "      <td>0.276807</td>\n",
       "    </tr>\n",
       "    <tr>\n",
       "      <th>41</th>\n",
       "      <td>ZAF</td>\n",
       "      <td>0.072175</td>\n",
       "      <td>0.000000</td>\n",
       "      <td>0.623077</td>\n",
       "      <td>0.231751</td>\n",
       "    </tr>\n",
       "    <tr>\n",
       "      <th>7</th>\n",
       "      <td>COL</td>\n",
       "      <td>0.366008</td>\n",
       "      <td>0.000000</td>\n",
       "      <td>0.315385</td>\n",
       "      <td>0.227131</td>\n",
       "    </tr>\n",
       "    <tr>\n",
       "      <th>17</th>\n",
       "      <td>GRC</td>\n",
       "      <td>0.289779</td>\n",
       "      <td>0.177040</td>\n",
       "      <td>0.207692</td>\n",
       "      <td>0.224837</td>\n",
       "    </tr>\n",
       "    <tr>\n",
       "      <th>3</th>\n",
       "      <td>BRA</td>\n",
       "      <td>0.125000</td>\n",
       "      <td>0.000000</td>\n",
       "      <td>0.423077</td>\n",
       "      <td>0.182692</td>\n",
       "    </tr>\n",
       "  </tbody>\n",
       "</table>\n",
       "</div>"
      ],
      "text/plain": [
       "   LOCATION  JOBS_INDEX  INCOME_INDEX  COMMUNITY_INDEX  OVERALL_INDEX\n",
       "40      USA    0.877040      0.851110         0.769231       0.832460\n",
       "26      LUX    0.869332      0.923772         0.661538       0.818214\n",
       "31      NZL    0.805530      0.607316         0.800000       0.737615\n",
       "0       AUS    0.844581      0.596762         0.761538       0.734294\n",
       "30      NOR    0.861765      0.466159         0.846154       0.724693\n",
       "4       CAN    0.829288      0.531429         0.738462       0.699726\n",
       "29      NLD    0.893210      0.404947         0.784615       0.694257\n",
       "16      GBR    0.816672      0.541812         0.723077       0.693853\n",
       "14      FIN    0.808150      0.376082         0.884615       0.689616\n",
       "19      IRL    0.798913      0.409842         0.853846       0.687534\n",
       "1       AUT    0.836254      0.464477         0.730769       0.677167\n",
       "11      DNK    0.848665      0.333200         0.807692       0.663186\n",
       "10      DEU    0.873214      0.484950         0.623077       0.660414\n",
       "15      FRA    0.739445      0.426692         0.800000       0.655379\n",
       "2       BEL    0.795097      0.519196         0.623077       0.645790\n",
       "20      ISL    0.953712      0.000000         0.942308       0.632007\n",
       "38      SWE    0.801588      0.291708         0.769231       0.620842\n",
       "5       CHE    0.689567      0.363068         0.776923       0.609853\n",
       "32     OECD    0.757548      0.394920         0.676923       0.609797\n",
       "9       CZE    0.745406      0.207204         0.869231       0.607280\n",
       "37      SVN    0.725975      0.279653         0.807692       0.604440\n",
       "33      POL    0.699729      0.260780         0.792308       0.584272\n",
       "13      EST    0.704682      0.236215         0.800000       0.580299\n",
       "23      JPN    0.794187      0.358616         0.584615       0.579140\n",
       "12      ESP    0.510516      0.379733         0.769231       0.553160\n",
       "18      HUN    0.678968      0.180995         0.792308       0.550757\n",
       "36      SVK    0.578870      0.194723         0.815385       0.529659\n",
       "21      ISR    0.734007      0.000000         0.823077       0.519028\n",
       "22      ITA    0.581039      0.365467         0.600000       0.515502\n",
       "34      PRT    0.625983      0.287965         0.600000       0.504649\n",
       "27      LVA    0.666621      0.124913         0.715385       0.502306\n",
       "24      KOR    0.764718      0.346625         0.261538       0.457627\n",
       "25      LTU    0.486525      0.270566         0.615385       0.457492\n",
       "35      RUS    0.421964      0.122079         0.600000       0.381348\n",
       "6       CHL    0.347279      0.032800         0.584615       0.321565\n",
       "28      MEX    0.601455      0.082889         0.207692       0.297345\n",
       "39      TUR    0.393994      0.000000         0.476923       0.290306\n",
       "8       CRI    0.344566      0.085855         0.400000       0.276807\n",
       "41      ZAF    0.072175      0.000000         0.623077       0.231751\n",
       "7       COL    0.366008      0.000000         0.315385       0.227131\n",
       "17      GRC    0.289779      0.177040         0.207692       0.224837\n",
       "3       BRA    0.125000      0.000000         0.423077       0.182692"
      ]
     },
     "execution_count": 9,
     "metadata": {},
     "output_type": "execute_result"
    }
   ],
   "source": [
    "je_index = JE_Merge[['LOCATION', 'INDEX']].rename(columns={'INDEX': 'JOBS_INDEX'})\n",
    "iw_index = IW_MERGE[['LOCATION', 'INDEX']].rename(columns={'INDEX': 'INCOME_INDEX'})\n",
    "sc_index = SC_MERGE[['LOCATION', 'INDEX']].rename(columns={'INDEX': 'COMMUNITY_INDEX'})\n",
    "\n",
    "dfs_to_merge = [je_index, iw_index, sc_index]\n",
    "FINAL_MERGE = reduce(lambda left, right: pd.merge(left, right, on='LOCATION', how='outer'), dfs_to_merge)\n",
    "\n",
    "FINAL_MERGE = FINAL_MERGE.fillna(0)\n",
    "\n",
    "FINAL_MERGE['OVERALL_INDEX'] = FINAL_MERGE[['JOBS_INDEX', 'INCOME_INDEX', 'COMMUNITY_INDEX']].mean(axis=1)\n",
    "FINAL_MERGE = FINAL_MERGE.sort_values(by='OVERALL_INDEX', ascending=False)\n",
    "\n",
    "FINAL_MERGE\n"
   ]
  }
 ],
 "metadata": {
  "kernelspec": {
   "display_name": "IDM4to",
   "language": "python",
   "name": "python3"
  },
  "language_info": {
   "codemirror_mode": {
    "name": "ipython",
    "version": 3
   },
   "file_extension": ".py",
   "mimetype": "text/x-python",
   "name": "python",
   "nbconvert_exporter": "python",
   "pygments_lexer": "ipython3",
   "version": "3.12.9"
  }
 },
 "nbformat": 4,
 "nbformat_minor": 5
}
